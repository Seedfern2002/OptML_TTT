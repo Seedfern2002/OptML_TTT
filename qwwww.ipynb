{
 "cells": [
  {
   "cell_type": "code",
   "execution_count": 1,
   "id": "d7e0b1cf-4980-437c-83ef-ab460eb822a4",
   "metadata": {},
   "outputs": [],
   "source": [
    "import numpy as np\n",
    "import torch\n",
    "import random\n",
    "import os\n",
    "from tqdm import tqdm\n",
    "import matplotlib.pyplot as plt\n",
    "\n",
    "# Import your modules\n",
    "from model.model import TicTacToeCNN\n",
    "from src.dataloader import load_dataset\n",
    "from src.eval import evaluate_agents\n",
    "from src.train import train_model, train_model_with_early_stopping"
   ]
  },
  {
   "cell_type": "code",
   "execution_count": 2,
   "id": "2ab8283b-5753-4837-b8ea-fa0b090975af",
   "metadata": {},
   "outputs": [],
   "source": [
    "def set_seed(seed):\n",
    "    \"\"\"Sets the random seed for reproducibility.\"\"\"\n",
    "    random.seed(seed)\n",
    "    np.random.seed(seed)\n",
    "    torch.manual_seed(seed)\n",
    "    if torch.cuda.is_available():\n",
    "        torch.cuda.manual_seed(seed)\n",
    "        torch.cuda.manual_seed_all(seed) # For multi-GPU setups\n",
    "    torch.backends.cudnn.deterministic = True\n",
    "    torch.backends.cudnn.benchmark = False\n",
    "\n",
    "\n",
    "def load_mcts_data(data_dir=\"./monte_carlo_data\"):\n",
    "    \"\"\"\n",
    "    Loads pre-generated MCTS data from .npy files.\n",
    "    Returns a dictionary mapping board state string to MCTS probabilities.\n",
    "    \"\"\"\n",
    "    mcts_data = {}\n",
    "    print(f\"Loading MCTS data from {data_dir}...\")\n",
    "    for filename in tqdm(os.listdir(data_dir)):\n",
    "        if filename.endswith(\".npy\"):\n",
    "            file_path = os.path.join(data_dir, filename)\n",
    "            data = np.load(file_path, allow_pickle=True)\n",
    "            board_input = data[0]\n",
    "            mcts_probs = data[1]\n",
    "\n",
    "            # Reconstruct the board state string from the input array\n",
    "            board_list = [' ' for _ in range(9)]\n",
    "            for i in range(3):\n",
    "                for j in range(3):\n",
    "                    idx = i * 3 + j\n",
    "                    if board_input[0, i, j] == 1:\n",
    "                        board_list[idx] = 'O'\n",
    "                    elif board_input[1, i, j] == 1:\n",
    "                        board_list[idx] = 'X'\n",
    "            state_key = ''.join(board_list)\n",
    "            mcts_data[state_key] = mcts_probs\n",
    "    print(f\"Loaded {len(mcts_data)} MCTS states.\")\n",
    "    return mcts_data"
   ]
  },
  {
   "cell_type": "code",
   "execution_count": 3,
   "id": "902a775a-1caf-4720-bfe7-635bd42a221d",
   "metadata": {},
   "outputs": [
    {
     "name": "stdout",
     "output_type": "stream",
     "text": [
      "Loading MCTS data from ./monte_carlo_data...\n"
     ]
    },
    {
     "name": "stderr",
     "output_type": "stream",
     "text": [
      "100%|████████████████████████████████████| 4520/4520 [00:00<00:00, 29639.78it/s]"
     ]
    },
    {
     "name": "stdout",
     "output_type": "stream",
     "text": [
      "Loaded 4520 MCTS states.\n",
      "\n",
      "--- Running experiment with seed: 42 ---\n",
      "Loading easy_to_hard dataset...\n",
      "Training easy_to_hard model...\n"
     ]
    },
    {
     "name": "stderr",
     "output_type": "stream",
     "text": [
      "\n",
      "\u001b[34m\u001b[1mwandb\u001b[0m: \u001b[32m\u001b[41mERROR\u001b[0m Failed to detect the name of this notebook. You can set it manually with the WANDB_NOTEBOOK_NAME environment variable to enable code saving.\n",
      " 20%|█████████                                    | 1/5 [00:00<00:01,  2.43it/s]"
     ]
    },
    {
     "name": "stdout",
     "output_type": "stream",
     "text": [
      "Epoch 1, Average Loss: 0.0859\n"
     ]
    },
    {
     "name": "stderr",
     "output_type": "stream",
     "text": [
      " 40%|██████████████████                           | 2/5 [00:00<00:01,  2.35it/s]"
     ]
    },
    {
     "name": "stdout",
     "output_type": "stream",
     "text": [
      "Epoch 2, Average Loss: 0.0425\n"
     ]
    },
    {
     "name": "stderr",
     "output_type": "stream",
     "text": [
      " 60%|███████████████████████████                  | 3/5 [00:01<00:00,  2.32it/s]"
     ]
    },
    {
     "name": "stdout",
     "output_type": "stream",
     "text": [
      "Epoch 3, Average Loss: 0.0308\n"
     ]
    },
    {
     "name": "stderr",
     "output_type": "stream",
     "text": [
      " 80%|████████████████████████████████████         | 4/5 [00:01<00:00,  2.32it/s]"
     ]
    },
    {
     "name": "stdout",
     "output_type": "stream",
     "text": [
      "Epoch 4, Average Loss: 0.0274\n"
     ]
    },
    {
     "name": "stderr",
     "output_type": "stream",
     "text": [
      "100%|█████████████████████████████████████████████| 5/5 [00:02<00:00,  2.32it/s]\n"
     ]
    },
    {
     "name": "stdout",
     "output_type": "stream",
     "text": [
      "Epoch 5, Average Loss: 0.0277\n",
      "Loading hard_to_easy dataset...\n",
      "Training hard_to_easy model...\n"
     ]
    },
    {
     "name": "stderr",
     "output_type": "stream",
     "text": [
      " 20%|█████████                                    | 1/5 [00:00<00:01,  2.28it/s]"
     ]
    },
    {
     "name": "stdout",
     "output_type": "stream",
     "text": [
      "Epoch 1, Average Loss: 0.1132\n"
     ]
    },
    {
     "name": "stderr",
     "output_type": "stream",
     "text": [
      " 40%|██████████████████                           | 2/5 [00:00<00:01,  2.30it/s]"
     ]
    },
    {
     "name": "stdout",
     "output_type": "stream",
     "text": [
      "Epoch 2, Average Loss: 0.0560\n"
     ]
    },
    {
     "name": "stderr",
     "output_type": "stream",
     "text": [
      " 60%|███████████████████████████                  | 3/5 [00:01<00:00,  2.29it/s]"
     ]
    },
    {
     "name": "stdout",
     "output_type": "stream",
     "text": [
      "Epoch 3, Average Loss: 0.0338\n"
     ]
    },
    {
     "name": "stderr",
     "output_type": "stream",
     "text": [
      " 80%|████████████████████████████████████         | 4/5 [00:01<00:00,  2.28it/s]"
     ]
    },
    {
     "name": "stdout",
     "output_type": "stream",
     "text": [
      "Epoch 4, Average Loss: 0.0295\n"
     ]
    },
    {
     "name": "stderr",
     "output_type": "stream",
     "text": [
      "100%|█████████████████████████████████████████████| 5/5 [00:02<00:00,  2.28it/s]\n"
     ]
    },
    {
     "name": "stdout",
     "output_type": "stream",
     "text": [
      "Epoch 5, Average Loss: 0.0283\n",
      "Loading random dataset...\n",
      "Training random model...\n"
     ]
    },
    {
     "name": "stderr",
     "output_type": "stream",
     "text": [
      " 20%|█████████                                    | 1/5 [00:00<00:01,  2.31it/s]"
     ]
    },
    {
     "name": "stdout",
     "output_type": "stream",
     "text": [
      "Epoch 1, Average Loss: 0.0852\n"
     ]
    },
    {
     "name": "stderr",
     "output_type": "stream",
     "text": [
      " 40%|██████████████████                           | 2/5 [00:00<00:01,  2.30it/s]"
     ]
    },
    {
     "name": "stdout",
     "output_type": "stream",
     "text": [
      "Epoch 2, Average Loss: 0.0326\n"
     ]
    },
    {
     "name": "stderr",
     "output_type": "stream",
     "text": [
      " 60%|███████████████████████████                  | 3/5 [00:01<00:00,  2.30it/s]"
     ]
    },
    {
     "name": "stdout",
     "output_type": "stream",
     "text": [
      "Epoch 3, Average Loss: 0.0241\n"
     ]
    },
    {
     "name": "stderr",
     "output_type": "stream",
     "text": [
      " 80%|████████████████████████████████████         | 4/5 [00:01<00:00,  2.30it/s]"
     ]
    },
    {
     "name": "stdout",
     "output_type": "stream",
     "text": [
      "Epoch 4, Average Loss: 0.0181\n"
     ]
    },
    {
     "name": "stderr",
     "output_type": "stream",
     "text": [
      "100%|█████████████████████████████████████████████| 5/5 [00:02<00:00,  2.29it/s]"
     ]
    },
    {
     "name": "stdout",
     "output_type": "stream",
     "text": [
      "Epoch 5, Average Loss: 0.0143\n",
      "\n",
      "--- Evaluating Models for Seed 42 ---\n",
      "\n",
      "--- Evaluating Curriculum Models Against Each Other ---\n"
     ]
    },
    {
     "name": "stderr",
     "output_type": "stream",
     "text": [
      "\n",
      "/home/parkmyungheon/Desktop/Work/CS-439/OptML_TTT/src/eval.py:31: UserWarning: Creating a tensor from a list of numpy.ndarrays is extremely slow. Please consider converting the list to a single numpy.ndarray with numpy.array() before converting to a tensor. (Triggered internally at /opt/conda/conda-bld/pytorch_1729647176074/work/torch/csrc/utils/tensor_new.cpp:278.)\n",
      "  raw_output = agent(torch.tensor([board], dtype=torch.float32)).squeeze().view(9)\n"
     ]
    },
    {
     "name": "stdout",
     "output_type": "stream",
     "text": [
      "Results (easy_hard vs hard_easy): {'agent1_wins': 2883, 'agent2_wins': 1327, 'draw': 790}\n",
      "Results (easy_hard vs random_curriculum): {'agent1_wins': 2972, 'agent2_wins': 1281, 'draw': 747}\n",
      "\n",
      "--- Evaluating Curriculum Models Against Pre-computed MCTS Agent ---\n",
      "Results (hard_easy vs random_curriculum): {'agent1_wins': 2194, 'agent2_wins': 2177, 'draw': 629}\n",
      "\n",
      "--- Evaluating Curriculum Models Against Pre-computed MCTS Agent ---\n",
      "\n",
      "--- Evaluating Curriculum Models Against Pre-computed MCTS Agent ---\n",
      "Results (easy_hard vs MCTS_data_agent): {'agent1_wins': 2501, 'agent2_wins': 1582, 'draw': 917}\n",
      "\n",
      "--- Evaluating Curriculum Models Against Pure Random Actions ---\n",
      "Results (hard_easy vs MCTS_data_agent): {'agent1_wins': 1608, 'agent2_wins': 2561, 'draw': 831}\n",
      "\n",
      "--- Evaluating Curriculum Models Against Pure Random Actions ---\n",
      "Results (random_curriculum vs MCTS_data_agent): {'agent1_wins': 1571, 'agent2_wins': 2648, 'draw': 781}\n",
      "\n",
      "--- Evaluating Curriculum Models Against Pure Random Actions ---\n",
      "Results (easy_hard vs Random_agent): {'agent1_wins': 3265, 'agent2_wins': 1028, 'draw': 707}\n",
      "Results (hard_easy vs Random_agent): {'agent1_wins': 2572, 'agent2_wins': 1810, 'draw': 618}\n",
      "Results (random_curriculum vs Random_agent): {'agent1_wins': 2629, 'agent2_wins': 1742, 'draw': 629}\n",
      "\n",
      "--- All Experiments Complete ---\n",
      "\n",
      "--- Running experiment with seed: 101 ---\n",
      "Loading easy_to_hard dataset...\n",
      "Training easy_to_hard model...\n"
     ]
    },
    {
     "name": "stderr",
     "output_type": "stream",
     "text": [
      " 20%|█████████                                    | 1/5 [00:00<00:01,  2.06it/s]"
     ]
    },
    {
     "name": "stdout",
     "output_type": "stream",
     "text": [
      "Epoch 1, Average Loss: 0.0867\n"
     ]
    },
    {
     "name": "stderr",
     "output_type": "stream",
     "text": [
      " 40%|██████████████████                           | 2/5 [00:00<00:01,  2.16it/s]"
     ]
    },
    {
     "name": "stdout",
     "output_type": "stream",
     "text": [
      "Epoch 2, Average Loss: 0.0421\n"
     ]
    },
    {
     "name": "stderr",
     "output_type": "stream",
     "text": [
      " 60%|███████████████████████████                  | 3/5 [00:01<00:00,  2.20it/s]"
     ]
    },
    {
     "name": "stdout",
     "output_type": "stream",
     "text": [
      "Epoch 3, Average Loss: 0.0334\n"
     ]
    },
    {
     "name": "stderr",
     "output_type": "stream",
     "text": [
      " 80%|████████████████████████████████████         | 4/5 [00:01<00:00,  2.19it/s]"
     ]
    },
    {
     "name": "stdout",
     "output_type": "stream",
     "text": [
      "Epoch 4, Average Loss: 0.0306\n"
     ]
    },
    {
     "name": "stderr",
     "output_type": "stream",
     "text": [
      "100%|█████████████████████████████████████████████| 5/5 [00:02<00:00,  2.19it/s]\n"
     ]
    },
    {
     "name": "stdout",
     "output_type": "stream",
     "text": [
      "Epoch 5, Average Loss: 0.0282\n",
      "Loading hard_to_easy dataset...\n",
      "Training hard_to_easy model...\n"
     ]
    },
    {
     "name": "stderr",
     "output_type": "stream",
     "text": [
      " 20%|█████████                                    | 1/5 [00:00<00:01,  2.20it/s]"
     ]
    },
    {
     "name": "stdout",
     "output_type": "stream",
     "text": [
      "Epoch 1, Average Loss: 0.1129\n"
     ]
    },
    {
     "name": "stderr",
     "output_type": "stream",
     "text": [
      " 40%|██████████████████                           | 2/5 [00:00<00:01,  2.16it/s]"
     ]
    },
    {
     "name": "stdout",
     "output_type": "stream",
     "text": [
      "Epoch 2, Average Loss: 0.0554\n"
     ]
    },
    {
     "name": "stderr",
     "output_type": "stream",
     "text": [
      " 60%|███████████████████████████                  | 3/5 [00:01<00:00,  2.16it/s]"
     ]
    },
    {
     "name": "stdout",
     "output_type": "stream",
     "text": [
      "Epoch 3, Average Loss: 0.0364\n"
     ]
    },
    {
     "name": "stderr",
     "output_type": "stream",
     "text": [
      " 80%|████████████████████████████████████         | 4/5 [00:01<00:00,  2.17it/s]"
     ]
    },
    {
     "name": "stdout",
     "output_type": "stream",
     "text": [
      "Epoch 4, Average Loss: 0.0326\n"
     ]
    },
    {
     "name": "stderr",
     "output_type": "stream",
     "text": [
      "100%|█████████████████████████████████████████████| 5/5 [00:02<00:00,  2.18it/s]\n"
     ]
    },
    {
     "name": "stdout",
     "output_type": "stream",
     "text": [
      "Epoch 5, Average Loss: 0.0307\n",
      "Loading random dataset...\n",
      "Training random model...\n"
     ]
    },
    {
     "name": "stderr",
     "output_type": "stream",
     "text": [
      " 20%|█████████                                    | 1/5 [00:00<00:02,  1.66it/s]"
     ]
    },
    {
     "name": "stdout",
     "output_type": "stream",
     "text": [
      "Epoch 1, Average Loss: 0.0825\n"
     ]
    },
    {
     "name": "stderr",
     "output_type": "stream",
     "text": [
      " 40%|██████████████████                           | 2/5 [00:01<00:01,  1.96it/s]"
     ]
    },
    {
     "name": "stdout",
     "output_type": "stream",
     "text": [
      "Epoch 2, Average Loss: 0.0296\n"
     ]
    },
    {
     "name": "stderr",
     "output_type": "stream",
     "text": [
      " 60%|███████████████████████████                  | 3/5 [00:01<00:00,  2.10it/s]"
     ]
    },
    {
     "name": "stdout",
     "output_type": "stream",
     "text": [
      "Epoch 3, Average Loss: 0.0200\n"
     ]
    },
    {
     "name": "stderr",
     "output_type": "stream",
     "text": [
      " 80%|████████████████████████████████████         | 4/5 [00:01<00:00,  2.16it/s]"
     ]
    },
    {
     "name": "stdout",
     "output_type": "stream",
     "text": [
      "Epoch 4, Average Loss: 0.0149\n"
     ]
    },
    {
     "name": "stderr",
     "output_type": "stream",
     "text": [
      "100%|█████████████████████████████████████████████| 5/5 [00:02<00:00,  2.11it/s]"
     ]
    },
    {
     "name": "stdout",
     "output_type": "stream",
     "text": [
      "Epoch 5, Average Loss: 0.0124\n",
      "\n",
      "--- Evaluating Models for Seed 101 ---\n",
      "\n",
      "--- Evaluating Curriculum Models Against Each Other ---\n"
     ]
    },
    {
     "name": "stderr",
     "output_type": "stream",
     "text": [
      "\n"
     ]
    },
    {
     "name": "stdout",
     "output_type": "stream",
     "text": [
      "Results (easy_hard vs hard_easy): {'agent1_wins': 2857, 'agent2_wins': 1364, 'draw': 779}\n",
      "Results (easy_hard vs random_curriculum): {'agent1_wins': 2741, 'agent2_wins': 1508, 'draw': 751}\n",
      "\n",
      "--- Evaluating Curriculum Models Against Pre-computed MCTS Agent ---\n",
      "Results (hard_easy vs random_curriculum): {'agent1_wins': 2056, 'agent2_wins': 2251, 'draw': 693}\n",
      "\n",
      "--- Evaluating Curriculum Models Against Pre-computed MCTS Agent ---\n",
      "\n",
      "--- Evaluating Curriculum Models Against Pre-computed MCTS Agent ---\n",
      "Results (easy_hard vs MCTS_data_agent): {'agent1_wins': 2464, 'agent2_wins': 1662, 'draw': 874}\n",
      "\n",
      "--- Evaluating Curriculum Models Against Pure Random Actions ---\n",
      "Results (hard_easy vs MCTS_data_agent): {'agent1_wins': 1608, 'agent2_wins': 2663, 'draw': 729}\n",
      "\n",
      "--- Evaluating Curriculum Models Against Pure Random Actions ---\n",
      "Results (random_curriculum vs MCTS_data_agent): {'agent1_wins': 1721, 'agent2_wins': 2532, 'draw': 747}\n",
      "\n",
      "--- Evaluating Curriculum Models Against Pure Random Actions ---\n",
      "Results (easy_hard vs Random_agent): {'agent1_wins': 3229, 'agent2_wins': 1081, 'draw': 690}\n",
      "Results (hard_easy vs Random_agent): {'agent1_wins': 2487, 'agent2_wins': 1871, 'draw': 642}\n",
      "Results (random_curriculum vs Random_agent): {'agent1_wins': 2639, 'agent2_wins': 1685, 'draw': 676}\n",
      "\n",
      "--- All Experiments Complete ---\n",
      "\n",
      "--- Running experiment with seed: 202 ---\n",
      "Loading easy_to_hard dataset...\n",
      "Training easy_to_hard model...\n"
     ]
    },
    {
     "name": "stderr",
     "output_type": "stream",
     "text": [
      " 20%|█████████                                    | 1/5 [00:00<00:01,  2.15it/s]"
     ]
    },
    {
     "name": "stdout",
     "output_type": "stream",
     "text": [
      "Epoch 1, Average Loss: 0.0846\n"
     ]
    },
    {
     "name": "stderr",
     "output_type": "stream",
     "text": [
      " 40%|██████████████████                           | 2/5 [00:00<00:01,  2.17it/s]"
     ]
    },
    {
     "name": "stdout",
     "output_type": "stream",
     "text": [
      "Epoch 2, Average Loss: 0.0410\n"
     ]
    },
    {
     "name": "stderr",
     "output_type": "stream",
     "text": [
      " 60%|███████████████████████████                  | 3/5 [00:01<00:00,  2.17it/s]"
     ]
    },
    {
     "name": "stdout",
     "output_type": "stream",
     "text": [
      "Epoch 3, Average Loss: 0.0324\n"
     ]
    },
    {
     "name": "stderr",
     "output_type": "stream",
     "text": [
      " 80%|████████████████████████████████████         | 4/5 [00:01<00:00,  2.18it/s]"
     ]
    },
    {
     "name": "stdout",
     "output_type": "stream",
     "text": [
      "Epoch 4, Average Loss: 0.0287\n"
     ]
    },
    {
     "name": "stderr",
     "output_type": "stream",
     "text": [
      "100%|█████████████████████████████████████████████| 5/5 [00:02<00:00,  2.17it/s]\n"
     ]
    },
    {
     "name": "stdout",
     "output_type": "stream",
     "text": [
      "Epoch 5, Average Loss: 0.0285\n",
      "Loading hard_to_easy dataset...\n",
      "Training hard_to_easy model...\n"
     ]
    },
    {
     "name": "stderr",
     "output_type": "stream",
     "text": [
      " 20%|█████████                                    | 1/5 [00:00<00:01,  2.18it/s]"
     ]
    },
    {
     "name": "stdout",
     "output_type": "stream",
     "text": [
      "Epoch 1, Average Loss: 0.1119\n"
     ]
    },
    {
     "name": "stderr",
     "output_type": "stream",
     "text": [
      " 40%|██████████████████                           | 2/5 [00:00<00:01,  2.17it/s]"
     ]
    },
    {
     "name": "stdout",
     "output_type": "stream",
     "text": [
      "Epoch 2, Average Loss: 0.0548\n"
     ]
    },
    {
     "name": "stderr",
     "output_type": "stream",
     "text": [
      " 60%|███████████████████████████                  | 3/5 [00:01<00:00,  2.18it/s]"
     ]
    },
    {
     "name": "stdout",
     "output_type": "stream",
     "text": [
      "Epoch 3, Average Loss: 0.0334\n"
     ]
    },
    {
     "name": "stderr",
     "output_type": "stream",
     "text": [
      " 80%|████████████████████████████████████         | 4/5 [00:01<00:00,  2.18it/s]"
     ]
    },
    {
     "name": "stdout",
     "output_type": "stream",
     "text": [
      "Epoch 4, Average Loss: 0.0308\n"
     ]
    },
    {
     "name": "stderr",
     "output_type": "stream",
     "text": [
      "100%|█████████████████████████████████████████████| 5/5 [00:02<00:00,  2.18it/s]\n"
     ]
    },
    {
     "name": "stdout",
     "output_type": "stream",
     "text": [
      "Epoch 5, Average Loss: 0.0276\n",
      "Loading random dataset...\n",
      "Training random model...\n"
     ]
    },
    {
     "name": "stderr",
     "output_type": "stream",
     "text": [
      " 20%|█████████                                    | 1/5 [00:00<00:01,  2.19it/s]"
     ]
    },
    {
     "name": "stdout",
     "output_type": "stream",
     "text": [
      "Epoch 1, Average Loss: 0.0819\n"
     ]
    },
    {
     "name": "stderr",
     "output_type": "stream",
     "text": [
      " 40%|██████████████████                           | 2/5 [00:00<00:01,  2.17it/s]"
     ]
    },
    {
     "name": "stdout",
     "output_type": "stream",
     "text": [
      "Epoch 2, Average Loss: 0.0323\n"
     ]
    },
    {
     "name": "stderr",
     "output_type": "stream",
     "text": [
      " 60%|███████████████████████████                  | 3/5 [00:01<00:00,  2.18it/s]"
     ]
    },
    {
     "name": "stdout",
     "output_type": "stream",
     "text": [
      "Epoch 3, Average Loss: 0.0237\n"
     ]
    },
    {
     "name": "stderr",
     "output_type": "stream",
     "text": [
      " 80%|████████████████████████████████████         | 4/5 [00:01<00:00,  2.17it/s]"
     ]
    },
    {
     "name": "stdout",
     "output_type": "stream",
     "text": [
      "Epoch 4, Average Loss: 0.0178\n"
     ]
    },
    {
     "name": "stderr",
     "output_type": "stream",
     "text": [
      "100%|█████████████████████████████████████████████| 5/5 [00:02<00:00,  2.18it/s]"
     ]
    },
    {
     "name": "stdout",
     "output_type": "stream",
     "text": [
      "Epoch 5, Average Loss: 0.0148\n",
      "\n",
      "--- Evaluating Models for Seed 202 ---\n",
      "\n",
      "--- Evaluating Curriculum Models Against Each Other ---\n"
     ]
    },
    {
     "name": "stderr",
     "output_type": "stream",
     "text": [
      "\n"
     ]
    },
    {
     "name": "stdout",
     "output_type": "stream",
     "text": [
      "Results (easy_hard vs hard_easy): {'agent1_wins': 2937, 'agent2_wins': 1220, 'draw': 843}\n",
      "Results (easy_hard vs random_curriculum): {'agent1_wins': 2991, 'agent2_wins': 1204, 'draw': 805}\n",
      "\n",
      "--- Evaluating Curriculum Models Against Pre-computed MCTS Agent ---\n",
      "Results (hard_easy vs random_curriculum): {'agent1_wins': 2228, 'agent2_wins': 2162, 'draw': 610}\n",
      "\n",
      "--- Evaluating Curriculum Models Against Pre-computed MCTS Agent ---\n",
      "\n",
      "--- Evaluating Curriculum Models Against Pre-computed MCTS Agent ---\n",
      "Results (easy_hard vs MCTS_data_agent): {'agent1_wins': 2535, 'agent2_wins': 1516, 'draw': 949}\n",
      "\n",
      "--- Evaluating Curriculum Models Against Pure Random Actions ---\n",
      "Results (hard_easy vs MCTS_data_agent): {'agent1_wins': 1669, 'agent2_wins': 2567, 'draw': 764}\n",
      "\n",
      "--- Evaluating Curriculum Models Against Pure Random Actions ---\n",
      "Results (random_curriculum vs MCTS_data_agent): {'agent1_wins': 1557, 'agent2_wins': 2656, 'draw': 787}\n",
      "\n",
      "--- Evaluating Curriculum Models Against Pure Random Actions ---\n",
      "Results (easy_hard vs Random_agent): {'agent1_wins': 3263, 'agent2_wins': 984, 'draw': 753}\n",
      "Results (hard_easy vs Random_agent): {'agent1_wins': 2559, 'agent2_wins': 1785, 'draw': 656}\n",
      "Results (random_curriculum vs Random_agent): {'agent1_wins': 2517, 'agent2_wins': 1836, 'draw': 647}\n",
      "\n",
      "--- All Experiments Complete ---\n",
      "\n",
      "--- Running experiment with seed: 303 ---\n",
      "Loading easy_to_hard dataset...\n",
      "Training easy_to_hard model...\n"
     ]
    },
    {
     "name": "stderr",
     "output_type": "stream",
     "text": [
      " 20%|█████████                                    | 1/5 [00:00<00:01,  2.05it/s]"
     ]
    },
    {
     "name": "stdout",
     "output_type": "stream",
     "text": [
      "Epoch 1, Average Loss: 0.0823\n"
     ]
    },
    {
     "name": "stderr",
     "output_type": "stream",
     "text": [
      " 40%|██████████████████                           | 2/5 [00:00<00:01,  2.09it/s]"
     ]
    },
    {
     "name": "stdout",
     "output_type": "stream",
     "text": [
      "Epoch 2, Average Loss: 0.0417\n"
     ]
    },
    {
     "name": "stderr",
     "output_type": "stream",
     "text": [
      " 60%|███████████████████████████                  | 3/5 [00:01<00:00,  2.09it/s]"
     ]
    },
    {
     "name": "stdout",
     "output_type": "stream",
     "text": [
      "Epoch 3, Average Loss: 0.0321\n"
     ]
    },
    {
     "name": "stderr",
     "output_type": "stream",
     "text": [
      " 80%|████████████████████████████████████         | 4/5 [00:01<00:00,  2.10it/s]"
     ]
    },
    {
     "name": "stdout",
     "output_type": "stream",
     "text": [
      "Epoch 4, Average Loss: 0.0296\n"
     ]
    },
    {
     "name": "stderr",
     "output_type": "stream",
     "text": [
      "100%|█████████████████████████████████████████████| 5/5 [00:02<00:00,  2.09it/s]\n"
     ]
    },
    {
     "name": "stdout",
     "output_type": "stream",
     "text": [
      "Epoch 5, Average Loss: 0.0282\n",
      "Loading hard_to_easy dataset...\n",
      "Training hard_to_easy model...\n"
     ]
    },
    {
     "name": "stderr",
     "output_type": "stream",
     "text": [
      " 20%|█████████                                    | 1/5 [00:00<00:01,  2.10it/s]"
     ]
    },
    {
     "name": "stdout",
     "output_type": "stream",
     "text": [
      "Epoch 1, Average Loss: 0.1157\n"
     ]
    },
    {
     "name": "stderr",
     "output_type": "stream",
     "text": [
      " 40%|██████████████████                           | 2/5 [00:00<00:01,  2.10it/s]"
     ]
    },
    {
     "name": "stdout",
     "output_type": "stream",
     "text": [
      "Epoch 2, Average Loss: 0.0481\n"
     ]
    },
    {
     "name": "stderr",
     "output_type": "stream",
     "text": [
      " 60%|███████████████████████████                  | 3/5 [00:01<00:00,  2.11it/s]"
     ]
    },
    {
     "name": "stdout",
     "output_type": "stream",
     "text": [
      "Epoch 3, Average Loss: 0.0330\n"
     ]
    },
    {
     "name": "stderr",
     "output_type": "stream",
     "text": [
      " 80%|████████████████████████████████████         | 4/5 [00:01<00:00,  2.10it/s]"
     ]
    },
    {
     "name": "stdout",
     "output_type": "stream",
     "text": [
      "Epoch 4, Average Loss: 0.0304\n"
     ]
    },
    {
     "name": "stderr",
     "output_type": "stream",
     "text": [
      "100%|█████████████████████████████████████████████| 5/5 [00:02<00:00,  2.09it/s]\n"
     ]
    },
    {
     "name": "stdout",
     "output_type": "stream",
     "text": [
      "Epoch 5, Average Loss: 0.0287\n",
      "Loading random dataset...\n",
      "Training random model...\n"
     ]
    },
    {
     "name": "stderr",
     "output_type": "stream",
     "text": [
      " 20%|█████████                                    | 1/5 [00:00<00:01,  2.05it/s]"
     ]
    },
    {
     "name": "stdout",
     "output_type": "stream",
     "text": [
      "Epoch 1, Average Loss: 0.0816\n"
     ]
    },
    {
     "name": "stderr",
     "output_type": "stream",
     "text": [
      " 40%|██████████████████                           | 2/5 [00:00<00:01,  2.07it/s]"
     ]
    },
    {
     "name": "stdout",
     "output_type": "stream",
     "text": [
      "Epoch 2, Average Loss: 0.0286\n"
     ]
    },
    {
     "name": "stderr",
     "output_type": "stream",
     "text": [
      " 60%|███████████████████████████                  | 3/5 [00:01<00:00,  2.06it/s]"
     ]
    },
    {
     "name": "stdout",
     "output_type": "stream",
     "text": [
      "Epoch 3, Average Loss: 0.0200\n"
     ]
    },
    {
     "name": "stderr",
     "output_type": "stream",
     "text": [
      " 80%|████████████████████████████████████         | 4/5 [00:01<00:00,  2.07it/s]"
     ]
    },
    {
     "name": "stdout",
     "output_type": "stream",
     "text": [
      "Epoch 4, Average Loss: 0.0162\n"
     ]
    },
    {
     "name": "stderr",
     "output_type": "stream",
     "text": [
      "100%|█████████████████████████████████████████████| 5/5 [00:02<00:00,  2.07it/s]"
     ]
    },
    {
     "name": "stdout",
     "output_type": "stream",
     "text": [
      "Epoch 5, Average Loss: 0.0140\n",
      "\n",
      "--- Evaluating Models for Seed 303 ---\n",
      "\n",
      "--- Evaluating Curriculum Models Against Each Other ---\n"
     ]
    },
    {
     "name": "stderr",
     "output_type": "stream",
     "text": [
      "\n"
     ]
    },
    {
     "name": "stdout",
     "output_type": "stream",
     "text": [
      "Results (easy_hard vs hard_easy): {'agent1_wins': 2826, 'agent2_wins': 1373, 'draw': 801}\n",
      "Results (easy_hard vs random_curriculum): {'agent1_wins': 2878, 'agent2_wins': 1392, 'draw': 730}\n",
      "\n",
      "--- Evaluating Curriculum Models Against Pre-computed MCTS Agent ---\n",
      "Results (hard_easy vs random_curriculum): {'agent1_wins': 2184, 'agent2_wins': 2149, 'draw': 667}\n",
      "\n",
      "--- Evaluating Curriculum Models Against Pre-computed MCTS Agent ---\n",
      "\n",
      "--- Evaluating Curriculum Models Against Pre-computed MCTS Agent ---\n",
      "Results (easy_hard vs MCTS_data_agent): {'agent1_wins': 2458, 'agent2_wins': 1621, 'draw': 921}\n",
      "\n",
      "--- Evaluating Curriculum Models Against Pure Random Actions ---\n",
      "Results (hard_easy vs MCTS_data_agent): {'agent1_wins': 1620, 'agent2_wins': 2591, 'draw': 789}\n",
      "\n",
      "--- Evaluating Curriculum Models Against Pure Random Actions ---\n",
      "Results (random_curriculum vs MCTS_data_agent): {'agent1_wins': 1634, 'agent2_wins': 2602, 'draw': 764}\n",
      "\n",
      "--- Evaluating Curriculum Models Against Pure Random Actions ---\n",
      "Results (easy_hard vs Random_agent): {'agent1_wins': 3265, 'agent2_wins': 1031, 'draw': 704}\n",
      "Results (hard_easy vs Random_agent): {'agent1_wins': 2603, 'agent2_wins': 1780, 'draw': 617}\n",
      "Results (random_curriculum vs Random_agent): {'agent1_wins': 2616, 'agent2_wins': 1764, 'draw': 620}\n",
      "\n",
      "--- All Experiments Complete ---\n",
      "\n",
      "--- Running experiment with seed: 404 ---\n",
      "Loading easy_to_hard dataset...\n",
      "Training easy_to_hard model...\n"
     ]
    },
    {
     "name": "stderr",
     "output_type": "stream",
     "text": [
      " 20%|█████████                                    | 1/5 [00:00<00:01,  2.06it/s]"
     ]
    },
    {
     "name": "stdout",
     "output_type": "stream",
     "text": [
      "Epoch 1, Average Loss: 0.0869\n"
     ]
    },
    {
     "name": "stderr",
     "output_type": "stream",
     "text": [
      " 40%|██████████████████                           | 2/5 [00:00<00:01,  2.07it/s]"
     ]
    },
    {
     "name": "stdout",
     "output_type": "stream",
     "text": [
      "Epoch 2, Average Loss: 0.0447\n"
     ]
    },
    {
     "name": "stderr",
     "output_type": "stream",
     "text": [
      " 60%|███████████████████████████                  | 3/5 [00:01<00:00,  2.07it/s]"
     ]
    },
    {
     "name": "stdout",
     "output_type": "stream",
     "text": [
      "Epoch 3, Average Loss: 0.0338\n"
     ]
    },
    {
     "name": "stderr",
     "output_type": "stream",
     "text": [
      " 80%|████████████████████████████████████         | 4/5 [00:01<00:00,  2.07it/s]"
     ]
    },
    {
     "name": "stdout",
     "output_type": "stream",
     "text": [
      "Epoch 4, Average Loss: 0.0304\n"
     ]
    },
    {
     "name": "stderr",
     "output_type": "stream",
     "text": [
      "100%|█████████████████████████████████████████████| 5/5 [00:02<00:00,  2.07it/s]\n"
     ]
    },
    {
     "name": "stdout",
     "output_type": "stream",
     "text": [
      "Epoch 5, Average Loss: 0.0286\n",
      "Loading hard_to_easy dataset...\n",
      "Training hard_to_easy model...\n"
     ]
    },
    {
     "name": "stderr",
     "output_type": "stream",
     "text": [
      " 20%|█████████                                    | 1/5 [00:00<00:01,  2.07it/s]"
     ]
    },
    {
     "name": "stdout",
     "output_type": "stream",
     "text": [
      "Epoch 1, Average Loss: 0.1150\n"
     ]
    },
    {
     "name": "stderr",
     "output_type": "stream",
     "text": [
      " 40%|██████████████████                           | 2/5 [00:00<00:01,  2.07it/s]"
     ]
    },
    {
     "name": "stdout",
     "output_type": "stream",
     "text": [
      "Epoch 2, Average Loss: 0.0525\n"
     ]
    },
    {
     "name": "stderr",
     "output_type": "stream",
     "text": [
      " 60%|███████████████████████████                  | 3/5 [00:01<00:00,  2.07it/s]"
     ]
    },
    {
     "name": "stdout",
     "output_type": "stream",
     "text": [
      "Epoch 3, Average Loss: 0.0355\n"
     ]
    },
    {
     "name": "stderr",
     "output_type": "stream",
     "text": [
      " 80%|████████████████████████████████████         | 4/5 [00:01<00:00,  2.07it/s]"
     ]
    },
    {
     "name": "stdout",
     "output_type": "stream",
     "text": [
      "Epoch 4, Average Loss: 0.0333\n"
     ]
    },
    {
     "name": "stderr",
     "output_type": "stream",
     "text": [
      "100%|█████████████████████████████████████████████| 5/5 [00:02<00:00,  2.07it/s]\n"
     ]
    },
    {
     "name": "stdout",
     "output_type": "stream",
     "text": [
      "Epoch 5, Average Loss: 0.0303\n",
      "Loading random dataset...\n",
      "Training random model...\n"
     ]
    },
    {
     "name": "stderr",
     "output_type": "stream",
     "text": [
      " 20%|█████████                                    | 1/5 [00:00<00:01,  2.09it/s]"
     ]
    },
    {
     "name": "stdout",
     "output_type": "stream",
     "text": [
      "Epoch 1, Average Loss: 0.0805\n"
     ]
    },
    {
     "name": "stderr",
     "output_type": "stream",
     "text": [
      " 40%|██████████████████                           | 2/5 [00:00<00:01,  2.06it/s]"
     ]
    },
    {
     "name": "stdout",
     "output_type": "stream",
     "text": [
      "Epoch 2, Average Loss: 0.0314\n"
     ]
    },
    {
     "name": "stderr",
     "output_type": "stream",
     "text": [
      " 60%|███████████████████████████                  | 3/5 [00:01<00:00,  2.07it/s]"
     ]
    },
    {
     "name": "stdout",
     "output_type": "stream",
     "text": [
      "Epoch 3, Average Loss: 0.0216\n"
     ]
    },
    {
     "name": "stderr",
     "output_type": "stream",
     "text": [
      " 80%|████████████████████████████████████         | 4/5 [00:01<00:00,  2.03it/s]"
     ]
    },
    {
     "name": "stdout",
     "output_type": "stream",
     "text": [
      "Epoch 4, Average Loss: 0.0158\n"
     ]
    },
    {
     "name": "stderr",
     "output_type": "stream",
     "text": [
      "100%|█████████████████████████████████████████████| 5/5 [00:02<00:00,  2.05it/s]"
     ]
    },
    {
     "name": "stdout",
     "output_type": "stream",
     "text": [
      "Epoch 5, Average Loss: 0.0130\n",
      "\n",
      "--- Evaluating Models for Seed 404 ---\n",
      "\n",
      "--- Evaluating Curriculum Models Against Each Other ---\n"
     ]
    },
    {
     "name": "stderr",
     "output_type": "stream",
     "text": [
      "\n"
     ]
    },
    {
     "name": "stdout",
     "output_type": "stream",
     "text": [
      "Results (easy_hard vs hard_easy): {'agent1_wins': 2828, 'agent2_wins': 1433, 'draw': 739}\n",
      "Results (easy_hard vs random_curriculum): {'agent1_wins': 2833, 'agent2_wins': 1415, 'draw': 752}\n",
      "\n",
      "--- Evaluating Curriculum Models Against Pre-computed MCTS Agent ---\n",
      "Results (hard_easy vs random_curriculum): {'agent1_wins': 2146, 'agent2_wins': 2254, 'draw': 600}\n",
      "\n",
      "--- Evaluating Curriculum Models Against Pre-computed MCTS Agent ---\n",
      "\n",
      "--- Evaluating Curriculum Models Against Pre-computed MCTS Agent ---\n",
      "Results (easy_hard vs MCTS_data_agent): {'agent1_wins': 2340, 'agent2_wins': 1788, 'draw': 872}\n",
      "\n",
      "--- Evaluating Curriculum Models Against Pure Random Actions ---\n",
      "Results (hard_easy vs MCTS_data_agent): {'agent1_wins': 1559, 'agent2_wins': 2615, 'draw': 826}\n",
      "\n",
      "--- Evaluating Curriculum Models Against Pure Random Actions ---\n",
      "Results (random_curriculum vs MCTS_data_agent): {'agent1_wins': 1623, 'agent2_wins': 2595, 'draw': 782}\n",
      "\n",
      "--- Evaluating Curriculum Models Against Pure Random Actions ---\n",
      "Results (easy_hard vs Random_agent): {'agent1_wins': 3154, 'agent2_wins': 1111, 'draw': 735}\n",
      "Results (hard_easy vs Random_agent): {'agent1_wins': 2494, 'agent2_wins': 1814, 'draw': 692}\n",
      "Results (random_curriculum vs Random_agent): {'agent1_wins': 2608, 'agent2_wins': 1774, 'draw': 618}\n",
      "\n",
      "--- All Experiments Complete ---\n",
      "\n",
      "Summary of all results (per seed):\n",
      "\n",
      "Seed 42:\n",
      "  easy_hard vs hard_easy: {'agent1_wins': 2883, 'agent2_wins': 1327, 'draw': 790}\n",
      "  easy_hard vs random_curriculum: {'agent1_wins': 2972, 'agent2_wins': 1281, 'draw': 747}\n",
      "  hard_easy vs random_curriculum: {'agent1_wins': 2194, 'agent2_wins': 2177, 'draw': 629}\n",
      "  easy_hard vs MCTS_data_agent: {'agent1_wins': 2501, 'agent2_wins': 1582, 'draw': 917}\n",
      "  hard_easy vs MCTS_data_agent: {'agent1_wins': 1608, 'agent2_wins': 2561, 'draw': 831}\n",
      "  random_curriculum vs MCTS_data_agent: {'agent1_wins': 1571, 'agent2_wins': 2648, 'draw': 781}\n",
      "  easy_hard vs Random_agent: {'agent1_wins': 3265, 'agent2_wins': 1028, 'draw': 707}\n",
      "  hard_easy vs Random_agent: {'agent1_wins': 2572, 'agent2_wins': 1810, 'draw': 618}\n",
      "  random_curriculum vs Random_agent: {'agent1_wins': 2629, 'agent2_wins': 1742, 'draw': 629}\n",
      "\n",
      "Seed 101:\n",
      "  easy_hard vs hard_easy: {'agent1_wins': 2857, 'agent2_wins': 1364, 'draw': 779}\n",
      "  easy_hard vs random_curriculum: {'agent1_wins': 2741, 'agent2_wins': 1508, 'draw': 751}\n",
      "  hard_easy vs random_curriculum: {'agent1_wins': 2056, 'agent2_wins': 2251, 'draw': 693}\n",
      "  easy_hard vs MCTS_data_agent: {'agent1_wins': 2464, 'agent2_wins': 1662, 'draw': 874}\n",
      "  hard_easy vs MCTS_data_agent: {'agent1_wins': 1608, 'agent2_wins': 2663, 'draw': 729}\n",
      "  random_curriculum vs MCTS_data_agent: {'agent1_wins': 1721, 'agent2_wins': 2532, 'draw': 747}\n",
      "  easy_hard vs Random_agent: {'agent1_wins': 3229, 'agent2_wins': 1081, 'draw': 690}\n",
      "  hard_easy vs Random_agent: {'agent1_wins': 2487, 'agent2_wins': 1871, 'draw': 642}\n",
      "  random_curriculum vs Random_agent: {'agent1_wins': 2639, 'agent2_wins': 1685, 'draw': 676}\n",
      "\n",
      "Seed 202:\n",
      "  easy_hard vs hard_easy: {'agent1_wins': 2937, 'agent2_wins': 1220, 'draw': 843}\n",
      "  easy_hard vs random_curriculum: {'agent1_wins': 2991, 'agent2_wins': 1204, 'draw': 805}\n",
      "  hard_easy vs random_curriculum: {'agent1_wins': 2228, 'agent2_wins': 2162, 'draw': 610}\n",
      "  easy_hard vs MCTS_data_agent: {'agent1_wins': 2535, 'agent2_wins': 1516, 'draw': 949}\n",
      "  hard_easy vs MCTS_data_agent: {'agent1_wins': 1669, 'agent2_wins': 2567, 'draw': 764}\n",
      "  random_curriculum vs MCTS_data_agent: {'agent1_wins': 1557, 'agent2_wins': 2656, 'draw': 787}\n",
      "  easy_hard vs Random_agent: {'agent1_wins': 3263, 'agent2_wins': 984, 'draw': 753}\n",
      "  hard_easy vs Random_agent: {'agent1_wins': 2559, 'agent2_wins': 1785, 'draw': 656}\n",
      "  random_curriculum vs Random_agent: {'agent1_wins': 2517, 'agent2_wins': 1836, 'draw': 647}\n",
      "\n",
      "Seed 303:\n",
      "  easy_hard vs hard_easy: {'agent1_wins': 2826, 'agent2_wins': 1373, 'draw': 801}\n",
      "  easy_hard vs random_curriculum: {'agent1_wins': 2878, 'agent2_wins': 1392, 'draw': 730}\n",
      "  hard_easy vs random_curriculum: {'agent1_wins': 2184, 'agent2_wins': 2149, 'draw': 667}\n",
      "  easy_hard vs MCTS_data_agent: {'agent1_wins': 2458, 'agent2_wins': 1621, 'draw': 921}\n",
      "  hard_easy vs MCTS_data_agent: {'agent1_wins': 1620, 'agent2_wins': 2591, 'draw': 789}\n",
      "  random_curriculum vs MCTS_data_agent: {'agent1_wins': 1634, 'agent2_wins': 2602, 'draw': 764}\n",
      "  easy_hard vs Random_agent: {'agent1_wins': 3265, 'agent2_wins': 1031, 'draw': 704}\n",
      "  hard_easy vs Random_agent: {'agent1_wins': 2603, 'agent2_wins': 1780, 'draw': 617}\n",
      "  random_curriculum vs Random_agent: {'agent1_wins': 2616, 'agent2_wins': 1764, 'draw': 620}\n",
      "\n",
      "Seed 404:\n",
      "  easy_hard vs hard_easy: {'agent1_wins': 2828, 'agent2_wins': 1433, 'draw': 739}\n",
      "  easy_hard vs random_curriculum: {'agent1_wins': 2833, 'agent2_wins': 1415, 'draw': 752}\n",
      "  hard_easy vs random_curriculum: {'agent1_wins': 2146, 'agent2_wins': 2254, 'draw': 600}\n",
      "  easy_hard vs MCTS_data_agent: {'agent1_wins': 2340, 'agent2_wins': 1788, 'draw': 872}\n",
      "  hard_easy vs MCTS_data_agent: {'agent1_wins': 1559, 'agent2_wins': 2615, 'draw': 826}\n",
      "  random_curriculum vs MCTS_data_agent: {'agent1_wins': 1623, 'agent2_wins': 2595, 'draw': 782}\n",
      "  easy_hard vs Random_agent: {'agent1_wins': 3154, 'agent2_wins': 1111, 'draw': 735}\n",
      "  hard_easy vs Random_agent: {'agent1_wins': 2494, 'agent2_wins': 1814, 'draw': 692}\n",
      "  random_curriculum vs Random_agent: {'agent1_wins': 2608, 'agent2_wins': 1774, 'draw': 618}\n"
     ]
    }
   ],
   "source": [
    "# Hardcoded training parameters\n",
    "epochs = 5 # Renamed to plural for clarity\n",
    "optimizer_choice = \"adam\"\n",
    "criterion_choice = \"mse\" # Or \"kl_div\"\n",
    "\n",
    "# Define seeds for multiple runs\n",
    "seeds = [42, 101, 202, 303, 404]\n",
    "\n",
    "# Define default games for most evaluations and a reduced amount for MCTS\n",
    "default_eval_games = 5000\n",
    "mcts_eval_games = 5000 # Reduced games for MCTS comparison\n",
    "\n",
    "all_evaluation_results = {}\n",
    "\n",
    "# Load MCTS data once at the beginning\n",
    "preloaded_mcts_data = load_mcts_data()\n",
    "\n",
    "for seed in seeds:\n",
    "    print(f\"\\n--- Running experiment with seed: {seed} ---\")\n",
    "    set_seed(seed) # Set seed for the current run\n",
    "\n",
    "    # Define save directory for this seed\n",
    "    seed_save_dir = os.path.join(\"results\", f'seed_{seed}_{optimizer_choice}_{criterion_choice}_epoch_{epochs}')\n",
    "    os.makedirs(seed_save_dir, exist_ok=True)\n",
    "\n",
    "    models = {}\n",
    "    # Train and save models\n",
    "    for curriculum_type in [\"easy_to_hard\", \"hard_to_easy\", \"random\"]:\n",
    "        print(f\"Loading {curriculum_type} dataset...\")\n",
    "        # Use train_dataloader and test_dataloader for more detailed logging\n",
    "        train_data_loader = load_dataset(curriculum_type)\n",
    "        print(f\"Training {curriculum_type} model...\")\n",
    "        model = TicTacToeCNN(kl_div=(criterion_choice == \"kl_div\"))\n",
    "        train_model(model, train_data_loader, epochs=epochs, optimizer=optimizer_choice, criterion=criterion_choice, disable_wandb=True)\n",
    "\n",
    "        model_name = f\"model_{curriculum_type.replace('_to_', '_').replace('random', 'random_curriculum')}\"\n",
    "        torch.save(model.state_dict(), os.path.join(seed_save_dir, f\"{model_name}.pth\"))\n",
    "        model.eval() # Set to eval mode for evaluation\n",
    "        models[model_name] = model\n",
    "\n",
    "        # Store results for this seed\n",
    "        current_seed_results = {}\n",
    "\n",
    "    print(f\"\\n--- Evaluating Models for Seed {seed} ---\")\n",
    "\n",
    "    # Comparisons between curriculum models\n",
    "    print(\"\\n--- Evaluating Curriculum Models Against Each Other ---\")\n",
    "    curriculum_model_names = list(models.keys())\n",
    "    for i in range(len(curriculum_model_names)):\n",
    "        for j in range(i + 1, len(curriculum_model_names)):\n",
    "            name1 = curriculum_model_names[i]\n",
    "            name2 = curriculum_model_names[j]\n",
    "            results = evaluate_agents(models[name1], models[name2],\n",
    "                                      games=default_eval_games,\n",
    "                                      agent1_criterion=criterion_choice,\n",
    "                                      agent2_criterion=criterion_choice)\n",
    "            comparison_name = f\"{name1.replace('model_', '')} vs {name2.replace('model_', '')}\"\n",
    "            current_seed_results[comparison_name] = results\n",
    "            print(f\"Results ({comparison_name}): {results}\")\n",
    "\n",
    "        # Comparisons with MCTS (using pre-computed data) and Random agents\n",
    "        print(\"\\n--- Evaluating Curriculum Models Against Pre-computed MCTS Agent ---\")\n",
    "    for model_name, model_obj in models.items():\n",
    "        results = evaluate_agents(model_obj, 'mcts_data_agent', # Changed to 'mcts_data_agent'\n",
    "                                  games=mcts_eval_games,\n",
    "                                  agent1_criterion=criterion_choice,\n",
    "                                  agent2_criterion=None, # MCTS doesn't have a criterion\n",
    "                                  mcts_data=preloaded_mcts_data) # Pass the loaded data\n",
    "        comparison_name = f\"{model_name.replace('model_', '')} vs MCTS_data_agent\"\n",
    "        current_seed_results[comparison_name] = results\n",
    "        print(f\"Results ({comparison_name}): {results}\")\n",
    "\n",
    "        print(\"\\n--- Evaluating Curriculum Models Against Pure Random Actions ---\")\n",
    "    for model_name, model_obj in models.items():\n",
    "        results = evaluate_agents(model_obj, 'random_agent',\n",
    "                                  games=default_eval_games,\n",
    "                                  agent1_criterion=criterion_choice,\n",
    "                                  agent2_criterion=None) # Random doesn't have a criterion\n",
    "        comparison_name = f\"{model_name.replace('model_', '')} vs Random_agent\"\n",
    "        current_seed_results[comparison_name] = results\n",
    "        print(f\"Results ({comparison_name}): {results}\")\n",
    "\n",
    "\n",
    "        all_evaluation_results[seed] = current_seed_results\n",
    "\n",
    "    # Log results for the current seed to a file\n",
    "    with open(os.path.join(seed_save_dir, \"evaluation_results.txt\"), \"w\") as f:\n",
    "        f.write(f\"--- Evaluation Results for Seed: {seed} ---\\n\\n\")\n",
    "        for comparison, res in current_seed_results.items():\n",
    "            f.write(f\"Results ({comparison}): {res}\\n\")\n",
    "            f.write(\"\\n\")\n",
    "\n",
    "print(\"\\n--- All Experiments Complete ---\")\n",
    "print(\"\\nSummary of all results (per seed):\")\n",
    "for seed, results_dict in all_evaluation_results.items():\n",
    "    print(f\"\\nSeed {seed}:\")\n",
    "    for comparison, results in results_dict.items():\n",
    "        print(f\"  {comparison}: {results}\")"
   ]
  },
  {
   "cell_type": "code",
   "execution_count": 4,
   "id": "983da232-a466-43e5-9789-bcb76cfca9d7",
   "metadata": {},
   "outputs": [
    {
     "name": "stdout",
     "output_type": "stream",
     "text": [
      "\n",
      "--- Running Data Portion Experiment ---\n",
      "\n",
      "--- Data Portion Experiment with seed: 42 ---\n",
      "Training easy_to_hard model with 10.0% of training data...\n"
     ]
    },
    {
     "name": "stderr",
     "output_type": "stream",
     "text": [
      " 20%|█████████                                    | 1/5 [00:00<00:00,  8.59it/s]"
     ]
    },
    {
     "name": "stdout",
     "output_type": "stream",
     "text": [
      "Epoch 1, Average Train Loss: 0.1508\n",
      "Epoch 1, Average Test Loss: 0.1078\n"
     ]
    },
    {
     "name": "stderr",
     "output_type": "stream",
     "text": [
      " 40%|██████████████████                           | 2/5 [00:00<00:00,  8.68it/s]"
     ]
    },
    {
     "name": "stdout",
     "output_type": "stream",
     "text": [
      "Epoch 2, Average Train Loss: 0.1052\n",
      "Epoch 2, Average Test Loss: 0.1075\n"
     ]
    },
    {
     "name": "stderr",
     "output_type": "stream",
     "text": [
      " 60%|███████████████████████████                  | 3/5 [00:00<00:00,  8.77it/s]"
     ]
    },
    {
     "name": "stdout",
     "output_type": "stream",
     "text": [
      "Epoch 3, Average Train Loss: 0.1043\n",
      "Epoch 3, Average Test Loss: 0.1028\n"
     ]
    },
    {
     "name": "stderr",
     "output_type": "stream",
     "text": [
      " 80%|████████████████████████████████████         | 4/5 [00:00<00:00,  8.78it/s]"
     ]
    },
    {
     "name": "stdout",
     "output_type": "stream",
     "text": [
      "Epoch 4, Average Train Loss: 0.0971\n",
      "Epoch 4, Average Test Loss: 0.0999\n"
     ]
    },
    {
     "name": "stderr",
     "output_type": "stream",
     "text": [
      "100%|█████████████████████████████████████████████| 5/5 [00:00<00:00,  8.75it/s]"
     ]
    },
    {
     "name": "stdout",
     "output_type": "stream",
     "text": [
      "Epoch 5, Average Train Loss: 0.0942\n",
      "Epoch 5, Average Test Loss: 0.0936\n",
      "Evaluating easy_to_hard model (10.0% data) against MCTS_data_agent...\n"
     ]
    },
    {
     "name": "stderr",
     "output_type": "stream",
     "text": [
      "\n"
     ]
    },
    {
     "name": "stdout",
     "output_type": "stream",
     "text": [
      "1314 2945\n",
      "Win rate for easy_to_hard with 10.0% training data: 0.3085\n",
      "Training easy_to_hard model with 25.0% of training data...\n"
     ]
    },
    {
     "name": "stderr",
     "output_type": "stream",
     "text": [
      "  0%|                                                     | 0/5 [00:00<?, ?it/s]"
     ]
    },
    {
     "name": "stdout",
     "output_type": "stream",
     "text": [
      "Epoch 1, Average Train Loss: 0.1188\n"
     ]
    },
    {
     "name": "stderr",
     "output_type": "stream",
     "text": [
      " 20%|█████████                                    | 1/5 [00:00<00:00,  5.50it/s]"
     ]
    },
    {
     "name": "stdout",
     "output_type": "stream",
     "text": [
      "Epoch 1, Average Test Loss: 0.1054\n",
      "Epoch 2, Average Train Loss: 0.1037\n"
     ]
    },
    {
     "name": "stderr",
     "output_type": "stream",
     "text": [
      " 40%|██████████████████                           | 2/5 [00:00<00:00,  5.54it/s]"
     ]
    },
    {
     "name": "stdout",
     "output_type": "stream",
     "text": [
      "Epoch 2, Average Test Loss: 0.0983\n"
     ]
    },
    {
     "name": "stderr",
     "output_type": "stream",
     "text": [
      " 60%|███████████████████████████                  | 3/5 [00:00<00:00,  5.63it/s]"
     ]
    },
    {
     "name": "stdout",
     "output_type": "stream",
     "text": [
      "Epoch 3, Average Train Loss: 0.0906\n",
      "Epoch 3, Average Test Loss: 0.0764\n",
      "Epoch 4, Average Train Loss: 0.0683\n"
     ]
    },
    {
     "name": "stderr",
     "output_type": "stream",
     "text": [
      " 80%|████████████████████████████████████         | 4/5 [00:00<00:00,  5.69it/s]"
     ]
    },
    {
     "name": "stdout",
     "output_type": "stream",
     "text": [
      "Epoch 4, Average Test Loss: 0.0554\n",
      "Epoch 5, Average Train Loss: 0.0516\n"
     ]
    },
    {
     "name": "stderr",
     "output_type": "stream",
     "text": [
      "100%|█████████████████████████████████████████████| 5/5 [00:00<00:00,  5.66it/s]"
     ]
    },
    {
     "name": "stdout",
     "output_type": "stream",
     "text": [
      "Epoch 5, Average Test Loss: 0.0454\n",
      "Evaluating easy_to_hard model (25.0% data) against MCTS_data_agent...\n"
     ]
    },
    {
     "name": "stderr",
     "output_type": "stream",
     "text": [
      "\n"
     ]
    },
    {
     "name": "stdout",
     "output_type": "stream",
     "text": [
      "1323 2909\n",
      "Win rate for easy_to_hard with 25.0% training data: 0.3126\n",
      "Training easy_to_hard model with 50.0% of training data...\n"
     ]
    },
    {
     "name": "stderr",
     "output_type": "stream",
     "text": [
      " 20%|█████████                                    | 1/5 [00:00<00:01,  3.46it/s]"
     ]
    },
    {
     "name": "stdout",
     "output_type": "stream",
     "text": [
      "Epoch 1, Average Train Loss: 0.1030\n",
      "Epoch 1, Average Test Loss: 0.0977\n"
     ]
    },
    {
     "name": "stderr",
     "output_type": "stream",
     "text": [
      " 40%|██████████████████                           | 2/5 [00:00<00:00,  3.53it/s]"
     ]
    },
    {
     "name": "stdout",
     "output_type": "stream",
     "text": [
      "Epoch 2, Average Train Loss: 0.0686\n",
      "Epoch 2, Average Test Loss: 0.0687\n"
     ]
    },
    {
     "name": "stderr",
     "output_type": "stream",
     "text": [
      " 60%|███████████████████████████                  | 3/5 [00:00<00:00,  3.60it/s]"
     ]
    },
    {
     "name": "stdout",
     "output_type": "stream",
     "text": [
      "Epoch 3, Average Train Loss: 0.0528\n",
      "Epoch 3, Average Test Loss: 0.0680\n"
     ]
    },
    {
     "name": "stderr",
     "output_type": "stream",
     "text": [
      " 80%|████████████████████████████████████         | 4/5 [00:01<00:00,  3.61it/s]"
     ]
    },
    {
     "name": "stdout",
     "output_type": "stream",
     "text": [
      "Epoch 4, Average Train Loss: 0.0488\n",
      "Epoch 4, Average Test Loss: 0.0586\n"
     ]
    },
    {
     "name": "stderr",
     "output_type": "stream",
     "text": [
      "100%|█████████████████████████████████████████████| 5/5 [00:01<00:00,  3.59it/s]"
     ]
    },
    {
     "name": "stdout",
     "output_type": "stream",
     "text": [
      "Epoch 5, Average Train Loss: 0.0450\n",
      "Epoch 5, Average Test Loss: 0.0612\n",
      "Evaluating easy_to_hard model (50.0% data) against MCTS_data_agent...\n"
     ]
    },
    {
     "name": "stderr",
     "output_type": "stream",
     "text": [
      "\n"
     ]
    },
    {
     "name": "stdout",
     "output_type": "stream",
     "text": [
      "1605 2631\n",
      "Win rate for easy_to_hard with 50.0% training data: 0.3789\n",
      "Training easy_to_hard model with 75.0% of training data...\n"
     ]
    },
    {
     "name": "stderr",
     "output_type": "stream",
     "text": [
      " 20%|█████████                                    | 1/5 [00:00<00:01,  2.54it/s]"
     ]
    },
    {
     "name": "stdout",
     "output_type": "stream",
     "text": [
      "Epoch 1, Average Train Loss: 0.0918\n",
      "Epoch 1, Average Test Loss: 0.0584\n"
     ]
    },
    {
     "name": "stderr",
     "output_type": "stream",
     "text": [
      " 40%|██████████████████                           | 2/5 [00:00<00:01,  2.62it/s]"
     ]
    },
    {
     "name": "stdout",
     "output_type": "stream",
     "text": [
      "Epoch 2, Average Train Loss: 0.0418\n",
      "Epoch 2, Average Test Loss: 0.0404\n"
     ]
    },
    {
     "name": "stderr",
     "output_type": "stream",
     "text": [
      " 60%|███████████████████████████                  | 3/5 [00:01<00:00,  2.65it/s]"
     ]
    },
    {
     "name": "stdout",
     "output_type": "stream",
     "text": [
      "Epoch 3, Average Train Loss: 0.0343\n",
      "Epoch 3, Average Test Loss: 0.0398\n"
     ]
    },
    {
     "name": "stderr",
     "output_type": "stream",
     "text": [
      " 80%|████████████████████████████████████         | 4/5 [00:01<00:00,  2.65it/s]"
     ]
    },
    {
     "name": "stdout",
     "output_type": "stream",
     "text": [
      "Epoch 4, Average Train Loss: 0.0341\n",
      "Epoch 4, Average Test Loss: 0.0489\n"
     ]
    },
    {
     "name": "stderr",
     "output_type": "stream",
     "text": [
      "100%|█████████████████████████████████████████████| 5/5 [00:01<00:00,  2.63it/s]"
     ]
    },
    {
     "name": "stdout",
     "output_type": "stream",
     "text": [
      "Epoch 5, Average Train Loss: 0.0354\n",
      "Epoch 5, Average Test Loss: 0.0707\n",
      "Evaluating easy_to_hard model (75.0% data) against MCTS_data_agent...\n"
     ]
    },
    {
     "name": "stderr",
     "output_type": "stream",
     "text": [
      "\n"
     ]
    },
    {
     "name": "stdout",
     "output_type": "stream",
     "text": [
      "2282 1887\n",
      "Win rate for easy_to_hard with 75.0% training data: 0.5474\n",
      "Training easy_to_hard model with 100.0% of training data...\n"
     ]
    },
    {
     "name": "stderr",
     "output_type": "stream",
     "text": [
      " 20%|█████████                                    | 1/5 [00:00<00:01,  2.02it/s]"
     ]
    },
    {
     "name": "stdout",
     "output_type": "stream",
     "text": [
      "Epoch 1, Average Train Loss: 0.0926\n",
      "Epoch 1, Average Test Loss: 0.0673\n"
     ]
    },
    {
     "name": "stderr",
     "output_type": "stream",
     "text": [
      " 40%|██████████████████                           | 2/5 [00:00<00:01,  2.10it/s]"
     ]
    },
    {
     "name": "stdout",
     "output_type": "stream",
     "text": [
      "Epoch 2, Average Train Loss: 0.0467\n",
      "Epoch 2, Average Test Loss: 0.0437\n"
     ]
    },
    {
     "name": "stderr",
     "output_type": "stream",
     "text": [
      " 60%|███████████████████████████                  | 3/5 [00:01<00:00,  2.07it/s]"
     ]
    },
    {
     "name": "stdout",
     "output_type": "stream",
     "text": [
      "Epoch 3, Average Train Loss: 0.0380\n",
      "Epoch 3, Average Test Loss: 0.0502\n"
     ]
    },
    {
     "name": "stderr",
     "output_type": "stream",
     "text": [
      " 80%|████████████████████████████████████         | 4/5 [00:01<00:00,  2.10it/s]"
     ]
    },
    {
     "name": "stdout",
     "output_type": "stream",
     "text": [
      "Epoch 4, Average Train Loss: 0.0367\n",
      "Epoch 4, Average Test Loss: 0.0545\n"
     ]
    },
    {
     "name": "stderr",
     "output_type": "stream",
     "text": [
      "100%|█████████████████████████████████████████████| 5/5 [00:02<00:00,  2.09it/s]"
     ]
    },
    {
     "name": "stdout",
     "output_type": "stream",
     "text": [
      "Epoch 5, Average Train Loss: 0.0362\n",
      "Epoch 5, Average Test Loss: 0.0667\n",
      "Evaluating easy_to_hard model (100.0% data) against MCTS_data_agent...\n"
     ]
    },
    {
     "name": "stderr",
     "output_type": "stream",
     "text": [
      "\n"
     ]
    },
    {
     "name": "stdout",
     "output_type": "stream",
     "text": [
      "2125 2059\n",
      "Win rate for easy_to_hard with 100.0% training data: 0.5079\n",
      "Training hard_to_easy model with 10.0% of training data...\n"
     ]
    },
    {
     "name": "stderr",
     "output_type": "stream",
     "text": [
      " 20%|█████████                                    | 1/5 [00:00<00:00,  7.98it/s]"
     ]
    },
    {
     "name": "stdout",
     "output_type": "stream",
     "text": [
      "Epoch 1, Average Train Loss: 0.1367\n",
      "Epoch 1, Average Test Loss: 0.1138\n"
     ]
    },
    {
     "name": "stderr",
     "output_type": "stream",
     "text": [
      " 40%|██████████████████                           | 2/5 [00:00<00:00,  8.22it/s]"
     ]
    },
    {
     "name": "stdout",
     "output_type": "stream",
     "text": [
      "Epoch 2, Average Train Loss: 0.1135\n",
      "Epoch 2, Average Test Loss: 0.1058\n"
     ]
    },
    {
     "name": "stderr",
     "output_type": "stream",
     "text": [
      " 60%|███████████████████████████                  | 3/5 [00:00<00:00,  8.30it/s]"
     ]
    },
    {
     "name": "stdout",
     "output_type": "stream",
     "text": [
      "Epoch 3, Average Train Loss: 0.1047\n",
      "Epoch 3, Average Test Loss: 0.1021\n"
     ]
    },
    {
     "name": "stderr",
     "output_type": "stream",
     "text": [
      " 80%|████████████████████████████████████         | 4/5 [00:00<00:00,  8.36it/s]"
     ]
    },
    {
     "name": "stdout",
     "output_type": "stream",
     "text": [
      "Epoch 4, Average Train Loss: 0.0993\n",
      "Epoch 4, Average Test Loss: 0.0981\n"
     ]
    },
    {
     "name": "stderr",
     "output_type": "stream",
     "text": [
      "100%|█████████████████████████████████████████████| 5/5 [00:00<00:00,  8.37it/s]"
     ]
    },
    {
     "name": "stdout",
     "output_type": "stream",
     "text": [
      "Epoch 5, Average Train Loss: 0.0938\n",
      "Epoch 5, Average Test Loss: 0.0917\n",
      "Evaluating hard_to_easy model (10.0% data) against MCTS_data_agent...\n"
     ]
    },
    {
     "name": "stderr",
     "output_type": "stream",
     "text": [
      "\n"
     ]
    },
    {
     "name": "stdout",
     "output_type": "stream",
     "text": [
      "1239 2961\n",
      "Win rate for hard_to_easy with 10.0% training data: 0.2950\n",
      "Training hard_to_easy model with 25.0% of training data...\n"
     ]
    },
    {
     "name": "stderr",
     "output_type": "stream",
     "text": [
      "  0%|                                                     | 0/5 [00:00<?, ?it/s]"
     ]
    },
    {
     "name": "stdout",
     "output_type": "stream",
     "text": [
      "Epoch 1, Average Train Loss: 0.1155\n"
     ]
    },
    {
     "name": "stderr",
     "output_type": "stream",
     "text": [
      " 20%|█████████                                    | 1/5 [00:00<00:00,  5.28it/s]"
     ]
    },
    {
     "name": "stdout",
     "output_type": "stream",
     "text": [
      "Epoch 1, Average Test Loss: 0.1033\n",
      "Epoch 2, Average Train Loss: 0.1012\n"
     ]
    },
    {
     "name": "stderr",
     "output_type": "stream",
     "text": [
      " 40%|██████████████████                           | 2/5 [00:00<00:00,  5.38it/s]"
     ]
    },
    {
     "name": "stdout",
     "output_type": "stream",
     "text": [
      "Epoch 2, Average Test Loss: 0.0938\n"
     ]
    },
    {
     "name": "stderr",
     "output_type": "stream",
     "text": [
      " 60%|███████████████████████████                  | 3/5 [00:00<00:00,  5.54it/s]"
     ]
    },
    {
     "name": "stdout",
     "output_type": "stream",
     "text": [
      "Epoch 3, Average Train Loss: 0.0852\n",
      "Epoch 3, Average Test Loss: 0.0716\n",
      "Epoch 4, Average Train Loss: 0.0613\n"
     ]
    },
    {
     "name": "stderr",
     "output_type": "stream",
     "text": [
      " 80%|████████████████████████████████████         | 4/5 [00:00<00:00,  5.59it/s]"
     ]
    },
    {
     "name": "stdout",
     "output_type": "stream",
     "text": [
      "Epoch 4, Average Test Loss: 0.0526\n",
      "Epoch 5, Average Train Loss: 0.0472\n"
     ]
    },
    {
     "name": "stderr",
     "output_type": "stream",
     "text": [
      "100%|█████████████████████████████████████████████| 5/5 [00:00<00:00,  5.56it/s]"
     ]
    },
    {
     "name": "stdout",
     "output_type": "stream",
     "text": [
      "Epoch 5, Average Test Loss: 0.0452\n",
      "Evaluating hard_to_easy model (25.0% data) against MCTS_data_agent...\n"
     ]
    },
    {
     "name": "stderr",
     "output_type": "stream",
     "text": [
      "\n"
     ]
    },
    {
     "name": "stdout",
     "output_type": "stream",
     "text": [
      "1389 2889\n",
      "Win rate for hard_to_easy with 25.0% training data: 0.3247\n",
      "Training hard_to_easy model with 50.0% of training data...\n"
     ]
    },
    {
     "name": "stderr",
     "output_type": "stream",
     "text": [
      " 20%|█████████                                    | 1/5 [00:00<00:01,  3.49it/s]"
     ]
    },
    {
     "name": "stdout",
     "output_type": "stream",
     "text": [
      "Epoch 1, Average Train Loss: 0.1006\n",
      "Epoch 1, Average Test Loss: 0.0857\n"
     ]
    },
    {
     "name": "stderr",
     "output_type": "stream",
     "text": [
      " 40%|██████████████████                           | 2/5 [00:00<00:00,  3.55it/s]"
     ]
    },
    {
     "name": "stdout",
     "output_type": "stream",
     "text": [
      "Epoch 2, Average Train Loss: 0.0638\n",
      "Epoch 2, Average Test Loss: 0.0578\n"
     ]
    },
    {
     "name": "stderr",
     "output_type": "stream",
     "text": [
      " 60%|███████████████████████████                  | 3/5 [00:00<00:00,  3.62it/s]"
     ]
    },
    {
     "name": "stdout",
     "output_type": "stream",
     "text": [
      "Epoch 3, Average Train Loss: 0.0492\n",
      "Epoch 3, Average Test Loss: 0.0589\n"
     ]
    },
    {
     "name": "stderr",
     "output_type": "stream",
     "text": [
      " 80%|████████████████████████████████████         | 4/5 [00:01<00:00,  3.62it/s]"
     ]
    },
    {
     "name": "stdout",
     "output_type": "stream",
     "text": [
      "Epoch 4, Average Train Loss: 0.0472\n",
      "Epoch 4, Average Test Loss: 0.0474\n"
     ]
    },
    {
     "name": "stderr",
     "output_type": "stream",
     "text": [
      "100%|█████████████████████████████████████████████| 5/5 [00:01<00:00,  3.61it/s]"
     ]
    },
    {
     "name": "stdout",
     "output_type": "stream",
     "text": [
      "Epoch 5, Average Train Loss: 0.0413\n",
      "Epoch 5, Average Test Loss: 0.0473\n",
      "Evaluating hard_to_easy model (50.0% data) against MCTS_data_agent...\n"
     ]
    },
    {
     "name": "stderr",
     "output_type": "stream",
     "text": [
      "\n"
     ]
    },
    {
     "name": "stdout",
     "output_type": "stream",
     "text": [
      "1586 2625\n",
      "Win rate for hard_to_easy with 50.0% training data: 0.3766\n",
      "Training hard_to_easy model with 75.0% of training data...\n"
     ]
    },
    {
     "name": "stderr",
     "output_type": "stream",
     "text": [
      " 20%|█████████                                    | 1/5 [00:00<00:01,  2.53it/s]"
     ]
    },
    {
     "name": "stdout",
     "output_type": "stream",
     "text": [
      "Epoch 1, Average Train Loss: 0.0893\n",
      "Epoch 1, Average Test Loss: 0.0545\n"
     ]
    },
    {
     "name": "stderr",
     "output_type": "stream",
     "text": [
      " 40%|██████████████████                           | 2/5 [00:00<00:01,  2.65it/s]"
     ]
    },
    {
     "name": "stdout",
     "output_type": "stream",
     "text": [
      "Epoch 2, Average Train Loss: 0.0434\n",
      "Epoch 2, Average Test Loss: 0.0391\n"
     ]
    },
    {
     "name": "stderr",
     "output_type": "stream",
     "text": [
      " 60%|███████████████████████████                  | 3/5 [00:01<00:00,  2.68it/s]"
     ]
    },
    {
     "name": "stdout",
     "output_type": "stream",
     "text": [
      "Epoch 3, Average Train Loss: 0.0371\n",
      "Epoch 3, Average Test Loss: 0.0396\n"
     ]
    },
    {
     "name": "stderr",
     "output_type": "stream",
     "text": [
      " 80%|████████████████████████████████████         | 4/5 [00:01<00:00,  2.68it/s]"
     ]
    },
    {
     "name": "stdout",
     "output_type": "stream",
     "text": [
      "Epoch 4, Average Train Loss: 0.0367\n",
      "Epoch 4, Average Test Loss: 0.0505\n"
     ]
    },
    {
     "name": "stderr",
     "output_type": "stream",
     "text": [
      "100%|█████████████████████████████████████████████| 5/5 [00:01<00:00,  2.68it/s]"
     ]
    },
    {
     "name": "stdout",
     "output_type": "stream",
     "text": [
      "Epoch 5, Average Train Loss: 0.0362\n",
      "Epoch 5, Average Test Loss: 0.0569\n",
      "Evaluating hard_to_easy model (75.0% data) against MCTS_data_agent...\n"
     ]
    },
    {
     "name": "stderr",
     "output_type": "stream",
     "text": [
      "\n"
     ]
    },
    {
     "name": "stdout",
     "output_type": "stream",
     "text": [
      "1857 2264\n",
      "Win rate for hard_to_easy with 75.0% training data: 0.4506\n",
      "Training hard_to_easy model with 100.0% of training data...\n"
     ]
    },
    {
     "name": "stderr",
     "output_type": "stream",
     "text": [
      " 20%|█████████                                    | 1/5 [00:00<00:01,  2.03it/s]"
     ]
    },
    {
     "name": "stdout",
     "output_type": "stream",
     "text": [
      "Epoch 1, Average Train Loss: 0.1195\n",
      "Epoch 1, Average Test Loss: 0.0854\n"
     ]
    },
    {
     "name": "stderr",
     "output_type": "stream",
     "text": [
      " 40%|██████████████████                           | 2/5 [00:00<00:01,  2.10it/s]"
     ]
    },
    {
     "name": "stdout",
     "output_type": "stream",
     "text": [
      "Epoch 2, Average Train Loss: 0.0638\n",
      "Epoch 2, Average Test Loss: 0.0520\n"
     ]
    },
    {
     "name": "stderr",
     "output_type": "stream",
     "text": [
      " 60%|███████████████████████████                  | 3/5 [00:01<00:00,  2.12it/s]"
     ]
    },
    {
     "name": "stdout",
     "output_type": "stream",
     "text": [
      "Epoch 3, Average Train Loss: 0.0405\n",
      "Epoch 3, Average Test Loss: 0.0562\n"
     ]
    },
    {
     "name": "stderr",
     "output_type": "stream",
     "text": [
      " 80%|████████████████████████████████████         | 4/5 [00:01<00:00,  2.13it/s]"
     ]
    },
    {
     "name": "stdout",
     "output_type": "stream",
     "text": [
      "Epoch 4, Average Train Loss: 0.0349\n",
      "Epoch 4, Average Test Loss: 0.0592\n"
     ]
    },
    {
     "name": "stderr",
     "output_type": "stream",
     "text": [
      "100%|█████████████████████████████████████████████| 5/5 [00:02<00:00,  2.12it/s]"
     ]
    },
    {
     "name": "stdout",
     "output_type": "stream",
     "text": [
      "Epoch 5, Average Train Loss: 0.0379\n",
      "Epoch 5, Average Test Loss: 0.0565\n",
      "Evaluating hard_to_easy model (100.0% data) against MCTS_data_agent...\n"
     ]
    },
    {
     "name": "stderr",
     "output_type": "stream",
     "text": [
      "\n"
     ]
    },
    {
     "name": "stdout",
     "output_type": "stream",
     "text": [
      "1524 2687\n",
      "Win rate for hard_to_easy with 100.0% training data: 0.3619\n",
      "Training random model with 10.0% of training data...\n"
     ]
    },
    {
     "name": "stderr",
     "output_type": "stream",
     "text": [
      " 20%|█████████                                    | 1/5 [00:00<00:00,  8.54it/s]"
     ]
    },
    {
     "name": "stdout",
     "output_type": "stream",
     "text": [
      "Epoch 1, Average Train Loss: 0.1428\n",
      "Epoch 1, Average Test Loss: 0.1084\n"
     ]
    },
    {
     "name": "stderr",
     "output_type": "stream",
     "text": [
      " 40%|██████████████████                           | 2/5 [00:00<00:00,  8.52it/s]"
     ]
    },
    {
     "name": "stdout",
     "output_type": "stream",
     "text": [
      "Epoch 2, Average Train Loss: 0.1141\n",
      "Epoch 2, Average Test Loss: 0.1064\n"
     ]
    },
    {
     "name": "stderr",
     "output_type": "stream",
     "text": [
      " 60%|███████████████████████████                  | 3/5 [00:00<00:00,  8.48it/s]"
     ]
    },
    {
     "name": "stdout",
     "output_type": "stream",
     "text": [
      "Epoch 3, Average Train Loss: 0.1073\n",
      "Epoch 3, Average Test Loss: 0.1018\n"
     ]
    },
    {
     "name": "stderr",
     "output_type": "stream",
     "text": [
      " 80%|████████████████████████████████████         | 4/5 [00:00<00:00,  8.56it/s]"
     ]
    },
    {
     "name": "stdout",
     "output_type": "stream",
     "text": [
      "Epoch 4, Average Train Loss: 0.0998\n",
      "Epoch 4, Average Test Loss: 0.0969\n"
     ]
    },
    {
     "name": "stderr",
     "output_type": "stream",
     "text": [
      "100%|█████████████████████████████████████████████| 5/5 [00:00<00:00,  8.56it/s]"
     ]
    },
    {
     "name": "stdout",
     "output_type": "stream",
     "text": [
      "Epoch 5, Average Train Loss: 0.0943\n",
      "Epoch 5, Average Test Loss: 0.0891\n",
      "Evaluating random model (10.0% data) against MCTS_data_agent...\n"
     ]
    },
    {
     "name": "stderr",
     "output_type": "stream",
     "text": [
      "\n"
     ]
    },
    {
     "name": "stdout",
     "output_type": "stream",
     "text": [
      "1370 2847\n",
      "Win rate for random with 10.0% training data: 0.3249\n",
      "Training random model with 25.0% of training data...\n"
     ]
    },
    {
     "name": "stderr",
     "output_type": "stream",
     "text": [
      "  0%|                                                     | 0/5 [00:00<?, ?it/s]"
     ]
    },
    {
     "name": "stdout",
     "output_type": "stream",
     "text": [
      "Epoch 1, Average Train Loss: 0.1217\n"
     ]
    },
    {
     "name": "stderr",
     "output_type": "stream",
     "text": [
      " 20%|█████████                                    | 1/5 [00:00<00:00,  5.38it/s]"
     ]
    },
    {
     "name": "stdout",
     "output_type": "stream",
     "text": [
      "Epoch 1, Average Test Loss: 0.1040\n",
      "Epoch 2, Average Train Loss: 0.1053\n"
     ]
    },
    {
     "name": "stderr",
     "output_type": "stream",
     "text": [
      " 40%|██████████████████                           | 2/5 [00:00<00:00,  5.46it/s]"
     ]
    },
    {
     "name": "stdout",
     "output_type": "stream",
     "text": [
      "Epoch 2, Average Test Loss: 0.0968\n"
     ]
    },
    {
     "name": "stderr",
     "output_type": "stream",
     "text": [
      " 60%|███████████████████████████                  | 3/5 [00:00<00:00,  5.58it/s]"
     ]
    },
    {
     "name": "stdout",
     "output_type": "stream",
     "text": [
      "Epoch 3, Average Train Loss: 0.0909\n",
      "Epoch 3, Average Test Loss: 0.0745\n",
      "Epoch 4, Average Train Loss: 0.0659\n"
     ]
    },
    {
     "name": "stderr",
     "output_type": "stream",
     "text": [
      " 80%|████████████████████████████████████         | 4/5 [00:00<00:00,  5.61it/s]"
     ]
    },
    {
     "name": "stdout",
     "output_type": "stream",
     "text": [
      "Epoch 4, Average Test Loss: 0.0544\n",
      "Epoch 5, Average Train Loss: 0.0495\n"
     ]
    },
    {
     "name": "stderr",
     "output_type": "stream",
     "text": [
      "100%|█████████████████████████████████████████████| 5/5 [00:00<00:00,  5.61it/s]"
     ]
    },
    {
     "name": "stdout",
     "output_type": "stream",
     "text": [
      "Epoch 5, Average Test Loss: 0.0440\n",
      "Evaluating random model (25.0% data) against MCTS_data_agent...\n"
     ]
    },
    {
     "name": "stderr",
     "output_type": "stream",
     "text": [
      "\n"
     ]
    },
    {
     "name": "stdout",
     "output_type": "stream",
     "text": [
      "1341 2877\n",
      "Win rate for random with 25.0% training data: 0.3179\n",
      "Training random model with 50.0% of training data...\n"
     ]
    },
    {
     "name": "stderr",
     "output_type": "stream",
     "text": [
      " 20%|█████████                                    | 1/5 [00:00<00:01,  3.38it/s]"
     ]
    },
    {
     "name": "stdout",
     "output_type": "stream",
     "text": [
      "Epoch 1, Average Train Loss: 0.1045\n",
      "Epoch 1, Average Test Loss: 0.0982\n"
     ]
    },
    {
     "name": "stderr",
     "output_type": "stream",
     "text": [
      " 40%|██████████████████                           | 2/5 [00:00<00:00,  3.50it/s]"
     ]
    },
    {
     "name": "stdout",
     "output_type": "stream",
     "text": [
      "Epoch 2, Average Train Loss: 0.0743\n",
      "Epoch 2, Average Test Loss: 0.0678\n"
     ]
    },
    {
     "name": "stderr",
     "output_type": "stream",
     "text": [
      " 60%|███████████████████████████                  | 3/5 [00:00<00:00,  3.57it/s]"
     ]
    },
    {
     "name": "stdout",
     "output_type": "stream",
     "text": [
      "Epoch 3, Average Train Loss: 0.0531\n",
      "Epoch 3, Average Test Loss: 0.0610\n"
     ]
    },
    {
     "name": "stderr",
     "output_type": "stream",
     "text": [
      " 80%|████████████████████████████████████         | 4/5 [00:01<00:00,  3.59it/s]"
     ]
    },
    {
     "name": "stdout",
     "output_type": "stream",
     "text": [
      "Epoch 4, Average Train Loss: 0.0480\n",
      "Epoch 4, Average Test Loss: 0.0479\n"
     ]
    },
    {
     "name": "stderr",
     "output_type": "stream",
     "text": [
      "100%|█████████████████████████████████████████████| 5/5 [00:01<00:00,  3.57it/s]"
     ]
    },
    {
     "name": "stdout",
     "output_type": "stream",
     "text": [
      "Epoch 5, Average Train Loss: 0.0442\n",
      "Epoch 5, Average Test Loss: 0.0473\n",
      "Evaluating random model (50.0% data) against MCTS_data_agent...\n"
     ]
    },
    {
     "name": "stderr",
     "output_type": "stream",
     "text": [
      "\n"
     ]
    },
    {
     "name": "stdout",
     "output_type": "stream",
     "text": [
      "1665 2582\n",
      "Win rate for random with 50.0% training data: 0.3920\n",
      "Training random model with 75.0% of training data...\n"
     ]
    },
    {
     "name": "stderr",
     "output_type": "stream",
     "text": [
      " 20%|█████████                                    | 1/5 [00:00<00:01,  2.38it/s]"
     ]
    },
    {
     "name": "stdout",
     "output_type": "stream",
     "text": [
      "Epoch 1, Average Train Loss: 0.0923\n",
      "Epoch 1, Average Test Loss: 0.0568\n"
     ]
    },
    {
     "name": "stderr",
     "output_type": "stream",
     "text": [
      " 40%|██████████████████                           | 2/5 [00:00<00:01,  2.52it/s]"
     ]
    },
    {
     "name": "stdout",
     "output_type": "stream",
     "text": [
      "Epoch 2, Average Train Loss: 0.0426\n",
      "Epoch 2, Average Test Loss: 0.0414\n"
     ]
    },
    {
     "name": "stderr",
     "output_type": "stream",
     "text": [
      " 60%|███████████████████████████                  | 3/5 [00:01<00:00,  2.62it/s]"
     ]
    },
    {
     "name": "stdout",
     "output_type": "stream",
     "text": [
      "Epoch 3, Average Train Loss: 0.0368\n",
      "Epoch 3, Average Test Loss: 0.0399\n"
     ]
    },
    {
     "name": "stderr",
     "output_type": "stream",
     "text": [
      " 80%|████████████████████████████████████         | 4/5 [00:01<00:00,  2.65it/s]"
     ]
    },
    {
     "name": "stdout",
     "output_type": "stream",
     "text": [
      "Epoch 4, Average Train Loss: 0.0369\n",
      "Epoch 4, Average Test Loss: 0.0520\n"
     ]
    },
    {
     "name": "stderr",
     "output_type": "stream",
     "text": [
      "100%|█████████████████████████████████████████████| 5/5 [00:01<00:00,  2.62it/s]"
     ]
    },
    {
     "name": "stdout",
     "output_type": "stream",
     "text": [
      "Epoch 5, Average Train Loss: 0.0371\n",
      "Epoch 5, Average Test Loss: 0.0655\n",
      "Evaluating random model (75.0% data) against MCTS_data_agent...\n"
     ]
    },
    {
     "name": "stderr",
     "output_type": "stream",
     "text": [
      "\n"
     ]
    },
    {
     "name": "stdout",
     "output_type": "stream",
     "text": [
      "2109 2058\n",
      "Win rate for random with 75.0% training data: 0.5061\n",
      "Training random model with 100.0% of training data...\n"
     ]
    },
    {
     "name": "stderr",
     "output_type": "stream",
     "text": [
      " 20%|█████████                                    | 1/5 [00:00<00:01,  2.01it/s]"
     ]
    },
    {
     "name": "stdout",
     "output_type": "stream",
     "text": [
      "Epoch 1, Average Train Loss: 0.0879\n",
      "Epoch 1, Average Test Loss: 0.0434\n"
     ]
    },
    {
     "name": "stderr",
     "output_type": "stream",
     "text": [
      " 40%|██████████████████                           | 2/5 [00:00<00:01,  2.10it/s]"
     ]
    },
    {
     "name": "stdout",
     "output_type": "stream",
     "text": [
      "Epoch 2, Average Train Loss: 0.0332\n",
      "Epoch 2, Average Test Loss: 0.0305\n"
     ]
    },
    {
     "name": "stderr",
     "output_type": "stream",
     "text": [
      " 60%|███████████████████████████                  | 3/5 [00:01<00:00,  2.11it/s]"
     ]
    },
    {
     "name": "stdout",
     "output_type": "stream",
     "text": [
      "Epoch 3, Average Train Loss: 0.0253\n",
      "Epoch 3, Average Test Loss: 0.0219\n"
     ]
    },
    {
     "name": "stderr",
     "output_type": "stream",
     "text": [
      " 80%|████████████████████████████████████         | 4/5 [00:01<00:00,  2.13it/s]"
     ]
    },
    {
     "name": "stdout",
     "output_type": "stream",
     "text": [
      "Epoch 4, Average Train Loss: 0.0195\n",
      "Epoch 4, Average Test Loss: 0.0167\n"
     ]
    },
    {
     "name": "stderr",
     "output_type": "stream",
     "text": [
      "100%|█████████████████████████████████████████████| 5/5 [00:02<00:00,  2.12it/s]"
     ]
    },
    {
     "name": "stdout",
     "output_type": "stream",
     "text": [
      "Epoch 5, Average Train Loss: 0.0161\n",
      "Epoch 5, Average Test Loss: 0.0146\n",
      "Evaluating random model (100.0% data) against MCTS_data_agent...\n"
     ]
    },
    {
     "name": "stderr",
     "output_type": "stream",
     "text": [
      "\n"
     ]
    },
    {
     "name": "stdout",
     "output_type": "stream",
     "text": [
      "1535 2633\n",
      "Win rate for random with 100.0% training data: 0.3683\n",
      "\n",
      "--- Data Portion Experiment with seed: 101 ---\n",
      "Training easy_to_hard model with 10.0% of training data...\n"
     ]
    },
    {
     "name": "stderr",
     "output_type": "stream",
     "text": [
      " 20%|█████████                                    | 1/5 [00:00<00:00,  8.12it/s]"
     ]
    },
    {
     "name": "stdout",
     "output_type": "stream",
     "text": [
      "Epoch 1, Average Train Loss: 0.1418\n",
      "Epoch 1, Average Test Loss: 0.1087\n"
     ]
    },
    {
     "name": "stderr",
     "output_type": "stream",
     "text": [
      " 40%|██████████████████                           | 2/5 [00:00<00:00,  8.29it/s]"
     ]
    },
    {
     "name": "stdout",
     "output_type": "stream",
     "text": [
      "Epoch 2, Average Train Loss: 0.1055\n",
      "Epoch 2, Average Test Loss: 0.1083\n"
     ]
    },
    {
     "name": "stderr",
     "output_type": "stream",
     "text": [
      " 60%|███████████████████████████                  | 3/5 [00:00<00:00,  8.37it/s]"
     ]
    },
    {
     "name": "stdout",
     "output_type": "stream",
     "text": [
      "Epoch 3, Average Train Loss: 0.1031\n",
      "Epoch 3, Average Test Loss: 0.1045\n"
     ]
    },
    {
     "name": "stderr",
     "output_type": "stream",
     "text": [
      " 80%|████████████████████████████████████         | 4/5 [00:00<00:00,  8.50it/s]"
     ]
    },
    {
     "name": "stdout",
     "output_type": "stream",
     "text": [
      "Epoch 4, Average Train Loss: 0.0960\n",
      "Epoch 4, Average Test Loss: 0.1021\n"
     ]
    },
    {
     "name": "stderr",
     "output_type": "stream",
     "text": [
      "100%|█████████████████████████████████████████████| 5/5 [00:00<00:00,  8.43it/s]"
     ]
    },
    {
     "name": "stdout",
     "output_type": "stream",
     "text": [
      "Epoch 5, Average Train Loss: 0.0954\n",
      "Epoch 5, Average Test Loss: 0.0977\n",
      "Evaluating easy_to_hard model (10.0% data) against MCTS_data_agent...\n"
     ]
    },
    {
     "name": "stderr",
     "output_type": "stream",
     "text": [
      "\n"
     ]
    },
    {
     "name": "stdout",
     "output_type": "stream",
     "text": [
      "1290 2976\n",
      "Win rate for easy_to_hard with 10.0% training data: 0.3024\n",
      "Training easy_to_hard model with 25.0% of training data...\n"
     ]
    },
    {
     "name": "stderr",
     "output_type": "stream",
     "text": [
      "  0%|                                                     | 0/5 [00:00<?, ?it/s]"
     ]
    },
    {
     "name": "stdout",
     "output_type": "stream",
     "text": [
      "Epoch 1, Average Train Loss: 0.1191\n"
     ]
    },
    {
     "name": "stderr",
     "output_type": "stream",
     "text": [
      " 20%|█████████                                    | 1/5 [00:00<00:00,  5.34it/s]"
     ]
    },
    {
     "name": "stdout",
     "output_type": "stream",
     "text": [
      "Epoch 1, Average Test Loss: 0.1043\n",
      "Epoch 2, Average Train Loss: 0.1039\n"
     ]
    },
    {
     "name": "stderr",
     "output_type": "stream",
     "text": [
      " 40%|██████████████████                           | 2/5 [00:00<00:00,  5.45it/s]"
     ]
    },
    {
     "name": "stdout",
     "output_type": "stream",
     "text": [
      "Epoch 2, Average Test Loss: 0.0992\n"
     ]
    },
    {
     "name": "stderr",
     "output_type": "stream",
     "text": [
      " 60%|███████████████████████████                  | 3/5 [00:00<00:00,  5.59it/s]"
     ]
    },
    {
     "name": "stdout",
     "output_type": "stream",
     "text": [
      "Epoch 3, Average Train Loss: 0.0919\n",
      "Epoch 3, Average Test Loss: 0.0776\n",
      "Epoch 4, Average Train Loss: 0.0674\n"
     ]
    },
    {
     "name": "stderr",
     "output_type": "stream",
     "text": [
      " 80%|████████████████████████████████████         | 4/5 [00:00<00:00,  5.63it/s]"
     ]
    },
    {
     "name": "stdout",
     "output_type": "stream",
     "text": [
      "Epoch 4, Average Test Loss: 0.0552\n",
      "Epoch 5, Average Train Loss: 0.0503\n"
     ]
    },
    {
     "name": "stderr",
     "output_type": "stream",
     "text": [
      "100%|█████████████████████████████████████████████| 5/5 [00:00<00:00,  5.63it/s]"
     ]
    },
    {
     "name": "stdout",
     "output_type": "stream",
     "text": [
      "Epoch 5, Average Test Loss: 0.0420\n",
      "Evaluating easy_to_hard model (25.0% data) against MCTS_data_agent...\n"
     ]
    },
    {
     "name": "stderr",
     "output_type": "stream",
     "text": [
      "\n"
     ]
    },
    {
     "name": "stdout",
     "output_type": "stream",
     "text": [
      "1376 2895\n",
      "Win rate for easy_to_hard with 25.0% training data: 0.3222\n",
      "Training easy_to_hard model with 50.0% of training data...\n"
     ]
    },
    {
     "name": "stderr",
     "output_type": "stream",
     "text": [
      " 20%|█████████                                    | 1/5 [00:00<00:01,  3.46it/s]"
     ]
    },
    {
     "name": "stdout",
     "output_type": "stream",
     "text": [
      "Epoch 1, Average Train Loss: 0.1013\n",
      "Epoch 1, Average Test Loss: 0.0981\n"
     ]
    },
    {
     "name": "stderr",
     "output_type": "stream",
     "text": [
      " 40%|██████████████████                           | 2/5 [00:00<00:00,  3.53it/s]"
     ]
    },
    {
     "name": "stdout",
     "output_type": "stream",
     "text": [
      "Epoch 2, Average Train Loss: 0.0665\n",
      "Epoch 2, Average Test Loss: 0.0570\n"
     ]
    },
    {
     "name": "stderr",
     "output_type": "stream",
     "text": [
      " 60%|███████████████████████████                  | 3/5 [00:00<00:00,  3.60it/s]"
     ]
    },
    {
     "name": "stdout",
     "output_type": "stream",
     "text": [
      "Epoch 3, Average Train Loss: 0.0481\n",
      "Epoch 3, Average Test Loss: 0.0630\n"
     ]
    },
    {
     "name": "stderr",
     "output_type": "stream",
     "text": [
      " 80%|████████████████████████████████████         | 4/5 [00:01<00:00,  3.64it/s]"
     ]
    },
    {
     "name": "stdout",
     "output_type": "stream",
     "text": [
      "Epoch 4, Average Train Loss: 0.0466\n",
      "Epoch 4, Average Test Loss: 0.0576\n"
     ]
    },
    {
     "name": "stderr",
     "output_type": "stream",
     "text": [
      "100%|█████████████████████████████████████████████| 5/5 [00:01<00:00,  3.62it/s]"
     ]
    },
    {
     "name": "stdout",
     "output_type": "stream",
     "text": [
      "Epoch 5, Average Train Loss: 0.0437\n",
      "Epoch 5, Average Test Loss: 0.0529\n",
      "Evaluating easy_to_hard model (50.0% data) against MCTS_data_agent...\n"
     ]
    },
    {
     "name": "stderr",
     "output_type": "stream",
     "text": [
      "\n"
     ]
    },
    {
     "name": "stdout",
     "output_type": "stream",
     "text": [
      "1774 2393\n",
      "Win rate for easy_to_hard with 50.0% training data: 0.4257\n",
      "Training easy_to_hard model with 75.0% of training data...\n"
     ]
    },
    {
     "name": "stderr",
     "output_type": "stream",
     "text": [
      " 20%|█████████                                    | 1/5 [00:00<00:01,  2.31it/s]"
     ]
    },
    {
     "name": "stdout",
     "output_type": "stream",
     "text": [
      "Epoch 1, Average Train Loss: 0.0918\n",
      "Epoch 1, Average Test Loss: 0.0637\n"
     ]
    },
    {
     "name": "stderr",
     "output_type": "stream",
     "text": [
      " 40%|██████████████████                           | 2/5 [00:00<00:01,  2.43it/s]"
     ]
    },
    {
     "name": "stdout",
     "output_type": "stream",
     "text": [
      "Epoch 2, Average Train Loss: 0.0424\n",
      "Epoch 2, Average Test Loss: 0.0431\n"
     ]
    },
    {
     "name": "stderr",
     "output_type": "stream",
     "text": [
      " 60%|███████████████████████████                  | 3/5 [00:01<00:00,  2.54it/s]"
     ]
    },
    {
     "name": "stdout",
     "output_type": "stream",
     "text": [
      "Epoch 3, Average Train Loss: 0.0356\n",
      "Epoch 3, Average Test Loss: 0.0467\n"
     ]
    },
    {
     "name": "stderr",
     "output_type": "stream",
     "text": [
      " 80%|████████████████████████████████████         | 4/5 [00:01<00:00,  2.60it/s]"
     ]
    },
    {
     "name": "stdout",
     "output_type": "stream",
     "text": [
      "Epoch 4, Average Train Loss: 0.0372\n",
      "Epoch 4, Average Test Loss: 0.0665\n"
     ]
    },
    {
     "name": "stderr",
     "output_type": "stream",
     "text": [
      "100%|█████████████████████████████████████████████| 5/5 [00:01<00:00,  2.57it/s]"
     ]
    },
    {
     "name": "stdout",
     "output_type": "stream",
     "text": [
      "Epoch 5, Average Train Loss: 0.0389\n",
      "Epoch 5, Average Test Loss: 0.0664\n",
      "Evaluating easy_to_hard model (75.0% data) against MCTS_data_agent...\n"
     ]
    },
    {
     "name": "stderr",
     "output_type": "stream",
     "text": [
      "\n"
     ]
    },
    {
     "name": "stdout",
     "output_type": "stream",
     "text": [
      "2199 1937\n",
      "Win rate for easy_to_hard with 75.0% training data: 0.5317\n",
      "Training easy_to_hard model with 100.0% of training data...\n"
     ]
    },
    {
     "name": "stderr",
     "output_type": "stream",
     "text": [
      " 20%|█████████                                    | 1/5 [00:00<00:01,  2.01it/s]"
     ]
    },
    {
     "name": "stdout",
     "output_type": "stream",
     "text": [
      "Epoch 1, Average Train Loss: 0.0931\n",
      "Epoch 1, Average Test Loss: 0.0642\n"
     ]
    },
    {
     "name": "stderr",
     "output_type": "stream",
     "text": [
      " 40%|██████████████████                           | 2/5 [00:00<00:01,  2.09it/s]"
     ]
    },
    {
     "name": "stdout",
     "output_type": "stream",
     "text": [
      "Epoch 2, Average Train Loss: 0.0477\n",
      "Epoch 2, Average Test Loss: 0.0483\n"
     ]
    },
    {
     "name": "stderr",
     "output_type": "stream",
     "text": [
      " 60%|███████████████████████████                  | 3/5 [00:01<00:00,  2.12it/s]"
     ]
    },
    {
     "name": "stdout",
     "output_type": "stream",
     "text": [
      "Epoch 3, Average Train Loss: 0.0376\n",
      "Epoch 3, Average Test Loss: 0.0538\n"
     ]
    },
    {
     "name": "stderr",
     "output_type": "stream",
     "text": [
      " 80%|████████████████████████████████████         | 4/5 [00:01<00:00,  2.12it/s]"
     ]
    },
    {
     "name": "stdout",
     "output_type": "stream",
     "text": [
      "Epoch 4, Average Train Loss: 0.0359\n",
      "Epoch 4, Average Test Loss: 0.0656\n"
     ]
    },
    {
     "name": "stderr",
     "output_type": "stream",
     "text": [
      "100%|█████████████████████████████████████████████| 5/5 [00:02<00:00,  2.11it/s]"
     ]
    },
    {
     "name": "stdout",
     "output_type": "stream",
     "text": [
      "Epoch 5, Average Train Loss: 0.0328\n",
      "Epoch 5, Average Test Loss: 0.0684\n",
      "Evaluating easy_to_hard model (100.0% data) against MCTS_data_agent...\n"
     ]
    },
    {
     "name": "stderr",
     "output_type": "stream",
     "text": [
      "\n"
     ]
    },
    {
     "name": "stdout",
     "output_type": "stream",
     "text": [
      "2208 1969\n",
      "Win rate for easy_to_hard with 100.0% training data: 0.5286\n",
      "Training hard_to_easy model with 10.0% of training data...\n"
     ]
    },
    {
     "name": "stderr",
     "output_type": "stream",
     "text": [
      " 20%|█████████                                    | 1/5 [00:00<00:00,  8.64it/s]"
     ]
    },
    {
     "name": "stdout",
     "output_type": "stream",
     "text": [
      "Epoch 1, Average Train Loss: 0.1426\n",
      "Epoch 1, Average Test Loss: 0.1101\n"
     ]
    },
    {
     "name": "stderr",
     "output_type": "stream",
     "text": [
      " 40%|██████████████████                           | 2/5 [00:00<00:00,  8.49it/s]"
     ]
    },
    {
     "name": "stdout",
     "output_type": "stream",
     "text": [
      "Epoch 2, Average Train Loss: 0.1167\n",
      "Epoch 2, Average Test Loss: 0.1062\n"
     ]
    },
    {
     "name": "stderr",
     "output_type": "stream",
     "text": [
      " 60%|███████████████████████████                  | 3/5 [00:00<00:00,  8.50it/s]"
     ]
    },
    {
     "name": "stdout",
     "output_type": "stream",
     "text": [
      "Epoch 3, Average Train Loss: 0.1097\n",
      "Epoch 3, Average Test Loss: 0.1029\n"
     ]
    },
    {
     "name": "stderr",
     "output_type": "stream",
     "text": [
      " 80%|████████████████████████████████████         | 4/5 [00:00<00:00,  8.59it/s]"
     ]
    },
    {
     "name": "stdout",
     "output_type": "stream",
     "text": [
      "Epoch 4, Average Train Loss: 0.1050\n",
      "Epoch 4, Average Test Loss: 0.0997\n"
     ]
    },
    {
     "name": "stderr",
     "output_type": "stream",
     "text": [
      "100%|█████████████████████████████████████████████| 5/5 [00:00<00:00,  8.62it/s]"
     ]
    },
    {
     "name": "stdout",
     "output_type": "stream",
     "text": [
      "Epoch 5, Average Train Loss: 0.1008\n",
      "Epoch 5, Average Test Loss: 0.0945\n",
      "Evaluating hard_to_easy model (10.0% data) against MCTS_data_agent...\n"
     ]
    },
    {
     "name": "stderr",
     "output_type": "stream",
     "text": [
      "\n"
     ]
    },
    {
     "name": "stdout",
     "output_type": "stream",
     "text": [
      "1262 3007\n",
      "Win rate for hard_to_easy with 10.0% training data: 0.2956\n",
      "Training hard_to_easy model with 25.0% of training data...\n"
     ]
    },
    {
     "name": "stderr",
     "output_type": "stream",
     "text": [
      "  0%|                                                     | 0/5 [00:00<?, ?it/s]"
     ]
    },
    {
     "name": "stdout",
     "output_type": "stream",
     "text": [
      "Epoch 1, Average Train Loss: 0.1187\n"
     ]
    },
    {
     "name": "stderr",
     "output_type": "stream",
     "text": [
      " 20%|█████████                                    | 1/5 [00:00<00:00,  5.46it/s]"
     ]
    },
    {
     "name": "stdout",
     "output_type": "stream",
     "text": [
      "Epoch 1, Average Test Loss: 0.1034\n",
      "Epoch 2, Average Train Loss: 0.1024\n"
     ]
    },
    {
     "name": "stderr",
     "output_type": "stream",
     "text": [
      " 40%|██████████████████                           | 2/5 [00:00<00:00,  5.48it/s]"
     ]
    },
    {
     "name": "stdout",
     "output_type": "stream",
     "text": [
      "Epoch 2, Average Test Loss: 0.0950\n"
     ]
    },
    {
     "name": "stderr",
     "output_type": "stream",
     "text": [
      " 60%|███████████████████████████                  | 3/5 [00:00<00:00,  5.63it/s]"
     ]
    },
    {
     "name": "stdout",
     "output_type": "stream",
     "text": [
      "Epoch 3, Average Train Loss: 0.0869\n",
      "Epoch 3, Average Test Loss: 0.0706\n",
      "Epoch 4, Average Train Loss: 0.0623\n"
     ]
    },
    {
     "name": "stderr",
     "output_type": "stream",
     "text": [
      " 80%|████████████████████████████████████         | 4/5 [00:00<00:00,  5.69it/s]"
     ]
    },
    {
     "name": "stdout",
     "output_type": "stream",
     "text": [
      "Epoch 4, Average Test Loss: 0.0503\n",
      "Epoch 5, Average Train Loss: 0.0467\n"
     ]
    },
    {
     "name": "stderr",
     "output_type": "stream",
     "text": [
      "100%|█████████████████████████████████████████████| 5/5 [00:00<00:00,  5.68it/s]"
     ]
    },
    {
     "name": "stdout",
     "output_type": "stream",
     "text": [
      "Epoch 5, Average Test Loss: 0.0392\n",
      "Evaluating hard_to_easy model (25.0% data) against MCTS_data_agent...\n"
     ]
    },
    {
     "name": "stderr",
     "output_type": "stream",
     "text": [
      "\n"
     ]
    },
    {
     "name": "stdout",
     "output_type": "stream",
     "text": [
      "1412 2826\n",
      "Win rate for hard_to_easy with 25.0% training data: 0.3332\n",
      "Training hard_to_easy model with 50.0% of training data...\n"
     ]
    },
    {
     "name": "stderr",
     "output_type": "stream",
     "text": [
      " 20%|█████████                                    | 1/5 [00:00<00:01,  3.34it/s]"
     ]
    },
    {
     "name": "stdout",
     "output_type": "stream",
     "text": [
      "Epoch 1, Average Train Loss: 0.1006\n",
      "Epoch 1, Average Test Loss: 0.0981\n"
     ]
    },
    {
     "name": "stderr",
     "output_type": "stream",
     "text": [
      " 40%|██████████████████                           | 2/5 [00:00<00:00,  3.12it/s]"
     ]
    },
    {
     "name": "stdout",
     "output_type": "stream",
     "text": [
      "Epoch 2, Average Train Loss: 0.0704\n",
      "Epoch 2, Average Test Loss: 0.0622\n"
     ]
    },
    {
     "name": "stderr",
     "output_type": "stream",
     "text": [
      " 60%|███████████████████████████                  | 3/5 [00:00<00:00,  3.34it/s]"
     ]
    },
    {
     "name": "stdout",
     "output_type": "stream",
     "text": [
      "Epoch 3, Average Train Loss: 0.0528\n",
      "Epoch 3, Average Test Loss: 0.0632\n"
     ]
    },
    {
     "name": "stderr",
     "output_type": "stream",
     "text": [
      " 80%|████████████████████████████████████         | 4/5 [00:01<00:00,  3.46it/s]"
     ]
    },
    {
     "name": "stdout",
     "output_type": "stream",
     "text": [
      "Epoch 4, Average Train Loss: 0.0474\n",
      "Epoch 4, Average Test Loss: 0.0528\n"
     ]
    },
    {
     "name": "stderr",
     "output_type": "stream",
     "text": [
      "100%|█████████████████████████████████████████████| 5/5 [00:01<00:00,  3.44it/s]"
     ]
    },
    {
     "name": "stdout",
     "output_type": "stream",
     "text": [
      "Epoch 5, Average Train Loss: 0.0442\n",
      "Epoch 5, Average Test Loss: 0.0572\n",
      "Evaluating hard_to_easy model (50.0% data) against MCTS_data_agent...\n"
     ]
    },
    {
     "name": "stderr",
     "output_type": "stream",
     "text": [
      "\n"
     ]
    },
    {
     "name": "stdout",
     "output_type": "stream",
     "text": [
      "1677 2493\n",
      "Win rate for hard_to_easy with 50.0% training data: 0.4022\n",
      "Training hard_to_easy model with 75.0% of training data...\n"
     ]
    },
    {
     "name": "stderr",
     "output_type": "stream",
     "text": [
      " 20%|█████████                                    | 1/5 [00:00<00:01,  2.46it/s]"
     ]
    },
    {
     "name": "stdout",
     "output_type": "stream",
     "text": [
      "Epoch 1, Average Train Loss: 0.0906\n",
      "Epoch 1, Average Test Loss: 0.0570\n"
     ]
    },
    {
     "name": "stderr",
     "output_type": "stream",
     "text": [
      " 40%|██████████████████                           | 2/5 [00:00<00:01,  2.62it/s]"
     ]
    },
    {
     "name": "stdout",
     "output_type": "stream",
     "text": [
      "Epoch 2, Average Train Loss: 0.0410\n",
      "Epoch 2, Average Test Loss: 0.0394\n"
     ]
    },
    {
     "name": "stderr",
     "output_type": "stream",
     "text": [
      " 60%|███████████████████████████                  | 3/5 [00:01<00:00,  2.65it/s]"
     ]
    },
    {
     "name": "stdout",
     "output_type": "stream",
     "text": [
      "Epoch 3, Average Train Loss: 0.0348\n",
      "Epoch 3, Average Test Loss: 0.0434\n"
     ]
    },
    {
     "name": "stderr",
     "output_type": "stream",
     "text": [
      " 80%|████████████████████████████████████         | 4/5 [00:01<00:00,  2.67it/s]"
     ]
    },
    {
     "name": "stdout",
     "output_type": "stream",
     "text": [
      "Epoch 4, Average Train Loss: 0.0338\n",
      "Epoch 4, Average Test Loss: 0.0597\n"
     ]
    },
    {
     "name": "stderr",
     "output_type": "stream",
     "text": [
      "100%|█████████████████████████████████████████████| 5/5 [00:01<00:00,  2.66it/s]"
     ]
    },
    {
     "name": "stdout",
     "output_type": "stream",
     "text": [
      "Epoch 5, Average Train Loss: 0.0352\n",
      "Epoch 5, Average Test Loss: 0.0706\n",
      "Evaluating hard_to_easy model (75.0% data) against MCTS_data_agent...\n"
     ]
    },
    {
     "name": "stderr",
     "output_type": "stream",
     "text": [
      "\n"
     ]
    },
    {
     "name": "stdout",
     "output_type": "stream",
     "text": [
      "2086 2042\n",
      "Win rate for hard_to_easy with 75.0% training data: 0.5053\n",
      "Training hard_to_easy model with 100.0% of training data...\n"
     ]
    },
    {
     "name": "stderr",
     "output_type": "stream",
     "text": [
      " 20%|█████████                                    | 1/5 [00:00<00:01,  2.03it/s]"
     ]
    },
    {
     "name": "stdout",
     "output_type": "stream",
     "text": [
      "Epoch 1, Average Train Loss: 0.1186\n",
      "Epoch 1, Average Test Loss: 0.0924\n"
     ]
    },
    {
     "name": "stderr",
     "output_type": "stream",
     "text": [
      " 40%|██████████████████                           | 2/5 [00:00<00:01,  2.09it/s]"
     ]
    },
    {
     "name": "stdout",
     "output_type": "stream",
     "text": [
      "Epoch 2, Average Train Loss: 0.0624\n",
      "Epoch 2, Average Test Loss: 0.0494\n"
     ]
    },
    {
     "name": "stderr",
     "output_type": "stream",
     "text": [
      " 60%|███████████████████████████                  | 3/5 [00:01<00:00,  2.12it/s]"
     ]
    },
    {
     "name": "stdout",
     "output_type": "stream",
     "text": [
      "Epoch 3, Average Train Loss: 0.0378\n",
      "Epoch 3, Average Test Loss: 0.0555\n"
     ]
    },
    {
     "name": "stderr",
     "output_type": "stream",
     "text": [
      " 80%|████████████████████████████████████         | 4/5 [00:01<00:00,  2.12it/s]"
     ]
    },
    {
     "name": "stdout",
     "output_type": "stream",
     "text": [
      "Epoch 4, Average Train Loss: 0.0362\n",
      "Epoch 4, Average Test Loss: 0.0577\n"
     ]
    },
    {
     "name": "stderr",
     "output_type": "stream",
     "text": [
      "100%|█████████████████████████████████████████████| 5/5 [00:02<00:00,  2.12it/s]"
     ]
    },
    {
     "name": "stdout",
     "output_type": "stream",
     "text": [
      "Epoch 5, Average Train Loss: 0.0385\n",
      "Epoch 5, Average Test Loss: 0.0536\n",
      "Evaluating hard_to_easy model (100.0% data) against MCTS_data_agent...\n"
     ]
    },
    {
     "name": "stderr",
     "output_type": "stream",
     "text": [
      "\n"
     ]
    },
    {
     "name": "stdout",
     "output_type": "stream",
     "text": [
      "1459 2743\n",
      "Win rate for hard_to_easy with 100.0% training data: 0.3472\n",
      "Training random model with 10.0% of training data...\n"
     ]
    },
    {
     "name": "stderr",
     "output_type": "stream",
     "text": [
      " 20%|█████████                                    | 1/5 [00:00<00:00,  8.57it/s]"
     ]
    },
    {
     "name": "stdout",
     "output_type": "stream",
     "text": [
      "Epoch 1, Average Train Loss: 0.1446\n",
      "Epoch 1, Average Test Loss: 0.1108\n"
     ]
    },
    {
     "name": "stderr",
     "output_type": "stream",
     "text": [
      " 40%|██████████████████                           | 2/5 [00:00<00:00,  8.57it/s]"
     ]
    },
    {
     "name": "stdout",
     "output_type": "stream",
     "text": [
      "Epoch 2, Average Train Loss: 0.1164\n",
      "Epoch 2, Average Test Loss: 0.1057\n"
     ]
    },
    {
     "name": "stderr",
     "output_type": "stream",
     "text": [
      " 60%|███████████████████████████                  | 3/5 [00:00<00:00,  8.59it/s]"
     ]
    },
    {
     "name": "stdout",
     "output_type": "stream",
     "text": [
      "Epoch 3, Average Train Loss: 0.1076\n",
      "Epoch 3, Average Test Loss: 0.1019\n"
     ]
    },
    {
     "name": "stderr",
     "output_type": "stream",
     "text": [
      " 80%|████████████████████████████████████         | 4/5 [00:00<00:00,  8.57it/s]"
     ]
    },
    {
     "name": "stdout",
     "output_type": "stream",
     "text": [
      "Epoch 4, Average Train Loss: 0.1003\n",
      "Epoch 4, Average Test Loss: 0.0975\n"
     ]
    },
    {
     "name": "stderr",
     "output_type": "stream",
     "text": [
      "100%|█████████████████████████████████████████████| 5/5 [00:00<00:00,  8.63it/s]"
     ]
    },
    {
     "name": "stdout",
     "output_type": "stream",
     "text": [
      "Epoch 5, Average Train Loss: 0.0949\n",
      "Epoch 5, Average Test Loss: 0.0903\n",
      "Evaluating random model (10.0% data) against MCTS_data_agent...\n"
     ]
    },
    {
     "name": "stderr",
     "output_type": "stream",
     "text": [
      "\n"
     ]
    },
    {
     "name": "stdout",
     "output_type": "stream",
     "text": [
      "1342 2911\n",
      "Win rate for random with 10.0% training data: 0.3155\n",
      "Training random model with 25.0% of training data...\n"
     ]
    },
    {
     "name": "stderr",
     "output_type": "stream",
     "text": [
      "  0%|                                                     | 0/5 [00:00<?, ?it/s]"
     ]
    },
    {
     "name": "stdout",
     "output_type": "stream",
     "text": [
      "Epoch 1, Average Train Loss: 0.1198\n"
     ]
    },
    {
     "name": "stderr",
     "output_type": "stream",
     "text": [
      " 20%|█████████                                    | 1/5 [00:00<00:00,  4.28it/s]"
     ]
    },
    {
     "name": "stdout",
     "output_type": "stream",
     "text": [
      "Epoch 1, Average Test Loss: 0.1022\n",
      "Epoch 2, Average Train Loss: 0.1030\n"
     ]
    },
    {
     "name": "stderr",
     "output_type": "stream",
     "text": [
      " 40%|██████████████████                           | 2/5 [00:00<00:00,  4.41it/s]"
     ]
    },
    {
     "name": "stdout",
     "output_type": "stream",
     "text": [
      "Epoch 2, Average Test Loss: 0.0926\n",
      "Epoch 3, Average Train Loss: 0.0859\n",
      "Epoch 3, Average Test Loss: 0.0668\n"
     ]
    },
    {
     "name": "stderr",
     "output_type": "stream",
     "text": [
      " 60%|███████████████████████████                  | 3/5 [00:00<00:00,  4.66it/s]"
     ]
    },
    {
     "name": "stdout",
     "output_type": "stream",
     "text": [
      "Epoch 4, Average Train Loss: 0.0599\n"
     ]
    },
    {
     "name": "stderr",
     "output_type": "stream",
     "text": [
      " 80%|████████████████████████████████████         | 4/5 [00:00<00:00,  4.82it/s]"
     ]
    },
    {
     "name": "stdout",
     "output_type": "stream",
     "text": [
      "Epoch 4, Average Test Loss: 0.0510\n",
      "Epoch 5, Average Train Loss: 0.0475\n"
     ]
    },
    {
     "name": "stderr",
     "output_type": "stream",
     "text": [
      "100%|█████████████████████████████████████████████| 5/5 [00:01<00:00,  4.79it/s]"
     ]
    },
    {
     "name": "stdout",
     "output_type": "stream",
     "text": [
      "Epoch 5, Average Test Loss: 0.0413\n",
      "Evaluating random model (25.0% data) against MCTS_data_agent...\n"
     ]
    },
    {
     "name": "stderr",
     "output_type": "stream",
     "text": [
      "\n"
     ]
    },
    {
     "name": "stdout",
     "output_type": "stream",
     "text": [
      "1337 2908\n",
      "Win rate for random with 25.0% training data: 0.3150\n",
      "Training random model with 50.0% of training data...\n"
     ]
    },
    {
     "name": "stderr",
     "output_type": "stream",
     "text": [
      " 20%|█████████                                    | 1/5 [00:00<00:01,  3.35it/s]"
     ]
    },
    {
     "name": "stdout",
     "output_type": "stream",
     "text": [
      "Epoch 1, Average Train Loss: 0.1014\n",
      "Epoch 1, Average Test Loss: 0.0952\n"
     ]
    },
    {
     "name": "stderr",
     "output_type": "stream",
     "text": [
      " 40%|██████████████████                           | 2/5 [00:00<00:00,  3.27it/s]"
     ]
    },
    {
     "name": "stdout",
     "output_type": "stream",
     "text": [
      "Epoch 2, Average Train Loss: 0.0670\n",
      "Epoch 2, Average Test Loss: 0.0630\n"
     ]
    },
    {
     "name": "stderr",
     "output_type": "stream",
     "text": [
      " 60%|███████████████████████████                  | 3/5 [00:00<00:00,  3.26it/s]"
     ]
    },
    {
     "name": "stdout",
     "output_type": "stream",
     "text": [
      "Epoch 3, Average Train Loss: 0.0521\n",
      "Epoch 3, Average Test Loss: 0.0667\n"
     ]
    },
    {
     "name": "stderr",
     "output_type": "stream",
     "text": [
      " 80%|████████████████████████████████████         | 4/5 [00:01<00:00,  3.03it/s]"
     ]
    },
    {
     "name": "stdout",
     "output_type": "stream",
     "text": [
      "Epoch 4, Average Train Loss: 0.0506\n",
      "Epoch 4, Average Test Loss: 0.0515\n"
     ]
    },
    {
     "name": "stderr",
     "output_type": "stream",
     "text": [
      "100%|█████████████████████████████████████████████| 5/5 [00:01<00:00,  2.86it/s]"
     ]
    },
    {
     "name": "stdout",
     "output_type": "stream",
     "text": [
      "Epoch 5, Average Train Loss: 0.0443\n",
      "Epoch 5, Average Test Loss: 0.0465\n",
      "Evaluating random model (50.0% data) against MCTS_data_agent...\n"
     ]
    },
    {
     "name": "stderr",
     "output_type": "stream",
     "text": [
      "\n"
     ]
    },
    {
     "name": "stdout",
     "output_type": "stream",
     "text": [
      "1601 2590\n",
      "Win rate for random with 50.0% training data: 0.3820\n",
      "Training random model with 75.0% of training data...\n"
     ]
    },
    {
     "name": "stderr",
     "output_type": "stream",
     "text": [
      " 20%|█████████                                    | 1/5 [00:00<00:01,  2.56it/s]"
     ]
    },
    {
     "name": "stdout",
     "output_type": "stream",
     "text": [
      "Epoch 1, Average Train Loss: 0.0875\n",
      "Epoch 1, Average Test Loss: 0.0565\n"
     ]
    },
    {
     "name": "stderr",
     "output_type": "stream",
     "text": [
      " 40%|██████████████████                           | 2/5 [00:00<00:01,  2.64it/s]"
     ]
    },
    {
     "name": "stdout",
     "output_type": "stream",
     "text": [
      "Epoch 2, Average Train Loss: 0.0411\n",
      "Epoch 2, Average Test Loss: 0.0518\n"
     ]
    },
    {
     "name": "stderr",
     "output_type": "stream",
     "text": [
      " 60%|███████████████████████████                  | 3/5 [00:01<00:00,  2.67it/s]"
     ]
    },
    {
     "name": "stdout",
     "output_type": "stream",
     "text": [
      "Epoch 3, Average Train Loss: 0.0379\n",
      "Epoch 3, Average Test Loss: 0.0447\n"
     ]
    },
    {
     "name": "stderr",
     "output_type": "stream",
     "text": [
      " 80%|████████████████████████████████████         | 4/5 [00:01<00:00,  2.67it/s]"
     ]
    },
    {
     "name": "stdout",
     "output_type": "stream",
     "text": [
      "Epoch 4, Average Train Loss: 0.0366\n",
      "Epoch 4, Average Test Loss: 0.0602\n"
     ]
    },
    {
     "name": "stderr",
     "output_type": "stream",
     "text": [
      "100%|█████████████████████████████████████████████| 5/5 [00:01<00:00,  2.65it/s]"
     ]
    },
    {
     "name": "stdout",
     "output_type": "stream",
     "text": [
      "Epoch 5, Average Train Loss: 0.0365\n",
      "Epoch 5, Average Test Loss: 0.0649\n",
      "Evaluating random model (75.0% data) against MCTS_data_agent...\n"
     ]
    },
    {
     "name": "stderr",
     "output_type": "stream",
     "text": [
      "\n"
     ]
    },
    {
     "name": "stdout",
     "output_type": "stream",
     "text": [
      "2147 1927\n",
      "Win rate for random with 75.0% training data: 0.5270\n",
      "Training random model with 100.0% of training data...\n"
     ]
    },
    {
     "name": "stderr",
     "output_type": "stream",
     "text": [
      " 20%|█████████                                    | 1/5 [00:00<00:02,  1.98it/s]"
     ]
    },
    {
     "name": "stdout",
     "output_type": "stream",
     "text": [
      "Epoch 1, Average Train Loss: 0.0926\n",
      "Epoch 1, Average Test Loss: 0.0474\n"
     ]
    },
    {
     "name": "stderr",
     "output_type": "stream",
     "text": [
      " 40%|██████████████████                           | 2/5 [00:00<00:01,  2.08it/s]"
     ]
    },
    {
     "name": "stdout",
     "output_type": "stream",
     "text": [
      "Epoch 2, Average Train Loss: 0.0351\n",
      "Epoch 2, Average Test Loss: 0.0312\n"
     ]
    },
    {
     "name": "stderr",
     "output_type": "stream",
     "text": [
      " 60%|███████████████████████████                  | 3/5 [00:01<00:00,  2.10it/s]"
     ]
    },
    {
     "name": "stdout",
     "output_type": "stream",
     "text": [
      "Epoch 3, Average Train Loss: 0.0265\n",
      "Epoch 3, Average Test Loss: 0.0246\n"
     ]
    },
    {
     "name": "stderr",
     "output_type": "stream",
     "text": [
      " 80%|████████████████████████████████████         | 4/5 [00:01<00:00,  2.12it/s]"
     ]
    },
    {
     "name": "stdout",
     "output_type": "stream",
     "text": [
      "Epoch 4, Average Train Loss: 0.0207\n",
      "Epoch 4, Average Test Loss: 0.0194\n"
     ]
    },
    {
     "name": "stderr",
     "output_type": "stream",
     "text": [
      "100%|█████████████████████████████████████████████| 5/5 [00:02<00:00,  2.11it/s]"
     ]
    },
    {
     "name": "stdout",
     "output_type": "stream",
     "text": [
      "Epoch 5, Average Train Loss: 0.0170\n",
      "Epoch 5, Average Test Loss: 0.0161\n",
      "Evaluating random model (100.0% data) against MCTS_data_agent...\n"
     ]
    },
    {
     "name": "stderr",
     "output_type": "stream",
     "text": [
      "\n"
     ]
    },
    {
     "name": "stdout",
     "output_type": "stream",
     "text": [
      "1581 2649\n",
      "Win rate for random with 100.0% training data: 0.3738\n",
      "\n",
      "--- Data Portion Experiment with seed: 202 ---\n",
      "Training easy_to_hard model with 10.0% of training data...\n"
     ]
    },
    {
     "name": "stderr",
     "output_type": "stream",
     "text": [
      "  0%|                                                     | 0/5 [00:00<?, ?it/s]"
     ]
    },
    {
     "name": "stdout",
     "output_type": "stream",
     "text": [
      "Epoch 1, Average Train Loss: 0.1523\n"
     ]
    },
    {
     "name": "stderr",
     "output_type": "stream",
     "text": [
      " 40%|██████████████████                           | 2/5 [00:00<00:00,  4.46it/s]"
     ]
    },
    {
     "name": "stdout",
     "output_type": "stream",
     "text": [
      "Epoch 1, Average Test Loss: 0.1096\n",
      "Epoch 2, Average Train Loss: 0.1083\n",
      "Epoch 2, Average Test Loss: 0.1086\n",
      "Epoch 3, Average Train Loss: 0.1070\n"
     ]
    },
    {
     "name": "stderr",
     "output_type": "stream",
     "text": [
      " 80%|████████████████████████████████████         | 4/5 [00:00<00:00,  6.65it/s]"
     ]
    },
    {
     "name": "stdout",
     "output_type": "stream",
     "text": [
      "Epoch 3, Average Test Loss: 0.1051\n",
      "Epoch 4, Average Train Loss: 0.1001\n",
      "Epoch 4, Average Test Loss: 0.1020\n",
      "Epoch 5, Average Train Loss: 0.0983\n"
     ]
    },
    {
     "name": "stderr",
     "output_type": "stream",
     "text": [
      "100%|█████████████████████████████████████████████| 5/5 [00:00<00:00,  5.94it/s]\n"
     ]
    },
    {
     "name": "stdout",
     "output_type": "stream",
     "text": [
      "Epoch 5, Average Test Loss: 0.0975\n",
      "Evaluating easy_to_hard model (10.0% data) against MCTS_data_agent...\n",
      "1298 2938\n",
      "Win rate for easy_to_hard with 10.0% training data: 0.3064\n",
      "Training easy_to_hard model with 25.0% of training data...\n"
     ]
    },
    {
     "name": "stderr",
     "output_type": "stream",
     "text": [
      "  0%|                                                     | 0/5 [00:00<?, ?it/s]"
     ]
    },
    {
     "name": "stdout",
     "output_type": "stream",
     "text": [
      "Epoch 1, Average Train Loss: 0.1171\n"
     ]
    },
    {
     "name": "stderr",
     "output_type": "stream",
     "text": [
      " 20%|█████████                                    | 1/5 [00:00<00:00,  4.95it/s]"
     ]
    },
    {
     "name": "stdout",
     "output_type": "stream",
     "text": [
      "Epoch 1, Average Test Loss: 0.1044\n",
      "Epoch 2, Average Train Loss: 0.1012\n"
     ]
    },
    {
     "name": "stderr",
     "output_type": "stream",
     "text": [
      " 40%|██████████████████                           | 2/5 [00:00<00:00,  5.01it/s]"
     ]
    },
    {
     "name": "stdout",
     "output_type": "stream",
     "text": [
      "Epoch 2, Average Test Loss: 0.0996\n"
     ]
    },
    {
     "name": "stderr",
     "output_type": "stream",
     "text": [
      " 60%|███████████████████████████                  | 3/5 [00:00<00:00,  5.34it/s]"
     ]
    },
    {
     "name": "stdout",
     "output_type": "stream",
     "text": [
      "Epoch 3, Average Train Loss: 0.0895\n",
      "Epoch 3, Average Test Loss: 0.0766\n",
      "Epoch 4, Average Train Loss: 0.0642\n"
     ]
    },
    {
     "name": "stderr",
     "output_type": "stream",
     "text": [
      " 80%|████████████████████████████████████         | 4/5 [00:00<00:00,  5.47it/s]"
     ]
    },
    {
     "name": "stdout",
     "output_type": "stream",
     "text": [
      "Epoch 4, Average Test Loss: 0.0557\n",
      "Epoch 5, Average Train Loss: 0.0466\n"
     ]
    },
    {
     "name": "stderr",
     "output_type": "stream",
     "text": [
      "100%|█████████████████████████████████████████████| 5/5 [00:00<00:00,  5.41it/s]"
     ]
    },
    {
     "name": "stdout",
     "output_type": "stream",
     "text": [
      "Epoch 5, Average Test Loss: 0.0434\n",
      "Evaluating easy_to_hard model (25.0% data) against MCTS_data_agent...\n"
     ]
    },
    {
     "name": "stderr",
     "output_type": "stream",
     "text": [
      "\n"
     ]
    },
    {
     "name": "stdout",
     "output_type": "stream",
     "text": [
      "1336 2882\n",
      "Win rate for easy_to_hard with 25.0% training data: 0.3167\n",
      "Training easy_to_hard model with 50.0% of training data...\n"
     ]
    },
    {
     "name": "stderr",
     "output_type": "stream",
     "text": [
      " 20%|█████████                                    | 1/5 [00:00<00:01,  3.19it/s]"
     ]
    },
    {
     "name": "stdout",
     "output_type": "stream",
     "text": [
      "Epoch 1, Average Train Loss: 0.0992\n",
      "Epoch 1, Average Test Loss: 0.0829\n"
     ]
    },
    {
     "name": "stderr",
     "output_type": "stream",
     "text": [
      " 40%|██████████████████                           | 2/5 [00:00<00:00,  3.34it/s]"
     ]
    },
    {
     "name": "stdout",
     "output_type": "stream",
     "text": [
      "Epoch 2, Average Train Loss: 0.0598\n",
      "Epoch 2, Average Test Loss: 0.0590\n"
     ]
    },
    {
     "name": "stderr",
     "output_type": "stream",
     "text": [
      " 60%|███████████████████████████                  | 3/5 [00:00<00:00,  3.45it/s]"
     ]
    },
    {
     "name": "stdout",
     "output_type": "stream",
     "text": [
      "Epoch 3, Average Train Loss: 0.0511\n",
      "Epoch 3, Average Test Loss: 0.0674\n"
     ]
    },
    {
     "name": "stderr",
     "output_type": "stream",
     "text": [
      " 80%|████████████████████████████████████         | 4/5 [00:01<00:00,  3.52it/s]"
     ]
    },
    {
     "name": "stdout",
     "output_type": "stream",
     "text": [
      "Epoch 4, Average Train Loss: 0.0488\n",
      "Epoch 4, Average Test Loss: 0.0512\n"
     ]
    },
    {
     "name": "stderr",
     "output_type": "stream",
     "text": [
      "100%|█████████████████████████████████████████████| 5/5 [00:01<00:00,  3.50it/s]"
     ]
    },
    {
     "name": "stdout",
     "output_type": "stream",
     "text": [
      "Epoch 5, Average Train Loss: 0.0437\n",
      "Epoch 5, Average Test Loss: 0.0522\n",
      "Evaluating easy_to_hard model (50.0% data) against MCTS_data_agent...\n"
     ]
    },
    {
     "name": "stderr",
     "output_type": "stream",
     "text": [
      "\n"
     ]
    },
    {
     "name": "stdout",
     "output_type": "stream",
     "text": [
      "1616 2557\n",
      "Win rate for easy_to_hard with 50.0% training data: 0.3873\n",
      "Training easy_to_hard model with 75.0% of training data...\n"
     ]
    },
    {
     "name": "stderr",
     "output_type": "stream",
     "text": [
      " 20%|█████████                                    | 1/5 [00:00<00:01,  2.54it/s]"
     ]
    },
    {
     "name": "stdout",
     "output_type": "stream",
     "text": [
      "Epoch 1, Average Train Loss: 0.0878\n",
      "Epoch 1, Average Test Loss: 0.0551\n"
     ]
    },
    {
     "name": "stderr",
     "output_type": "stream",
     "text": [
      " 40%|██████████████████                           | 2/5 [00:00<00:01,  2.60it/s]"
     ]
    },
    {
     "name": "stdout",
     "output_type": "stream",
     "text": [
      "Epoch 2, Average Train Loss: 0.0423\n",
      "Epoch 2, Average Test Loss: 0.0425\n"
     ]
    },
    {
     "name": "stderr",
     "output_type": "stream",
     "text": [
      " 60%|███████████████████████████                  | 3/5 [00:01<00:00,  2.63it/s]"
     ]
    },
    {
     "name": "stdout",
     "output_type": "stream",
     "text": [
      "Epoch 3, Average Train Loss: 0.0361\n",
      "Epoch 3, Average Test Loss: 0.0423\n"
     ]
    },
    {
     "name": "stderr",
     "output_type": "stream",
     "text": [
      " 80%|████████████████████████████████████         | 4/5 [00:01<00:00,  2.65it/s]"
     ]
    },
    {
     "name": "stdout",
     "output_type": "stream",
     "text": [
      "Epoch 4, Average Train Loss: 0.0367\n",
      "Epoch 4, Average Test Loss: 0.0516\n"
     ]
    },
    {
     "name": "stderr",
     "output_type": "stream",
     "text": [
      "100%|█████████████████████████████████████████████| 5/5 [00:01<00:00,  2.64it/s]"
     ]
    },
    {
     "name": "stdout",
     "output_type": "stream",
     "text": [
      "Epoch 5, Average Train Loss: 0.0369\n",
      "Epoch 5, Average Test Loss: 0.0606\n",
      "Evaluating easy_to_hard model (75.0% data) against MCTS_data_agent...\n"
     ]
    },
    {
     "name": "stderr",
     "output_type": "stream",
     "text": [
      "\n"
     ]
    },
    {
     "name": "stdout",
     "output_type": "stream",
     "text": [
      "1996 2134\n",
      "Win rate for easy_to_hard with 75.0% training data: 0.4833\n",
      "Training easy_to_hard model with 100.0% of training data...\n"
     ]
    },
    {
     "name": "stderr",
     "output_type": "stream",
     "text": [
      " 20%|█████████                                    | 1/5 [00:00<00:01,  2.02it/s]"
     ]
    },
    {
     "name": "stdout",
     "output_type": "stream",
     "text": [
      "Epoch 1, Average Train Loss: 0.0950\n",
      "Epoch 1, Average Test Loss: 0.0679\n"
     ]
    },
    {
     "name": "stderr",
     "output_type": "stream",
     "text": [
      " 40%|██████████████████                           | 2/5 [00:00<00:01,  2.09it/s]"
     ]
    },
    {
     "name": "stdout",
     "output_type": "stream",
     "text": [
      "Epoch 2, Average Train Loss: 0.0480\n",
      "Epoch 2, Average Test Loss: 0.0466\n"
     ]
    },
    {
     "name": "stderr",
     "output_type": "stream",
     "text": [
      " 60%|███████████████████████████                  | 3/5 [00:01<00:00,  2.12it/s]"
     ]
    },
    {
     "name": "stdout",
     "output_type": "stream",
     "text": [
      "Epoch 3, Average Train Loss: 0.0367\n",
      "Epoch 3, Average Test Loss: 0.0490\n"
     ]
    },
    {
     "name": "stderr",
     "output_type": "stream",
     "text": [
      " 80%|████████████████████████████████████         | 4/5 [00:01<00:00,  2.13it/s]"
     ]
    },
    {
     "name": "stdout",
     "output_type": "stream",
     "text": [
      "Epoch 4, Average Train Loss: 0.0341\n",
      "Epoch 4, Average Test Loss: 0.0617\n"
     ]
    },
    {
     "name": "stderr",
     "output_type": "stream",
     "text": [
      "100%|█████████████████████████████████████████████| 5/5 [00:02<00:00,  2.12it/s]"
     ]
    },
    {
     "name": "stdout",
     "output_type": "stream",
     "text": [
      "Epoch 5, Average Train Loss: 0.0335\n",
      "Epoch 5, Average Test Loss: 0.0727\n",
      "Evaluating easy_to_hard model (100.0% data) against MCTS_data_agent...\n"
     ]
    },
    {
     "name": "stderr",
     "output_type": "stream",
     "text": [
      "\n"
     ]
    },
    {
     "name": "stdout",
     "output_type": "stream",
     "text": [
      "2531 1673\n",
      "Win rate for easy_to_hard with 100.0% training data: 0.6020\n",
      "Training hard_to_easy model with 10.0% of training data...\n"
     ]
    },
    {
     "name": "stderr",
     "output_type": "stream",
     "text": [
      " 20%|█████████                                    | 1/5 [00:00<00:00,  8.34it/s]"
     ]
    },
    {
     "name": "stdout",
     "output_type": "stream",
     "text": [
      "Epoch 1, Average Train Loss: 0.1358\n",
      "Epoch 1, Average Test Loss: 0.1122\n"
     ]
    },
    {
     "name": "stderr",
     "output_type": "stream",
     "text": [
      " 40%|██████████████████                           | 2/5 [00:00<00:00,  8.35it/s]"
     ]
    },
    {
     "name": "stdout",
     "output_type": "stream",
     "text": [
      "Epoch 2, Average Train Loss: 0.1108\n",
      "Epoch 2, Average Test Loss: 0.1068\n"
     ]
    },
    {
     "name": "stderr",
     "output_type": "stream",
     "text": [
      " 60%|███████████████████████████                  | 3/5 [00:00<00:00,  8.24it/s]"
     ]
    },
    {
     "name": "stdout",
     "output_type": "stream",
     "text": [
      "Epoch 3, Average Train Loss: 0.1028\n",
      "Epoch 3, Average Test Loss: 0.1032\n"
     ]
    },
    {
     "name": "stderr",
     "output_type": "stream",
     "text": [
      " 80%|████████████████████████████████████         | 4/5 [00:00<00:00,  8.36it/s]"
     ]
    },
    {
     "name": "stdout",
     "output_type": "stream",
     "text": [
      "Epoch 4, Average Train Loss: 0.0968\n",
      "Epoch 4, Average Test Loss: 0.1000\n"
     ]
    },
    {
     "name": "stderr",
     "output_type": "stream",
     "text": [
      "100%|█████████████████████████████████████████████| 5/5 [00:00<00:00,  8.39it/s]"
     ]
    },
    {
     "name": "stdout",
     "output_type": "stream",
     "text": [
      "Epoch 5, Average Train Loss: 0.0935\n",
      "Epoch 5, Average Test Loss: 0.0942\n",
      "Evaluating hard_to_easy model (10.0% data) against MCTS_data_agent...\n"
     ]
    },
    {
     "name": "stderr",
     "output_type": "stream",
     "text": [
      "\n"
     ]
    },
    {
     "name": "stdout",
     "output_type": "stream",
     "text": [
      "1287 2949\n",
      "Win rate for hard_to_easy with 10.0% training data: 0.3038\n",
      "Training hard_to_easy model with 25.0% of training data...\n"
     ]
    },
    {
     "name": "stderr",
     "output_type": "stream",
     "text": [
      "  0%|                                                     | 0/5 [00:00<?, ?it/s]"
     ]
    },
    {
     "name": "stdout",
     "output_type": "stream",
     "text": [
      "Epoch 1, Average Train Loss: 0.1222\n"
     ]
    },
    {
     "name": "stderr",
     "output_type": "stream",
     "text": [
      " 20%|█████████                                    | 1/5 [00:00<00:00,  5.18it/s]"
     ]
    },
    {
     "name": "stdout",
     "output_type": "stream",
     "text": [
      "Epoch 1, Average Test Loss: 0.1042\n",
      "Epoch 2, Average Train Loss: 0.1065\n"
     ]
    },
    {
     "name": "stderr",
     "output_type": "stream",
     "text": [
      " 40%|██████████████████                           | 2/5 [00:00<00:00,  5.21it/s]"
     ]
    },
    {
     "name": "stdout",
     "output_type": "stream",
     "text": [
      "Epoch 2, Average Test Loss: 0.0981\n"
     ]
    },
    {
     "name": "stderr",
     "output_type": "stream",
     "text": [
      " 60%|███████████████████████████                  | 3/5 [00:00<00:00,  5.40it/s]"
     ]
    },
    {
     "name": "stdout",
     "output_type": "stream",
     "text": [
      "Epoch 3, Average Train Loss: 0.0946\n",
      "Epoch 3, Average Test Loss: 0.0792\n",
      "Epoch 4, Average Train Loss: 0.0727\n"
     ]
    },
    {
     "name": "stderr",
     "output_type": "stream",
     "text": [
      " 80%|████████████████████████████████████         | 4/5 [00:00<00:00,  5.52it/s]"
     ]
    },
    {
     "name": "stdout",
     "output_type": "stream",
     "text": [
      "Epoch 4, Average Test Loss: 0.0597\n",
      "Epoch 5, Average Train Loss: 0.0547\n"
     ]
    },
    {
     "name": "stderr",
     "output_type": "stream",
     "text": [
      "100%|█████████████████████████████████████████████| 5/5 [00:00<00:00,  5.50it/s]"
     ]
    },
    {
     "name": "stdout",
     "output_type": "stream",
     "text": [
      "Epoch 5, Average Test Loss: 0.0470\n",
      "Evaluating hard_to_easy model (25.0% data) against MCTS_data_agent...\n"
     ]
    },
    {
     "name": "stderr",
     "output_type": "stream",
     "text": [
      "\n"
     ]
    },
    {
     "name": "stdout",
     "output_type": "stream",
     "text": [
      "1349 2868\n",
      "Win rate for hard_to_easy with 25.0% training data: 0.3199\n",
      "Training hard_to_easy model with 50.0% of training data...\n"
     ]
    },
    {
     "name": "stderr",
     "output_type": "stream",
     "text": [
      " 20%|█████████                                    | 1/5 [00:00<00:01,  3.47it/s]"
     ]
    },
    {
     "name": "stdout",
     "output_type": "stream",
     "text": [
      "Epoch 1, Average Train Loss: 0.1018\n",
      "Epoch 1, Average Test Loss: 0.0932\n"
     ]
    },
    {
     "name": "stderr",
     "output_type": "stream",
     "text": [
      " 40%|██████████████████                           | 2/5 [00:00<00:00,  3.50it/s]"
     ]
    },
    {
     "name": "stdout",
     "output_type": "stream",
     "text": [
      "Epoch 2, Average Train Loss: 0.0681\n",
      "Epoch 2, Average Test Loss: 0.0671\n"
     ]
    },
    {
     "name": "stderr",
     "output_type": "stream",
     "text": [
      " 60%|███████████████████████████                  | 3/5 [00:00<00:00,  3.56it/s]"
     ]
    },
    {
     "name": "stdout",
     "output_type": "stream",
     "text": [
      "Epoch 3, Average Train Loss: 0.0517\n",
      "Epoch 3, Average Test Loss: 0.0639\n"
     ]
    },
    {
     "name": "stderr",
     "output_type": "stream",
     "text": [
      " 80%|████████████████████████████████████         | 4/5 [00:01<00:00,  3.60it/s]"
     ]
    },
    {
     "name": "stdout",
     "output_type": "stream",
     "text": [
      "Epoch 4, Average Train Loss: 0.0485\n",
      "Epoch 4, Average Test Loss: 0.0535\n"
     ]
    },
    {
     "name": "stderr",
     "output_type": "stream",
     "text": [
      "100%|█████████████████████████████████████████████| 5/5 [00:01<00:00,  3.57it/s]"
     ]
    },
    {
     "name": "stdout",
     "output_type": "stream",
     "text": [
      "Epoch 5, Average Train Loss: 0.0445\n",
      "Epoch 5, Average Test Loss: 0.0557\n",
      "Evaluating hard_to_easy model (50.0% data) against MCTS_data_agent...\n"
     ]
    },
    {
     "name": "stderr",
     "output_type": "stream",
     "text": [
      "\n"
     ]
    },
    {
     "name": "stdout",
     "output_type": "stream",
     "text": [
      "1670 2580\n",
      "Win rate for hard_to_easy with 50.0% training data: 0.3929\n",
      "Training hard_to_easy model with 75.0% of training data...\n"
     ]
    },
    {
     "name": "stderr",
     "output_type": "stream",
     "text": [
      " 20%|█████████                                    | 1/5 [00:00<00:01,  2.55it/s]"
     ]
    },
    {
     "name": "stdout",
     "output_type": "stream",
     "text": [
      "Epoch 1, Average Train Loss: 0.0921\n",
      "Epoch 1, Average Test Loss: 0.0626\n"
     ]
    },
    {
     "name": "stderr",
     "output_type": "stream",
     "text": [
      " 40%|██████████████████                           | 2/5 [00:00<00:01,  2.62it/s]"
     ]
    },
    {
     "name": "stdout",
     "output_type": "stream",
     "text": [
      "Epoch 2, Average Train Loss: 0.0430\n",
      "Epoch 2, Average Test Loss: 0.0455\n"
     ]
    },
    {
     "name": "stderr",
     "output_type": "stream",
     "text": [
      " 60%|███████████████████████████                  | 3/5 [00:01<00:00,  2.58it/s]"
     ]
    },
    {
     "name": "stdout",
     "output_type": "stream",
     "text": [
      "Epoch 3, Average Train Loss: 0.0348\n",
      "Epoch 3, Average Test Loss: 0.0409\n"
     ]
    },
    {
     "name": "stderr",
     "output_type": "stream",
     "text": [
      " 80%|████████████████████████████████████         | 4/5 [00:01<00:00,  2.58it/s]"
     ]
    },
    {
     "name": "stdout",
     "output_type": "stream",
     "text": [
      "Epoch 4, Average Train Loss: 0.0341\n",
      "Epoch 4, Average Test Loss: 0.0470\n"
     ]
    },
    {
     "name": "stderr",
     "output_type": "stream",
     "text": [
      "100%|█████████████████████████████████████████████| 5/5 [00:01<00:00,  2.61it/s]"
     ]
    },
    {
     "name": "stdout",
     "output_type": "stream",
     "text": [
      "Epoch 5, Average Train Loss: 0.0343\n",
      "Epoch 5, Average Test Loss: 0.0701\n",
      "Evaluating hard_to_easy model (75.0% data) against MCTS_data_agent...\n"
     ]
    },
    {
     "name": "stderr",
     "output_type": "stream",
     "text": [
      "\n"
     ]
    },
    {
     "name": "stdout",
     "output_type": "stream",
     "text": [
      "2201 1990\n",
      "Win rate for hard_to_easy with 75.0% training data: 0.5252\n",
      "Training hard_to_easy model with 100.0% of training data...\n"
     ]
    },
    {
     "name": "stderr",
     "output_type": "stream",
     "text": [
      " 20%|█████████                                    | 1/5 [00:00<00:02,  1.96it/s]"
     ]
    },
    {
     "name": "stdout",
     "output_type": "stream",
     "text": [
      "Epoch 1, Average Train Loss: 0.1214\n",
      "Epoch 1, Average Test Loss: 0.0958\n"
     ]
    },
    {
     "name": "stderr",
     "output_type": "stream",
     "text": [
      " 40%|██████████████████                           | 2/5 [00:00<00:01,  2.04it/s]"
     ]
    },
    {
     "name": "stdout",
     "output_type": "stream",
     "text": [
      "Epoch 2, Average Train Loss: 0.0697\n",
      "Epoch 2, Average Test Loss: 0.0499\n"
     ]
    },
    {
     "name": "stderr",
     "output_type": "stream",
     "text": [
      " 60%|███████████████████████████                  | 3/5 [00:01<00:00,  2.08it/s]"
     ]
    },
    {
     "name": "stdout",
     "output_type": "stream",
     "text": [
      "Epoch 3, Average Train Loss: 0.0398\n",
      "Epoch 3, Average Test Loss: 0.0563\n"
     ]
    },
    {
     "name": "stderr",
     "output_type": "stream",
     "text": [
      " 80%|████████████████████████████████████         | 4/5 [00:01<00:00,  2.10it/s]"
     ]
    },
    {
     "name": "stdout",
     "output_type": "stream",
     "text": [
      "Epoch 4, Average Train Loss: 0.0372\n",
      "Epoch 4, Average Test Loss: 0.0583\n"
     ]
    },
    {
     "name": "stderr",
     "output_type": "stream",
     "text": [
      "100%|█████████████████████████████████████████████| 5/5 [00:02<00:00,  2.09it/s]"
     ]
    },
    {
     "name": "stdout",
     "output_type": "stream",
     "text": [
      "Epoch 5, Average Train Loss: 0.0353\n",
      "Epoch 5, Average Test Loss: 0.0592\n",
      "Evaluating hard_to_easy model (100.0% data) against MCTS_data_agent...\n"
     ]
    },
    {
     "name": "stderr",
     "output_type": "stream",
     "text": [
      "\n"
     ]
    },
    {
     "name": "stdout",
     "output_type": "stream",
     "text": [
      "1525 2719\n",
      "Win rate for hard_to_easy with 100.0% training data: 0.3593\n",
      "Training random model with 10.0% of training data...\n"
     ]
    },
    {
     "name": "stderr",
     "output_type": "stream",
     "text": [
      " 20%|█████████                                    | 1/5 [00:00<00:00,  8.19it/s]"
     ]
    },
    {
     "name": "stdout",
     "output_type": "stream",
     "text": [
      "Epoch 1, Average Train Loss: 0.1461\n",
      "Epoch 1, Average Test Loss: 0.1070\n",
      "Epoch 2, Average Train Loss: 0.1050\n"
     ]
    },
    {
     "name": "stderr",
     "output_type": "stream",
     "text": [
      " 40%|██████████████████                           | 2/5 [00:00<00:00,  7.79it/s]"
     ]
    },
    {
     "name": "stdout",
     "output_type": "stream",
     "text": [
      "Epoch 2, Average Test Loss: 0.1070\n",
      "Epoch 3, Average Train Loss: 0.1041\n"
     ]
    },
    {
     "name": "stderr",
     "output_type": "stream",
     "text": [
      " 60%|███████████████████████████                  | 3/5 [00:00<00:00,  7.76it/s]"
     ]
    },
    {
     "name": "stdout",
     "output_type": "stream",
     "text": [
      "Epoch 3, Average Test Loss: 0.1019\n",
      "Epoch 4, Average Train Loss: 0.0963\n"
     ]
    },
    {
     "name": "stderr",
     "output_type": "stream",
     "text": [
      " 80%|████████████████████████████████████         | 4/5 [00:00<00:00,  8.12it/s]"
     ]
    },
    {
     "name": "stdout",
     "output_type": "stream",
     "text": [
      "Epoch 4, Average Test Loss: 0.0980\n",
      "Epoch 5, Average Train Loss: 0.0918\n"
     ]
    },
    {
     "name": "stderr",
     "output_type": "stream",
     "text": [
      "100%|█████████████████████████████████████████████| 5/5 [00:00<00:00,  8.14it/s]"
     ]
    },
    {
     "name": "stdout",
     "output_type": "stream",
     "text": [
      "Epoch 5, Average Test Loss: 0.0902\n",
      "Evaluating random model (10.0% data) against MCTS_data_agent...\n"
     ]
    },
    {
     "name": "stderr",
     "output_type": "stream",
     "text": [
      "\n"
     ]
    },
    {
     "name": "stdout",
     "output_type": "stream",
     "text": [
      "1308 2954\n",
      "Win rate for random with 10.0% training data: 0.3069\n",
      "Training random model with 25.0% of training data...\n"
     ]
    },
    {
     "name": "stderr",
     "output_type": "stream",
     "text": [
      "  0%|                                                     | 0/5 [00:00<?, ?it/s]"
     ]
    },
    {
     "name": "stdout",
     "output_type": "stream",
     "text": [
      "Epoch 1, Average Train Loss: 0.1157\n"
     ]
    },
    {
     "name": "stderr",
     "output_type": "stream",
     "text": [
      " 20%|█████████                                    | 1/5 [00:00<00:00,  5.57it/s]"
     ]
    },
    {
     "name": "stdout",
     "output_type": "stream",
     "text": [
      "Epoch 1, Average Test Loss: 0.1052\n",
      "Epoch 2, Average Train Loss: 0.1020\n"
     ]
    },
    {
     "name": "stderr",
     "output_type": "stream",
     "text": [
      " 40%|██████████████████                           | 2/5 [00:00<00:00,  5.57it/s]"
     ]
    },
    {
     "name": "stdout",
     "output_type": "stream",
     "text": [
      "Epoch 2, Average Test Loss: 0.1024\n"
     ]
    },
    {
     "name": "stderr",
     "output_type": "stream",
     "text": [
      " 60%|███████████████████████████                  | 3/5 [00:00<00:00,  5.63it/s]"
     ]
    },
    {
     "name": "stdout",
     "output_type": "stream",
     "text": [
      "Epoch 3, Average Train Loss: 0.0923\n",
      "Epoch 3, Average Test Loss: 0.0843\n",
      "Epoch 4, Average Train Loss: 0.0714\n"
     ]
    },
    {
     "name": "stderr",
     "output_type": "stream",
     "text": [
      " 80%|████████████████████████████████████         | 4/5 [00:00<00:00,  5.60it/s]"
     ]
    },
    {
     "name": "stdout",
     "output_type": "stream",
     "text": [
      "Epoch 4, Average Test Loss: 0.0635\n",
      "Epoch 5, Average Train Loss: 0.0545\n"
     ]
    },
    {
     "name": "stderr",
     "output_type": "stream",
     "text": [
      "100%|█████████████████████████████████████████████| 5/5 [00:00<00:00,  5.62it/s]"
     ]
    },
    {
     "name": "stdout",
     "output_type": "stream",
     "text": [
      "Epoch 5, Average Test Loss: 0.0518\n",
      "Evaluating random model (25.0% data) against MCTS_data_agent...\n"
     ]
    },
    {
     "name": "stderr",
     "output_type": "stream",
     "text": [
      "\n"
     ]
    },
    {
     "name": "stdout",
     "output_type": "stream",
     "text": [
      "1373 2837\n",
      "Win rate for random with 25.0% training data: 0.3261\n",
      "Training random model with 50.0% of training data...\n"
     ]
    },
    {
     "name": "stderr",
     "output_type": "stream",
     "text": [
      " 20%|█████████                                    | 1/5 [00:00<00:01,  3.43it/s]"
     ]
    },
    {
     "name": "stdout",
     "output_type": "stream",
     "text": [
      "Epoch 1, Average Train Loss: 0.0992\n",
      "Epoch 1, Average Test Loss: 0.0961\n"
     ]
    },
    {
     "name": "stderr",
     "output_type": "stream",
     "text": [
      " 40%|██████████████████                           | 2/5 [00:00<00:00,  3.50it/s]"
     ]
    },
    {
     "name": "stdout",
     "output_type": "stream",
     "text": [
      "Epoch 2, Average Train Loss: 0.0716\n",
      "Epoch 2, Average Test Loss: 0.0691\n"
     ]
    },
    {
     "name": "stderr",
     "output_type": "stream",
     "text": [
      " 60%|███████████████████████████                  | 3/5 [00:00<00:00,  3.59it/s]"
     ]
    },
    {
     "name": "stdout",
     "output_type": "stream",
     "text": [
      "Epoch 3, Average Train Loss: 0.0550\n",
      "Epoch 3, Average Test Loss: 0.0578\n"
     ]
    },
    {
     "name": "stderr",
     "output_type": "stream",
     "text": [
      " 80%|████████████████████████████████████         | 4/5 [00:01<00:00,  3.63it/s]"
     ]
    },
    {
     "name": "stdout",
     "output_type": "stream",
     "text": [
      "Epoch 4, Average Train Loss: 0.0493\n",
      "Epoch 4, Average Test Loss: 0.0513\n"
     ]
    },
    {
     "name": "stderr",
     "output_type": "stream",
     "text": [
      "100%|█████████████████████████████████████████████| 5/5 [00:01<00:00,  3.60it/s]"
     ]
    },
    {
     "name": "stdout",
     "output_type": "stream",
     "text": [
      "Epoch 5, Average Train Loss: 0.0451\n",
      "Epoch 5, Average Test Loss: 0.0451\n",
      "Evaluating random model (50.0% data) against MCTS_data_agent...\n"
     ]
    },
    {
     "name": "stderr",
     "output_type": "stream",
     "text": [
      "\n"
     ]
    },
    {
     "name": "stdout",
     "output_type": "stream",
     "text": [
      "1644 2569\n",
      "Win rate for random with 50.0% training data: 0.3902\n",
      "Training random model with 75.0% of training data...\n"
     ]
    },
    {
     "name": "stderr",
     "output_type": "stream",
     "text": [
      " 20%|█████████                                    | 1/5 [00:00<00:01,  2.48it/s]"
     ]
    },
    {
     "name": "stdout",
     "output_type": "stream",
     "text": [
      "Epoch 1, Average Train Loss: 0.0933\n",
      "Epoch 1, Average Test Loss: 0.0656\n"
     ]
    },
    {
     "name": "stderr",
     "output_type": "stream",
     "text": [
      " 40%|██████████████████                           | 2/5 [00:00<00:01,  2.62it/s]"
     ]
    },
    {
     "name": "stdout",
     "output_type": "stream",
     "text": [
      "Epoch 2, Average Train Loss: 0.0444\n",
      "Epoch 2, Average Test Loss: 0.0485\n"
     ]
    },
    {
     "name": "stderr",
     "output_type": "stream",
     "text": [
      " 60%|███████████████████████████                  | 3/5 [00:01<00:00,  2.64it/s]"
     ]
    },
    {
     "name": "stdout",
     "output_type": "stream",
     "text": [
      "Epoch 3, Average Train Loss: 0.0354\n",
      "Epoch 3, Average Test Loss: 0.0439\n"
     ]
    },
    {
     "name": "stderr",
     "output_type": "stream",
     "text": [
      " 80%|████████████████████████████████████         | 4/5 [00:01<00:00,  2.66it/s]"
     ]
    },
    {
     "name": "stdout",
     "output_type": "stream",
     "text": [
      "Epoch 4, Average Train Loss: 0.0343\n",
      "Epoch 4, Average Test Loss: 0.0551\n"
     ]
    },
    {
     "name": "stderr",
     "output_type": "stream",
     "text": [
      "100%|█████████████████████████████████████████████| 5/5 [00:01<00:00,  2.65it/s]"
     ]
    },
    {
     "name": "stdout",
     "output_type": "stream",
     "text": [
      "Epoch 5, Average Train Loss: 0.0354\n",
      "Epoch 5, Average Test Loss: 0.0636\n",
      "Evaluating random model (75.0% data) against MCTS_data_agent...\n"
     ]
    },
    {
     "name": "stderr",
     "output_type": "stream",
     "text": [
      "\n"
     ]
    },
    {
     "name": "stdout",
     "output_type": "stream",
     "text": [
      "2360 1829\n",
      "Win rate for random with 75.0% training data: 0.5634\n",
      "Training random model with 100.0% of training data...\n"
     ]
    },
    {
     "name": "stderr",
     "output_type": "stream",
     "text": [
      " 20%|█████████                                    | 1/5 [00:00<00:01,  2.02it/s]"
     ]
    },
    {
     "name": "stdout",
     "output_type": "stream",
     "text": [
      "Epoch 1, Average Train Loss: 0.0870\n",
      "Epoch 1, Average Test Loss: 0.0409\n"
     ]
    },
    {
     "name": "stderr",
     "output_type": "stream",
     "text": [
      " 40%|██████████████████                           | 2/5 [00:00<00:01,  2.06it/s]"
     ]
    },
    {
     "name": "stdout",
     "output_type": "stream",
     "text": [
      "Epoch 2, Average Train Loss: 0.0349\n",
      "Epoch 2, Average Test Loss: 0.0308\n"
     ]
    },
    {
     "name": "stderr",
     "output_type": "stream",
     "text": [
      " 60%|███████████████████████████                  | 3/5 [00:01<00:00,  2.07it/s]"
     ]
    },
    {
     "name": "stdout",
     "output_type": "stream",
     "text": [
      "Epoch 3, Average Train Loss: 0.0277\n",
      "Epoch 3, Average Test Loss: 0.0243\n"
     ]
    },
    {
     "name": "stderr",
     "output_type": "stream",
     "text": [
      " 80%|████████████████████████████████████         | 4/5 [00:01<00:00,  2.09it/s]"
     ]
    },
    {
     "name": "stdout",
     "output_type": "stream",
     "text": [
      "Epoch 4, Average Train Loss: 0.0219\n",
      "Epoch 4, Average Test Loss: 0.0197\n"
     ]
    },
    {
     "name": "stderr",
     "output_type": "stream",
     "text": [
      "100%|█████████████████████████████████████████████| 5/5 [00:02<00:00,  2.08it/s]"
     ]
    },
    {
     "name": "stdout",
     "output_type": "stream",
     "text": [
      "Epoch 5, Average Train Loss: 0.0175\n",
      "Epoch 5, Average Test Loss: 0.0167\n",
      "Evaluating random model (100.0% data) against MCTS_data_agent...\n"
     ]
    },
    {
     "name": "stderr",
     "output_type": "stream",
     "text": [
      "\n"
     ]
    },
    {
     "name": "stdout",
     "output_type": "stream",
     "text": [
      "1484 2678\n",
      "Win rate for random with 100.0% training data: 0.3566\n",
      "\n",
      "--- Data Portion Experiment with seed: 303 ---\n",
      "Training easy_to_hard model with 10.0% of training data...\n"
     ]
    },
    {
     "name": "stderr",
     "output_type": "stream",
     "text": [
      " 20%|█████████                                    | 1/5 [00:00<00:00,  8.26it/s]"
     ]
    },
    {
     "name": "stdout",
     "output_type": "stream",
     "text": [
      "Epoch 1, Average Train Loss: 0.1446\n",
      "Epoch 1, Average Test Loss: 0.1065\n"
     ]
    },
    {
     "name": "stderr",
     "output_type": "stream",
     "text": [
      " 40%|██████████████████                           | 2/5 [00:00<00:00,  8.28it/s]"
     ]
    },
    {
     "name": "stdout",
     "output_type": "stream",
     "text": [
      "Epoch 2, Average Train Loss: 0.1120\n",
      "Epoch 2, Average Test Loss: 0.1048\n"
     ]
    },
    {
     "name": "stderr",
     "output_type": "stream",
     "text": [
      " 60%|███████████████████████████                  | 3/5 [00:00<00:00,  8.29it/s]"
     ]
    },
    {
     "name": "stdout",
     "output_type": "stream",
     "text": [
      "Epoch 3, Average Train Loss: 0.1059\n",
      "Epoch 3, Average Test Loss: 0.1015\n"
     ]
    },
    {
     "name": "stderr",
     "output_type": "stream",
     "text": [
      " 80%|████████████████████████████████████         | 4/5 [00:00<00:00,  8.38it/s]"
     ]
    },
    {
     "name": "stdout",
     "output_type": "stream",
     "text": [
      "Epoch 4, Average Train Loss: 0.0984\n",
      "Epoch 4, Average Test Loss: 0.0970\n"
     ]
    },
    {
     "name": "stderr",
     "output_type": "stream",
     "text": [
      "100%|█████████████████████████████████████████████| 5/5 [00:00<00:00,  8.37it/s]"
     ]
    },
    {
     "name": "stdout",
     "output_type": "stream",
     "text": [
      "Epoch 5, Average Train Loss: 0.0937\n",
      "Epoch 5, Average Test Loss: 0.0900\n",
      "Evaluating easy_to_hard model (10.0% data) against MCTS_data_agent...\n"
     ]
    },
    {
     "name": "stderr",
     "output_type": "stream",
     "text": [
      "\n"
     ]
    },
    {
     "name": "stdout",
     "output_type": "stream",
     "text": [
      "1273 2961\n",
      "Win rate for easy_to_hard with 10.0% training data: 0.3007\n",
      "Training easy_to_hard model with 25.0% of training data...\n"
     ]
    },
    {
     "name": "stderr",
     "output_type": "stream",
     "text": [
      "  0%|                                                     | 0/5 [00:00<?, ?it/s]"
     ]
    },
    {
     "name": "stdout",
     "output_type": "stream",
     "text": [
      "Epoch 1, Average Train Loss: 0.1210\n"
     ]
    },
    {
     "name": "stderr",
     "output_type": "stream",
     "text": [
      " 20%|█████████                                    | 1/5 [00:00<00:00,  5.12it/s]"
     ]
    },
    {
     "name": "stdout",
     "output_type": "stream",
     "text": [
      "Epoch 1, Average Test Loss: 0.1034\n",
      "Epoch 2, Average Train Loss: 0.1017\n"
     ]
    },
    {
     "name": "stderr",
     "output_type": "stream",
     "text": [
      " 40%|██████████████████                           | 2/5 [00:00<00:00,  5.09it/s]"
     ]
    },
    {
     "name": "stdout",
     "output_type": "stream",
     "text": [
      "Epoch 2, Average Test Loss: 0.0926\n"
     ]
    },
    {
     "name": "stderr",
     "output_type": "stream",
     "text": [
      " 60%|███████████████████████████                  | 3/5 [00:00<00:00,  5.24it/s]"
     ]
    },
    {
     "name": "stdout",
     "output_type": "stream",
     "text": [
      "Epoch 3, Average Train Loss: 0.0823\n",
      "Epoch 3, Average Test Loss: 0.0652\n",
      "Epoch 4, Average Train Loss: 0.0572\n"
     ]
    },
    {
     "name": "stderr",
     "output_type": "stream",
     "text": [
      " 80%|████████████████████████████████████         | 4/5 [00:00<00:00,  5.22it/s]"
     ]
    },
    {
     "name": "stdout",
     "output_type": "stream",
     "text": [
      "Epoch 4, Average Test Loss: 0.0488\n",
      "Epoch 5, Average Train Loss: 0.0459\n"
     ]
    },
    {
     "name": "stderr",
     "output_type": "stream",
     "text": [
      "100%|█████████████████████████████████████████████| 5/5 [00:00<00:00,  5.23it/s]"
     ]
    },
    {
     "name": "stdout",
     "output_type": "stream",
     "text": [
      "Epoch 5, Average Test Loss: 0.0428\n",
      "Evaluating easy_to_hard model (25.0% data) against MCTS_data_agent...\n"
     ]
    },
    {
     "name": "stderr",
     "output_type": "stream",
     "text": [
      "\n"
     ]
    },
    {
     "name": "stdout",
     "output_type": "stream",
     "text": [
      "1297 2934\n",
      "Win rate for easy_to_hard with 25.0% training data: 0.3065\n",
      "Training easy_to_hard model with 50.0% of training data...\n"
     ]
    },
    {
     "name": "stderr",
     "output_type": "stream",
     "text": [
      " 20%|█████████                                    | 1/5 [00:00<00:01,  3.30it/s]"
     ]
    },
    {
     "name": "stdout",
     "output_type": "stream",
     "text": [
      "Epoch 1, Average Train Loss: 0.0996\n",
      "Epoch 1, Average Test Loss: 0.0961\n"
     ]
    },
    {
     "name": "stderr",
     "output_type": "stream",
     "text": [
      " 40%|██████████████████                           | 2/5 [00:00<00:00,  3.44it/s]"
     ]
    },
    {
     "name": "stdout",
     "output_type": "stream",
     "text": [
      "Epoch 2, Average Train Loss: 0.0723\n",
      "Epoch 2, Average Test Loss: 0.0708\n"
     ]
    },
    {
     "name": "stderr",
     "output_type": "stream",
     "text": [
      " 60%|███████████████████████████                  | 3/5 [00:00<00:00,  3.54it/s]"
     ]
    },
    {
     "name": "stdout",
     "output_type": "stream",
     "text": [
      "Epoch 3, Average Train Loss: 0.0537\n",
      "Epoch 3, Average Test Loss: 0.0630\n"
     ]
    },
    {
     "name": "stderr",
     "output_type": "stream",
     "text": [
      " 80%|████████████████████████████████████         | 4/5 [00:01<00:00,  3.56it/s]"
     ]
    },
    {
     "name": "stdout",
     "output_type": "stream",
     "text": [
      "Epoch 4, Average Train Loss: 0.0491\n",
      "Epoch 4, Average Test Loss: 0.0455\n"
     ]
    },
    {
     "name": "stderr",
     "output_type": "stream",
     "text": [
      "100%|█████████████████████████████████████████████| 5/5 [00:01<00:00,  3.54it/s]"
     ]
    },
    {
     "name": "stdout",
     "output_type": "stream",
     "text": [
      "Epoch 5, Average Train Loss: 0.0434\n",
      "Epoch 5, Average Test Loss: 0.0424\n",
      "Evaluating easy_to_hard model (50.0% data) against MCTS_data_agent...\n"
     ]
    },
    {
     "name": "stderr",
     "output_type": "stream",
     "text": [
      "\n"
     ]
    },
    {
     "name": "stdout",
     "output_type": "stream",
     "text": [
      "1552 2629\n",
      "Win rate for easy_to_hard with 50.0% training data: 0.3712\n",
      "Training easy_to_hard model with 75.0% of training data...\n"
     ]
    },
    {
     "name": "stderr",
     "output_type": "stream",
     "text": [
      " 20%|█████████                                    | 1/5 [00:00<00:01,  2.53it/s]"
     ]
    },
    {
     "name": "stdout",
     "output_type": "stream",
     "text": [
      "Epoch 1, Average Train Loss: 0.0906\n",
      "Epoch 1, Average Test Loss: 0.0612\n"
     ]
    },
    {
     "name": "stderr",
     "output_type": "stream",
     "text": [
      " 40%|██████████████████                           | 2/5 [00:00<00:01,  2.62it/s]"
     ]
    },
    {
     "name": "stdout",
     "output_type": "stream",
     "text": [
      "Epoch 2, Average Train Loss: 0.0433\n",
      "Epoch 2, Average Test Loss: 0.0506\n"
     ]
    },
    {
     "name": "stderr",
     "output_type": "stream",
     "text": [
      " 60%|███████████████████████████                  | 3/5 [00:01<00:00,  2.66it/s]"
     ]
    },
    {
     "name": "stdout",
     "output_type": "stream",
     "text": [
      "Epoch 3, Average Train Loss: 0.0385\n",
      "Epoch 3, Average Test Loss: 0.0485\n"
     ]
    },
    {
     "name": "stderr",
     "output_type": "stream",
     "text": [
      " 80%|████████████████████████████████████         | 4/5 [00:01<00:00,  2.69it/s]"
     ]
    },
    {
     "name": "stdout",
     "output_type": "stream",
     "text": [
      "Epoch 4, Average Train Loss: 0.0372\n",
      "Epoch 4, Average Test Loss: 0.0620\n"
     ]
    },
    {
     "name": "stderr",
     "output_type": "stream",
     "text": [
      "100%|█████████████████████████████████████████████| 5/5 [00:01<00:00,  2.67it/s]"
     ]
    },
    {
     "name": "stdout",
     "output_type": "stream",
     "text": [
      "Epoch 5, Average Train Loss: 0.0386\n",
      "Epoch 5, Average Test Loss: 0.0614\n",
      "Evaluating easy_to_hard model (75.0% data) against MCTS_data_agent...\n"
     ]
    },
    {
     "name": "stderr",
     "output_type": "stream",
     "text": [
      "\n"
     ]
    },
    {
     "name": "stdout",
     "output_type": "stream",
     "text": [
      "2154 2019\n",
      "Win rate for easy_to_hard with 75.0% training data: 0.5162\n",
      "Training easy_to_hard model with 100.0% of training data...\n"
     ]
    },
    {
     "name": "stderr",
     "output_type": "stream",
     "text": [
      " 20%|█████████                                    | 1/5 [00:00<00:01,  2.01it/s]"
     ]
    },
    {
     "name": "stdout",
     "output_type": "stream",
     "text": [
      "Epoch 1, Average Train Loss: 0.0897\n",
      "Epoch 1, Average Test Loss: 0.0630\n"
     ]
    },
    {
     "name": "stderr",
     "output_type": "stream",
     "text": [
      " 40%|██████████████████                           | 2/5 [00:00<00:01,  2.09it/s]"
     ]
    },
    {
     "name": "stdout",
     "output_type": "stream",
     "text": [
      "Epoch 2, Average Train Loss: 0.0452\n",
      "Epoch 2, Average Test Loss: 0.0459\n"
     ]
    },
    {
     "name": "stderr",
     "output_type": "stream",
     "text": [
      " 60%|███████████████████████████                  | 3/5 [00:01<00:00,  2.11it/s]"
     ]
    },
    {
     "name": "stdout",
     "output_type": "stream",
     "text": [
      "Epoch 3, Average Train Loss: 0.0373\n",
      "Epoch 3, Average Test Loss: 0.0518\n"
     ]
    },
    {
     "name": "stderr",
     "output_type": "stream",
     "text": [
      " 80%|████████████████████████████████████         | 4/5 [00:01<00:00,  2.13it/s]"
     ]
    },
    {
     "name": "stdout",
     "output_type": "stream",
     "text": [
      "Epoch 4, Average Train Loss: 0.0356\n",
      "Epoch 4, Average Test Loss: 0.0650\n"
     ]
    },
    {
     "name": "stderr",
     "output_type": "stream",
     "text": [
      "100%|█████████████████████████████████████████████| 5/5 [00:02<00:00,  2.12it/s]"
     ]
    },
    {
     "name": "stdout",
     "output_type": "stream",
     "text": [
      "Epoch 5, Average Train Loss: 0.0363\n",
      "Epoch 5, Average Test Loss: 0.0667\n",
      "Evaluating easy_to_hard model (100.0% data) against MCTS_data_agent...\n"
     ]
    },
    {
     "name": "stderr",
     "output_type": "stream",
     "text": [
      "\n"
     ]
    },
    {
     "name": "stdout",
     "output_type": "stream",
     "text": [
      "2238 1979\n",
      "Win rate for easy_to_hard with 100.0% training data: 0.5307\n",
      "Training hard_to_easy model with 10.0% of training data...\n"
     ]
    },
    {
     "name": "stderr",
     "output_type": "stream",
     "text": [
      " 20%|█████████                                    | 1/5 [00:00<00:00,  8.34it/s]"
     ]
    },
    {
     "name": "stdout",
     "output_type": "stream",
     "text": [
      "Epoch 1, Average Train Loss: 0.1459\n",
      "Epoch 1, Average Test Loss: 0.1082\n"
     ]
    },
    {
     "name": "stderr",
     "output_type": "stream",
     "text": [
      " 40%|██████████████████                           | 2/5 [00:00<00:00,  8.03it/s]"
     ]
    },
    {
     "name": "stdout",
     "output_type": "stream",
     "text": [
      "Epoch 2, Average Train Loss: 0.1100\n",
      "Epoch 2, Average Test Loss: 0.1063\n",
      "Epoch 3, Average Train Loss: 0.1062\n"
     ]
    },
    {
     "name": "stderr",
     "output_type": "stream",
     "text": [
      " 80%|████████████████████████████████████         | 4/5 [00:00<00:00,  8.26it/s]"
     ]
    },
    {
     "name": "stdout",
     "output_type": "stream",
     "text": [
      "Epoch 3, Average Test Loss: 0.1036\n",
      "Epoch 4, Average Train Loss: 0.0997\n",
      "Epoch 4, Average Test Loss: 0.0994\n",
      "Epoch 5, Average Train Loss: 0.0956\n"
     ]
    },
    {
     "name": "stderr",
     "output_type": "stream",
     "text": [
      "100%|█████████████████████████████████████████████| 5/5 [00:00<00:00,  8.18it/s]\n"
     ]
    },
    {
     "name": "stdout",
     "output_type": "stream",
     "text": [
      "Epoch 5, Average Test Loss: 0.0931\n",
      "Evaluating hard_to_easy model (10.0% data) against MCTS_data_agent...\n",
      "1295 2957\n",
      "Win rate for hard_to_easy with 10.0% training data: 0.3046\n",
      "Training hard_to_easy model with 25.0% of training data...\n"
     ]
    },
    {
     "name": "stderr",
     "output_type": "stream",
     "text": [
      "  0%|                                                     | 0/5 [00:00<?, ?it/s]"
     ]
    },
    {
     "name": "stdout",
     "output_type": "stream",
     "text": [
      "Epoch 1, Average Train Loss: 0.1154\n"
     ]
    },
    {
     "name": "stderr",
     "output_type": "stream",
     "text": [
      " 20%|█████████                                    | 1/5 [00:00<00:00,  5.49it/s]"
     ]
    },
    {
     "name": "stdout",
     "output_type": "stream",
     "text": [
      "Epoch 1, Average Test Loss: 0.1048\n",
      "Epoch 2, Average Train Loss: 0.1000\n"
     ]
    },
    {
     "name": "stderr",
     "output_type": "stream",
     "text": [
      " 40%|██████████████████                           | 2/5 [00:00<00:00,  5.42it/s]"
     ]
    },
    {
     "name": "stdout",
     "output_type": "stream",
     "text": [
      "Epoch 2, Average Test Loss: 0.0979\n"
     ]
    },
    {
     "name": "stderr",
     "output_type": "stream",
     "text": [
      " 60%|███████████████████████████                  | 3/5 [00:00<00:00,  5.58it/s]"
     ]
    },
    {
     "name": "stdout",
     "output_type": "stream",
     "text": [
      "Epoch 3, Average Train Loss: 0.0868\n",
      "Epoch 3, Average Test Loss: 0.0772\n",
      "Epoch 4, Average Train Loss: 0.0656\n"
     ]
    },
    {
     "name": "stderr",
     "output_type": "stream",
     "text": [
      " 80%|████████████████████████████████████         | 4/5 [00:00<00:00,  5.61it/s]"
     ]
    },
    {
     "name": "stdout",
     "output_type": "stream",
     "text": [
      "Epoch 4, Average Test Loss: 0.0577\n",
      "Epoch 5, Average Train Loss: 0.0512\n"
     ]
    },
    {
     "name": "stderr",
     "output_type": "stream",
     "text": [
      "100%|█████████████████████████████████████████████| 5/5 [00:00<00:00,  5.59it/s]"
     ]
    },
    {
     "name": "stdout",
     "output_type": "stream",
     "text": [
      "Epoch 5, Average Test Loss: 0.0464\n",
      "Evaluating hard_to_easy model (25.0% data) against MCTS_data_agent...\n"
     ]
    },
    {
     "name": "stderr",
     "output_type": "stream",
     "text": [
      "\n"
     ]
    },
    {
     "name": "stdout",
     "output_type": "stream",
     "text": [
      "1436 2752\n",
      "Win rate for hard_to_easy with 25.0% training data: 0.3429\n",
      "Training hard_to_easy model with 50.0% of training data...\n"
     ]
    },
    {
     "name": "stderr",
     "output_type": "stream",
     "text": [
      " 20%|█████████                                    | 1/5 [00:00<00:01,  3.49it/s]"
     ]
    },
    {
     "name": "stdout",
     "output_type": "stream",
     "text": [
      "Epoch 1, Average Train Loss: 0.1016\n",
      "Epoch 1, Average Test Loss: 0.0964\n"
     ]
    },
    {
     "name": "stderr",
     "output_type": "stream",
     "text": [
      " 40%|██████████████████                           | 2/5 [00:00<00:00,  3.53it/s]"
     ]
    },
    {
     "name": "stdout",
     "output_type": "stream",
     "text": [
      "Epoch 2, Average Train Loss: 0.0748\n",
      "Epoch 2, Average Test Loss: 0.0688\n"
     ]
    },
    {
     "name": "stderr",
     "output_type": "stream",
     "text": [
      " 60%|███████████████████████████                  | 3/5 [00:00<00:00,  3.57it/s]"
     ]
    },
    {
     "name": "stdout",
     "output_type": "stream",
     "text": [
      "Epoch 3, Average Train Loss: 0.0562\n",
      "Epoch 3, Average Test Loss: 0.0628\n"
     ]
    },
    {
     "name": "stderr",
     "output_type": "stream",
     "text": [
      " 80%|████████████████████████████████████         | 4/5 [00:01<00:00,  3.59it/s]"
     ]
    },
    {
     "name": "stdout",
     "output_type": "stream",
     "text": [
      "Epoch 4, Average Train Loss: 0.0513\n",
      "Epoch 4, Average Test Loss: 0.0474\n"
     ]
    },
    {
     "name": "stderr",
     "output_type": "stream",
     "text": [
      "100%|█████████████████████████████████████████████| 5/5 [00:01<00:00,  3.59it/s]"
     ]
    },
    {
     "name": "stdout",
     "output_type": "stream",
     "text": [
      "Epoch 5, Average Train Loss: 0.0454\n",
      "Epoch 5, Average Test Loss: 0.0420\n",
      "Evaluating hard_to_easy model (50.0% data) against MCTS_data_agent...\n"
     ]
    },
    {
     "name": "stderr",
     "output_type": "stream",
     "text": [
      "\n"
     ]
    },
    {
     "name": "stdout",
     "output_type": "stream",
     "text": [
      "1516 2684\n",
      "Win rate for hard_to_easy with 50.0% training data: 0.3610\n",
      "Training hard_to_easy model with 75.0% of training data...\n"
     ]
    },
    {
     "name": "stderr",
     "output_type": "stream",
     "text": [
      " 20%|█████████                                    | 1/5 [00:00<00:01,  2.31it/s]"
     ]
    },
    {
     "name": "stdout",
     "output_type": "stream",
     "text": [
      "Epoch 1, Average Train Loss: 0.0890\n",
      "Epoch 1, Average Test Loss: 0.0561\n"
     ]
    },
    {
     "name": "stderr",
     "output_type": "stream",
     "text": [
      " 40%|██████████████████                           | 2/5 [00:00<00:01,  2.50it/s]"
     ]
    },
    {
     "name": "stdout",
     "output_type": "stream",
     "text": [
      "Epoch 2, Average Train Loss: 0.0408\n",
      "Epoch 2, Average Test Loss: 0.0416\n"
     ]
    },
    {
     "name": "stderr",
     "output_type": "stream",
     "text": [
      " 60%|███████████████████████████                  | 3/5 [00:01<00:00,  2.57it/s]"
     ]
    },
    {
     "name": "stdout",
     "output_type": "stream",
     "text": [
      "Epoch 3, Average Train Loss: 0.0364\n",
      "Epoch 3, Average Test Loss: 0.0433\n"
     ]
    },
    {
     "name": "stderr",
     "output_type": "stream",
     "text": [
      " 80%|████████████████████████████████████         | 4/5 [00:01<00:00,  2.63it/s]"
     ]
    },
    {
     "name": "stdout",
     "output_type": "stream",
     "text": [
      "Epoch 4, Average Train Loss: 0.0396\n",
      "Epoch 4, Average Test Loss: 0.0733\n"
     ]
    },
    {
     "name": "stderr",
     "output_type": "stream",
     "text": [
      "100%|█████████████████████████████████████████████| 5/5 [00:01<00:00,  2.60it/s]"
     ]
    },
    {
     "name": "stdout",
     "output_type": "stream",
     "text": [
      "Epoch 5, Average Train Loss: 0.0407\n",
      "Epoch 5, Average Test Loss: 0.0650\n",
      "Evaluating hard_to_easy model (75.0% data) against MCTS_data_agent...\n"
     ]
    },
    {
     "name": "stderr",
     "output_type": "stream",
     "text": [
      "\n"
     ]
    },
    {
     "name": "stdout",
     "output_type": "stream",
     "text": [
      "1982 2227\n",
      "Win rate for hard_to_easy with 75.0% training data: 0.4709\n",
      "Training hard_to_easy model with 100.0% of training data...\n"
     ]
    },
    {
     "name": "stderr",
     "output_type": "stream",
     "text": [
      " 20%|█████████                                    | 1/5 [00:00<00:02,  1.89it/s]"
     ]
    },
    {
     "name": "stdout",
     "output_type": "stream",
     "text": [
      "Epoch 1, Average Train Loss: 0.1173\n",
      "Epoch 1, Average Test Loss: 0.0906\n"
     ]
    },
    {
     "name": "stderr",
     "output_type": "stream",
     "text": [
      " 40%|██████████████████                           | 2/5 [00:00<00:01,  2.04it/s]"
     ]
    },
    {
     "name": "stdout",
     "output_type": "stream",
     "text": [
      "Epoch 2, Average Train Loss: 0.0643\n",
      "Epoch 2, Average Test Loss: 0.0509\n"
     ]
    },
    {
     "name": "stderr",
     "output_type": "stream",
     "text": [
      " 60%|███████████████████████████                  | 3/5 [00:01<00:00,  2.05it/s]"
     ]
    },
    {
     "name": "stdout",
     "output_type": "stream",
     "text": [
      "Epoch 3, Average Train Loss: 0.0408\n",
      "Epoch 3, Average Test Loss: 0.0505\n"
     ]
    },
    {
     "name": "stderr",
     "output_type": "stream",
     "text": [
      " 80%|████████████████████████████████████         | 4/5 [00:01<00:00,  2.09it/s]"
     ]
    },
    {
     "name": "stdout",
     "output_type": "stream",
     "text": [
      "Epoch 4, Average Train Loss: 0.0332\n",
      "Epoch 4, Average Test Loss: 0.0573\n"
     ]
    },
    {
     "name": "stderr",
     "output_type": "stream",
     "text": [
      "100%|█████████████████████████████████████████████| 5/5 [00:02<00:00,  2.07it/s]"
     ]
    },
    {
     "name": "stdout",
     "output_type": "stream",
     "text": [
      "Epoch 5, Average Train Loss: 0.0345\n",
      "Epoch 5, Average Test Loss: 0.0561\n",
      "Evaluating hard_to_easy model (100.0% data) against MCTS_data_agent...\n"
     ]
    },
    {
     "name": "stderr",
     "output_type": "stream",
     "text": [
      "\n"
     ]
    },
    {
     "name": "stdout",
     "output_type": "stream",
     "text": [
      "1483 2750\n",
      "Win rate for hard_to_easy with 100.0% training data: 0.3503\n",
      "Training random model with 10.0% of training data...\n"
     ]
    },
    {
     "name": "stderr",
     "output_type": "stream",
     "text": [
      " 20%|█████████                                    | 1/5 [00:00<00:00,  8.24it/s]"
     ]
    },
    {
     "name": "stdout",
     "output_type": "stream",
     "text": [
      "Epoch 1, Average Train Loss: 0.1596\n",
      "Epoch 1, Average Test Loss: 0.1122\n"
     ]
    },
    {
     "name": "stderr",
     "output_type": "stream",
     "text": [
      " 40%|██████████████████                           | 2/5 [00:00<00:00,  8.30it/s]"
     ]
    },
    {
     "name": "stdout",
     "output_type": "stream",
     "text": [
      "Epoch 2, Average Train Loss: 0.1108\n",
      "Epoch 2, Average Test Loss: 0.1085\n"
     ]
    },
    {
     "name": "stderr",
     "output_type": "stream",
     "text": [
      " 60%|███████████████████████████                  | 3/5 [00:00<00:00,  8.29it/s]"
     ]
    },
    {
     "name": "stdout",
     "output_type": "stream",
     "text": [
      "Epoch 3, Average Train Loss: 0.1119\n",
      "Epoch 3, Average Test Loss: 0.1041\n"
     ]
    },
    {
     "name": "stderr",
     "output_type": "stream",
     "text": [
      " 80%|████████████████████████████████████         | 4/5 [00:00<00:00,  8.42it/s]"
     ]
    },
    {
     "name": "stdout",
     "output_type": "stream",
     "text": [
      "Epoch 4, Average Train Loss: 0.1044\n",
      "Epoch 4, Average Test Loss: 0.1003\n"
     ]
    },
    {
     "name": "stderr",
     "output_type": "stream",
     "text": [
      "100%|█████████████████████████████████████████████| 5/5 [00:00<00:00,  8.42it/s]"
     ]
    },
    {
     "name": "stdout",
     "output_type": "stream",
     "text": [
      "Epoch 5, Average Train Loss: 0.1014\n",
      "Epoch 5, Average Test Loss: 0.0948\n",
      "Evaluating random model (10.0% data) against MCTS_data_agent...\n"
     ]
    },
    {
     "name": "stderr",
     "output_type": "stream",
     "text": [
      "\n"
     ]
    },
    {
     "name": "stdout",
     "output_type": "stream",
     "text": [
      "1339 2927\n",
      "Win rate for random with 10.0% training data: 0.3139\n",
      "Training random model with 25.0% of training data...\n"
     ]
    },
    {
     "name": "stderr",
     "output_type": "stream",
     "text": [
      "  0%|                                                     | 0/5 [00:00<?, ?it/s]"
     ]
    },
    {
     "name": "stdout",
     "output_type": "stream",
     "text": [
      "Epoch 1, Average Train Loss: 0.1188\n"
     ]
    },
    {
     "name": "stderr",
     "output_type": "stream",
     "text": [
      " 20%|█████████                                    | 1/5 [00:00<00:00,  5.43it/s]"
     ]
    },
    {
     "name": "stdout",
     "output_type": "stream",
     "text": [
      "Epoch 1, Average Test Loss: 0.1037\n",
      "Epoch 2, Average Train Loss: 0.1048\n"
     ]
    },
    {
     "name": "stderr",
     "output_type": "stream",
     "text": [
      " 40%|██████████████████                           | 2/5 [00:00<00:00,  5.46it/s]"
     ]
    },
    {
     "name": "stdout",
     "output_type": "stream",
     "text": [
      "Epoch 2, Average Test Loss: 0.0989\n"
     ]
    },
    {
     "name": "stderr",
     "output_type": "stream",
     "text": [
      " 60%|███████████████████████████                  | 3/5 [00:00<00:00,  5.58it/s]"
     ]
    },
    {
     "name": "stdout",
     "output_type": "stream",
     "text": [
      "Epoch 3, Average Train Loss: 0.0944\n",
      "Epoch 3, Average Test Loss: 0.0791\n",
      "Epoch 4, Average Train Loss: 0.0697\n"
     ]
    },
    {
     "name": "stderr",
     "output_type": "stream",
     "text": [
      " 80%|████████████████████████████████████         | 4/5 [00:00<00:00,  5.56it/s]"
     ]
    },
    {
     "name": "stdout",
     "output_type": "stream",
     "text": [
      "Epoch 4, Average Test Loss: 0.0548\n",
      "Epoch 5, Average Train Loss: 0.0499\n"
     ]
    },
    {
     "name": "stderr",
     "output_type": "stream",
     "text": [
      "100%|█████████████████████████████████████████████| 5/5 [00:00<00:00,  5.55it/s]"
     ]
    },
    {
     "name": "stdout",
     "output_type": "stream",
     "text": [
      "Epoch 5, Average Test Loss: 0.0430\n",
      "Evaluating random model (25.0% data) against MCTS_data_agent...\n"
     ]
    },
    {
     "name": "stderr",
     "output_type": "stream",
     "text": [
      "\n"
     ]
    },
    {
     "name": "stdout",
     "output_type": "stream",
     "text": [
      "1304 2985\n",
      "Win rate for random with 25.0% training data: 0.3040\n",
      "Training random model with 50.0% of training data...\n"
     ]
    },
    {
     "name": "stderr",
     "output_type": "stream",
     "text": [
      " 20%|█████████                                    | 1/5 [00:00<00:01,  3.15it/s]"
     ]
    },
    {
     "name": "stdout",
     "output_type": "stream",
     "text": [
      "Epoch 1, Average Train Loss: 0.1005\n",
      "Epoch 1, Average Test Loss: 0.0921\n"
     ]
    },
    {
     "name": "stderr",
     "output_type": "stream",
     "text": [
      " 40%|██████████████████                           | 2/5 [00:00<00:00,  3.29it/s]"
     ]
    },
    {
     "name": "stdout",
     "output_type": "stream",
     "text": [
      "Epoch 2, Average Train Loss: 0.0649\n",
      "Epoch 2, Average Test Loss: 0.0694\n"
     ]
    },
    {
     "name": "stderr",
     "output_type": "stream",
     "text": [
      " 60%|███████████████████████████                  | 3/5 [00:00<00:00,  3.38it/s]"
     ]
    },
    {
     "name": "stdout",
     "output_type": "stream",
     "text": [
      "Epoch 3, Average Train Loss: 0.0528\n",
      "Epoch 3, Average Test Loss: 0.0641\n"
     ]
    },
    {
     "name": "stderr",
     "output_type": "stream",
     "text": [
      " 80%|████████████████████████████████████         | 4/5 [00:01<00:00,  3.43it/s]"
     ]
    },
    {
     "name": "stdout",
     "output_type": "stream",
     "text": [
      "Epoch 4, Average Train Loss: 0.0482\n",
      "Epoch 4, Average Test Loss: 0.0498\n"
     ]
    },
    {
     "name": "stderr",
     "output_type": "stream",
     "text": [
      "100%|█████████████████████████████████████████████| 5/5 [00:01<00:00,  3.41it/s]"
     ]
    },
    {
     "name": "stdout",
     "output_type": "stream",
     "text": [
      "Epoch 5, Average Train Loss: 0.0434\n",
      "Epoch 5, Average Test Loss: 0.0514\n",
      "Evaluating random model (50.0% data) against MCTS_data_agent...\n"
     ]
    },
    {
     "name": "stderr",
     "output_type": "stream",
     "text": [
      "\n"
     ]
    },
    {
     "name": "stdout",
     "output_type": "stream",
     "text": [
      "1698 2526\n",
      "Win rate for random with 50.0% training data: 0.4020\n",
      "Training random model with 75.0% of training data...\n"
     ]
    },
    {
     "name": "stderr",
     "output_type": "stream",
     "text": [
      " 20%|█████████                                    | 1/5 [00:00<00:01,  2.31it/s]"
     ]
    },
    {
     "name": "stdout",
     "output_type": "stream",
     "text": [
      "Epoch 1, Average Train Loss: 0.0911\n",
      "Epoch 1, Average Test Loss: 0.0578\n"
     ]
    },
    {
     "name": "stderr",
     "output_type": "stream",
     "text": [
      " 40%|██████████████████                           | 2/5 [00:00<00:01,  2.48it/s]"
     ]
    },
    {
     "name": "stdout",
     "output_type": "stream",
     "text": [
      "Epoch 2, Average Train Loss: 0.0413\n",
      "Epoch 2, Average Test Loss: 0.0408\n"
     ]
    },
    {
     "name": "stderr",
     "output_type": "stream",
     "text": [
      " 60%|███████████████████████████                  | 3/5 [00:01<00:00,  2.57it/s]"
     ]
    },
    {
     "name": "stdout",
     "output_type": "stream",
     "text": [
      "Epoch 3, Average Train Loss: 0.0344\n",
      "Epoch 3, Average Test Loss: 0.0462\n"
     ]
    },
    {
     "name": "stderr",
     "output_type": "stream",
     "text": [
      " 80%|████████████████████████████████████         | 4/5 [00:01<00:00,  2.62it/s]"
     ]
    },
    {
     "name": "stdout",
     "output_type": "stream",
     "text": [
      "Epoch 4, Average Train Loss: 0.0348\n",
      "Epoch 4, Average Test Loss: 0.0536\n"
     ]
    },
    {
     "name": "stderr",
     "output_type": "stream",
     "text": [
      "100%|█████████████████████████████████████████████| 5/5 [00:01<00:00,  2.58it/s]"
     ]
    },
    {
     "name": "stdout",
     "output_type": "stream",
     "text": [
      "Epoch 5, Average Train Loss: 0.0366\n",
      "Epoch 5, Average Test Loss: 0.0594\n",
      "Evaluating random model (75.0% data) against MCTS_data_agent...\n"
     ]
    },
    {
     "name": "stderr",
     "output_type": "stream",
     "text": [
      "\n"
     ]
    },
    {
     "name": "stdout",
     "output_type": "stream",
     "text": [
      "2149 1968\n",
      "Win rate for random with 75.0% training data: 0.5220\n",
      "Training random model with 100.0% of training data...\n"
     ]
    },
    {
     "name": "stderr",
     "output_type": "stream",
     "text": [
      " 20%|█████████                                    | 1/5 [00:00<00:02,  2.00it/s]"
     ]
    },
    {
     "name": "stdout",
     "output_type": "stream",
     "text": [
      "Epoch 1, Average Train Loss: 0.0906\n",
      "Epoch 1, Average Test Loss: 0.0467\n"
     ]
    },
    {
     "name": "stderr",
     "output_type": "stream",
     "text": [
      " 40%|██████████████████                           | 2/5 [00:00<00:01,  2.09it/s]"
     ]
    },
    {
     "name": "stdout",
     "output_type": "stream",
     "text": [
      "Epoch 2, Average Train Loss: 0.0353\n",
      "Epoch 2, Average Test Loss: 0.0329\n"
     ]
    },
    {
     "name": "stderr",
     "output_type": "stream",
     "text": [
      " 60%|███████████████████████████                  | 3/5 [00:01<00:00,  2.12it/s]"
     ]
    },
    {
     "name": "stdout",
     "output_type": "stream",
     "text": [
      "Epoch 3, Average Train Loss: 0.0273\n",
      "Epoch 3, Average Test Loss: 0.0254\n"
     ]
    },
    {
     "name": "stderr",
     "output_type": "stream",
     "text": [
      " 80%|████████████████████████████████████         | 4/5 [00:01<00:00,  2.14it/s]"
     ]
    },
    {
     "name": "stdout",
     "output_type": "stream",
     "text": [
      "Epoch 4, Average Train Loss: 0.0209\n",
      "Epoch 4, Average Test Loss: 0.0193\n"
     ]
    },
    {
     "name": "stderr",
     "output_type": "stream",
     "text": [
      "100%|█████████████████████████████████████████████| 5/5 [00:02<00:00,  2.12it/s]"
     ]
    },
    {
     "name": "stdout",
     "output_type": "stream",
     "text": [
      "Epoch 5, Average Train Loss: 0.0164\n",
      "Epoch 5, Average Test Loss: 0.0157\n",
      "Evaluating random model (100.0% data) against MCTS_data_agent...\n"
     ]
    },
    {
     "name": "stderr",
     "output_type": "stream",
     "text": [
      "\n"
     ]
    },
    {
     "name": "stdout",
     "output_type": "stream",
     "text": [
      "1554 2646\n",
      "Win rate for random with 100.0% training data: 0.3700\n",
      "\n",
      "--- Data Portion Experiment with seed: 404 ---\n",
      "Training easy_to_hard model with 10.0% of training data...\n"
     ]
    },
    {
     "name": "stderr",
     "output_type": "stream",
     "text": [
      " 20%|█████████                                    | 1/5 [00:00<00:00,  8.05it/s]"
     ]
    },
    {
     "name": "stdout",
     "output_type": "stream",
     "text": [
      "Epoch 1, Average Train Loss: 0.1359\n",
      "Epoch 1, Average Test Loss: 0.1113\n",
      "Epoch 2, Average Train Loss: 0.1118\n"
     ]
    },
    {
     "name": "stderr",
     "output_type": "stream",
     "text": [
      " 40%|██████████████████                           | 2/5 [00:00<00:00,  7.71it/s]"
     ]
    },
    {
     "name": "stdout",
     "output_type": "stream",
     "text": [
      "Epoch 2, Average Test Loss: 0.1073\n",
      "Epoch 3, Average Train Loss: 0.1045\n"
     ]
    },
    {
     "name": "stderr",
     "output_type": "stream",
     "text": [
      " 60%|███████████████████████████                  | 3/5 [00:00<00:00,  7.77it/s]"
     ]
    },
    {
     "name": "stdout",
     "output_type": "stream",
     "text": [
      "Epoch 3, Average Test Loss: 0.1033\n",
      "Epoch 4, Average Train Loss: 0.0986\n"
     ]
    },
    {
     "name": "stderr",
     "output_type": "stream",
     "text": [
      " 80%|████████████████████████████████████         | 4/5 [00:00<00:00,  7.56it/s]"
     ]
    },
    {
     "name": "stdout",
     "output_type": "stream",
     "text": [
      "Epoch 4, Average Test Loss: 0.1009\n",
      "Epoch 5, Average Train Loss: 0.0960\n"
     ]
    },
    {
     "name": "stderr",
     "output_type": "stream",
     "text": [
      "100%|█████████████████████████████████████████████| 5/5 [00:00<00:00,  7.68it/s]"
     ]
    },
    {
     "name": "stdout",
     "output_type": "stream",
     "text": [
      "Epoch 5, Average Test Loss: 0.0954\n",
      "Evaluating easy_to_hard model (10.0% data) against MCTS_data_agent...\n"
     ]
    },
    {
     "name": "stderr",
     "output_type": "stream",
     "text": [
      "\n"
     ]
    },
    {
     "name": "stdout",
     "output_type": "stream",
     "text": [
      "1346 2908\n",
      "Win rate for easy_to_hard with 10.0% training data: 0.3164\n",
      "Training easy_to_hard model with 25.0% of training data...\n"
     ]
    },
    {
     "name": "stderr",
     "output_type": "stream",
     "text": [
      "  0%|                                                     | 0/5 [00:00<?, ?it/s]"
     ]
    },
    {
     "name": "stdout",
     "output_type": "stream",
     "text": [
      "Epoch 1, Average Train Loss: 0.1182\n"
     ]
    },
    {
     "name": "stderr",
     "output_type": "stream",
     "text": [
      " 20%|█████████                                    | 1/5 [00:00<00:00,  5.32it/s]"
     ]
    },
    {
     "name": "stdout",
     "output_type": "stream",
     "text": [
      "Epoch 1, Average Test Loss: 0.1046\n",
      "Epoch 2, Average Train Loss: 0.1023\n"
     ]
    },
    {
     "name": "stderr",
     "output_type": "stream",
     "text": [
      " 40%|██████████████████                           | 2/5 [00:00<00:00,  5.44it/s]"
     ]
    },
    {
     "name": "stdout",
     "output_type": "stream",
     "text": [
      "Epoch 2, Average Test Loss: 0.0982\n"
     ]
    },
    {
     "name": "stderr",
     "output_type": "stream",
     "text": [
      " 60%|███████████████████████████                  | 3/5 [00:00<00:00,  5.55it/s]"
     ]
    },
    {
     "name": "stdout",
     "output_type": "stream",
     "text": [
      "Epoch 3, Average Train Loss: 0.0892\n",
      "Epoch 3, Average Test Loss: 0.0763\n",
      "Epoch 4, Average Train Loss: 0.0646\n"
     ]
    },
    {
     "name": "stderr",
     "output_type": "stream",
     "text": [
      " 80%|████████████████████████████████████         | 4/5 [00:00<00:00,  5.57it/s]"
     ]
    },
    {
     "name": "stdout",
     "output_type": "stream",
     "text": [
      "Epoch 4, Average Test Loss: 0.0555\n",
      "Epoch 5, Average Train Loss: 0.0491\n"
     ]
    },
    {
     "name": "stderr",
     "output_type": "stream",
     "text": [
      "100%|█████████████████████████████████████████████| 5/5 [00:00<00:00,  5.57it/s]"
     ]
    },
    {
     "name": "stdout",
     "output_type": "stream",
     "text": [
      "Epoch 5, Average Test Loss: 0.0451\n",
      "Evaluating easy_to_hard model (25.0% data) against MCTS_data_agent...\n"
     ]
    },
    {
     "name": "stderr",
     "output_type": "stream",
     "text": [
      "\n"
     ]
    },
    {
     "name": "stdout",
     "output_type": "stream",
     "text": [
      "1432 2779\n",
      "Win rate for easy_to_hard with 25.0% training data: 0.3401\n",
      "Training easy_to_hard model with 50.0% of training data...\n"
     ]
    },
    {
     "name": "stderr",
     "output_type": "stream",
     "text": [
      " 20%|█████████                                    | 1/5 [00:00<00:01,  3.48it/s]"
     ]
    },
    {
     "name": "stdout",
     "output_type": "stream",
     "text": [
      "Epoch 1, Average Train Loss: 0.0999\n",
      "Epoch 1, Average Test Loss: 0.0969\n"
     ]
    },
    {
     "name": "stderr",
     "output_type": "stream",
     "text": [
      " 40%|██████████████████                           | 2/5 [00:00<00:00,  3.54it/s]"
     ]
    },
    {
     "name": "stdout",
     "output_type": "stream",
     "text": [
      "Epoch 2, Average Train Loss: 0.0690\n",
      "Epoch 2, Average Test Loss: 0.0709\n"
     ]
    },
    {
     "name": "stderr",
     "output_type": "stream",
     "text": [
      " 60%|███████████████████████████                  | 3/5 [00:00<00:00,  3.58it/s]"
     ]
    },
    {
     "name": "stdout",
     "output_type": "stream",
     "text": [
      "Epoch 3, Average Train Loss: 0.0541\n",
      "Epoch 3, Average Test Loss: 0.0671\n"
     ]
    },
    {
     "name": "stderr",
     "output_type": "stream",
     "text": [
      " 80%|████████████████████████████████████         | 4/5 [00:01<00:00,  3.62it/s]"
     ]
    },
    {
     "name": "stdout",
     "output_type": "stream",
     "text": [
      "Epoch 4, Average Train Loss: 0.0495\n",
      "Epoch 4, Average Test Loss: 0.0571\n"
     ]
    },
    {
     "name": "stderr",
     "output_type": "stream",
     "text": [
      "100%|█████████████████████████████████████████████| 5/5 [00:01<00:00,  3.60it/s]"
     ]
    },
    {
     "name": "stdout",
     "output_type": "stream",
     "text": [
      "Epoch 5, Average Train Loss: 0.0447\n",
      "Epoch 5, Average Test Loss: 0.0577\n",
      "Evaluating easy_to_hard model (50.0% data) against MCTS_data_agent...\n"
     ]
    },
    {
     "name": "stderr",
     "output_type": "stream",
     "text": [
      "\n"
     ]
    },
    {
     "name": "stdout",
     "output_type": "stream",
     "text": [
      "1608 2617\n",
      "Win rate for easy_to_hard with 50.0% training data: 0.3806\n",
      "Training easy_to_hard model with 75.0% of training data...\n"
     ]
    },
    {
     "name": "stderr",
     "output_type": "stream",
     "text": [
      " 20%|█████████                                    | 1/5 [00:00<00:01,  2.55it/s]"
     ]
    },
    {
     "name": "stdout",
     "output_type": "stream",
     "text": [
      "Epoch 1, Average Train Loss: 0.0908\n",
      "Epoch 1, Average Test Loss: 0.0602\n"
     ]
    },
    {
     "name": "stderr",
     "output_type": "stream",
     "text": [
      " 40%|██████████████████                           | 2/5 [00:00<00:01,  2.63it/s]"
     ]
    },
    {
     "name": "stdout",
     "output_type": "stream",
     "text": [
      "Epoch 2, Average Train Loss: 0.0431\n",
      "Epoch 2, Average Test Loss: 0.0519\n"
     ]
    },
    {
     "name": "stderr",
     "output_type": "stream",
     "text": [
      " 60%|███████████████████████████                  | 3/5 [00:01<00:00,  2.67it/s]"
     ]
    },
    {
     "name": "stdout",
     "output_type": "stream",
     "text": [
      "Epoch 3, Average Train Loss: 0.0388\n",
      "Epoch 3, Average Test Loss: 0.0516\n"
     ]
    },
    {
     "name": "stderr",
     "output_type": "stream",
     "text": [
      " 80%|████████████████████████████████████         | 4/5 [00:01<00:00,  2.69it/s]"
     ]
    },
    {
     "name": "stdout",
     "output_type": "stream",
     "text": [
      "Epoch 4, Average Train Loss: 0.0391\n",
      "Epoch 4, Average Test Loss: 0.0597\n"
     ]
    },
    {
     "name": "stderr",
     "output_type": "stream",
     "text": [
      "100%|█████████████████████████████████████████████| 5/5 [00:01<00:00,  2.67it/s]"
     ]
    },
    {
     "name": "stdout",
     "output_type": "stream",
     "text": [
      "Epoch 5, Average Train Loss: 0.0384\n",
      "Epoch 5, Average Test Loss: 0.0591\n",
      "Evaluating easy_to_hard model (75.0% data) against MCTS_data_agent...\n"
     ]
    },
    {
     "name": "stderr",
     "output_type": "stream",
     "text": [
      "\n"
     ]
    },
    {
     "name": "stdout",
     "output_type": "stream",
     "text": [
      "2095 2138\n",
      "Win rate for easy_to_hard with 75.0% training data: 0.4949\n",
      "Training easy_to_hard model with 100.0% of training data...\n"
     ]
    },
    {
     "name": "stderr",
     "output_type": "stream",
     "text": [
      " 20%|█████████                                    | 1/5 [00:00<00:01,  2.01it/s]"
     ]
    },
    {
     "name": "stdout",
     "output_type": "stream",
     "text": [
      "Epoch 1, Average Train Loss: 0.0914\n",
      "Epoch 1, Average Test Loss: 0.0666\n"
     ]
    },
    {
     "name": "stderr",
     "output_type": "stream",
     "text": [
      " 40%|██████████████████                           | 2/5 [00:00<00:01,  2.08it/s]"
     ]
    },
    {
     "name": "stdout",
     "output_type": "stream",
     "text": [
      "Epoch 2, Average Train Loss: 0.0463\n",
      "Epoch 2, Average Test Loss: 0.0510\n"
     ]
    },
    {
     "name": "stderr",
     "output_type": "stream",
     "text": [
      " 60%|███████████████████████████                  | 3/5 [00:01<00:00,  2.10it/s]"
     ]
    },
    {
     "name": "stdout",
     "output_type": "stream",
     "text": [
      "Epoch 3, Average Train Loss: 0.0382\n",
      "Epoch 3, Average Test Loss: 0.0590\n"
     ]
    },
    {
     "name": "stderr",
     "output_type": "stream",
     "text": [
      " 80%|████████████████████████████████████         | 4/5 [00:01<00:00,  2.12it/s]"
     ]
    },
    {
     "name": "stdout",
     "output_type": "stream",
     "text": [
      "Epoch 4, Average Train Loss: 0.0371\n",
      "Epoch 4, Average Test Loss: 0.0685\n"
     ]
    },
    {
     "name": "stderr",
     "output_type": "stream",
     "text": [
      "100%|█████████████████████████████████████████████| 5/5 [00:02<00:00,  2.10it/s]"
     ]
    },
    {
     "name": "stdout",
     "output_type": "stream",
     "text": [
      "Epoch 5, Average Train Loss: 0.0362\n",
      "Epoch 5, Average Test Loss: 0.0651\n",
      "Evaluating easy_to_hard model (100.0% data) against MCTS_data_agent...\n"
     ]
    },
    {
     "name": "stderr",
     "output_type": "stream",
     "text": [
      "\n"
     ]
    },
    {
     "name": "stdout",
     "output_type": "stream",
     "text": [
      "2115 2090\n",
      "Win rate for easy_to_hard with 100.0% training data: 0.5030\n",
      "Training hard_to_easy model with 10.0% of training data...\n"
     ]
    },
    {
     "name": "stderr",
     "output_type": "stream",
     "text": [
      " 20%|█████████                                    | 1/5 [00:00<00:00,  7.89it/s]"
     ]
    },
    {
     "name": "stdout",
     "output_type": "stream",
     "text": [
      "Epoch 1, Average Train Loss: 0.1559\n",
      "Epoch 1, Average Test Loss: 0.1103\n",
      "Epoch 2, Average Train Loss: 0.1045\n"
     ]
    },
    {
     "name": "stderr",
     "output_type": "stream",
     "text": [
      " 40%|██████████████████                           | 2/5 [00:00<00:00,  7.50it/s]"
     ]
    },
    {
     "name": "stdout",
     "output_type": "stream",
     "text": [
      "Epoch 2, Average Test Loss: 0.1094\n",
      "Epoch 3, Average Train Loss: 0.1062\n"
     ]
    },
    {
     "name": "stderr",
     "output_type": "stream",
     "text": [
      " 60%|███████████████████████████                  | 3/5 [00:00<00:00,  7.56it/s]"
     ]
    },
    {
     "name": "stdout",
     "output_type": "stream",
     "text": [
      "Epoch 3, Average Test Loss: 0.1028\n",
      "Epoch 4, Average Train Loss: 0.0977\n"
     ]
    },
    {
     "name": "stderr",
     "output_type": "stream",
     "text": [
      " 80%|████████████████████████████████████         | 4/5 [00:00<00:00,  7.93it/s]"
     ]
    },
    {
     "name": "stdout",
     "output_type": "stream",
     "text": [
      "Epoch 4, Average Test Loss: 0.0989\n",
      "Epoch 5, Average Train Loss: 0.0944\n"
     ]
    },
    {
     "name": "stderr",
     "output_type": "stream",
     "text": [
      "100%|█████████████████████████████████████████████| 5/5 [00:00<00:00,  7.96it/s]"
     ]
    },
    {
     "name": "stdout",
     "output_type": "stream",
     "text": [
      "Epoch 5, Average Test Loss: 0.0933\n",
      "Evaluating hard_to_easy model (10.0% data) against MCTS_data_agent...\n"
     ]
    },
    {
     "name": "stderr",
     "output_type": "stream",
     "text": [
      "\n"
     ]
    },
    {
     "name": "stdout",
     "output_type": "stream",
     "text": [
      "1312 2934\n",
      "Win rate for hard_to_easy with 10.0% training data: 0.3090\n",
      "Training hard_to_easy model with 25.0% of training data...\n"
     ]
    },
    {
     "name": "stderr",
     "output_type": "stream",
     "text": [
      "  0%|                                                     | 0/5 [00:00<?, ?it/s]"
     ]
    },
    {
     "name": "stdout",
     "output_type": "stream",
     "text": [
      "Epoch 1, Average Train Loss: 0.1182\n"
     ]
    },
    {
     "name": "stderr",
     "output_type": "stream",
     "text": [
      " 20%|█████████                                    | 1/5 [00:00<00:00,  5.46it/s]"
     ]
    },
    {
     "name": "stdout",
     "output_type": "stream",
     "text": [
      "Epoch 1, Average Test Loss: 0.1041\n",
      "Epoch 2, Average Train Loss: 0.1040\n"
     ]
    },
    {
     "name": "stderr",
     "output_type": "stream",
     "text": [
      " 40%|██████████████████                           | 2/5 [00:00<00:00,  5.36it/s]"
     ]
    },
    {
     "name": "stdout",
     "output_type": "stream",
     "text": [
      "Epoch 2, Average Test Loss: 0.0974\n"
     ]
    },
    {
     "name": "stderr",
     "output_type": "stream",
     "text": [
      " 60%|███████████████████████████                  | 3/5 [00:00<00:00,  5.33it/s]"
     ]
    },
    {
     "name": "stdout",
     "output_type": "stream",
     "text": [
      "Epoch 3, Average Train Loss: 0.0912\n",
      "Epoch 3, Average Test Loss: 0.0750\n",
      "Epoch 4, Average Train Loss: 0.0678\n"
     ]
    },
    {
     "name": "stderr",
     "output_type": "stream",
     "text": [
      " 80%|████████████████████████████████████         | 4/5 [00:00<00:00,  5.22it/s]"
     ]
    },
    {
     "name": "stdout",
     "output_type": "stream",
     "text": [
      "Epoch 4, Average Test Loss: 0.0546\n",
      "Epoch 5, Average Train Loss: 0.0512\n"
     ]
    },
    {
     "name": "stderr",
     "output_type": "stream",
     "text": [
      "100%|█████████████████████████████████████████████| 5/5 [00:00<00:00,  5.30it/s]"
     ]
    },
    {
     "name": "stdout",
     "output_type": "stream",
     "text": [
      "Epoch 5, Average Test Loss: 0.0424\n",
      "Evaluating hard_to_easy model (25.0% data) against MCTS_data_agent...\n"
     ]
    },
    {
     "name": "stderr",
     "output_type": "stream",
     "text": [
      "\n"
     ]
    },
    {
     "name": "stdout",
     "output_type": "stream",
     "text": [
      "1395 2849\n",
      "Win rate for hard_to_easy with 25.0% training data: 0.3287\n",
      "Training hard_to_easy model with 50.0% of training data...\n"
     ]
    },
    {
     "name": "stderr",
     "output_type": "stream",
     "text": [
      " 20%|█████████                                    | 1/5 [00:00<00:01,  3.32it/s]"
     ]
    },
    {
     "name": "stdout",
     "output_type": "stream",
     "text": [
      "Epoch 1, Average Train Loss: 0.0986\n",
      "Epoch 1, Average Test Loss: 0.0894\n"
     ]
    },
    {
     "name": "stderr",
     "output_type": "stream",
     "text": [
      " 40%|██████████████████                           | 2/5 [00:00<00:00,  3.45it/s]"
     ]
    },
    {
     "name": "stdout",
     "output_type": "stream",
     "text": [
      "Epoch 2, Average Train Loss: 0.0621\n",
      "Epoch 2, Average Test Loss: 0.0607\n"
     ]
    },
    {
     "name": "stderr",
     "output_type": "stream",
     "text": [
      " 60%|███████████████████████████                  | 3/5 [00:00<00:00,  3.53it/s]"
     ]
    },
    {
     "name": "stdout",
     "output_type": "stream",
     "text": [
      "Epoch 3, Average Train Loss: 0.0485\n",
      "Epoch 3, Average Test Loss: 0.0582\n"
     ]
    },
    {
     "name": "stderr",
     "output_type": "stream",
     "text": [
      " 80%|████████████████████████████████████         | 4/5 [00:01<00:00,  3.56it/s]"
     ]
    },
    {
     "name": "stdout",
     "output_type": "stream",
     "text": [
      "Epoch 4, Average Train Loss: 0.0472\n",
      "Epoch 4, Average Test Loss: 0.0452\n"
     ]
    },
    {
     "name": "stderr",
     "output_type": "stream",
     "text": [
      "100%|█████████████████████████████████████████████| 5/5 [00:01<00:00,  3.52it/s]"
     ]
    },
    {
     "name": "stdout",
     "output_type": "stream",
     "text": [
      "Epoch 5, Average Train Loss: 0.0432\n",
      "Epoch 5, Average Test Loss: 0.0484\n",
      "Evaluating hard_to_easy model (50.0% data) against MCTS_data_agent...\n"
     ]
    },
    {
     "name": "stderr",
     "output_type": "stream",
     "text": [
      "\n"
     ]
    },
    {
     "name": "stdout",
     "output_type": "stream",
     "text": [
      "1648 2562\n",
      "Win rate for hard_to_easy with 50.0% training data: 0.3914\n",
      "Training hard_to_easy model with 75.0% of training data...\n"
     ]
    },
    {
     "name": "stderr",
     "output_type": "stream",
     "text": [
      " 20%|█████████                                    | 1/5 [00:00<00:01,  2.58it/s]"
     ]
    },
    {
     "name": "stdout",
     "output_type": "stream",
     "text": [
      "Epoch 1, Average Train Loss: 0.0949\n",
      "Epoch 1, Average Test Loss: 0.0665\n"
     ]
    },
    {
     "name": "stderr",
     "output_type": "stream",
     "text": [
      " 40%|██████████████████                           | 2/5 [00:00<00:01,  2.64it/s]"
     ]
    },
    {
     "name": "stdout",
     "output_type": "stream",
     "text": [
      "Epoch 2, Average Train Loss: 0.0415\n",
      "Epoch 2, Average Test Loss: 0.0426\n"
     ]
    },
    {
     "name": "stderr",
     "output_type": "stream",
     "text": [
      " 60%|███████████████████████████                  | 3/5 [00:01<00:00,  2.67it/s]"
     ]
    },
    {
     "name": "stdout",
     "output_type": "stream",
     "text": [
      "Epoch 3, Average Train Loss: 0.0323\n",
      "Epoch 3, Average Test Loss: 0.0403\n"
     ]
    },
    {
     "name": "stderr",
     "output_type": "stream",
     "text": [
      " 80%|████████████████████████████████████         | 4/5 [00:01<00:00,  2.67it/s]"
     ]
    },
    {
     "name": "stdout",
     "output_type": "stream",
     "text": [
      "Epoch 4, Average Train Loss: 0.0319\n",
      "Epoch 4, Average Test Loss: 0.0482\n"
     ]
    },
    {
     "name": "stderr",
     "output_type": "stream",
     "text": [
      "100%|█████████████████████████████████████████████| 5/5 [00:01<00:00,  2.67it/s]"
     ]
    },
    {
     "name": "stdout",
     "output_type": "stream",
     "text": [
      "Epoch 5, Average Train Loss: 0.0339\n",
      "Epoch 5, Average Test Loss: 0.0702\n",
      "Evaluating hard_to_easy model (75.0% data) against MCTS_data_agent...\n"
     ]
    },
    {
     "name": "stderr",
     "output_type": "stream",
     "text": [
      "\n"
     ]
    },
    {
     "name": "stdout",
     "output_type": "stream",
     "text": [
      "2461 1666\n",
      "Win rate for hard_to_easy with 75.0% training data: 0.5963\n",
      "Training hard_to_easy model with 100.0% of training data...\n"
     ]
    },
    {
     "name": "stderr",
     "output_type": "stream",
     "text": [
      " 20%|█████████                                    | 1/5 [00:00<00:02,  1.97it/s]"
     ]
    },
    {
     "name": "stdout",
     "output_type": "stream",
     "text": [
      "Epoch 1, Average Train Loss: 0.1174\n",
      "Epoch 1, Average Test Loss: 0.0859\n"
     ]
    },
    {
     "name": "stderr",
     "output_type": "stream",
     "text": [
      " 40%|██████████████████                           | 2/5 [00:00<00:01,  2.05it/s]"
     ]
    },
    {
     "name": "stdout",
     "output_type": "stream",
     "text": [
      "Epoch 2, Average Train Loss: 0.0596\n",
      "Epoch 2, Average Test Loss: 0.0526\n"
     ]
    },
    {
     "name": "stderr",
     "output_type": "stream",
     "text": [
      " 60%|███████████████████████████                  | 3/5 [00:01<00:00,  2.06it/s]"
     ]
    },
    {
     "name": "stdout",
     "output_type": "stream",
     "text": [
      "Epoch 3, Average Train Loss: 0.0391\n",
      "Epoch 3, Average Test Loss: 0.0553\n"
     ]
    },
    {
     "name": "stderr",
     "output_type": "stream",
     "text": [
      " 80%|████████████████████████████████████         | 4/5 [00:01<00:00,  2.07it/s]"
     ]
    },
    {
     "name": "stdout",
     "output_type": "stream",
     "text": [
      "Epoch 4, Average Train Loss: 0.0359\n",
      "Epoch 4, Average Test Loss: 0.0566\n"
     ]
    },
    {
     "name": "stderr",
     "output_type": "stream",
     "text": [
      "100%|█████████████████████████████████████████████| 5/5 [00:02<00:00,  2.07it/s]"
     ]
    },
    {
     "name": "stdout",
     "output_type": "stream",
     "text": [
      "Epoch 5, Average Train Loss: 0.0376\n",
      "Epoch 5, Average Test Loss: 0.0558\n",
      "Evaluating hard_to_easy model (100.0% data) against MCTS_data_agent...\n"
     ]
    },
    {
     "name": "stderr",
     "output_type": "stream",
     "text": [
      "\n"
     ]
    },
    {
     "name": "stdout",
     "output_type": "stream",
     "text": [
      "1422 2763\n",
      "Win rate for hard_to_easy with 100.0% training data: 0.3398\n",
      "Training random model with 10.0% of training data...\n"
     ]
    },
    {
     "name": "stderr",
     "output_type": "stream",
     "text": [
      " 20%|█████████                                    | 1/5 [00:00<00:00,  8.25it/s]"
     ]
    },
    {
     "name": "stdout",
     "output_type": "stream",
     "text": [
      "Epoch 1, Average Train Loss: 0.1422\n",
      "Epoch 1, Average Test Loss: 0.1151\n"
     ]
    },
    {
     "name": "stderr",
     "output_type": "stream",
     "text": [
      " 40%|██████████████████                           | 2/5 [00:00<00:00,  8.41it/s]"
     ]
    },
    {
     "name": "stdout",
     "output_type": "stream",
     "text": [
      "Epoch 2, Average Train Loss: 0.1069\n",
      "Epoch 2, Average Test Loss: 0.1073\n"
     ]
    },
    {
     "name": "stderr",
     "output_type": "stream",
     "text": [
      " 60%|███████████████████████████                  | 3/5 [00:00<00:00,  8.43it/s]"
     ]
    },
    {
     "name": "stdout",
     "output_type": "stream",
     "text": [
      "Epoch 3, Average Train Loss: 0.1029\n",
      "Epoch 3, Average Test Loss: 0.1020\n"
     ]
    },
    {
     "name": "stderr",
     "output_type": "stream",
     "text": [
      " 80%|████████████████████████████████████         | 4/5 [00:00<00:00,  8.47it/s]"
     ]
    },
    {
     "name": "stdout",
     "output_type": "stream",
     "text": [
      "Epoch 4, Average Train Loss: 0.0956\n",
      "Epoch 4, Average Test Loss: 0.0983\n"
     ]
    },
    {
     "name": "stderr",
     "output_type": "stream",
     "text": [
      "100%|█████████████████████████████████████████████| 5/5 [00:00<00:00,  8.48it/s]"
     ]
    },
    {
     "name": "stdout",
     "output_type": "stream",
     "text": [
      "Epoch 5, Average Train Loss: 0.0900\n",
      "Epoch 5, Average Test Loss: 0.0911\n",
      "Evaluating random model (10.0% data) against MCTS_data_agent...\n"
     ]
    },
    {
     "name": "stderr",
     "output_type": "stream",
     "text": [
      "\n"
     ]
    },
    {
     "name": "stdout",
     "output_type": "stream",
     "text": [
      "1356 2854\n",
      "Win rate for random with 10.0% training data: 0.3221\n",
      "Training random model with 25.0% of training data...\n"
     ]
    },
    {
     "name": "stderr",
     "output_type": "stream",
     "text": [
      "  0%|                                                     | 0/5 [00:00<?, ?it/s]"
     ]
    },
    {
     "name": "stdout",
     "output_type": "stream",
     "text": [
      "Epoch 1, Average Train Loss: 0.1211\n"
     ]
    },
    {
     "name": "stderr",
     "output_type": "stream",
     "text": [
      " 20%|█████████                                    | 1/5 [00:00<00:00,  5.47it/s]"
     ]
    },
    {
     "name": "stdout",
     "output_type": "stream",
     "text": [
      "Epoch 1, Average Test Loss: 0.1053\n",
      "Epoch 2, Average Train Loss: 0.1054\n"
     ]
    },
    {
     "name": "stderr",
     "output_type": "stream",
     "text": [
      " 40%|██████████████████                           | 2/5 [00:00<00:00,  5.51it/s]"
     ]
    },
    {
     "name": "stdout",
     "output_type": "stream",
     "text": [
      "Epoch 2, Average Test Loss: 0.1013\n"
     ]
    },
    {
     "name": "stderr",
     "output_type": "stream",
     "text": [
      " 60%|███████████████████████████                  | 3/5 [00:00<00:00,  5.59it/s]"
     ]
    },
    {
     "name": "stdout",
     "output_type": "stream",
     "text": [
      "Epoch 3, Average Train Loss: 0.0959\n",
      "Epoch 3, Average Test Loss: 0.0848\n",
      "Epoch 4, Average Train Loss: 0.0738\n"
     ]
    },
    {
     "name": "stderr",
     "output_type": "stream",
     "text": [
      " 80%|████████████████████████████████████         | 4/5 [00:00<00:00,  5.61it/s]"
     ]
    },
    {
     "name": "stdout",
     "output_type": "stream",
     "text": [
      "Epoch 4, Average Test Loss: 0.0614\n",
      "Epoch 5, Average Train Loss: 0.0542\n"
     ]
    },
    {
     "name": "stderr",
     "output_type": "stream",
     "text": [
      "100%|█████████████████████████████████████████████| 5/5 [00:00<00:00,  5.59it/s]"
     ]
    },
    {
     "name": "stdout",
     "output_type": "stream",
     "text": [
      "Epoch 5, Average Test Loss: 0.0478\n",
      "Evaluating random model (25.0% data) against MCTS_data_agent...\n"
     ]
    },
    {
     "name": "stderr",
     "output_type": "stream",
     "text": [
      "\n"
     ]
    },
    {
     "name": "stdout",
     "output_type": "stream",
     "text": [
      "1345 2896\n",
      "Win rate for random with 25.0% training data: 0.3171\n",
      "Training random model with 50.0% of training data...\n"
     ]
    },
    {
     "name": "stderr",
     "output_type": "stream",
     "text": [
      " 20%|█████████                                    | 1/5 [00:00<00:01,  3.45it/s]"
     ]
    },
    {
     "name": "stdout",
     "output_type": "stream",
     "text": [
      "Epoch 1, Average Train Loss: 0.1002\n",
      "Epoch 1, Average Test Loss: 0.0931\n"
     ]
    },
    {
     "name": "stderr",
     "output_type": "stream",
     "text": [
      " 40%|██████████████████                           | 2/5 [00:00<00:00,  3.54it/s]"
     ]
    },
    {
     "name": "stdout",
     "output_type": "stream",
     "text": [
      "Epoch 2, Average Train Loss: 0.0687\n",
      "Epoch 2, Average Test Loss: 0.0578\n"
     ]
    },
    {
     "name": "stderr",
     "output_type": "stream",
     "text": [
      " 60%|███████████████████████████                  | 3/5 [00:00<00:00,  3.60it/s]"
     ]
    },
    {
     "name": "stdout",
     "output_type": "stream",
     "text": [
      "Epoch 3, Average Train Loss: 0.0510\n",
      "Epoch 3, Average Test Loss: 0.0601\n"
     ]
    },
    {
     "name": "stderr",
     "output_type": "stream",
     "text": [
      " 80%|████████████████████████████████████         | 4/5 [00:01<00:00,  3.62it/s]"
     ]
    },
    {
     "name": "stdout",
     "output_type": "stream",
     "text": [
      "Epoch 4, Average Train Loss: 0.0482\n",
      "Epoch 4, Average Test Loss: 0.0557\n"
     ]
    },
    {
     "name": "stderr",
     "output_type": "stream",
     "text": [
      "100%|█████████████████████████████████████████████| 5/5 [00:01<00:00,  3.60it/s]"
     ]
    },
    {
     "name": "stdout",
     "output_type": "stream",
     "text": [
      "Epoch 5, Average Train Loss: 0.0448\n",
      "Epoch 5, Average Test Loss: 0.0467\n",
      "Evaluating random model (50.0% data) against MCTS_data_agent...\n"
     ]
    },
    {
     "name": "stderr",
     "output_type": "stream",
     "text": [
      "\n"
     ]
    },
    {
     "name": "stdout",
     "output_type": "stream",
     "text": [
      "1572 2593\n",
      "Win rate for random with 50.0% training data: 0.3774\n",
      "Training random model with 75.0% of training data...\n"
     ]
    },
    {
     "name": "stderr",
     "output_type": "stream",
     "text": [
      " 20%|█████████                                    | 1/5 [00:00<00:01,  2.52it/s]"
     ]
    },
    {
     "name": "stdout",
     "output_type": "stream",
     "text": [
      "Epoch 1, Average Train Loss: 0.0921\n",
      "Epoch 1, Average Test Loss: 0.0630\n"
     ]
    },
    {
     "name": "stderr",
     "output_type": "stream",
     "text": [
      " 40%|██████████████████                           | 2/5 [00:00<00:01,  2.63it/s]"
     ]
    },
    {
     "name": "stdout",
     "output_type": "stream",
     "text": [
      "Epoch 2, Average Train Loss: 0.0451\n",
      "Epoch 2, Average Test Loss: 0.0389\n"
     ]
    },
    {
     "name": "stderr",
     "output_type": "stream",
     "text": [
      " 60%|███████████████████████████                  | 3/5 [00:01<00:00,  2.66it/s]"
     ]
    },
    {
     "name": "stdout",
     "output_type": "stream",
     "text": [
      "Epoch 3, Average Train Loss: 0.0343\n",
      "Epoch 3, Average Test Loss: 0.0356\n"
     ]
    },
    {
     "name": "stderr",
     "output_type": "stream",
     "text": [
      " 80%|████████████████████████████████████         | 4/5 [00:01<00:00,  2.67it/s]"
     ]
    },
    {
     "name": "stdout",
     "output_type": "stream",
     "text": [
      "Epoch 4, Average Train Loss: 0.0324\n",
      "Epoch 4, Average Test Loss: 0.0440\n"
     ]
    },
    {
     "name": "stderr",
     "output_type": "stream",
     "text": [
      "100%|█████████████████████████████████████████████| 5/5 [00:01<00:00,  2.66it/s]"
     ]
    },
    {
     "name": "stdout",
     "output_type": "stream",
     "text": [
      "Epoch 5, Average Train Loss: 0.0351\n",
      "Epoch 5, Average Test Loss: 0.0692\n",
      "Evaluating random model (75.0% data) against MCTS_data_agent...\n"
     ]
    },
    {
     "name": "stderr",
     "output_type": "stream",
     "text": [
      "\n"
     ]
    },
    {
     "name": "stdout",
     "output_type": "stream",
     "text": [
      "2325 1828\n",
      "Win rate for random with 75.0% training data: 0.5598\n",
      "Training random model with 100.0% of training data...\n"
     ]
    },
    {
     "name": "stderr",
     "output_type": "stream",
     "text": [
      " 20%|█████████                                    | 1/5 [00:00<00:01,  2.03it/s]"
     ]
    },
    {
     "name": "stdout",
     "output_type": "stream",
     "text": [
      "Epoch 1, Average Train Loss: 0.0834\n",
      "Epoch 1, Average Test Loss: 0.0409\n"
     ]
    },
    {
     "name": "stderr",
     "output_type": "stream",
     "text": [
      " 40%|██████████████████                           | 2/5 [00:00<00:01,  2.10it/s]"
     ]
    },
    {
     "name": "stdout",
     "output_type": "stream",
     "text": [
      "Epoch 2, Average Train Loss: 0.0354\n",
      "Epoch 2, Average Test Loss: 0.0314\n"
     ]
    },
    {
     "name": "stderr",
     "output_type": "stream",
     "text": [
      " 60%|███████████████████████████                  | 3/5 [00:01<00:00,  2.12it/s]"
     ]
    },
    {
     "name": "stdout",
     "output_type": "stream",
     "text": [
      "Epoch 3, Average Train Loss: 0.0287\n",
      "Epoch 3, Average Test Loss: 0.0258\n"
     ]
    },
    {
     "name": "stderr",
     "output_type": "stream",
     "text": [
      " 80%|████████████████████████████████████         | 4/5 [00:02<00:00,  1.87it/s]"
     ]
    },
    {
     "name": "stdout",
     "output_type": "stream",
     "text": [
      "Epoch 4, Average Train Loss: 0.0225\n",
      "Epoch 4, Average Test Loss: 0.0206\n"
     ]
    },
    {
     "name": "stderr",
     "output_type": "stream",
     "text": [
      "100%|█████████████████████████████████████████████| 5/5 [00:02<00:00,  1.98it/s]"
     ]
    },
    {
     "name": "stdout",
     "output_type": "stream",
     "text": [
      "Epoch 5, Average Train Loss: 0.0176\n",
      "Epoch 5, Average Test Loss: 0.0162\n",
      "Evaluating random model (100.0% data) against MCTS_data_agent...\n"
     ]
    },
    {
     "name": "stderr",
     "output_type": "stream",
     "text": [
      "\n"
     ]
    },
    {
     "name": "stdout",
     "output_type": "stream",
     "text": [
      "1565 2675\n",
      "Win rate for random with 100.0% training data: 0.3691\n"
     ]
    }
   ],
   "source": [
    "# --- New Experiment: Training on different data portions ---\n",
    "print(\"\\n--- Running Data Portion Experiment ---\")\n",
    "data_percentages = [0.1, 0.25, 0.5, 0.75, 1.0]\n",
    "data_portion_results = {curriculum_type: {p: [] for p in data_percentages} for curriculum_type in [\"easy_to_hard\", \"hard_to_easy\", \"random\"]}\n",
    "\n",
    "for seed in seeds:\n",
    "    print(f\"\\n--- Data Portion Experiment with seed: {seed} ---\")\n",
    "    set_seed(seed)\n",
    "\n",
    "    portion_save_dir = os.path.join(\"results\", f'data_portion_seed_{seed}_{optimizer_choice}_{criterion_choice}_epoch_{epochs}')\n",
    "    os.makedirs(portion_save_dir, exist_ok=True)\n",
    "\n",
    "    for curriculum_type in [\"easy_to_hard\", \"hard_to_easy\", \"random\"]:\n",
    "        # Load fixed test set once per curriculum type\n",
    "        test_data_loader = load_dataset(curriculum_type, split='test', data_percentage=1.0)\n",
    "\n",
    "        for percentage in data_percentages:\n",
    "            print(f\"Training {curriculum_type} model with {percentage*100}% of training data...\")\n",
    "            \n",
    "            # Load training set with specified percentage\n",
    "            train_data_loader = load_dataset(curriculum_type, split='train', data_percentage=percentage)\n",
    "\n",
    "            model = TicTacToeCNN(kl_div=(criterion_choice == \"kl_div\"))\n",
    "            \n",
    "            # Use train_model_with_early_stopping for the data portion experiment\n",
    "            train_model_with_early_stopping(\n",
    "                model, train_data_loader, test_data_loader,\n",
    "                epochs=epochs, optimizer=optimizer_choice,\n",
    "                criterion=criterion_choice, patience=10,\n",
    "                min_delta=0.0001, disable_wandb=True\n",
    "            )\n",
    "            model.eval()\n",
    "\n",
    "            # Evaluate against MCTS data agent\n",
    "            print(f\"Evaluating {curriculum_type} model ({percentage*100}% data) against MCTS_data_agent...\")\n",
    "            results = evaluate_agents(\n",
    "                model, 'mcts_data_agent',\n",
    "                games=mcts_eval_games,\n",
    "                agent1_criterion=criterion_choice,\n",
    "                agent2_criterion=None,\n",
    "                mcts_data=preloaded_mcts_data\n",
    "            )\n",
    "\n",
    "            a1_win = results[\"agent1_wins\"]\n",
    "            a2_win = results[\"agent2_wins\"]\n",
    "            print(a1_win, a2_win)\n",
    "            win_rate = a1_win / (a1_win + a2_win)\n",
    "            data_portion_results[curriculum_type][percentage].append(win_rate)\n",
    "            print(f\"Win rate for {curriculum_type} with {percentage*100}% training data: {win_rate:.4f}\")\n",
    "\n",
    "            # Save the model\n",
    "            model_portion_name = f\"model_{curriculum_type.replace('_to_', '_').replace('random', 'random_curriculum')}_portion_{int(percentage*100)}\"\n",
    "            torch.save(model.state_dict(), os.path.join(portion_save_dir, f\"{model_portion_name}.pth\"))"
   ]
  },
  {
   "cell_type": "code",
   "execution_count": 5,
   "id": "fd274811-0719-4938-8bc9-92ec7575bd40",
   "metadata": {},
   "outputs": [
    {
     "name": "stdout",
     "output_type": "stream",
     "text": [
      "\n",
      "--- Plotting Data Portion Results ---\n",
      "Saved plot: results/data_portion_plots/easy_to_hard_win_rate_vs_data_portion.png\n",
      "Saved plot: results/data_portion_plots/hard_to_easy_win_rate_vs_data_portion.png\n",
      "Saved plot: results/data_portion_plots/random_win_rate_vs_data_portion.png\n",
      "\n",
      "Data portion experiment complete and plots generated.\n"
     ]
    }
   ],
   "source": [
    "# --- Plotting ---\n",
    "print(\"\\n--- Plotting Data Portion Results ---\")\n",
    "plot_save_dir = os.path.join(\"results\", \"data_portion_plots\")\n",
    "os.makedirs(plot_save_dir, exist_ok=True)\n",
    "\n",
    "for curriculum_type, percentages_data in data_portion_results.items():\n",
    "    avg_win_rates = []\n",
    "    std_dev_win_rates = []\n",
    "    for percentage in data_percentages:\n",
    "        rates = percentages_data[percentage]\n",
    "        avg_win_rates.append(np.mean(rates))\n",
    "        std_dev_win_rates.append(np.std(rates))\n",
    "\n",
    "    plt.figure(figsize=(10, 6))\n",
    "    plt.errorbar(data_percentages, avg_win_rates, yerr=std_dev_win_rates, fmt='-o', capsize=5)\n",
    "    plt.title(f'Win Rate Against MCTS Data Agent for {curriculum_type} Curriculum')\n",
    "    plt.xlabel('Percentage of Data Used for Training')\n",
    "    plt.ylabel('Average Win Rate')\n",
    "    plt.ylim(0, 1)\n",
    "    plt.grid(True)\n",
    "    plot_filename = os.path.join(plot_save_dir, f'{curriculum_type}_win_rate_vs_data_portion.png')\n",
    "    plt.savefig(plot_filename)\n",
    "    print(f\"Saved plot: {plot_filename}\")\n",
    "    plt.close()\n",
    "\n",
    "print(\"\\nData portion experiment complete and plots generated.\")"
   ]
  },
  {
   "cell_type": "code",
   "execution_count": 6,
   "id": "c6328dac-9b34-42df-adef-8bca5611b018",
   "metadata": {},
   "outputs": [
    {
     "name": "stdout",
     "output_type": "stream",
     "text": [
      "\n",
      "--- Running Model Perturbation Experiment ---\n",
      "Base models loaded.\n",
      "Base models loaded.\n",
      "Base models loaded.\n",
      "\n",
      "--- Model Perturbation Experiment with perturbation seed: 42 ---\n",
      "Perturbing and evaluating easy_to_hard model with seed 42...\n"
     ]
    },
    {
     "name": "stderr",
     "output_type": "stream",
     "text": [
      "/tmp/ipykernel_8739/2088151682.py:25: FutureWarning: You are using `torch.load` with `weights_only=False` (the current default value), which uses the default pickle module implicitly. It is possible to construct malicious pickle data which will execute arbitrary code during unpickling (See https://github.com/pytorch/pytorch/blob/main/SECURITY.md#untrusted-models for more details). In a future release, the default value for `weights_only` will be flipped to `True`. This limits the functions that could be executed during unpickling. Arbitrary objects will no longer be allowed to be loaded via this mode unless they are explicitly allowlisted by the user via `torch.serialization.add_safe_globals`. We recommend you start setting `weights_only=True` for any use case where you don't have full control of the loaded file. Please open an issue on GitHub for any issues related to this experimental feature.\n",
      "  model.load_state_dict(torch.load(model_path))\n"
     ]
    },
    {
     "name": "stdout",
     "output_type": "stream",
     "text": [
      "Win rate for perturbed easy_to_hard model (perturbation seed 42): 0.6144\n",
      "Perturbing and evaluating hard_to_easy model with seed 42...\n",
      "Win rate for perturbed hard_to_easy model (perturbation seed 42): 0.3900\n",
      "Perturbing and evaluating random model with seed 42...\n",
      "Win rate for perturbed random model (perturbation seed 42): 0.3603\n",
      "\n",
      "--- Plotting Perturbation Results ---\n",
      "\n",
      "--- Model Perturbation Experiment with perturbation seed: 101 ---\n",
      "Perturbing and evaluating easy_to_hard model with seed 101...\n",
      "Win rate for perturbed easy_to_hard model (perturbation seed 101): 0.6276\n",
      "Perturbing and evaluating hard_to_easy model with seed 101...\n",
      "Win rate for perturbed hard_to_easy model (perturbation seed 101): 0.3828\n",
      "Perturbing and evaluating random model with seed 101...\n",
      "Win rate for perturbed random model (perturbation seed 101): 0.3812\n",
      "\n",
      "--- Plotting Perturbation Results ---\n",
      "\n",
      "--- Model Perturbation Experiment with perturbation seed: 202 ---\n",
      "Perturbing and evaluating easy_to_hard model with seed 202...\n",
      "Win rate for perturbed easy_to_hard model (perturbation seed 202): 0.6124\n",
      "Perturbing and evaluating hard_to_easy model with seed 202...\n",
      "Win rate for perturbed hard_to_easy model (perturbation seed 202): 0.3780\n",
      "Perturbing and evaluating random model with seed 202...\n",
      "Win rate for perturbed random model (perturbation seed 202): 0.3939\n",
      "\n",
      "--- Plotting Perturbation Results ---\n",
      "\n",
      "--- Model Perturbation Experiment with perturbation seed: 303 ---\n",
      "Perturbing and evaluating easy_to_hard model with seed 303...\n",
      "Win rate for perturbed easy_to_hard model (perturbation seed 303): 0.6176\n",
      "Perturbing and evaluating hard_to_easy model with seed 303...\n",
      "Win rate for perturbed hard_to_easy model (perturbation seed 303): 0.3787\n",
      "Perturbing and evaluating random model with seed 303...\n",
      "Win rate for perturbed random model (perturbation seed 303): 0.3673\n",
      "\n",
      "--- Plotting Perturbation Results ---\n",
      "\n",
      "--- Model Perturbation Experiment with perturbation seed: 404 ---\n",
      "Perturbing and evaluating easy_to_hard model with seed 404...\n",
      "Win rate for perturbed easy_to_hard model (perturbation seed 404): 0.5995\n",
      "Perturbing and evaluating hard_to_easy model with seed 404...\n",
      "Win rate for perturbed hard_to_easy model (perturbation seed 404): 0.3713\n",
      "Perturbing and evaluating random model with seed 404...\n",
      "Win rate for perturbed random model (perturbation seed 404): 0.3938\n",
      "\n",
      "--- Plotting Perturbation Results ---\n",
      "Saved plot: results/perturbation_plots/perturbed_models_win_rate_strength_0.01.png\n",
      "\n",
      "Model perturbation experiment complete and plots generated.\n"
     ]
    }
   ],
   "source": [
    "# --- New Experiment: Random Perturbation of Model Weights ---\n",
    "print(\"\\n--- Running Model Perturbation Experiment ---\")\n",
    "perturbation_strength = 0.01 # Define the strength of the perturbation\n",
    "perturbation_results = {curriculum_type: [] for curriculum_type in [\"easy_to_hard\", \"hard_to_easy\", \"random\"]}\n",
    "\n",
    "def perturb_model_weights(model, strength):\n",
    "    \"\"\"Applies random perturbation to model weights.\"\"\"\n",
    "    perturbed_model = TicTacToeCNN(kl_div=(criterion_choice == \"kl_div\"))\n",
    "    perturbed_model.load_state_dict(model.state_dict()) # Start with original weights\n",
    "    with torch.no_grad():\n",
    "        for param in perturbed_model.parameters():\n",
    "            param.add_(torch.randn(param.size()) * strength)\n",
    "        return perturbed_model\n",
    "\n",
    "    # Load original models once for each curriculum type (from the first seed's results)\n",
    "    print(\"\\n--- Loading base models for perturbation experiment (from first seed) ---\")\n",
    "base_models = {}\n",
    "base_seed_for_loading = seeds[0] # Use the first seed's trained models as base\n",
    "base_model_dir = os.path.join(\"results\", f'seed_{base_seed_for_loading}_{optimizer_choice}_{criterion_choice}_epoch_{epochs}')\n",
    "for curriculum_type in [\"easy_to_hard\", \"hard_to_easy\", \"random\"]:\n",
    "    model_name = f\"model_{curriculum_type.replace('_to_', '_').replace('random', 'random_curriculum')}\"\n",
    "    model_path = os.path.join(base_model_dir, f\"{model_name}.pth\")\n",
    "\n",
    "    model = TicTacToeCNN(kl_div=(criterion_choice == \"kl_div\"))\n",
    "    model.load_state_dict(torch.load(model_path))\n",
    "    model.eval()\n",
    "    base_models[curriculum_type] = model\n",
    "    print(\"Base models loaded.\")\n",
    "\n",
    "for seed in seeds: # This seed now controls the randomness of the perturbation\n",
    "    print(f\"\\n--- Model Perturbation Experiment with perturbation seed: {seed} ---\")\n",
    "    set_seed(seed) # Set seed for the perturbation generation\n",
    "\n",
    "    perturb_save_dir = os.path.join(\"results\", f'perturbation_seed_{seed}_{optimizer_choice}_{criterion_choice}_epoch_{epochs}')\n",
    "    os.makedirs(perturb_save_dir, exist_ok=True)\n",
    "\n",
    "    for curriculum_type in [\"easy_to_hard\", \"hard_to_easy\", \"random\"]:\n",
    "        original_model = base_models[curriculum_type]\n",
    "\n",
    "        print(f\"Perturbing and evaluating {curriculum_type} model with seed {seed}...\")\n",
    "        perturbed_model = perturb_model_weights(original_model, perturbation_strength)\n",
    "\n",
    "        results = evaluate_agents(\n",
    "            perturbed_model, 'mcts_data_agent',\n",
    "            games=mcts_eval_games,\n",
    "            agent1_criterion=criterion_choice,\n",
    "            agent2_criterion=None,\n",
    "            mcts_data=preloaded_mcts_data\n",
    "        )\n",
    "\n",
    "        a1_win = results[\"agent1_wins\"]\n",
    "        a2_win = results[\"agent2_wins\"]\n",
    "        win_rate = a1_win / (a1_win + a2_win) if (a1_win + a2_win) > 0 else 0\n",
    "        perturbation_results[curriculum_type].append(win_rate)\n",
    "        print(f\"Win rate for perturbed {curriculum_type} model (perturbation seed {seed}): {win_rate:.4f}\")\n",
    "\n",
    "        # Optionally save the perturbed model (if needed for debugging/analysis)\n",
    "        # model_name = f\"model_{curriculum_type.replace('_to_', '_').replace('random', 'random_curriculum')}\"\n",
    "        # torch.save(perturbed_model.state_dict(), os.path.join(perturb_save_dir, f\"{model_name}_perturbed_seed_{seed}.pth\"))\n",
    "\n",
    "    # Calculate average win rates and plot for perturbation experiment\n",
    "    print(\"\\n--- Plotting Perturbation Results ---\")\n",
    "perturb_plot_save_dir = os.path.join(\"results\", \"perturbation_plots\")\n",
    "os.makedirs(perturb_plot_save_dir, exist_ok=True)\n",
    "\n",
    "avg_perturb_win_rates = []\n",
    "std_perturb_win_rates = []\n",
    "curriculum_labels = [\"easy_to_hard\", \"hard_to_easy\", \"random\"]\n",
    "\n",
    "for ct in curriculum_labels:\n",
    "    rates = perturbation_results[ct]\n",
    "    avg_perturb_win_rates.append(np.mean(rates))\n",
    "    std_perturb_win_rates.append(np.std(rates))\n",
    "\n",
    "    x = np.arange(len(curriculum_labels))\n",
    "width = 0.35\n",
    "\n",
    "fig, ax = plt.subplots(figsize=(10, 6))\n",
    "rects = ax.bar(x, avg_perturb_win_rates, width, yerr=std_perturb_win_rates, capsize=5)\n",
    "\n",
    "ax.set_ylabel('Average Win Rate Against MCTS Data Agent')\n",
    "ax.set_title(f'Win Rate of Perturbed Models (Strength: {perturbation_strength})')\n",
    "ax.set_xticks(x)\n",
    "ax.set_xticklabels([label.replace('_', ' ').title() for label in curriculum_labels]) # Nicer labels\n",
    "ax.set_ylim(0, 1)\n",
    "ax.grid(axis='y')\n",
    "\n",
    "def autolabel(rects):\n",
    "    for rect in rects:\n",
    "        height = rect.get_height()\n",
    "        ax.annotate(f'{height:.2f}',\n",
    "                    xy=(rect.get_x() + rect.get_width() / 2, height),\n",
    "                    xytext=(0, 3),  # 3 points vertical offset\n",
    "                    textcoords=\"offset points\",\n",
    "                    ha='center', va='bottom')\n",
    "\n",
    "    autolabel(rects)\n",
    "\n",
    "plot_filename = os.path.join(perturb_plot_save_dir, f'perturbed_models_win_rate_strength_{perturbation_strength}.png')\n",
    "plt.savefig(plot_filename)\n",
    "print(f\"Saved plot: {plot_filename}\")\n",
    "plt.close()\n",
    "\n",
    "print(\"\\nModel perturbation experiment complete and plots generated.\")"
   ]
  }
 ],
 "metadata": {
  "kernelspec": {
   "display_name": "Python 3 (ipykernel)",
   "language": "python",
   "name": "python3"
  },
  "language_info": {
   "codemirror_mode": {
    "name": "ipython",
    "version": 3
   },
   "file_extension": ".py",
   "mimetype": "text/x-python",
   "name": "python",
   "nbconvert_exporter": "python",
   "pygments_lexer": "ipython3",
   "version": "3.11.13"
  }
 },
 "nbformat": 4,
 "nbformat_minor": 5
}
