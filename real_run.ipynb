{
 "cells": [
  {
   "cell_type": "code",
   "execution_count": 1,
   "id": "7fbee5f0-2ed8-47c1-8e2b-881328b10d6c",
   "metadata": {},
   "outputs": [],
   "source": [
    "from utils.plot_utils import plot_all_training_results, plot_data_portion_results, plot_perturbation_results_by_strength\n",
    "from utils.eval_utils import load_mcts_data\n",
    "from experiments import (run_all_training_experiments, run_all_curriculum_experiments,\n",
    "                         run_data_portion_experiment, run_perturbation_experiment, load_base_models,\n",
    "                         run_highest_probability_experiment, run_random_vs_mcts_experiment)\n",
    "import warnings\n",
    "warnings.filterwarnings('ignore') # To suppress PyTorchs' Future Warning and UserWarning (to do with speed / performance of code)"
   ]
  },
  {
   "cell_type": "code",
   "execution_count": 2,
   "id": "1119cec4-2d64-425f-907b-584f4a28c645",
   "metadata": {
    "scrolled": true
   },
   "outputs": [
    {
     "name": "stdout",
     "output_type": "stream",
     "text": [
      "Training easy-to-hard model...\n",
      "Training hard-to-easy model...\n",
      "Training random model...\n",
      "Evaluating models...\n"
     ]
    },
    {
     "name": "stderr",
     "output_type": "stream",
     "text": [
      "100%|██████████████████████████████████████████| 10/10 [01:02<00:00,  6.30s/it]\n",
      "100%|██████████████████████████████████████████| 10/10 [01:10<00:00,  7.01s/it]\n",
      "100%|██████████████████████████████████████████| 10/10 [01:01<00:00,  6.14s/it]\n"
     ]
    },
    {
     "name": "stdout",
     "output_type": "stream",
     "text": [
      "Training easy-to-hard model...\n",
      "Training hard-to-easy model...\n",
      "Training random model...\n",
      "Evaluating models...\n"
     ]
    },
    {
     "name": "stderr",
     "output_type": "stream",
     "text": [
      "100%|██████████████████████████████████████████| 10/10 [01:07<00:00,  6.79s/it]\n",
      "100%|██████████████████████████████████████████| 10/10 [01:08<00:00,  6.84s/it]\n",
      "100%|██████████████████████████████████████████| 10/10 [01:08<00:00,  6.90s/it]\n"
     ]
    },
    {
     "name": "stdout",
     "output_type": "stream",
     "text": [
      "Training easy-to-hard model...\n",
      "Training hard-to-easy model...\n",
      "Training random model...\n",
      "Evaluating models...\n"
     ]
    },
    {
     "name": "stderr",
     "output_type": "stream",
     "text": [
      "100%|██████████████████████████████████████████| 10/10 [01:04<00:00,  6.44s/it]\n",
      "100%|██████████████████████████████████████████| 10/10 [01:03<00:00,  6.39s/it]\n",
      "100%|██████████████████████████████████████████| 10/10 [01:04<00:00,  6.42s/it]\n"
     ]
    },
    {
     "name": "stdout",
     "output_type": "stream",
     "text": [
      "Training easy-to-hard model...\n",
      "Train/Test split: 3598 train files, 922 test files\n",
      "Train/Test split: 3598 train files, 922 test files\n"
     ]
    },
    {
     "name": "stderr",
     "output_type": "stream",
     "text": [
      "  2%|▊                                          | 1/50 [00:00<00:23,  2.12it/s]"
     ]
    },
    {
     "name": "stdout",
     "output_type": "stream",
     "text": [
      "Epoch 1, Average Train Loss: 0.002881\n",
      "Epoch 1, Average Test Loss: 0.001830\n"
     ]
    },
    {
     "name": "stderr",
     "output_type": "stream",
     "text": [
      "  4%|█▋                                         | 2/50 [00:00<00:22,  2.14it/s]"
     ]
    },
    {
     "name": "stdout",
     "output_type": "stream",
     "text": [
      "Epoch 2, Average Train Loss: 0.001467\n",
      "Epoch 2, Average Test Loss: 0.001255\n"
     ]
    },
    {
     "name": "stderr",
     "output_type": "stream",
     "text": [
      "  6%|██▌                                        | 3/50 [00:01<00:21,  2.15it/s]"
     ]
    },
    {
     "name": "stdout",
     "output_type": "stream",
     "text": [
      "Epoch 3, Average Train Loss: 0.001124\n",
      "Epoch 3, Average Test Loss: 0.001337\n"
     ]
    },
    {
     "name": "stderr",
     "output_type": "stream",
     "text": [
      "  8%|███▍                                       | 4/50 [00:01<00:21,  2.11it/s]"
     ]
    },
    {
     "name": "stdout",
     "output_type": "stream",
     "text": [
      "Epoch 4, Average Train Loss: 0.001045\n",
      "Epoch 4, Average Test Loss: 0.001702\n"
     ]
    },
    {
     "name": "stderr",
     "output_type": "stream",
     "text": [
      " 10%|████▎                                      | 5/50 [00:02<00:21,  2.09it/s]"
     ]
    },
    {
     "name": "stdout",
     "output_type": "stream",
     "text": [
      "Epoch 5, Average Train Loss: 0.001047\n",
      "Epoch 5, Average Test Loss: 0.001957\n"
     ]
    },
    {
     "name": "stderr",
     "output_type": "stream",
     "text": [
      " 12%|█████▏                                     | 6/50 [00:02<00:21,  2.05it/s]"
     ]
    },
    {
     "name": "stdout",
     "output_type": "stream",
     "text": [
      "Epoch 6, Average Train Loss: 0.001090\n",
      "Epoch 6, Average Test Loss: 0.001781\n"
     ]
    },
    {
     "name": "stderr",
     "output_type": "stream",
     "text": [
      " 14%|██████                                     | 7/50 [00:03<00:20,  2.05it/s]"
     ]
    },
    {
     "name": "stdout",
     "output_type": "stream",
     "text": [
      "Epoch 7, Average Train Loss: 0.001060\n",
      "Epoch 7, Average Test Loss: 0.001535\n"
     ]
    },
    {
     "name": "stderr",
     "output_type": "stream",
     "text": [
      " 16%|██████▉                                    | 8/50 [00:03<00:20,  2.05it/s]"
     ]
    },
    {
     "name": "stdout",
     "output_type": "stream",
     "text": [
      "Epoch 8, Average Train Loss: 0.001066\n",
      "Epoch 8, Average Test Loss: 0.001284\n"
     ]
    },
    {
     "name": "stderr",
     "output_type": "stream",
     "text": [
      " 18%|███████▋                                   | 9/50 [00:04<00:19,  2.05it/s]"
     ]
    },
    {
     "name": "stdout",
     "output_type": "stream",
     "text": [
      "Epoch 9, Average Train Loss: 0.001027\n",
      "Epoch 9, Average Test Loss: 0.001125\n"
     ]
    },
    {
     "name": "stderr",
     "output_type": "stream",
     "text": [
      " 20%|████████▍                                 | 10/50 [00:04<00:19,  2.05it/s]"
     ]
    },
    {
     "name": "stdout",
     "output_type": "stream",
     "text": [
      "Epoch 10, Average Train Loss: 0.000981\n",
      "Epoch 10, Average Test Loss: 0.001037\n"
     ]
    },
    {
     "name": "stderr",
     "output_type": "stream",
     "text": [
      " 22%|█████████▏                                | 11/50 [00:05<00:18,  2.05it/s]"
     ]
    },
    {
     "name": "stdout",
     "output_type": "stream",
     "text": [
      "Epoch 11, Average Train Loss: 0.000939\n",
      "Epoch 11, Average Test Loss: 0.000984\n"
     ]
    },
    {
     "name": "stderr",
     "output_type": "stream",
     "text": [
      " 24%|██████████                                | 12/50 [00:05<00:18,  2.08it/s]"
     ]
    },
    {
     "name": "stdout",
     "output_type": "stream",
     "text": [
      "Epoch 12, Average Train Loss: 0.000900\n",
      "Epoch 12, Average Test Loss: 0.000953\n"
     ]
    },
    {
     "name": "stderr",
     "output_type": "stream",
     "text": [
      " 26%|██████████▉                               | 13/50 [00:06<00:17,  2.09it/s]"
     ]
    },
    {
     "name": "stdout",
     "output_type": "stream",
     "text": [
      "Epoch 13, Average Train Loss: 0.000861\n",
      "Epoch 13, Average Test Loss: 0.000929\n"
     ]
    },
    {
     "name": "stderr",
     "output_type": "stream",
     "text": [
      " 28%|███████████▊                              | 14/50 [00:06<00:17,  2.11it/s]"
     ]
    },
    {
     "name": "stdout",
     "output_type": "stream",
     "text": [
      "Epoch 14, Average Train Loss: 0.000820\n",
      "Epoch 14, Average Test Loss: 0.000910\n"
     ]
    },
    {
     "name": "stderr",
     "output_type": "stream",
     "text": [
      " 30%|████████████▌                             | 15/50 [00:07<00:16,  2.13it/s]"
     ]
    },
    {
     "name": "stdout",
     "output_type": "stream",
     "text": [
      "Epoch 15, Average Train Loss: 0.000778\n",
      "Epoch 15, Average Test Loss: 0.000899\n"
     ]
    },
    {
     "name": "stderr",
     "output_type": "stream",
     "text": [
      " 32%|█████████████▍                            | 16/50 [00:07<00:15,  2.14it/s]"
     ]
    },
    {
     "name": "stdout",
     "output_type": "stream",
     "text": [
      "Epoch 16, Average Train Loss: 0.000729\n",
      "Epoch 16, Average Test Loss: 0.000883\n"
     ]
    },
    {
     "name": "stderr",
     "output_type": "stream",
     "text": [
      " 34%|██████████████▎                           | 17/50 [00:08<00:15,  2.14it/s]"
     ]
    },
    {
     "name": "stdout",
     "output_type": "stream",
     "text": [
      "Epoch 17, Average Train Loss: 0.000676\n",
      "Epoch 17, Average Test Loss: 0.000863\n"
     ]
    },
    {
     "name": "stderr",
     "output_type": "stream",
     "text": [
      " 36%|███████████████                           | 18/50 [00:08<00:14,  2.14it/s]"
     ]
    },
    {
     "name": "stdout",
     "output_type": "stream",
     "text": [
      "Epoch 18, Average Train Loss: 0.000614\n",
      "Epoch 18, Average Test Loss: 0.000842\n"
     ]
    },
    {
     "name": "stderr",
     "output_type": "stream",
     "text": [
      " 38%|███████████████▉                          | 19/50 [00:09<00:14,  2.15it/s]"
     ]
    },
    {
     "name": "stdout",
     "output_type": "stream",
     "text": [
      "Epoch 19, Average Train Loss: 0.000543\n",
      "Epoch 19, Average Test Loss: 0.000803\n"
     ]
    },
    {
     "name": "stderr",
     "output_type": "stream",
     "text": [
      " 40%|████████████████▊                         | 20/50 [00:09<00:14,  2.10it/s]"
     ]
    },
    {
     "name": "stdout",
     "output_type": "stream",
     "text": [
      "Epoch 20, Average Train Loss: 0.000470\n",
      "Epoch 20, Average Test Loss: 0.000751\n"
     ]
    },
    {
     "name": "stderr",
     "output_type": "stream",
     "text": [
      " 42%|█████████████████▋                        | 21/50 [00:10<00:13,  2.11it/s]"
     ]
    },
    {
     "name": "stdout",
     "output_type": "stream",
     "text": [
      "Epoch 21, Average Train Loss: 0.000399\n",
      "Epoch 21, Average Test Loss: 0.000688\n"
     ]
    },
    {
     "name": "stderr",
     "output_type": "stream",
     "text": [
      " 44%|██████████████████▍                       | 22/50 [00:10<00:13,  2.11it/s]"
     ]
    },
    {
     "name": "stdout",
     "output_type": "stream",
     "text": [
      "Epoch 22, Average Train Loss: 0.000339\n",
      "Epoch 22, Average Test Loss: 0.000642\n"
     ]
    },
    {
     "name": "stderr",
     "output_type": "stream",
     "text": [
      " 46%|███████████████████▎                      | 23/50 [00:10<00:12,  2.12it/s]"
     ]
    },
    {
     "name": "stdout",
     "output_type": "stream",
     "text": [
      "Epoch 23, Average Train Loss: 0.000281\n",
      "Epoch 23, Average Test Loss: 0.000549\n"
     ]
    },
    {
     "name": "stderr",
     "output_type": "stream",
     "text": [
      " 48%|████████████████████▏                     | 24/50 [00:11<00:12,  2.12it/s]"
     ]
    },
    {
     "name": "stdout",
     "output_type": "stream",
     "text": [
      "Epoch 24, Average Train Loss: 0.000238\n",
      "Epoch 24, Average Test Loss: 0.000508\n"
     ]
    },
    {
     "name": "stderr",
     "output_type": "stream",
     "text": [
      " 50%|█████████████████████                     | 25/50 [00:11<00:11,  2.12it/s]"
     ]
    },
    {
     "name": "stdout",
     "output_type": "stream",
     "text": [
      "Epoch 25, Average Train Loss: 0.000194\n",
      "Epoch 25, Average Test Loss: 0.000435\n"
     ]
    },
    {
     "name": "stderr",
     "output_type": "stream",
     "text": [
      " 52%|█████████████████████▊                    | 26/50 [00:12<00:11,  2.13it/s]"
     ]
    },
    {
     "name": "stdout",
     "output_type": "stream",
     "text": [
      "Epoch 26, Average Train Loss: 0.000159\n",
      "Epoch 26, Average Test Loss: 0.000394\n"
     ]
    },
    {
     "name": "stderr",
     "output_type": "stream",
     "text": [
      " 54%|██████████████████████▋                   | 27/50 [00:12<00:10,  2.13it/s]"
     ]
    },
    {
     "name": "stdout",
     "output_type": "stream",
     "text": [
      "Epoch 27, Average Train Loss: 0.000132\n",
      "Epoch 27, Average Test Loss: 0.000374\n"
     ]
    },
    {
     "name": "stderr",
     "output_type": "stream",
     "text": [
      " 56%|███████████████████████▌                  | 28/50 [00:13<00:10,  2.13it/s]"
     ]
    },
    {
     "name": "stdout",
     "output_type": "stream",
     "text": [
      "Epoch 28, Average Train Loss: 0.000111\n",
      "Epoch 28, Average Test Loss: 0.000362\n"
     ]
    },
    {
     "name": "stderr",
     "output_type": "stream",
     "text": [
      " 58%|████████████████████████▎                 | 29/50 [00:13<00:09,  2.14it/s]"
     ]
    },
    {
     "name": "stdout",
     "output_type": "stream",
     "text": [
      "Epoch 29, Average Train Loss: 0.000098\n",
      "Epoch 29, Average Test Loss: 0.000356\n"
     ]
    },
    {
     "name": "stderr",
     "output_type": "stream",
     "text": [
      " 60%|█████████████████████████▏                | 30/50 [00:14<00:09,  2.15it/s]"
     ]
    },
    {
     "name": "stdout",
     "output_type": "stream",
     "text": [
      "Epoch 30, Average Train Loss: 0.000087\n",
      "Epoch 30, Average Test Loss: 0.000357\n"
     ]
    },
    {
     "name": "stderr",
     "output_type": "stream",
     "text": [
      " 62%|██████████████████████████                | 31/50 [00:14<00:08,  2.15it/s]"
     ]
    },
    {
     "name": "stdout",
     "output_type": "stream",
     "text": [
      "Epoch 31, Average Train Loss: 0.000080\n",
      "Epoch 31, Average Test Loss: 0.000353\n"
     ]
    },
    {
     "name": "stderr",
     "output_type": "stream",
     "text": [
      " 64%|██████████████████████████▉               | 32/50 [00:15<00:08,  2.15it/s]"
     ]
    },
    {
     "name": "stdout",
     "output_type": "stream",
     "text": [
      "Epoch 32, Average Train Loss: 0.000075\n",
      "Epoch 32, Average Test Loss: 0.000356\n"
     ]
    },
    {
     "name": "stderr",
     "output_type": "stream",
     "text": [
      " 66%|███████████████████████████▋              | 33/50 [00:15<00:08,  2.11it/s]"
     ]
    },
    {
     "name": "stdout",
     "output_type": "stream",
     "text": [
      "Epoch 33, Average Train Loss: 0.000071\n",
      "Epoch 33, Average Test Loss: 0.000354\n"
     ]
    },
    {
     "name": "stderr",
     "output_type": "stream",
     "text": [
      " 68%|████████████████████████████▌             | 34/50 [00:16<00:07,  2.10it/s]"
     ]
    },
    {
     "name": "stdout",
     "output_type": "stream",
     "text": [
      "Epoch 34, Average Train Loss: 0.000068\n",
      "Epoch 34, Average Test Loss: 0.000352\n"
     ]
    },
    {
     "name": "stderr",
     "output_type": "stream",
     "text": [
      " 70%|█████████████████████████████▍            | 35/50 [00:16<00:07,  2.11it/s]"
     ]
    },
    {
     "name": "stdout",
     "output_type": "stream",
     "text": [
      "Epoch 35, Average Train Loss: 0.000065\n",
      "Epoch 35, Average Test Loss: 0.000354\n"
     ]
    },
    {
     "name": "stderr",
     "output_type": "stream",
     "text": [
      " 72%|██████████████████████████████▏           | 36/50 [00:17<00:06,  2.09it/s]"
     ]
    },
    {
     "name": "stdout",
     "output_type": "stream",
     "text": [
      "Epoch 36, Average Train Loss: 0.000063\n",
      "Epoch 36, Average Test Loss: 0.000348\n"
     ]
    },
    {
     "name": "stderr",
     "output_type": "stream",
     "text": [
      " 74%|███████████████████████████████           | 37/50 [00:17<00:06,  2.10it/s]"
     ]
    },
    {
     "name": "stdout",
     "output_type": "stream",
     "text": [
      "Epoch 37, Average Train Loss: 0.000061\n",
      "Epoch 37, Average Test Loss: 0.000347\n"
     ]
    },
    {
     "name": "stderr",
     "output_type": "stream",
     "text": [
      " 76%|███████████████████████████████▉          | 38/50 [00:18<00:05,  2.10it/s]"
     ]
    },
    {
     "name": "stdout",
     "output_type": "stream",
     "text": [
      "Epoch 38, Average Train Loss: 0.000059\n",
      "Epoch 38, Average Test Loss: 0.000349\n"
     ]
    },
    {
     "name": "stderr",
     "output_type": "stream",
     "text": [
      " 78%|████████████████████████████████▊         | 39/50 [00:18<00:05,  2.10it/s]"
     ]
    },
    {
     "name": "stdout",
     "output_type": "stream",
     "text": [
      "Epoch 39, Average Train Loss: 0.000057\n",
      "Epoch 39, Average Test Loss: 0.000348\n"
     ]
    },
    {
     "name": "stderr",
     "output_type": "stream",
     "text": [
      " 80%|█████████████████████████████████▌        | 40/50 [00:18<00:04,  2.11it/s]"
     ]
    },
    {
     "name": "stdout",
     "output_type": "stream",
     "text": [
      "Epoch 40, Average Train Loss: 0.000055\n",
      "Epoch 40, Average Test Loss: 0.000352\n"
     ]
    },
    {
     "name": "stderr",
     "output_type": "stream",
     "text": [
      " 82%|██████████████████████████████████▍       | 41/50 [00:19<00:04,  2.10it/s]"
     ]
    },
    {
     "name": "stdout",
     "output_type": "stream",
     "text": [
      "Epoch 41, Average Train Loss: 0.000053\n",
      "Epoch 41, Average Test Loss: 0.000353\n"
     ]
    },
    {
     "name": "stderr",
     "output_type": "stream",
     "text": [
      " 84%|███████████████████████████████████▎      | 42/50 [00:19<00:03,  2.11it/s]"
     ]
    },
    {
     "name": "stdout",
     "output_type": "stream",
     "text": [
      "Epoch 42, Average Train Loss: 0.000051\n",
      "Epoch 42, Average Test Loss: 0.000361\n"
     ]
    },
    {
     "name": "stderr",
     "output_type": "stream",
     "text": [
      " 86%|████████████████████████████████████      | 43/50 [00:20<00:03,  2.11it/s]"
     ]
    },
    {
     "name": "stdout",
     "output_type": "stream",
     "text": [
      "Epoch 43, Average Train Loss: 0.000050\n",
      "Epoch 43, Average Test Loss: 0.000376\n"
     ]
    },
    {
     "name": "stderr",
     "output_type": "stream",
     "text": [
      " 88%|████████████████████████████████████▉     | 44/50 [00:20<00:02,  2.12it/s]"
     ]
    },
    {
     "name": "stdout",
     "output_type": "stream",
     "text": [
      "Epoch 44, Average Train Loss: 0.000049\n",
      "Epoch 44, Average Test Loss: 0.000390\n"
     ]
    },
    {
     "name": "stderr",
     "output_type": "stream",
     "text": [
      " 90%|█████████████████████████████████████▊    | 45/50 [00:21<00:02,  2.13it/s]"
     ]
    },
    {
     "name": "stdout",
     "output_type": "stream",
     "text": [
      "Epoch 45, Average Train Loss: 0.000049\n",
      "Epoch 45, Average Test Loss: 0.000403\n"
     ]
    },
    {
     "name": "stderr",
     "output_type": "stream",
     "text": [
      " 92%|██████████████████████████████████████▋   | 46/50 [00:21<00:01,  2.13it/s]"
     ]
    },
    {
     "name": "stdout",
     "output_type": "stream",
     "text": [
      "Epoch 46, Average Train Loss: 0.000050\n",
      "Epoch 46, Average Test Loss: 0.000432\n"
     ]
    },
    {
     "name": "stderr",
     "output_type": "stream",
     "text": [
      " 94%|███████████████████████████████████████▍  | 47/50 [00:22<00:01,  2.11it/s]"
     ]
    },
    {
     "name": "stdout",
     "output_type": "stream",
     "text": [
      "Epoch 47, Average Train Loss: 0.000052\n",
      "Epoch 47, Average Test Loss: 0.000480\n"
     ]
    },
    {
     "name": "stderr",
     "output_type": "stream",
     "text": [
      " 96%|████████████████████████████████████████▎ | 48/50 [00:22<00:00,  2.09it/s]"
     ]
    },
    {
     "name": "stdout",
     "output_type": "stream",
     "text": [
      "Epoch 48, Average Train Loss: 0.000056\n",
      "Epoch 48, Average Test Loss: 0.000527\n"
     ]
    },
    {
     "name": "stderr",
     "output_type": "stream",
     "text": [
      " 98%|█████████████████████████████████████████▏| 49/50 [00:23<00:00,  2.11it/s]"
     ]
    },
    {
     "name": "stdout",
     "output_type": "stream",
     "text": [
      "Epoch 49, Average Train Loss: 0.000061\n",
      "Epoch 49, Average Test Loss: 0.000551\n"
     ]
    },
    {
     "name": "stderr",
     "output_type": "stream",
     "text": [
      "100%|██████████████████████████████████████████| 50/50 [00:23<00:00,  2.11it/s]"
     ]
    },
    {
     "name": "stdout",
     "output_type": "stream",
     "text": [
      "Epoch 50, Average Train Loss: 0.000071\n",
      "Epoch 50, Average Test Loss: 0.000474\n",
      "Training hard-to-easy model...\n",
      "Train/Test split: 3598 train files, 922 test files\n"
     ]
    },
    {
     "name": "stderr",
     "output_type": "stream",
     "text": [
      "\n"
     ]
    },
    {
     "name": "stdout",
     "output_type": "stream",
     "text": [
      "Train/Test split: 3598 train files, 922 test files\n"
     ]
    },
    {
     "name": "stderr",
     "output_type": "stream",
     "text": [
      "  2%|▊                                          | 1/50 [00:00<00:22,  2.15it/s]"
     ]
    },
    {
     "name": "stdout",
     "output_type": "stream",
     "text": [
      "Epoch 1, Average Train Loss: 0.003828\n",
      "Epoch 1, Average Test Loss: 0.002963\n"
     ]
    },
    {
     "name": "stderr",
     "output_type": "stream",
     "text": [
      "  4%|█▋                                         | 2/50 [00:00<00:22,  2.10it/s]"
     ]
    },
    {
     "name": "stdout",
     "output_type": "stream",
     "text": [
      "Epoch 2, Average Train Loss: 0.002329\n",
      "Epoch 2, Average Test Loss: 0.001443\n"
     ]
    },
    {
     "name": "stderr",
     "output_type": "stream",
     "text": [
      "  6%|██▌                                        | 3/50 [00:01<00:22,  2.11it/s]"
     ]
    },
    {
     "name": "stdout",
     "output_type": "stream",
     "text": [
      "Epoch 3, Average Train Loss: 0.001290\n",
      "Epoch 3, Average Test Loss: 0.001482\n"
     ]
    },
    {
     "name": "stderr",
     "output_type": "stream",
     "text": [
      "  8%|███▍                                       | 4/50 [00:01<00:21,  2.13it/s]"
     ]
    },
    {
     "name": "stdout",
     "output_type": "stream",
     "text": [
      "Epoch 4, Average Train Loss: 0.001069\n",
      "Epoch 4, Average Test Loss: 0.001824\n"
     ]
    },
    {
     "name": "stderr",
     "output_type": "stream",
     "text": [
      " 10%|████▎                                      | 5/50 [00:02<00:21,  2.14it/s]"
     ]
    },
    {
     "name": "stdout",
     "output_type": "stream",
     "text": [
      "Epoch 5, Average Train Loss: 0.001087\n",
      "Epoch 5, Average Test Loss: 0.001833\n"
     ]
    },
    {
     "name": "stderr",
     "output_type": "stream",
     "text": [
      " 12%|█████▏                                     | 6/50 [00:02<00:20,  2.15it/s]"
     ]
    },
    {
     "name": "stdout",
     "output_type": "stream",
     "text": [
      "Epoch 6, Average Train Loss: 0.001247\n",
      "Epoch 6, Average Test Loss: 0.001693\n"
     ]
    },
    {
     "name": "stderr",
     "output_type": "stream",
     "text": [
      " 14%|██████                                     | 7/50 [00:03<00:20,  2.15it/s]"
     ]
    },
    {
     "name": "stdout",
     "output_type": "stream",
     "text": [
      "Epoch 7, Average Train Loss: 0.001194\n",
      "Epoch 7, Average Test Loss: 0.001621\n"
     ]
    },
    {
     "name": "stderr",
     "output_type": "stream",
     "text": [
      " 16%|██████▉                                    | 8/50 [00:03<00:19,  2.15it/s]"
     ]
    },
    {
     "name": "stdout",
     "output_type": "stream",
     "text": [
      "Epoch 8, Average Train Loss: 0.001202\n",
      "Epoch 8, Average Test Loss: 0.001501\n"
     ]
    },
    {
     "name": "stderr",
     "output_type": "stream",
     "text": [
      " 18%|███████▋                                   | 9/50 [00:04<00:19,  2.14it/s]"
     ]
    },
    {
     "name": "stdout",
     "output_type": "stream",
     "text": [
      "Epoch 9, Average Train Loss: 0.001132\n",
      "Epoch 9, Average Test Loss: 0.001460\n"
     ]
    },
    {
     "name": "stderr",
     "output_type": "stream",
     "text": [
      " 20%|████████▍                                 | 10/50 [00:04<00:18,  2.14it/s]"
     ]
    },
    {
     "name": "stdout",
     "output_type": "stream",
     "text": [
      "Epoch 10, Average Train Loss: 0.001071\n",
      "Epoch 10, Average Test Loss: 0.001323\n"
     ]
    },
    {
     "name": "stderr",
     "output_type": "stream",
     "text": [
      " 22%|█████████▏                                | 11/50 [00:05<00:18,  2.13it/s]"
     ]
    },
    {
     "name": "stdout",
     "output_type": "stream",
     "text": [
      "Epoch 11, Average Train Loss: 0.001023\n",
      "Epoch 11, Average Test Loss: 0.001313\n"
     ]
    },
    {
     "name": "stderr",
     "output_type": "stream",
     "text": [
      " 24%|██████████                                | 12/50 [00:05<00:17,  2.13it/s]"
     ]
    },
    {
     "name": "stdout",
     "output_type": "stream",
     "text": [
      "Epoch 12, Average Train Loss: 0.000973\n",
      "Epoch 12, Average Test Loss: 0.001231\n"
     ]
    },
    {
     "name": "stderr",
     "output_type": "stream",
     "text": [
      " 26%|██████████▉                               | 13/50 [00:06<00:17,  2.11it/s]"
     ]
    },
    {
     "name": "stdout",
     "output_type": "stream",
     "text": [
      "Epoch 13, Average Train Loss: 0.000943\n",
      "Epoch 13, Average Test Loss: 0.001146\n"
     ]
    },
    {
     "name": "stderr",
     "output_type": "stream",
     "text": [
      " 28%|███████████▊                              | 14/50 [00:06<00:16,  2.12it/s]"
     ]
    },
    {
     "name": "stdout",
     "output_type": "stream",
     "text": [
      "Epoch 14, Average Train Loss: 0.000890\n",
      "Epoch 14, Average Test Loss: 0.001170\n"
     ]
    },
    {
     "name": "stderr",
     "output_type": "stream",
     "text": [
      " 30%|████████████▌                             | 15/50 [00:07<00:16,  2.13it/s]"
     ]
    },
    {
     "name": "stdout",
     "output_type": "stream",
     "text": [
      "Epoch 15, Average Train Loss: 0.000863\n",
      "Epoch 15, Average Test Loss: 0.001130\n"
     ]
    },
    {
     "name": "stderr",
     "output_type": "stream",
     "text": [
      " 32%|█████████████▍                            | 16/50 [00:07<00:16,  2.12it/s]"
     ]
    },
    {
     "name": "stdout",
     "output_type": "stream",
     "text": [
      "Epoch 16, Average Train Loss: 0.000820\n",
      "Epoch 16, Average Test Loss: 0.001096\n"
     ]
    },
    {
     "name": "stderr",
     "output_type": "stream",
     "text": [
      " 34%|██████████████▎                           | 17/50 [00:07<00:15,  2.12it/s]"
     ]
    },
    {
     "name": "stdout",
     "output_type": "stream",
     "text": [
      "Epoch 17, Average Train Loss: 0.000775\n",
      "Epoch 17, Average Test Loss: 0.001053\n"
     ]
    },
    {
     "name": "stderr",
     "output_type": "stream",
     "text": [
      " 36%|███████████████                           | 18/50 [00:08<00:15,  2.12it/s]"
     ]
    },
    {
     "name": "stdout",
     "output_type": "stream",
     "text": [
      "Epoch 18, Average Train Loss: 0.000723\n",
      "Epoch 18, Average Test Loss: 0.001002\n"
     ]
    },
    {
     "name": "stderr",
     "output_type": "stream",
     "text": [
      " 38%|███████████████▉                          | 19/50 [00:08<00:14,  2.12it/s]"
     ]
    },
    {
     "name": "stdout",
     "output_type": "stream",
     "text": [
      "Epoch 19, Average Train Loss: 0.000663\n",
      "Epoch 19, Average Test Loss: 0.000944\n"
     ]
    },
    {
     "name": "stderr",
     "output_type": "stream",
     "text": [
      " 40%|████████████████▊                         | 20/50 [00:09<00:14,  2.13it/s]"
     ]
    },
    {
     "name": "stdout",
     "output_type": "stream",
     "text": [
      "Epoch 20, Average Train Loss: 0.000598\n",
      "Epoch 20, Average Test Loss: 0.000869\n"
     ]
    },
    {
     "name": "stderr",
     "output_type": "stream",
     "text": [
      " 42%|█████████████████▋                        | 21/50 [00:09<00:13,  2.14it/s]"
     ]
    },
    {
     "name": "stdout",
     "output_type": "stream",
     "text": [
      "Epoch 21, Average Train Loss: 0.000534\n",
      "Epoch 21, Average Test Loss: 0.000797\n"
     ]
    },
    {
     "name": "stderr",
     "output_type": "stream",
     "text": [
      " 44%|██████████████████▍                       | 22/50 [00:10<00:13,  2.15it/s]"
     ]
    },
    {
     "name": "stdout",
     "output_type": "stream",
     "text": [
      "Epoch 22, Average Train Loss: 0.000473\n",
      "Epoch 22, Average Test Loss: 0.000717\n"
     ]
    },
    {
     "name": "stderr",
     "output_type": "stream",
     "text": [
      " 46%|███████████████████▎                      | 23/50 [00:10<00:12,  2.14it/s]"
     ]
    },
    {
     "name": "stdout",
     "output_type": "stream",
     "text": [
      "Epoch 23, Average Train Loss: 0.000414\n",
      "Epoch 23, Average Test Loss: 0.000629\n"
     ]
    },
    {
     "name": "stderr",
     "output_type": "stream",
     "text": [
      " 48%|████████████████████▏                     | 24/50 [00:11<00:12,  2.13it/s]"
     ]
    },
    {
     "name": "stdout",
     "output_type": "stream",
     "text": [
      "Epoch 24, Average Train Loss: 0.000357\n",
      "Epoch 24, Average Test Loss: 0.000535\n"
     ]
    },
    {
     "name": "stderr",
     "output_type": "stream",
     "text": [
      " 50%|█████████████████████                     | 25/50 [00:11<00:11,  2.14it/s]"
     ]
    },
    {
     "name": "stdout",
     "output_type": "stream",
     "text": [
      "Epoch 25, Average Train Loss: 0.000300\n",
      "Epoch 25, Average Test Loss: 0.000433\n",
      "Epoch 26, Average Train Loss: 0.000244\n"
     ]
    },
    {
     "name": "stderr",
     "output_type": "stream",
     "text": [
      " 52%|█████████████████████▊                    | 26/50 [00:12<00:12,  1.91it/s]"
     ]
    },
    {
     "name": "stdout",
     "output_type": "stream",
     "text": [
      "Epoch 26, Average Test Loss: 0.000344\n"
     ]
    },
    {
     "name": "stderr",
     "output_type": "stream",
     "text": [
      " 54%|██████████████████████▋                   | 27/50 [00:12<00:11,  1.98it/s]"
     ]
    },
    {
     "name": "stdout",
     "output_type": "stream",
     "text": [
      "Epoch 27, Average Train Loss: 0.000195\n",
      "Epoch 27, Average Test Loss: 0.000280\n"
     ]
    },
    {
     "name": "stderr",
     "output_type": "stream",
     "text": [
      " 56%|███████████████████████▌                  | 28/50 [00:13<00:10,  2.00it/s]"
     ]
    },
    {
     "name": "stdout",
     "output_type": "stream",
     "text": [
      "Epoch 28, Average Train Loss: 0.000156\n",
      "Epoch 28, Average Test Loss: 0.000234\n"
     ]
    },
    {
     "name": "stderr",
     "output_type": "stream",
     "text": [
      " 58%|████████████████████████▎                 | 29/50 [00:13<00:10,  2.04it/s]"
     ]
    },
    {
     "name": "stdout",
     "output_type": "stream",
     "text": [
      "Epoch 29, Average Train Loss: 0.000130\n",
      "Epoch 29, Average Test Loss: 0.000205\n"
     ]
    },
    {
     "name": "stderr",
     "output_type": "stream",
     "text": [
      " 60%|█████████████████████████▏                | 30/50 [00:14<00:09,  2.07it/s]"
     ]
    },
    {
     "name": "stdout",
     "output_type": "stream",
     "text": [
      "Epoch 30, Average Train Loss: 0.000112\n",
      "Epoch 30, Average Test Loss: 0.000188\n"
     ]
    },
    {
     "name": "stderr",
     "output_type": "stream",
     "text": [
      " 62%|██████████████████████████                | 31/50 [00:14<00:09,  2.09it/s]"
     ]
    },
    {
     "name": "stdout",
     "output_type": "stream",
     "text": [
      "Epoch 31, Average Train Loss: 0.000100\n",
      "Epoch 31, Average Test Loss: 0.000178\n"
     ]
    },
    {
     "name": "stderr",
     "output_type": "stream",
     "text": [
      " 64%|██████████████████████████▉               | 32/50 [00:15<00:08,  2.11it/s]"
     ]
    },
    {
     "name": "stdout",
     "output_type": "stream",
     "text": [
      "Epoch 32, Average Train Loss: 0.000090\n",
      "Epoch 32, Average Test Loss: 0.000170\n"
     ]
    },
    {
     "name": "stderr",
     "output_type": "stream",
     "text": [
      " 66%|███████████████████████████▋              | 33/50 [00:15<00:08,  2.11it/s]"
     ]
    },
    {
     "name": "stdout",
     "output_type": "stream",
     "text": [
      "Epoch 33, Average Train Loss: 0.000083\n",
      "Epoch 33, Average Test Loss: 0.000164\n"
     ]
    },
    {
     "name": "stderr",
     "output_type": "stream",
     "text": [
      " 68%|████████████████████████████▌             | 34/50 [00:16<00:07,  2.12it/s]"
     ]
    },
    {
     "name": "stdout",
     "output_type": "stream",
     "text": [
      "Epoch 34, Average Train Loss: 0.000077\n",
      "Epoch 34, Average Test Loss: 0.000159\n"
     ]
    },
    {
     "name": "stderr",
     "output_type": "stream",
     "text": [
      " 70%|█████████████████████████████▍            | 35/50 [00:16<00:07,  2.12it/s]"
     ]
    },
    {
     "name": "stdout",
     "output_type": "stream",
     "text": [
      "Epoch 35, Average Train Loss: 0.000071\n",
      "Epoch 35, Average Test Loss: 0.000156\n"
     ]
    },
    {
     "name": "stderr",
     "output_type": "stream",
     "text": [
      " 72%|██████████████████████████████▏           | 36/50 [00:17<00:06,  2.13it/s]"
     ]
    },
    {
     "name": "stdout",
     "output_type": "stream",
     "text": [
      "Epoch 36, Average Train Loss: 0.000067\n",
      "Epoch 36, Average Test Loss: 0.000154\n"
     ]
    },
    {
     "name": "stderr",
     "output_type": "stream",
     "text": [
      " 74%|███████████████████████████████           | 37/50 [00:17<00:06,  2.13it/s]"
     ]
    },
    {
     "name": "stdout",
     "output_type": "stream",
     "text": [
      "Epoch 37, Average Train Loss: 0.000063\n",
      "Epoch 37, Average Test Loss: 0.000153\n"
     ]
    },
    {
     "name": "stderr",
     "output_type": "stream",
     "text": [
      " 76%|███████████████████████████████▉          | 38/50 [00:18<00:05,  2.14it/s]"
     ]
    },
    {
     "name": "stdout",
     "output_type": "stream",
     "text": [
      "Epoch 38, Average Train Loss: 0.000059\n",
      "Epoch 38, Average Test Loss: 0.000153\n"
     ]
    },
    {
     "name": "stderr",
     "output_type": "stream",
     "text": [
      " 78%|████████████████████████████████▊         | 39/50 [00:18<00:05,  2.13it/s]"
     ]
    },
    {
     "name": "stdout",
     "output_type": "stream",
     "text": [
      "Epoch 39, Average Train Loss: 0.000056\n",
      "Epoch 39, Average Test Loss: 0.000154\n"
     ]
    },
    {
     "name": "stderr",
     "output_type": "stream",
     "text": [
      " 80%|█████████████████████████████████▌        | 40/50 [00:18<00:04,  2.13it/s]"
     ]
    },
    {
     "name": "stdout",
     "output_type": "stream",
     "text": [
      "Epoch 40, Average Train Loss: 0.000053\n",
      "Epoch 40, Average Test Loss: 0.000154\n"
     ]
    },
    {
     "name": "stderr",
     "output_type": "stream",
     "text": [
      " 82%|██████████████████████████████████▍       | 41/50 [00:19<00:04,  2.13it/s]"
     ]
    },
    {
     "name": "stdout",
     "output_type": "stream",
     "text": [
      "Epoch 41, Average Train Loss: 0.000051\n",
      "Epoch 41, Average Test Loss: 0.000154\n"
     ]
    },
    {
     "name": "stderr",
     "output_type": "stream",
     "text": [
      " 84%|███████████████████████████████████▎      | 42/50 [00:19<00:03,  2.14it/s]"
     ]
    },
    {
     "name": "stdout",
     "output_type": "stream",
     "text": [
      "Epoch 42, Average Train Loss: 0.000049\n",
      "Epoch 42, Average Test Loss: 0.000154\n"
     ]
    },
    {
     "name": "stderr",
     "output_type": "stream",
     "text": [
      " 86%|████████████████████████████████████      | 43/50 [00:20<00:03,  2.15it/s]"
     ]
    },
    {
     "name": "stdout",
     "output_type": "stream",
     "text": [
      "Epoch 43, Average Train Loss: 0.000047\n",
      "Epoch 43, Average Test Loss: 0.000152\n"
     ]
    },
    {
     "name": "stderr",
     "output_type": "stream",
     "text": [
      " 88%|████████████████████████████████████▉     | 44/50 [00:20<00:02,  2.15it/s]"
     ]
    },
    {
     "name": "stdout",
     "output_type": "stream",
     "text": [
      "Epoch 44, Average Train Loss: 0.000045\n",
      "Epoch 44, Average Test Loss: 0.000150\n"
     ]
    },
    {
     "name": "stderr",
     "output_type": "stream",
     "text": [
      " 90%|█████████████████████████████████████▊    | 45/50 [00:21<00:02,  2.11it/s]"
     ]
    },
    {
     "name": "stdout",
     "output_type": "stream",
     "text": [
      "Epoch 45, Average Train Loss: 0.000044\n",
      "Epoch 45, Average Test Loss: 0.000149\n"
     ]
    },
    {
     "name": "stderr",
     "output_type": "stream",
     "text": [
      " 92%|██████████████████████████████████████▋   | 46/50 [00:21<00:01,  2.12it/s]"
     ]
    },
    {
     "name": "stdout",
     "output_type": "stream",
     "text": [
      "Epoch 46, Average Train Loss: 0.000042\n",
      "Epoch 46, Average Test Loss: 0.000148\n"
     ]
    },
    {
     "name": "stderr",
     "output_type": "stream",
     "text": [
      " 94%|███████████████████████████████████████▍  | 47/50 [00:22<00:01,  2.13it/s]"
     ]
    },
    {
     "name": "stdout",
     "output_type": "stream",
     "text": [
      "Epoch 47, Average Train Loss: 0.000041\n",
      "Epoch 47, Average Test Loss: 0.000147\n"
     ]
    },
    {
     "name": "stderr",
     "output_type": "stream",
     "text": [
      " 96%|████████████████████████████████████████▎ | 48/50 [00:22<00:00,  2.14it/s]"
     ]
    },
    {
     "name": "stdout",
     "output_type": "stream",
     "text": [
      "Epoch 48, Average Train Loss: 0.000041\n",
      "Epoch 48, Average Test Loss: 0.000147\n"
     ]
    },
    {
     "name": "stderr",
     "output_type": "stream",
     "text": [
      " 98%|█████████████████████████████████████████▏| 49/50 [00:23<00:00,  2.15it/s]"
     ]
    },
    {
     "name": "stdout",
     "output_type": "stream",
     "text": [
      "Epoch 49, Average Train Loss: 0.000040\n",
      "Epoch 49, Average Test Loss: 0.000145\n"
     ]
    },
    {
     "name": "stderr",
     "output_type": "stream",
     "text": [
      "100%|██████████████████████████████████████████| 50/50 [00:23<00:00,  2.12it/s]"
     ]
    },
    {
     "name": "stdout",
     "output_type": "stream",
     "text": [
      "Epoch 50, Average Train Loss: 0.000041\n",
      "Epoch 50, Average Test Loss: 0.000146\n",
      "Training random model...\n",
      "Train/Test split: 3598 train files, 922 test files\n",
      "Train/Test split: 3598 train files, 922 test files\n"
     ]
    },
    {
     "name": "stderr",
     "output_type": "stream",
     "text": [
      "\n",
      "  2%|▊                                          | 1/50 [00:00<00:22,  2.13it/s]"
     ]
    },
    {
     "name": "stdout",
     "output_type": "stream",
     "text": [
      "Epoch 1, Average Train Loss: 0.003002\n",
      "Epoch 1, Average Test Loss: 0.001340\n"
     ]
    },
    {
     "name": "stderr",
     "output_type": "stream",
     "text": [
      "  4%|█▋                                         | 2/50 [00:00<00:22,  2.14it/s]"
     ]
    },
    {
     "name": "stdout",
     "output_type": "stream",
     "text": [
      "Epoch 2, Average Train Loss: 0.001139\n",
      "Epoch 2, Average Test Loss: 0.000872\n"
     ]
    },
    {
     "name": "stderr",
     "output_type": "stream",
     "text": [
      "  6%|██▌                                        | 3/50 [00:01<00:21,  2.14it/s]"
     ]
    },
    {
     "name": "stdout",
     "output_type": "stream",
     "text": [
      "Epoch 3, Average Train Loss: 0.000830\n",
      "Epoch 3, Average Test Loss: 0.000682\n"
     ]
    },
    {
     "name": "stderr",
     "output_type": "stream",
     "text": [
      "  8%|███▍                                       | 4/50 [00:01<00:21,  2.14it/s]"
     ]
    },
    {
     "name": "stdout",
     "output_type": "stream",
     "text": [
      "Epoch 4, Average Train Loss: 0.000632\n",
      "Epoch 4, Average Test Loss: 0.000536\n"
     ]
    },
    {
     "name": "stderr",
     "output_type": "stream",
     "text": [
      " 10%|████▎                                      | 5/50 [00:02<00:21,  2.14it/s]"
     ]
    },
    {
     "name": "stdout",
     "output_type": "stream",
     "text": [
      "Epoch 5, Average Train Loss: 0.000510\n",
      "Epoch 5, Average Test Loss: 0.000452\n"
     ]
    },
    {
     "name": "stderr",
     "output_type": "stream",
     "text": [
      " 12%|█████▏                                     | 6/50 [00:02<00:21,  2.08it/s]"
     ]
    },
    {
     "name": "stdout",
     "output_type": "stream",
     "text": [
      "Epoch 6, Average Train Loss: 0.000439\n",
      "Epoch 6, Average Test Loss: 0.000402\n"
     ]
    },
    {
     "name": "stderr",
     "output_type": "stream",
     "text": [
      " 14%|██████                                     | 7/50 [00:03<00:20,  2.07it/s]"
     ]
    },
    {
     "name": "stdout",
     "output_type": "stream",
     "text": [
      "Epoch 7, Average Train Loss: 0.000393\n",
      "Epoch 7, Average Test Loss: 0.000368\n"
     ]
    },
    {
     "name": "stderr",
     "output_type": "stream",
     "text": [
      " 16%|██████▉                                    | 8/50 [00:03<00:20,  2.07it/s]"
     ]
    },
    {
     "name": "stdout",
     "output_type": "stream",
     "text": [
      "Epoch 8, Average Train Loss: 0.000358\n",
      "Epoch 8, Average Test Loss: 0.000343\n"
     ]
    },
    {
     "name": "stderr",
     "output_type": "stream",
     "text": [
      " 18%|███████▋                                   | 9/50 [00:04<00:19,  2.08it/s]"
     ]
    },
    {
     "name": "stdout",
     "output_type": "stream",
     "text": [
      "Epoch 9, Average Train Loss: 0.000328\n",
      "Epoch 9, Average Test Loss: 0.000323\n"
     ]
    },
    {
     "name": "stderr",
     "output_type": "stream",
     "text": [
      " 20%|████████▍                                 | 10/50 [00:04<00:19,  2.10it/s]"
     ]
    },
    {
     "name": "stdout",
     "output_type": "stream",
     "text": [
      "Epoch 10, Average Train Loss: 0.000305\n",
      "Epoch 10, Average Test Loss: 0.000306\n"
     ]
    },
    {
     "name": "stderr",
     "output_type": "stream",
     "text": [
      " 22%|█████████▏                                | 11/50 [00:05<00:18,  2.11it/s]"
     ]
    },
    {
     "name": "stdout",
     "output_type": "stream",
     "text": [
      "Epoch 11, Average Train Loss: 0.000285\n",
      "Epoch 11, Average Test Loss: 0.000290\n"
     ]
    },
    {
     "name": "stderr",
     "output_type": "stream",
     "text": [
      " 24%|██████████                                | 12/50 [00:05<00:17,  2.12it/s]"
     ]
    },
    {
     "name": "stdout",
     "output_type": "stream",
     "text": [
      "Epoch 12, Average Train Loss: 0.000265\n",
      "Epoch 12, Average Test Loss: 0.000275\n"
     ]
    },
    {
     "name": "stderr",
     "output_type": "stream",
     "text": [
      " 26%|██████████▉                               | 13/50 [00:06<00:17,  2.13it/s]"
     ]
    },
    {
     "name": "stdout",
     "output_type": "stream",
     "text": [
      "Epoch 13, Average Train Loss: 0.000246\n",
      "Epoch 13, Average Test Loss: 0.000260\n"
     ]
    },
    {
     "name": "stderr",
     "output_type": "stream",
     "text": [
      " 28%|███████████▊                              | 14/50 [00:06<00:16,  2.14it/s]"
     ]
    },
    {
     "name": "stdout",
     "output_type": "stream",
     "text": [
      "Epoch 14, Average Train Loss: 0.000229\n",
      "Epoch 14, Average Test Loss: 0.000247\n"
     ]
    },
    {
     "name": "stderr",
     "output_type": "stream",
     "text": [
      " 30%|████████████▌                             | 15/50 [00:07<00:16,  2.13it/s]"
     ]
    },
    {
     "name": "stdout",
     "output_type": "stream",
     "text": [
      "Epoch 15, Average Train Loss: 0.000212\n",
      "Epoch 15, Average Test Loss: 0.000235\n"
     ]
    },
    {
     "name": "stderr",
     "output_type": "stream",
     "text": [
      " 32%|█████████████▍                            | 16/50 [00:07<00:16,  2.12it/s]"
     ]
    },
    {
     "name": "stdout",
     "output_type": "stream",
     "text": [
      "Epoch 16, Average Train Loss: 0.000197\n",
      "Epoch 16, Average Test Loss: 0.000223\n"
     ]
    },
    {
     "name": "stderr",
     "output_type": "stream",
     "text": [
      " 34%|██████████████▎                           | 17/50 [00:08<00:15,  2.10it/s]"
     ]
    },
    {
     "name": "stdout",
     "output_type": "stream",
     "text": [
      "Epoch 17, Average Train Loss: 0.000183\n",
      "Epoch 17, Average Test Loss: 0.000210\n"
     ]
    },
    {
     "name": "stderr",
     "output_type": "stream",
     "text": [
      " 36%|███████████████                           | 18/50 [00:08<00:15,  2.09it/s]"
     ]
    },
    {
     "name": "stdout",
     "output_type": "stream",
     "text": [
      "Epoch 18, Average Train Loss: 0.000170\n",
      "Epoch 18, Average Test Loss: 0.000199\n"
     ]
    },
    {
     "name": "stderr",
     "output_type": "stream",
     "text": [
      " 38%|███████████████▉                          | 19/50 [00:09<00:14,  2.11it/s]"
     ]
    },
    {
     "name": "stdout",
     "output_type": "stream",
     "text": [
      "Epoch 19, Average Train Loss: 0.000159\n",
      "Epoch 19, Average Test Loss: 0.000189\n"
     ]
    },
    {
     "name": "stderr",
     "output_type": "stream",
     "text": [
      " 40%|████████████████▊                         | 20/50 [00:09<00:14,  2.13it/s]"
     ]
    },
    {
     "name": "stdout",
     "output_type": "stream",
     "text": [
      "Epoch 20, Average Train Loss: 0.000150\n",
      "Epoch 20, Average Test Loss: 0.000181\n"
     ]
    },
    {
     "name": "stderr",
     "output_type": "stream",
     "text": [
      " 42%|█████████████████▋                        | 21/50 [00:09<00:13,  2.13it/s]"
     ]
    },
    {
     "name": "stdout",
     "output_type": "stream",
     "text": [
      "Epoch 21, Average Train Loss: 0.000142\n",
      "Epoch 21, Average Test Loss: 0.000174\n"
     ]
    },
    {
     "name": "stderr",
     "output_type": "stream",
     "text": [
      " 44%|██████████████████▍                       | 22/50 [00:10<00:13,  2.14it/s]"
     ]
    },
    {
     "name": "stdout",
     "output_type": "stream",
     "text": [
      "Epoch 22, Average Train Loss: 0.000135\n",
      "Epoch 22, Average Test Loss: 0.000168\n"
     ]
    },
    {
     "name": "stderr",
     "output_type": "stream",
     "text": [
      " 46%|███████████████████▎                      | 23/50 [00:10<00:12,  2.14it/s]"
     ]
    },
    {
     "name": "stdout",
     "output_type": "stream",
     "text": [
      "Epoch 23, Average Train Loss: 0.000130\n",
      "Epoch 23, Average Test Loss: 0.000164\n"
     ]
    },
    {
     "name": "stderr",
     "output_type": "stream",
     "text": [
      " 48%|████████████████████▏                     | 24/50 [00:11<00:12,  2.14it/s]"
     ]
    },
    {
     "name": "stdout",
     "output_type": "stream",
     "text": [
      "Epoch 24, Average Train Loss: 0.000125\n",
      "Epoch 24, Average Test Loss: 0.000160\n"
     ]
    },
    {
     "name": "stderr",
     "output_type": "stream",
     "text": [
      " 50%|█████████████████████                     | 25/50 [00:11<00:11,  2.13it/s]"
     ]
    },
    {
     "name": "stdout",
     "output_type": "stream",
     "text": [
      "Epoch 25, Average Train Loss: 0.000121\n",
      "Epoch 25, Average Test Loss: 0.000157\n"
     ]
    },
    {
     "name": "stderr",
     "output_type": "stream",
     "text": [
      " 52%|█████████████████████▊                    | 26/50 [00:12<00:11,  2.14it/s]"
     ]
    },
    {
     "name": "stdout",
     "output_type": "stream",
     "text": [
      "Epoch 26, Average Train Loss: 0.000117\n",
      "Epoch 26, Average Test Loss: 0.000155\n"
     ]
    },
    {
     "name": "stderr",
     "output_type": "stream",
     "text": [
      " 54%|██████████████████████▋                   | 27/50 [00:12<00:10,  2.14it/s]"
     ]
    },
    {
     "name": "stdout",
     "output_type": "stream",
     "text": [
      "Epoch 27, Average Train Loss: 0.000114\n",
      "Epoch 27, Average Test Loss: 0.000153\n"
     ]
    },
    {
     "name": "stderr",
     "output_type": "stream",
     "text": [
      " 56%|███████████████████████▌                  | 28/50 [00:13<00:10,  2.11it/s]"
     ]
    },
    {
     "name": "stdout",
     "output_type": "stream",
     "text": [
      "Epoch 28, Average Train Loss: 0.000112\n",
      "Epoch 28, Average Test Loss: 0.000155\n"
     ]
    },
    {
     "name": "stderr",
     "output_type": "stream",
     "text": [
      " 58%|████████████████████████▎                 | 29/50 [00:13<00:09,  2.11it/s]"
     ]
    },
    {
     "name": "stdout",
     "output_type": "stream",
     "text": [
      "Epoch 29, Average Train Loss: 0.000111\n",
      "Epoch 29, Average Test Loss: 0.000160\n"
     ]
    },
    {
     "name": "stderr",
     "output_type": "stream",
     "text": [
      " 60%|█████████████████████████▏                | 30/50 [00:14<00:09,  2.12it/s]"
     ]
    },
    {
     "name": "stdout",
     "output_type": "stream",
     "text": [
      "Epoch 30, Average Train Loss: 0.000109\n",
      "Epoch 30, Average Test Loss: 0.000161\n"
     ]
    },
    {
     "name": "stderr",
     "output_type": "stream",
     "text": [
      " 62%|██████████████████████████                | 31/50 [00:14<00:08,  2.13it/s]"
     ]
    },
    {
     "name": "stdout",
     "output_type": "stream",
     "text": [
      "Epoch 31, Average Train Loss: 0.000108\n",
      "Epoch 31, Average Test Loss: 0.000170\n"
     ]
    },
    {
     "name": "stderr",
     "output_type": "stream",
     "text": [
      " 64%|██████████████████████████▉               | 32/50 [00:15<00:08,  2.14it/s]"
     ]
    },
    {
     "name": "stdout",
     "output_type": "stream",
     "text": [
      "Epoch 32, Average Train Loss: 0.000106\n",
      "Epoch 32, Average Test Loss: 0.000160\n"
     ]
    },
    {
     "name": "stderr",
     "output_type": "stream",
     "text": [
      " 66%|███████████████████████████▋              | 33/50 [00:15<00:07,  2.14it/s]"
     ]
    },
    {
     "name": "stdout",
     "output_type": "stream",
     "text": [
      "Epoch 33, Average Train Loss: 0.000103\n",
      "Epoch 33, Average Test Loss: 0.000154\n"
     ]
    },
    {
     "name": "stderr",
     "output_type": "stream",
     "text": [
      " 68%|████████████████████████████▌             | 34/50 [00:16<00:07,  2.14it/s]"
     ]
    },
    {
     "name": "stdout",
     "output_type": "stream",
     "text": [
      "Epoch 34, Average Train Loss: 0.000102\n",
      "Epoch 34, Average Test Loss: 0.000152\n"
     ]
    },
    {
     "name": "stderr",
     "output_type": "stream",
     "text": [
      " 70%|█████████████████████████████▍            | 35/50 [00:16<00:07,  2.14it/s]"
     ]
    },
    {
     "name": "stdout",
     "output_type": "stream",
     "text": [
      "Epoch 35, Average Train Loss: 0.000102\n",
      "Epoch 35, Average Test Loss: 0.000157\n"
     ]
    },
    {
     "name": "stderr",
     "output_type": "stream",
     "text": [
      " 72%|██████████████████████████████▏           | 36/50 [00:16<00:06,  2.14it/s]"
     ]
    },
    {
     "name": "stdout",
     "output_type": "stream",
     "text": [
      "Epoch 36, Average Train Loss: 0.000106\n",
      "Epoch 36, Average Test Loss: 0.000172\n"
     ]
    },
    {
     "name": "stderr",
     "output_type": "stream",
     "text": [
      " 74%|███████████████████████████████           | 37/50 [00:17<00:06,  2.14it/s]"
     ]
    },
    {
     "name": "stdout",
     "output_type": "stream",
     "text": [
      "Epoch 37, Average Train Loss: 0.000110\n",
      "Epoch 37, Average Test Loss: 0.000174\n"
     ]
    },
    {
     "name": "stderr",
     "output_type": "stream",
     "text": [
      " 76%|███████████████████████████████▉          | 38/50 [00:17<00:05,  2.14it/s]"
     ]
    },
    {
     "name": "stdout",
     "output_type": "stream",
     "text": [
      "Epoch 38, Average Train Loss: 0.000113\n",
      "Epoch 38, Average Test Loss: 0.000170\n"
     ]
    },
    {
     "name": "stderr",
     "output_type": "stream",
     "text": [
      " 78%|████████████████████████████████▊         | 39/50 [00:18<00:05,  2.14it/s]"
     ]
    },
    {
     "name": "stdout",
     "output_type": "stream",
     "text": [
      "Epoch 39, Average Train Loss: 0.000108\n",
      "Epoch 39, Average Test Loss: 0.000189\n"
     ]
    },
    {
     "name": "stderr",
     "output_type": "stream",
     "text": [
      " 80%|█████████████████████████████████▌        | 40/50 [00:18<00:04,  2.14it/s]"
     ]
    },
    {
     "name": "stdout",
     "output_type": "stream",
     "text": [
      "Epoch 40, Average Train Loss: 0.000099\n",
      "Epoch 40, Average Test Loss: 0.000182\n"
     ]
    },
    {
     "name": "stderr",
     "output_type": "stream",
     "text": [
      " 82%|██████████████████████████████████▍       | 41/50 [00:19<00:04,  2.14it/s]"
     ]
    },
    {
     "name": "stdout",
     "output_type": "stream",
     "text": [
      "Epoch 41, Average Train Loss: 0.000092\n",
      "Epoch 41, Average Test Loss: 0.000168\n"
     ]
    },
    {
     "name": "stderr",
     "output_type": "stream",
     "text": [
      " 84%|███████████████████████████████████▎      | 42/50 [00:19<00:03,  2.13it/s]"
     ]
    },
    {
     "name": "stdout",
     "output_type": "stream",
     "text": [
      "Epoch 42, Average Train Loss: 0.000086\n",
      "Epoch 42, Average Test Loss: 0.000160\n"
     ]
    },
    {
     "name": "stderr",
     "output_type": "stream",
     "text": [
      " 86%|████████████████████████████████████      | 43/50 [00:20<00:03,  2.13it/s]"
     ]
    },
    {
     "name": "stdout",
     "output_type": "stream",
     "text": [
      "Epoch 43, Average Train Loss: 0.000083\n",
      "Epoch 43, Average Test Loss: 0.000155\n"
     ]
    },
    {
     "name": "stderr",
     "output_type": "stream",
     "text": [
      " 88%|████████████████████████████████████▉     | 44/50 [00:20<00:02,  2.13it/s]"
     ]
    },
    {
     "name": "stdout",
     "output_type": "stream",
     "text": [
      "Epoch 44, Average Train Loss: 0.000081\n",
      "Epoch 44, Average Test Loss: 0.000151\n"
     ]
    },
    {
     "name": "stderr",
     "output_type": "stream",
     "text": [
      " 90%|█████████████████████████████████████▊    | 45/50 [00:21<00:02,  2.14it/s]"
     ]
    },
    {
     "name": "stdout",
     "output_type": "stream",
     "text": [
      "Epoch 45, Average Train Loss: 0.000078\n",
      "Epoch 45, Average Test Loss: 0.000148\n"
     ]
    },
    {
     "name": "stderr",
     "output_type": "stream",
     "text": [
      " 92%|██████████████████████████████████████▋   | 46/50 [00:21<00:01,  2.10it/s]"
     ]
    },
    {
     "name": "stdout",
     "output_type": "stream",
     "text": [
      "Epoch 46, Average Train Loss: 0.000077\n",
      "Epoch 46, Average Test Loss: 0.000146\n"
     ]
    },
    {
     "name": "stderr",
     "output_type": "stream",
     "text": [
      " 94%|███████████████████████████████████████▍  | 47/50 [00:22<00:01,  2.12it/s]"
     ]
    },
    {
     "name": "stdout",
     "output_type": "stream",
     "text": [
      "Epoch 47, Average Train Loss: 0.000075\n",
      "Epoch 47, Average Test Loss: 0.000145\n"
     ]
    },
    {
     "name": "stderr",
     "output_type": "stream",
     "text": [
      " 96%|████████████████████████████████████████▎ | 48/50 [00:22<00:00,  2.13it/s]"
     ]
    },
    {
     "name": "stdout",
     "output_type": "stream",
     "text": [
      "Epoch 48, Average Train Loss: 0.000074\n",
      "Epoch 48, Average Test Loss: 0.000144\n"
     ]
    },
    {
     "name": "stderr",
     "output_type": "stream",
     "text": [
      " 98%|█████████████████████████████████████████▏| 49/50 [00:23<00:00,  2.13it/s]"
     ]
    },
    {
     "name": "stdout",
     "output_type": "stream",
     "text": [
      "Epoch 49, Average Train Loss: 0.000074\n",
      "Epoch 49, Average Test Loss: 0.000144\n"
     ]
    },
    {
     "name": "stderr",
     "output_type": "stream",
     "text": [
      "100%|██████████████████████████████████████████| 50/50 [00:23<00:00,  2.12it/s]\n"
     ]
    },
    {
     "name": "stdout",
     "output_type": "stream",
     "text": [
      "Epoch 50, Average Train Loss: 0.000074\n",
      "Epoch 50, Average Test Loss: 0.000145\n",
      "Evaluating models...\n"
     ]
    },
    {
     "name": "stderr",
     "output_type": "stream",
     "text": [
      "0it [00:00, ?it/s]\n",
      "0it [00:00, ?it/s]\n",
      "0it [00:00, ?it/s]"
     ]
    },
    {
     "name": "stdout",
     "output_type": "stream",
     "text": [
      "Training easy-to-hard model...\n",
      "Train/Test split: 3598 train files, 922 test files\n"
     ]
    },
    {
     "name": "stderr",
     "output_type": "stream",
     "text": [
      "\n"
     ]
    },
    {
     "name": "stdout",
     "output_type": "stream",
     "text": [
      "Train/Test split: 3598 train files, 922 test files\n"
     ]
    },
    {
     "name": "stderr",
     "output_type": "stream",
     "text": [
      "  2%|▊                                          | 1/50 [00:00<00:24,  2.04it/s]"
     ]
    },
    {
     "name": "stdout",
     "output_type": "stream",
     "text": [
      "Epoch 1, Average Train Loss: 0.017922\n",
      "Epoch 1, Average Test Loss: 0.062595\n"
     ]
    },
    {
     "name": "stderr",
     "output_type": "stream",
     "text": [
      "  4%|█▋                                         | 2/50 [00:00<00:23,  2.03it/s]"
     ]
    },
    {
     "name": "stdout",
     "output_type": "stream",
     "text": [
      "Epoch 2, Average Train Loss: 0.008669\n",
      "Epoch 2, Average Test Loss: 0.057500\n"
     ]
    },
    {
     "name": "stderr",
     "output_type": "stream",
     "text": [
      "  6%|██▌                                        | 3/50 [00:01<00:23,  2.03it/s]"
     ]
    },
    {
     "name": "stdout",
     "output_type": "stream",
     "text": [
      "Epoch 3, Average Train Loss: 0.006162\n",
      "Epoch 3, Average Test Loss: 0.057808\n"
     ]
    },
    {
     "name": "stderr",
     "output_type": "stream",
     "text": [
      "  8%|███▍                                       | 4/50 [00:01<00:22,  2.04it/s]"
     ]
    },
    {
     "name": "stdout",
     "output_type": "stream",
     "text": [
      "Epoch 4, Average Train Loss: 0.005569\n",
      "Epoch 4, Average Test Loss: 0.056599\n"
     ]
    },
    {
     "name": "stderr",
     "output_type": "stream",
     "text": [
      " 10%|████▎                                      | 5/50 [00:02<00:22,  2.04it/s]"
     ]
    },
    {
     "name": "stdout",
     "output_type": "stream",
     "text": [
      "Epoch 5, Average Train Loss: 0.005303\n",
      "Epoch 5, Average Test Loss: 0.055978\n"
     ]
    },
    {
     "name": "stderr",
     "output_type": "stream",
     "text": [
      " 12%|█████▏                                     | 6/50 [00:02<00:21,  2.03it/s]"
     ]
    },
    {
     "name": "stdout",
     "output_type": "stream",
     "text": [
      "Epoch 6, Average Train Loss: 0.005142\n",
      "Epoch 6, Average Test Loss: 0.055575\n"
     ]
    },
    {
     "name": "stderr",
     "output_type": "stream",
     "text": [
      " 14%|██████                                     | 7/50 [00:03<00:21,  2.04it/s]"
     ]
    },
    {
     "name": "stdout",
     "output_type": "stream",
     "text": [
      "Epoch 7, Average Train Loss: 0.005013\n",
      "Epoch 7, Average Test Loss: 0.055535\n"
     ]
    },
    {
     "name": "stderr",
     "output_type": "stream",
     "text": [
      " 16%|██████▉                                    | 8/50 [00:03<00:20,  2.05it/s]"
     ]
    },
    {
     "name": "stdout",
     "output_type": "stream",
     "text": [
      "Epoch 8, Average Train Loss: 0.004918\n",
      "Epoch 8, Average Test Loss: 0.055442\n"
     ]
    },
    {
     "name": "stderr",
     "output_type": "stream",
     "text": [
      " 18%|███████▋                                   | 9/50 [00:04<00:20,  2.03it/s]"
     ]
    },
    {
     "name": "stdout",
     "output_type": "stream",
     "text": [
      "Epoch 9, Average Train Loss: 0.004835\n",
      "Epoch 9, Average Test Loss: 0.055338\n"
     ]
    },
    {
     "name": "stderr",
     "output_type": "stream",
     "text": [
      " 20%|████████▍                                 | 10/50 [00:04<00:19,  2.04it/s]"
     ]
    },
    {
     "name": "stdout",
     "output_type": "stream",
     "text": [
      "Epoch 10, Average Train Loss: 0.004764\n",
      "Epoch 10, Average Test Loss: 0.055305\n"
     ]
    },
    {
     "name": "stderr",
     "output_type": "stream",
     "text": [
      " 22%|█████████▏                                | 11/50 [00:05<00:19,  2.04it/s]"
     ]
    },
    {
     "name": "stdout",
     "output_type": "stream",
     "text": [
      "Epoch 11, Average Train Loss: 0.004708\n",
      "Epoch 11, Average Test Loss: 0.055243\n"
     ]
    },
    {
     "name": "stderr",
     "output_type": "stream",
     "text": [
      " 24%|██████████                                | 12/50 [00:05<00:18,  2.02it/s]"
     ]
    },
    {
     "name": "stdout",
     "output_type": "stream",
     "text": [
      "Epoch 12, Average Train Loss: 0.004645\n",
      "Epoch 12, Average Test Loss: 0.055219\n"
     ]
    },
    {
     "name": "stderr",
     "output_type": "stream",
     "text": [
      " 26%|██████████▉                               | 13/50 [00:06<00:18,  2.05it/s]"
     ]
    },
    {
     "name": "stdout",
     "output_type": "stream",
     "text": [
      "Epoch 13, Average Train Loss: 0.004583\n",
      "Epoch 13, Average Test Loss: 0.055147\n"
     ]
    },
    {
     "name": "stderr",
     "output_type": "stream",
     "text": [
      " 28%|███████████▊                              | 14/50 [00:06<00:17,  2.06it/s]"
     ]
    },
    {
     "name": "stdout",
     "output_type": "stream",
     "text": [
      "Epoch 14, Average Train Loss: 0.004511\n",
      "Epoch 14, Average Test Loss: 0.055058\n"
     ]
    },
    {
     "name": "stderr",
     "output_type": "stream",
     "text": [
      " 30%|████████████▌                             | 15/50 [00:07<00:16,  2.08it/s]"
     ]
    },
    {
     "name": "stdout",
     "output_type": "stream",
     "text": [
      "Epoch 15, Average Train Loss: 0.004448\n",
      "Epoch 15, Average Test Loss: 0.055010\n"
     ]
    },
    {
     "name": "stderr",
     "output_type": "stream",
     "text": [
      " 32%|█████████████▍                            | 16/50 [00:07<00:16,  2.09it/s]"
     ]
    },
    {
     "name": "stdout",
     "output_type": "stream",
     "text": [
      "Epoch 16, Average Train Loss: 0.004381\n",
      "Epoch 16, Average Test Loss: 0.054891\n"
     ]
    },
    {
     "name": "stderr",
     "output_type": "stream",
     "text": [
      " 34%|██████████████▎                           | 17/50 [00:08<00:15,  2.09it/s]"
     ]
    },
    {
     "name": "stdout",
     "output_type": "stream",
     "text": [
      "Epoch 17, Average Train Loss: 0.004319\n",
      "Epoch 17, Average Test Loss: 0.054847\n"
     ]
    },
    {
     "name": "stderr",
     "output_type": "stream",
     "text": [
      " 36%|███████████████                           | 18/50 [00:08<00:15,  2.10it/s]"
     ]
    },
    {
     "name": "stdout",
     "output_type": "stream",
     "text": [
      "Epoch 18, Average Train Loss: 0.004263\n",
      "Epoch 18, Average Test Loss: 0.054770\n"
     ]
    },
    {
     "name": "stderr",
     "output_type": "stream",
     "text": [
      " 38%|███████████████▉                          | 19/50 [00:09<00:14,  2.10it/s]"
     ]
    },
    {
     "name": "stdout",
     "output_type": "stream",
     "text": [
      "Epoch 19, Average Train Loss: 0.004211\n",
      "Epoch 19, Average Test Loss: 0.054702\n"
     ]
    },
    {
     "name": "stderr",
     "output_type": "stream",
     "text": [
      " 40%|████████████████▊                         | 20/50 [00:09<00:14,  2.10it/s]"
     ]
    },
    {
     "name": "stdout",
     "output_type": "stream",
     "text": [
      "Epoch 20, Average Train Loss: 0.004158\n",
      "Epoch 20, Average Test Loss: 0.054615\n"
     ]
    },
    {
     "name": "stderr",
     "output_type": "stream",
     "text": [
      " 42%|█████████████████▋                        | 21/50 [00:10<00:13,  2.10it/s]"
     ]
    },
    {
     "name": "stdout",
     "output_type": "stream",
     "text": [
      "Epoch 21, Average Train Loss: 0.004102\n",
      "Epoch 21, Average Test Loss: 0.054566\n"
     ]
    },
    {
     "name": "stderr",
     "output_type": "stream",
     "text": [
      " 44%|██████████████████▍                       | 22/50 [00:10<00:13,  2.10it/s]"
     ]
    },
    {
     "name": "stdout",
     "output_type": "stream",
     "text": [
      "Epoch 22, Average Train Loss: 0.004049\n",
      "Epoch 22, Average Test Loss: 0.054517\n"
     ]
    },
    {
     "name": "stderr",
     "output_type": "stream",
     "text": [
      " 46%|███████████████████▎                      | 23/50 [00:11<00:13,  2.08it/s]"
     ]
    },
    {
     "name": "stdout",
     "output_type": "stream",
     "text": [
      "Epoch 23, Average Train Loss: 0.004008\n",
      "Epoch 23, Average Test Loss: 0.054456\n"
     ]
    },
    {
     "name": "stderr",
     "output_type": "stream",
     "text": [
      " 48%|████████████████████▏                     | 24/50 [00:11<00:12,  2.03it/s]"
     ]
    },
    {
     "name": "stdout",
     "output_type": "stream",
     "text": [
      "Epoch 24, Average Train Loss: 0.003956\n",
      "Epoch 24, Average Test Loss: 0.054351\n"
     ]
    },
    {
     "name": "stderr",
     "output_type": "stream",
     "text": [
      " 50%|█████████████████████                     | 25/50 [00:12<00:12,  2.04it/s]"
     ]
    },
    {
     "name": "stdout",
     "output_type": "stream",
     "text": [
      "Epoch 25, Average Train Loss: 0.003919\n",
      "Epoch 25, Average Test Loss: 0.054298\n"
     ]
    },
    {
     "name": "stderr",
     "output_type": "stream",
     "text": [
      " 52%|█████████████████████▊                    | 26/50 [00:12<00:11,  2.05it/s]"
     ]
    },
    {
     "name": "stdout",
     "output_type": "stream",
     "text": [
      "Epoch 26, Average Train Loss: 0.003885\n",
      "Epoch 26, Average Test Loss: 0.054337\n"
     ]
    },
    {
     "name": "stderr",
     "output_type": "stream",
     "text": [
      " 54%|██████████████████████▋                   | 27/50 [00:13<00:11,  2.07it/s]"
     ]
    },
    {
     "name": "stdout",
     "output_type": "stream",
     "text": [
      "Epoch 27, Average Train Loss: 0.003854\n",
      "Epoch 27, Average Test Loss: 0.054355\n"
     ]
    },
    {
     "name": "stderr",
     "output_type": "stream",
     "text": [
      " 56%|███████████████████████▌                  | 28/50 [00:13<00:10,  2.08it/s]"
     ]
    },
    {
     "name": "stdout",
     "output_type": "stream",
     "text": [
      "Epoch 28, Average Train Loss: 0.003826\n",
      "Epoch 28, Average Test Loss: 0.054420\n"
     ]
    },
    {
     "name": "stderr",
     "output_type": "stream",
     "text": [
      " 58%|████████████████████████▎                 | 29/50 [00:14<00:10,  2.09it/s]"
     ]
    },
    {
     "name": "stdout",
     "output_type": "stream",
     "text": [
      "Epoch 29, Average Train Loss: 0.003800\n",
      "Epoch 29, Average Test Loss: 0.054445\n"
     ]
    },
    {
     "name": "stderr",
     "output_type": "stream",
     "text": [
      " 60%|█████████████████████████▏                | 30/50 [00:14<00:09,  2.09it/s]"
     ]
    },
    {
     "name": "stdout",
     "output_type": "stream",
     "text": [
      "Epoch 30, Average Train Loss: 0.003770\n",
      "Epoch 30, Average Test Loss: 0.054524\n"
     ]
    },
    {
     "name": "stderr",
     "output_type": "stream",
     "text": [
      " 62%|██████████████████████████                | 31/50 [00:15<00:09,  2.08it/s]"
     ]
    },
    {
     "name": "stdout",
     "output_type": "stream",
     "text": [
      "Epoch 31, Average Train Loss: 0.003739\n",
      "Epoch 31, Average Test Loss: 0.054549\n"
     ]
    },
    {
     "name": "stderr",
     "output_type": "stream",
     "text": [
      " 64%|██████████████████████████▉               | 32/50 [00:15<00:08,  2.08it/s]"
     ]
    },
    {
     "name": "stdout",
     "output_type": "stream",
     "text": [
      "Epoch 32, Average Train Loss: 0.003695\n",
      "Epoch 32, Average Test Loss: 0.054567\n"
     ]
    },
    {
     "name": "stderr",
     "output_type": "stream",
     "text": [
      " 66%|███████████████████████████▋              | 33/50 [00:15<00:08,  2.09it/s]"
     ]
    },
    {
     "name": "stdout",
     "output_type": "stream",
     "text": [
      "Epoch 33, Average Train Loss: 0.003666\n",
      "Epoch 33, Average Test Loss: 0.054546\n"
     ]
    },
    {
     "name": "stderr",
     "output_type": "stream",
     "text": [
      " 68%|████████████████████████████▌             | 34/50 [00:16<00:07,  2.11it/s]"
     ]
    },
    {
     "name": "stdout",
     "output_type": "stream",
     "text": [
      "Epoch 34, Average Train Loss: 0.003646\n",
      "Epoch 34, Average Test Loss: 0.054574\n"
     ]
    },
    {
     "name": "stderr",
     "output_type": "stream",
     "text": [
      " 70%|█████████████████████████████▍            | 35/50 [00:16<00:07,  2.12it/s]"
     ]
    },
    {
     "name": "stdout",
     "output_type": "stream",
     "text": [
      "Epoch 35, Average Train Loss: 0.003629\n",
      "Epoch 35, Average Test Loss: 0.054615\n"
     ]
    },
    {
     "name": "stderr",
     "output_type": "stream",
     "text": [
      " 72%|██████████████████████████████▏           | 36/50 [00:17<00:06,  2.12it/s]"
     ]
    },
    {
     "name": "stdout",
     "output_type": "stream",
     "text": [
      "Epoch 36, Average Train Loss: 0.003615\n",
      "Epoch 36, Average Test Loss: 0.054726\n"
     ]
    },
    {
     "name": "stderr",
     "output_type": "stream",
     "text": [
      " 74%|███████████████████████████████           | 37/50 [00:17<00:06,  2.12it/s]"
     ]
    },
    {
     "name": "stdout",
     "output_type": "stream",
     "text": [
      "Epoch 37, Average Train Loss: 0.003609\n",
      "Epoch 37, Average Test Loss: 0.054934\n"
     ]
    },
    {
     "name": "stderr",
     "output_type": "stream",
     "text": [
      " 76%|███████████████████████████████▉          | 38/50 [00:18<00:05,  2.12it/s]"
     ]
    },
    {
     "name": "stdout",
     "output_type": "stream",
     "text": [
      "Epoch 38, Average Train Loss: 0.003599\n",
      "Epoch 38, Average Test Loss: 0.055323\n"
     ]
    },
    {
     "name": "stderr",
     "output_type": "stream",
     "text": [
      " 78%|████████████████████████████████▊         | 39/50 [00:18<00:05,  2.12it/s]"
     ]
    },
    {
     "name": "stdout",
     "output_type": "stream",
     "text": [
      "Epoch 39, Average Train Loss: 0.003584\n",
      "Epoch 39, Average Test Loss: 0.055807\n"
     ]
    },
    {
     "name": "stderr",
     "output_type": "stream",
     "text": [
      " 80%|█████████████████████████████████▌        | 40/50 [00:19<00:04,  2.07it/s]"
     ]
    },
    {
     "name": "stdout",
     "output_type": "stream",
     "text": [
      "Epoch 40, Average Train Loss: 0.003593\n",
      "Epoch 40, Average Test Loss: 0.056472\n"
     ]
    },
    {
     "name": "stderr",
     "output_type": "stream",
     "text": [
      " 82%|██████████████████████████████████▍       | 41/50 [00:19<00:04,  2.09it/s]"
     ]
    },
    {
     "name": "stdout",
     "output_type": "stream",
     "text": [
      "Epoch 41, Average Train Loss: 0.003608\n",
      "Epoch 41, Average Test Loss: 0.056748\n"
     ]
    },
    {
     "name": "stderr",
     "output_type": "stream",
     "text": [
      " 84%|███████████████████████████████████▎      | 42/50 [00:20<00:03,  2.10it/s]"
     ]
    },
    {
     "name": "stdout",
     "output_type": "stream",
     "text": [
      "Epoch 42, Average Train Loss: 0.003592\n",
      "Epoch 42, Average Test Loss: 0.056760\n"
     ]
    },
    {
     "name": "stderr",
     "output_type": "stream",
     "text": [
      " 86%|████████████████████████████████████      | 43/50 [00:20<00:03,  2.11it/s]"
     ]
    },
    {
     "name": "stdout",
     "output_type": "stream",
     "text": [
      "Epoch 43, Average Train Loss: 0.003552\n",
      "Epoch 43, Average Test Loss: 0.056825\n"
     ]
    },
    {
     "name": "stderr",
     "output_type": "stream",
     "text": [
      " 88%|████████████████████████████████████▉     | 44/50 [00:21<00:02,  2.12it/s]"
     ]
    },
    {
     "name": "stdout",
     "output_type": "stream",
     "text": [
      "Epoch 44, Average Train Loss: 0.003498\n",
      "Epoch 44, Average Test Loss: 0.056726\n"
     ]
    },
    {
     "name": "stderr",
     "output_type": "stream",
     "text": [
      " 90%|█████████████████████████████████████▊    | 45/50 [00:21<00:02,  2.12it/s]"
     ]
    },
    {
     "name": "stdout",
     "output_type": "stream",
     "text": [
      "Epoch 45, Average Train Loss: 0.003465\n",
      "Epoch 45, Average Test Loss: 0.056790\n"
     ]
    },
    {
     "name": "stderr",
     "output_type": "stream",
     "text": [
      " 92%|██████████████████████████████████████▋   | 46/50 [00:22<00:01,  2.13it/s]"
     ]
    },
    {
     "name": "stdout",
     "output_type": "stream",
     "text": [
      "Epoch 46, Average Train Loss: 0.003421\n",
      "Epoch 46, Average Test Loss: 0.056899\n"
     ]
    },
    {
     "name": "stderr",
     "output_type": "stream",
     "text": [
      " 94%|███████████████████████████████████████▍  | 47/50 [00:22<00:01,  2.13it/s]"
     ]
    },
    {
     "name": "stdout",
     "output_type": "stream",
     "text": [
      "Epoch 47, Average Train Loss: 0.003388\n",
      "Epoch 47, Average Test Loss: 0.056916\n"
     ]
    },
    {
     "name": "stderr",
     "output_type": "stream",
     "text": [
      " 96%|████████████████████████████████████████▎ | 48/50 [00:23<00:00,  2.13it/s]"
     ]
    },
    {
     "name": "stdout",
     "output_type": "stream",
     "text": [
      "Epoch 48, Average Train Loss: 0.003353\n",
      "Epoch 48, Average Test Loss: 0.056683\n"
     ]
    },
    {
     "name": "stderr",
     "output_type": "stream",
     "text": [
      " 98%|█████████████████████████████████████████▏| 49/50 [00:23<00:00,  2.13it/s]"
     ]
    },
    {
     "name": "stdout",
     "output_type": "stream",
     "text": [
      "Epoch 49, Average Train Loss: 0.003309\n",
      "Epoch 49, Average Test Loss: 0.056395\n"
     ]
    },
    {
     "name": "stderr",
     "output_type": "stream",
     "text": [
      "100%|██████████████████████████████████████████| 50/50 [00:23<00:00,  2.08it/s]"
     ]
    },
    {
     "name": "stdout",
     "output_type": "stream",
     "text": [
      "Epoch 50, Average Train Loss: 0.003250\n",
      "Epoch 50, Average Test Loss: 0.056311\n",
      "Training hard-to-easy model...\n",
      "Train/Test split: 3598 train files, 922 test files\n"
     ]
    },
    {
     "name": "stderr",
     "output_type": "stream",
     "text": [
      "\n"
     ]
    },
    {
     "name": "stdout",
     "output_type": "stream",
     "text": [
      "Train/Test split: 3598 train files, 922 test files\n"
     ]
    },
    {
     "name": "stderr",
     "output_type": "stream",
     "text": [
      "  2%|▊                                          | 1/50 [00:00<00:22,  2.14it/s]"
     ]
    },
    {
     "name": "stdout",
     "output_type": "stream",
     "text": [
      "Epoch 1, Average Train Loss: 0.028302\n",
      "Epoch 1, Average Test Loss: 0.068047\n"
     ]
    },
    {
     "name": "stderr",
     "output_type": "stream",
     "text": [
      "  4%|█▋                                         | 2/50 [00:00<00:22,  2.13it/s]"
     ]
    },
    {
     "name": "stdout",
     "output_type": "stream",
     "text": [
      "Epoch 2, Average Train Loss: 0.009699\n",
      "Epoch 2, Average Test Loss: 0.057011\n"
     ]
    },
    {
     "name": "stderr",
     "output_type": "stream",
     "text": [
      "  6%|██▌                                        | 3/50 [00:01<00:22,  2.13it/s]"
     ]
    },
    {
     "name": "stdout",
     "output_type": "stream",
     "text": [
      "Epoch 3, Average Train Loss: 0.007053\n",
      "Epoch 3, Average Test Loss: 0.055783\n"
     ]
    },
    {
     "name": "stderr",
     "output_type": "stream",
     "text": [
      "  8%|███▍                                       | 4/50 [00:01<00:22,  2.06it/s]"
     ]
    },
    {
     "name": "stdout",
     "output_type": "stream",
     "text": [
      "Epoch 4, Average Train Loss: 0.006455\n",
      "Epoch 4, Average Test Loss: 0.054949\n"
     ]
    },
    {
     "name": "stderr",
     "output_type": "stream",
     "text": [
      " 10%|████▎                                      | 5/50 [00:02<00:21,  2.05it/s]"
     ]
    },
    {
     "name": "stdout",
     "output_type": "stream",
     "text": [
      "Epoch 5, Average Train Loss: 0.006035\n",
      "Epoch 5, Average Test Loss: 0.054519\n"
     ]
    },
    {
     "name": "stderr",
     "output_type": "stream",
     "text": [
      " 12%|█████▏                                     | 6/50 [00:02<00:21,  2.04it/s]"
     ]
    },
    {
     "name": "stdout",
     "output_type": "stream",
     "text": [
      "Epoch 6, Average Train Loss: 0.005739\n",
      "Epoch 6, Average Test Loss: 0.054179\n"
     ]
    },
    {
     "name": "stderr",
     "output_type": "stream",
     "text": [
      " 14%|██████                                     | 7/50 [00:03<00:20,  2.07it/s]"
     ]
    },
    {
     "name": "stdout",
     "output_type": "stream",
     "text": [
      "Epoch 7, Average Train Loss: 0.005490\n",
      "Epoch 7, Average Test Loss: 0.053919\n"
     ]
    },
    {
     "name": "stderr",
     "output_type": "stream",
     "text": [
      " 16%|██████▉                                    | 8/50 [00:03<00:20,  2.09it/s]"
     ]
    },
    {
     "name": "stdout",
     "output_type": "stream",
     "text": [
      "Epoch 8, Average Train Loss: 0.005267\n",
      "Epoch 8, Average Test Loss: 0.053756\n"
     ]
    },
    {
     "name": "stderr",
     "output_type": "stream",
     "text": [
      " 18%|███████▋                                   | 9/50 [00:04<00:19,  2.10it/s]"
     ]
    },
    {
     "name": "stdout",
     "output_type": "stream",
     "text": [
      "Epoch 9, Average Train Loss: 0.005151\n",
      "Epoch 9, Average Test Loss: 0.053655\n"
     ]
    },
    {
     "name": "stderr",
     "output_type": "stream",
     "text": [
      " 20%|████████▍                                 | 10/50 [00:04<00:18,  2.11it/s]"
     ]
    },
    {
     "name": "stdout",
     "output_type": "stream",
     "text": [
      "Epoch 10, Average Train Loss: 0.005025\n",
      "Epoch 10, Average Test Loss: 0.053539\n"
     ]
    },
    {
     "name": "stderr",
     "output_type": "stream",
     "text": [
      " 22%|█████████▏                                | 11/50 [00:05<00:18,  2.11it/s]"
     ]
    },
    {
     "name": "stdout",
     "output_type": "stream",
     "text": [
      "Epoch 11, Average Train Loss: 0.004916\n",
      "Epoch 11, Average Test Loss: 0.053462\n"
     ]
    },
    {
     "name": "stderr",
     "output_type": "stream",
     "text": [
      " 24%|██████████                                | 12/50 [00:05<00:18,  2.06it/s]"
     ]
    },
    {
     "name": "stdout",
     "output_type": "stream",
     "text": [
      "Epoch 12, Average Train Loss: 0.004822\n",
      "Epoch 12, Average Test Loss: 0.053389\n"
     ]
    },
    {
     "name": "stderr",
     "output_type": "stream",
     "text": [
      " 26%|██████████▉                               | 13/50 [00:06<00:18,  2.03it/s]"
     ]
    },
    {
     "name": "stdout",
     "output_type": "stream",
     "text": [
      "Epoch 13, Average Train Loss: 0.004761\n",
      "Epoch 13, Average Test Loss: 0.053390\n"
     ]
    },
    {
     "name": "stderr",
     "output_type": "stream",
     "text": [
      " 28%|███████████▊                              | 14/50 [00:06<00:17,  2.05it/s]"
     ]
    },
    {
     "name": "stdout",
     "output_type": "stream",
     "text": [
      "Epoch 14, Average Train Loss: 0.004693\n",
      "Epoch 14, Average Test Loss: 0.053355\n"
     ]
    },
    {
     "name": "stderr",
     "output_type": "stream",
     "text": [
      " 30%|████████████▌                             | 15/50 [00:07<00:16,  2.07it/s]"
     ]
    },
    {
     "name": "stdout",
     "output_type": "stream",
     "text": [
      "Epoch 15, Average Train Loss: 0.004630\n",
      "Epoch 15, Average Test Loss: 0.053304\n"
     ]
    },
    {
     "name": "stderr",
     "output_type": "stream",
     "text": [
      " 32%|█████████████▍                            | 16/50 [00:07<00:16,  2.08it/s]"
     ]
    },
    {
     "name": "stdout",
     "output_type": "stream",
     "text": [
      "Epoch 16, Average Train Loss: 0.004576\n",
      "Epoch 16, Average Test Loss: 0.053290\n"
     ]
    },
    {
     "name": "stderr",
     "output_type": "stream",
     "text": [
      " 34%|██████████████▎                           | 17/50 [00:08<00:15,  2.08it/s]"
     ]
    },
    {
     "name": "stdout",
     "output_type": "stream",
     "text": [
      "Epoch 17, Average Train Loss: 0.004523\n",
      "Epoch 17, Average Test Loss: 0.053308\n"
     ]
    },
    {
     "name": "stderr",
     "output_type": "stream",
     "text": [
      " 36%|███████████████                           | 18/50 [00:08<00:15,  2.10it/s]"
     ]
    },
    {
     "name": "stdout",
     "output_type": "stream",
     "text": [
      "Epoch 18, Average Train Loss: 0.004474\n",
      "Epoch 18, Average Test Loss: 0.053340\n"
     ]
    },
    {
     "name": "stderr",
     "output_type": "stream",
     "text": [
      " 38%|███████████████▉                          | 19/50 [00:09<00:14,  2.10it/s]"
     ]
    },
    {
     "name": "stdout",
     "output_type": "stream",
     "text": [
      "Epoch 19, Average Train Loss: 0.004440\n",
      "Epoch 19, Average Test Loss: 0.053383\n"
     ]
    },
    {
     "name": "stderr",
     "output_type": "stream",
     "text": [
      " 40%|████████████████▊                         | 20/50 [00:09<00:14,  2.11it/s]"
     ]
    },
    {
     "name": "stdout",
     "output_type": "stream",
     "text": [
      "Epoch 20, Average Train Loss: 0.004393\n",
      "Epoch 20, Average Test Loss: 0.053460\n"
     ]
    },
    {
     "name": "stderr",
     "output_type": "stream",
     "text": [
      " 42%|█████████████████▋                        | 21/50 [00:10<00:13,  2.08it/s]"
     ]
    },
    {
     "name": "stdout",
     "output_type": "stream",
     "text": [
      "Epoch 21, Average Train Loss: 0.004351\n",
      "Epoch 21, Average Test Loss: 0.053518\n"
     ]
    },
    {
     "name": "stderr",
     "output_type": "stream",
     "text": [
      " 44%|██████████████████▍                       | 22/50 [00:10<00:13,  2.09it/s]"
     ]
    },
    {
     "name": "stdout",
     "output_type": "stream",
     "text": [
      "Epoch 22, Average Train Loss: 0.004304\n",
      "Epoch 22, Average Test Loss: 0.053542\n"
     ]
    },
    {
     "name": "stderr",
     "output_type": "stream",
     "text": [
      " 46%|███████████████████▎                      | 23/50 [00:11<00:12,  2.10it/s]"
     ]
    },
    {
     "name": "stdout",
     "output_type": "stream",
     "text": [
      "Epoch 23, Average Train Loss: 0.004268\n",
      "Epoch 23, Average Test Loss: 0.053598\n"
     ]
    },
    {
     "name": "stderr",
     "output_type": "stream",
     "text": [
      " 48%|████████████████████▏                     | 24/50 [00:11<00:12,  2.10it/s]"
     ]
    },
    {
     "name": "stdout",
     "output_type": "stream",
     "text": [
      "Epoch 24, Average Train Loss: 0.004230\n",
      "Epoch 24, Average Test Loss: 0.053669\n"
     ]
    },
    {
     "name": "stderr",
     "output_type": "stream",
     "text": [
      " 50%|█████████████████████                     | 25/50 [00:11<00:11,  2.11it/s]"
     ]
    },
    {
     "name": "stdout",
     "output_type": "stream",
     "text": [
      "Epoch 25, Average Train Loss: 0.004193\n",
      "Epoch 25, Average Test Loss: 0.053645\n"
     ]
    },
    {
     "name": "stderr",
     "output_type": "stream",
     "text": [
      " 52%|█████████████████████▊                    | 26/50 [00:12<00:11,  2.11it/s]"
     ]
    },
    {
     "name": "stdout",
     "output_type": "stream",
     "text": [
      "Epoch 26, Average Train Loss: 0.004184\n",
      "Epoch 26, Average Test Loss: 0.053796\n"
     ]
    },
    {
     "name": "stderr",
     "output_type": "stream",
     "text": [
      " 54%|██████████████████████▋                   | 27/50 [00:12<00:10,  2.12it/s]"
     ]
    },
    {
     "name": "stdout",
     "output_type": "stream",
     "text": [
      "Epoch 27, Average Train Loss: 0.004137\n",
      "Epoch 27, Average Test Loss: 0.053846\n"
     ]
    },
    {
     "name": "stderr",
     "output_type": "stream",
     "text": [
      " 56%|███████████████████████▌                  | 28/50 [00:13<00:10,  2.11it/s]"
     ]
    },
    {
     "name": "stdout",
     "output_type": "stream",
     "text": [
      "Epoch 28, Average Train Loss: 0.004106\n",
      "Epoch 28, Average Test Loss: 0.053904\n"
     ]
    },
    {
     "name": "stderr",
     "output_type": "stream",
     "text": [
      " 58%|████████████████████████▎                 | 29/50 [00:13<00:10,  2.03it/s]"
     ]
    },
    {
     "name": "stdout",
     "output_type": "stream",
     "text": [
      "Epoch 29, Average Train Loss: 0.004071\n",
      "Epoch 29, Average Test Loss: 0.053901\n"
     ]
    },
    {
     "name": "stderr",
     "output_type": "stream",
     "text": [
      " 60%|█████████████████████████▏                | 30/50 [00:14<00:09,  2.06it/s]"
     ]
    },
    {
     "name": "stdout",
     "output_type": "stream",
     "text": [
      "Epoch 30, Average Train Loss: 0.004042\n",
      "Epoch 30, Average Test Loss: 0.053923\n"
     ]
    },
    {
     "name": "stderr",
     "output_type": "stream",
     "text": [
      " 62%|██████████████████████████                | 31/50 [00:14<00:09,  2.00it/s]"
     ]
    },
    {
     "name": "stdout",
     "output_type": "stream",
     "text": [
      "Epoch 31, Average Train Loss: 0.004010\n",
      "Epoch 31, Average Test Loss: 0.053940\n"
     ]
    },
    {
     "name": "stderr",
     "output_type": "stream",
     "text": [
      " 64%|██████████████████████████▉               | 32/50 [00:15<00:08,  2.04it/s]"
     ]
    },
    {
     "name": "stdout",
     "output_type": "stream",
     "text": [
      "Epoch 32, Average Train Loss: 0.003968\n",
      "Epoch 32, Average Test Loss: 0.053950\n"
     ]
    },
    {
     "name": "stderr",
     "output_type": "stream",
     "text": [
      " 66%|███████████████████████████▋              | 33/50 [00:15<00:08,  2.06it/s]"
     ]
    },
    {
     "name": "stdout",
     "output_type": "stream",
     "text": [
      "Epoch 33, Average Train Loss: 0.003922\n",
      "Epoch 33, Average Test Loss: 0.053932\n"
     ]
    },
    {
     "name": "stderr",
     "output_type": "stream",
     "text": [
      " 68%|████████████████████████████▌             | 34/50 [00:16<00:07,  2.08it/s]"
     ]
    },
    {
     "name": "stdout",
     "output_type": "stream",
     "text": [
      "Epoch 34, Average Train Loss: 0.003896\n",
      "Epoch 34, Average Test Loss: 0.053966\n"
     ]
    },
    {
     "name": "stderr",
     "output_type": "stream",
     "text": [
      " 70%|█████████████████████████████▍            | 35/50 [00:16<00:07,  2.10it/s]"
     ]
    },
    {
     "name": "stdout",
     "output_type": "stream",
     "text": [
      "Epoch 35, Average Train Loss: 0.003854\n",
      "Epoch 35, Average Test Loss: 0.054043\n"
     ]
    },
    {
     "name": "stderr",
     "output_type": "stream",
     "text": [
      " 72%|██████████████████████████████▏           | 36/50 [00:17<00:06,  2.10it/s]"
     ]
    },
    {
     "name": "stdout",
     "output_type": "stream",
     "text": [
      "Epoch 36, Average Train Loss: 0.003806\n",
      "Epoch 36, Average Test Loss: 0.054121\n"
     ]
    },
    {
     "name": "stderr",
     "output_type": "stream",
     "text": [
      " 74%|███████████████████████████████           | 37/50 [00:17<00:06,  2.10it/s]"
     ]
    },
    {
     "name": "stdout",
     "output_type": "stream",
     "text": [
      "Epoch 37, Average Train Loss: 0.003759\n",
      "Epoch 37, Average Test Loss: 0.054180\n"
     ]
    },
    {
     "name": "stderr",
     "output_type": "stream",
     "text": [
      " 76%|███████████████████████████████▉          | 38/50 [00:18<00:05,  2.09it/s]"
     ]
    },
    {
     "name": "stdout",
     "output_type": "stream",
     "text": [
      "Epoch 38, Average Train Loss: 0.003727\n",
      "Epoch 38, Average Test Loss: 0.054333\n"
     ]
    },
    {
     "name": "stderr",
     "output_type": "stream",
     "text": [
      " 78%|████████████████████████████████▊         | 39/50 [00:18<00:05,  2.09it/s]"
     ]
    },
    {
     "name": "stdout",
     "output_type": "stream",
     "text": [
      "Epoch 39, Average Train Loss: 0.003672\n",
      "Epoch 39, Average Test Loss: 0.054412\n"
     ]
    },
    {
     "name": "stderr",
     "output_type": "stream",
     "text": [
      " 80%|█████████████████████████████████▌        | 40/50 [00:19<00:04,  2.10it/s]"
     ]
    },
    {
     "name": "stdout",
     "output_type": "stream",
     "text": [
      "Epoch 40, Average Train Loss: 0.003656\n",
      "Epoch 40, Average Test Loss: 0.054437\n"
     ]
    },
    {
     "name": "stderr",
     "output_type": "stream",
     "text": [
      " 82%|██████████████████████████████████▍       | 41/50 [00:19<00:04,  2.11it/s]"
     ]
    },
    {
     "name": "stdout",
     "output_type": "stream",
     "text": [
      "Epoch 41, Average Train Loss: 0.003628\n",
      "Epoch 41, Average Test Loss: 0.054460\n"
     ]
    },
    {
     "name": "stderr",
     "output_type": "stream",
     "text": [
      " 84%|███████████████████████████████████▎      | 42/50 [00:20<00:03,  2.11it/s]"
     ]
    },
    {
     "name": "stdout",
     "output_type": "stream",
     "text": [
      "Epoch 42, Average Train Loss: 0.003608\n",
      "Epoch 42, Average Test Loss: 0.054542\n"
     ]
    },
    {
     "name": "stderr",
     "output_type": "stream",
     "text": [
      " 86%|████████████████████████████████████      | 43/50 [00:20<00:03,  2.11it/s]"
     ]
    },
    {
     "name": "stdout",
     "output_type": "stream",
     "text": [
      "Epoch 43, Average Train Loss: 0.003567\n",
      "Epoch 43, Average Test Loss: 0.054653\n"
     ]
    },
    {
     "name": "stderr",
     "output_type": "stream",
     "text": [
      " 88%|████████████████████████████████████▉     | 44/50 [00:21<00:02,  2.11it/s]"
     ]
    },
    {
     "name": "stdout",
     "output_type": "stream",
     "text": [
      "Epoch 44, Average Train Loss: 0.003533\n",
      "Epoch 44, Average Test Loss: 0.054761\n"
     ]
    },
    {
     "name": "stderr",
     "output_type": "stream",
     "text": [
      " 90%|█████████████████████████████████████▊    | 45/50 [00:21<00:02,  1.90it/s]"
     ]
    },
    {
     "name": "stdout",
     "output_type": "stream",
     "text": [
      "Epoch 45, Average Train Loss: 0.003503\n",
      "Epoch 45, Average Test Loss: 0.054851\n"
     ]
    },
    {
     "name": "stderr",
     "output_type": "stream",
     "text": [
      " 92%|██████████████████████████████████████▋   | 46/50 [00:22<00:02,  1.94it/s]"
     ]
    },
    {
     "name": "stdout",
     "output_type": "stream",
     "text": [
      "Epoch 46, Average Train Loss: 0.003467\n",
      "Epoch 46, Average Test Loss: 0.055056\n"
     ]
    },
    {
     "name": "stderr",
     "output_type": "stream",
     "text": [
      " 94%|███████████████████████████████████████▍  | 47/50 [00:22<00:01,  1.99it/s]"
     ]
    },
    {
     "name": "stdout",
     "output_type": "stream",
     "text": [
      "Epoch 47, Average Train Loss: 0.003442\n",
      "Epoch 47, Average Test Loss: 0.055195\n"
     ]
    },
    {
     "name": "stderr",
     "output_type": "stream",
     "text": [
      " 96%|████████████████████████████████████████▎ | 48/50 [00:23<00:00,  2.03it/s]"
     ]
    },
    {
     "name": "stdout",
     "output_type": "stream",
     "text": [
      "Epoch 48, Average Train Loss: 0.003411\n",
      "Epoch 48, Average Test Loss: 0.055408\n"
     ]
    },
    {
     "name": "stderr",
     "output_type": "stream",
     "text": [
      " 98%|█████████████████████████████████████████▏| 49/50 [00:23<00:00,  2.06it/s]"
     ]
    },
    {
     "name": "stdout",
     "output_type": "stream",
     "text": [
      "Epoch 49, Average Train Loss: 0.003390\n",
      "Epoch 49, Average Test Loss: 0.055705\n"
     ]
    },
    {
     "name": "stderr",
     "output_type": "stream",
     "text": [
      "100%|██████████████████████████████████████████| 50/50 [00:24<00:00,  2.07it/s]\n"
     ]
    },
    {
     "name": "stdout",
     "output_type": "stream",
     "text": [
      "Epoch 50, Average Train Loss: 0.003357\n",
      "Epoch 50, Average Test Loss: 0.055866\n",
      "Training random model...\n",
      "Train/Test split: 3598 train files, 922 test files\n",
      "Train/Test split: 3598 train files, 922 test files\n"
     ]
    },
    {
     "name": "stderr",
     "output_type": "stream",
     "text": [
      "  2%|▊                                          | 1/50 [00:00<00:24,  1.99it/s]"
     ]
    },
    {
     "name": "stdout",
     "output_type": "stream",
     "text": [
      "Epoch 1, Average Train Loss: 0.018829\n",
      "Epoch 1, Average Test Loss: 0.056794\n"
     ]
    },
    {
     "name": "stderr",
     "output_type": "stream",
     "text": [
      "  4%|█▋                                         | 2/50 [00:00<00:23,  2.03it/s]"
     ]
    },
    {
     "name": "stdout",
     "output_type": "stream",
     "text": [
      "Epoch 2, Average Train Loss: 0.007126\n",
      "Epoch 2, Average Test Loss: 0.053944\n"
     ]
    },
    {
     "name": "stderr",
     "output_type": "stream",
     "text": [
      "  6%|██▌                                        | 3/50 [00:01<00:23,  2.03it/s]"
     ]
    },
    {
     "name": "stdout",
     "output_type": "stream",
     "text": [
      "Epoch 3, Average Train Loss: 0.006007\n",
      "Epoch 3, Average Test Loss: 0.053090\n"
     ]
    },
    {
     "name": "stderr",
     "output_type": "stream",
     "text": [
      "  8%|███▍                                       | 4/50 [00:01<00:22,  2.04it/s]"
     ]
    },
    {
     "name": "stdout",
     "output_type": "stream",
     "text": [
      "Epoch 4, Average Train Loss: 0.005466\n",
      "Epoch 4, Average Test Loss: 0.052891\n"
     ]
    },
    {
     "name": "stderr",
     "output_type": "stream",
     "text": [
      " 10%|████▎                                      | 5/50 [00:02<00:22,  2.02it/s]"
     ]
    },
    {
     "name": "stdout",
     "output_type": "stream",
     "text": [
      "Epoch 5, Average Train Loss: 0.005134\n",
      "Epoch 5, Average Test Loss: 0.052717\n"
     ]
    },
    {
     "name": "stderr",
     "output_type": "stream",
     "text": [
      " 12%|█████▏                                     | 6/50 [00:02<00:21,  2.03it/s]"
     ]
    },
    {
     "name": "stdout",
     "output_type": "stream",
     "text": [
      "Epoch 6, Average Train Loss: 0.004917\n",
      "Epoch 6, Average Test Loss: 0.052637\n"
     ]
    },
    {
     "name": "stderr",
     "output_type": "stream",
     "text": [
      " 14%|██████                                     | 7/50 [00:03<00:21,  2.03it/s]"
     ]
    },
    {
     "name": "stdout",
     "output_type": "stream",
     "text": [
      "Epoch 7, Average Train Loss: 0.004746\n",
      "Epoch 7, Average Test Loss: 0.052582\n"
     ]
    },
    {
     "name": "stderr",
     "output_type": "stream",
     "text": [
      " 16%|██████▉                                    | 8/50 [00:03<00:20,  2.04it/s]"
     ]
    },
    {
     "name": "stdout",
     "output_type": "stream",
     "text": [
      "Epoch 8, Average Train Loss: 0.004618\n",
      "Epoch 8, Average Test Loss: 0.052587\n"
     ]
    },
    {
     "name": "stderr",
     "output_type": "stream",
     "text": [
      " 18%|███████▋                                   | 9/50 [00:04<00:20,  2.04it/s]"
     ]
    },
    {
     "name": "stdout",
     "output_type": "stream",
     "text": [
      "Epoch 9, Average Train Loss: 0.004516\n",
      "Epoch 9, Average Test Loss: 0.052630\n"
     ]
    },
    {
     "name": "stderr",
     "output_type": "stream",
     "text": [
      " 20%|████████▍                                 | 10/50 [00:04<00:19,  2.06it/s]"
     ]
    },
    {
     "name": "stdout",
     "output_type": "stream",
     "text": [
      "Epoch 10, Average Train Loss: 0.004426\n",
      "Epoch 10, Average Test Loss: 0.052654\n"
     ]
    },
    {
     "name": "stderr",
     "output_type": "stream",
     "text": [
      " 22%|█████████▏                                | 11/50 [00:05<00:18,  2.06it/s]"
     ]
    },
    {
     "name": "stdout",
     "output_type": "stream",
     "text": [
      "Epoch 11, Average Train Loss: 0.004347\n",
      "Epoch 11, Average Test Loss: 0.052686\n"
     ]
    },
    {
     "name": "stderr",
     "output_type": "stream",
     "text": [
      " 24%|██████████                                | 12/50 [00:05<00:18,  2.02it/s]"
     ]
    },
    {
     "name": "stdout",
     "output_type": "stream",
     "text": [
      "Epoch 12, Average Train Loss: 0.004275\n",
      "Epoch 12, Average Test Loss: 0.052708\n"
     ]
    },
    {
     "name": "stderr",
     "output_type": "stream",
     "text": [
      " 26%|██████████▉                               | 13/50 [00:06<00:18,  2.05it/s]"
     ]
    },
    {
     "name": "stdout",
     "output_type": "stream",
     "text": [
      "Epoch 13, Average Train Loss: 0.004205\n",
      "Epoch 13, Average Test Loss: 0.052732\n"
     ]
    },
    {
     "name": "stderr",
     "output_type": "stream",
     "text": [
      " 28%|███████████▊                              | 14/50 [00:06<00:17,  2.07it/s]"
     ]
    },
    {
     "name": "stdout",
     "output_type": "stream",
     "text": [
      "Epoch 14, Average Train Loss: 0.004138\n",
      "Epoch 14, Average Test Loss: 0.052726\n"
     ]
    },
    {
     "name": "stderr",
     "output_type": "stream",
     "text": [
      " 30%|████████████▌                             | 15/50 [00:07<00:16,  2.09it/s]"
     ]
    },
    {
     "name": "stdout",
     "output_type": "stream",
     "text": [
      "Epoch 15, Average Train Loss: 0.004080\n",
      "Epoch 15, Average Test Loss: 0.052765\n"
     ]
    },
    {
     "name": "stderr",
     "output_type": "stream",
     "text": [
      " 32%|█████████████▍                            | 16/50 [00:07<00:16,  2.10it/s]"
     ]
    },
    {
     "name": "stdout",
     "output_type": "stream",
     "text": [
      "Epoch 16, Average Train Loss: 0.004024\n",
      "Epoch 16, Average Test Loss: 0.052826\n"
     ]
    },
    {
     "name": "stderr",
     "output_type": "stream",
     "text": [
      " 34%|██████████████▎                           | 17/50 [00:08<00:15,  2.11it/s]"
     ]
    },
    {
     "name": "stdout",
     "output_type": "stream",
     "text": [
      "Epoch 17, Average Train Loss: 0.003967\n",
      "Epoch 17, Average Test Loss: 0.052834\n"
     ]
    },
    {
     "name": "stderr",
     "output_type": "stream",
     "text": [
      " 36%|███████████████                           | 18/50 [00:08<00:15,  2.12it/s]"
     ]
    },
    {
     "name": "stdout",
     "output_type": "stream",
     "text": [
      "Epoch 18, Average Train Loss: 0.003911\n",
      "Epoch 18, Average Test Loss: 0.052848\n"
     ]
    },
    {
     "name": "stderr",
     "output_type": "stream",
     "text": [
      " 38%|███████████████▉                          | 19/50 [00:09<00:14,  2.13it/s]"
     ]
    },
    {
     "name": "stdout",
     "output_type": "stream",
     "text": [
      "Epoch 19, Average Train Loss: 0.003861\n",
      "Epoch 19, Average Test Loss: 0.052900\n"
     ]
    },
    {
     "name": "stderr",
     "output_type": "stream",
     "text": [
      " 40%|████████████████▊                         | 20/50 [00:09<00:14,  2.13it/s]"
     ]
    },
    {
     "name": "stdout",
     "output_type": "stream",
     "text": [
      "Epoch 20, Average Train Loss: 0.003811\n",
      "Epoch 20, Average Test Loss: 0.052898\n"
     ]
    },
    {
     "name": "stderr",
     "output_type": "stream",
     "text": [
      " 42%|█████████████████▋                        | 21/50 [00:10<00:13,  2.13it/s]"
     ]
    },
    {
     "name": "stdout",
     "output_type": "stream",
     "text": [
      "Epoch 21, Average Train Loss: 0.003760\n",
      "Epoch 21, Average Test Loss: 0.052890\n"
     ]
    },
    {
     "name": "stderr",
     "output_type": "stream",
     "text": [
      " 44%|██████████████████▍                       | 22/50 [00:10<00:13,  2.13it/s]"
     ]
    },
    {
     "name": "stdout",
     "output_type": "stream",
     "text": [
      "Epoch 22, Average Train Loss: 0.003704\n",
      "Epoch 22, Average Test Loss: 0.052912\n"
     ]
    },
    {
     "name": "stderr",
     "output_type": "stream",
     "text": [
      " 46%|███████████████████▎                      | 23/50 [00:11<00:12,  2.13it/s]"
     ]
    },
    {
     "name": "stdout",
     "output_type": "stream",
     "text": [
      "Epoch 23, Average Train Loss: 0.003658\n",
      "Epoch 23, Average Test Loss: 0.052944\n"
     ]
    },
    {
     "name": "stderr",
     "output_type": "stream",
     "text": [
      " 48%|████████████████████▏                     | 24/50 [00:11<00:12,  2.13it/s]"
     ]
    },
    {
     "name": "stdout",
     "output_type": "stream",
     "text": [
      "Epoch 24, Average Train Loss: 0.003607\n",
      "Epoch 24, Average Test Loss: 0.052975\n"
     ]
    },
    {
     "name": "stderr",
     "output_type": "stream",
     "text": [
      " 50%|█████████████████████                     | 25/50 [00:12<00:11,  2.13it/s]"
     ]
    },
    {
     "name": "stdout",
     "output_type": "stream",
     "text": [
      "Epoch 25, Average Train Loss: 0.003560\n",
      "Epoch 25, Average Test Loss: 0.052996\n"
     ]
    },
    {
     "name": "stderr",
     "output_type": "stream",
     "text": [
      " 52%|█████████████████████▊                    | 26/50 [00:12<00:11,  2.13it/s]"
     ]
    },
    {
     "name": "stdout",
     "output_type": "stream",
     "text": [
      "Epoch 26, Average Train Loss: 0.003511\n",
      "Epoch 26, Average Test Loss: 0.053016\n"
     ]
    },
    {
     "name": "stderr",
     "output_type": "stream",
     "text": [
      " 54%|██████████████████████▋                   | 27/50 [00:12<00:10,  2.09it/s]"
     ]
    },
    {
     "name": "stdout",
     "output_type": "stream",
     "text": [
      "Epoch 27, Average Train Loss: 0.003466\n",
      "Epoch 27, Average Test Loss: 0.053055\n"
     ]
    },
    {
     "name": "stderr",
     "output_type": "stream",
     "text": [
      " 56%|███████████████████████▌                  | 28/50 [00:13<00:10,  2.07it/s]"
     ]
    },
    {
     "name": "stdout",
     "output_type": "stream",
     "text": [
      "Epoch 28, Average Train Loss: 0.003422\n",
      "Epoch 28, Average Test Loss: 0.053069\n"
     ]
    },
    {
     "name": "stderr",
     "output_type": "stream",
     "text": [
      " 58%|████████████████████████▎                 | 29/50 [00:13<00:10,  2.07it/s]"
     ]
    },
    {
     "name": "stdout",
     "output_type": "stream",
     "text": [
      "Epoch 29, Average Train Loss: 0.003374\n",
      "Epoch 29, Average Test Loss: 0.053101\n"
     ]
    },
    {
     "name": "stderr",
     "output_type": "stream",
     "text": [
      " 60%|█████████████████████████▏                | 30/50 [00:14<00:09,  2.08it/s]"
     ]
    },
    {
     "name": "stdout",
     "output_type": "stream",
     "text": [
      "Epoch 30, Average Train Loss: 0.003331\n",
      "Epoch 30, Average Test Loss: 0.053157\n"
     ]
    },
    {
     "name": "stderr",
     "output_type": "stream",
     "text": [
      " 62%|██████████████████████████                | 31/50 [00:14<00:09,  2.07it/s]"
     ]
    },
    {
     "name": "stdout",
     "output_type": "stream",
     "text": [
      "Epoch 31, Average Train Loss: 0.003283\n",
      "Epoch 31, Average Test Loss: 0.053135\n"
     ]
    },
    {
     "name": "stderr",
     "output_type": "stream",
     "text": [
      " 64%|██████████████████████████▉               | 32/50 [00:15<00:08,  2.06it/s]"
     ]
    },
    {
     "name": "stdout",
     "output_type": "stream",
     "text": [
      "Epoch 32, Average Train Loss: 0.003234\n",
      "Epoch 32, Average Test Loss: 0.053081\n"
     ]
    },
    {
     "name": "stderr",
     "output_type": "stream",
     "text": [
      " 66%|███████████████████████████▋              | 33/50 [00:15<00:08,  2.05it/s]"
     ]
    },
    {
     "name": "stdout",
     "output_type": "stream",
     "text": [
      "Epoch 33, Average Train Loss: 0.003188\n",
      "Epoch 33, Average Test Loss: 0.053121\n"
     ]
    },
    {
     "name": "stderr",
     "output_type": "stream",
     "text": [
      " 68%|████████████████████████████▌             | 34/50 [00:16<00:07,  2.07it/s]"
     ]
    },
    {
     "name": "stdout",
     "output_type": "stream",
     "text": [
      "Epoch 34, Average Train Loss: 0.003146\n",
      "Epoch 34, Average Test Loss: 0.053177\n"
     ]
    },
    {
     "name": "stderr",
     "output_type": "stream",
     "text": [
      " 70%|█████████████████████████████▍            | 35/50 [00:16<00:07,  2.07it/s]"
     ]
    },
    {
     "name": "stdout",
     "output_type": "stream",
     "text": [
      "Epoch 35, Average Train Loss: 0.003105\n",
      "Epoch 35, Average Test Loss: 0.053230\n"
     ]
    },
    {
     "name": "stderr",
     "output_type": "stream",
     "text": [
      " 72%|██████████████████████████████▏           | 36/50 [00:17<00:06,  2.06it/s]"
     ]
    },
    {
     "name": "stdout",
     "output_type": "stream",
     "text": [
      "Epoch 36, Average Train Loss: 0.003058\n",
      "Epoch 36, Average Test Loss: 0.053286\n"
     ]
    },
    {
     "name": "stderr",
     "output_type": "stream",
     "text": [
      " 74%|███████████████████████████████           | 37/50 [00:17<00:06,  2.05it/s]"
     ]
    },
    {
     "name": "stdout",
     "output_type": "stream",
     "text": [
      "Epoch 37, Average Train Loss: 0.003017\n",
      "Epoch 37, Average Test Loss: 0.053354\n"
     ]
    },
    {
     "name": "stderr",
     "output_type": "stream",
     "text": [
      " 76%|███████████████████████████████▉          | 38/50 [00:18<00:05,  2.05it/s]"
     ]
    },
    {
     "name": "stdout",
     "output_type": "stream",
     "text": [
      "Epoch 38, Average Train Loss: 0.002976\n",
      "Epoch 38, Average Test Loss: 0.053385\n"
     ]
    },
    {
     "name": "stderr",
     "output_type": "stream",
     "text": [
      " 78%|████████████████████████████████▊         | 39/50 [00:18<00:05,  1.96it/s]"
     ]
    },
    {
     "name": "stdout",
     "output_type": "stream",
     "text": [
      "Epoch 39, Average Train Loss: 0.002936\n",
      "Epoch 39, Average Test Loss: 0.053497\n"
     ]
    },
    {
     "name": "stderr",
     "output_type": "stream",
     "text": [
      " 80%|█████████████████████████████████▌        | 40/50 [00:19<00:04,  2.01it/s]"
     ]
    },
    {
     "name": "stdout",
     "output_type": "stream",
     "text": [
      "Epoch 40, Average Train Loss: 0.002898\n",
      "Epoch 40, Average Test Loss: 0.053561\n"
     ]
    },
    {
     "name": "stderr",
     "output_type": "stream",
     "text": [
      " 82%|██████████████████████████████████▍       | 41/50 [00:19<00:04,  2.04it/s]"
     ]
    },
    {
     "name": "stdout",
     "output_type": "stream",
     "text": [
      "Epoch 41, Average Train Loss: 0.002853\n",
      "Epoch 41, Average Test Loss: 0.053648\n"
     ]
    },
    {
     "name": "stderr",
     "output_type": "stream",
     "text": [
      " 84%|███████████████████████████████████▎      | 42/50 [00:20<00:03,  2.02it/s]"
     ]
    },
    {
     "name": "stdout",
     "output_type": "stream",
     "text": [
      "Epoch 42, Average Train Loss: 0.002813\n",
      "Epoch 42, Average Test Loss: 0.053689\n"
     ]
    },
    {
     "name": "stderr",
     "output_type": "stream",
     "text": [
      " 86%|████████████████████████████████████      | 43/50 [00:20<00:03,  2.04it/s]"
     ]
    },
    {
     "name": "stdout",
     "output_type": "stream",
     "text": [
      "Epoch 43, Average Train Loss: 0.002776\n",
      "Epoch 43, Average Test Loss: 0.053774\n"
     ]
    },
    {
     "name": "stderr",
     "output_type": "stream",
     "text": [
      " 88%|████████████████████████████████████▉     | 44/50 [00:21<00:02,  2.06it/s]"
     ]
    },
    {
     "name": "stdout",
     "output_type": "stream",
     "text": [
      "Epoch 44, Average Train Loss: 0.002739\n",
      "Epoch 44, Average Test Loss: 0.053901\n"
     ]
    },
    {
     "name": "stderr",
     "output_type": "stream",
     "text": [
      " 90%|█████████████████████████████████████▊    | 45/50 [00:21<00:02,  2.07it/s]"
     ]
    },
    {
     "name": "stdout",
     "output_type": "stream",
     "text": [
      "Epoch 45, Average Train Loss: 0.002710\n",
      "Epoch 45, Average Test Loss: 0.053996\n"
     ]
    },
    {
     "name": "stderr",
     "output_type": "stream",
     "text": [
      " 92%|██████████████████████████████████████▋   | 46/50 [00:22<00:01,  2.08it/s]"
     ]
    },
    {
     "name": "stdout",
     "output_type": "stream",
     "text": [
      "Epoch 46, Average Train Loss: 0.002682\n",
      "Epoch 46, Average Test Loss: 0.054028\n"
     ]
    },
    {
     "name": "stderr",
     "output_type": "stream",
     "text": [
      " 94%|███████████████████████████████████████▍  | 47/50 [00:22<00:01,  2.09it/s]"
     ]
    },
    {
     "name": "stdout",
     "output_type": "stream",
     "text": [
      "Epoch 47, Average Train Loss: 0.002660\n",
      "Epoch 47, Average Test Loss: 0.054051\n"
     ]
    },
    {
     "name": "stderr",
     "output_type": "stream",
     "text": [
      " 96%|████████████████████████████████████████▎ | 48/50 [00:23<00:00,  2.09it/s]"
     ]
    },
    {
     "name": "stdout",
     "output_type": "stream",
     "text": [
      "Epoch 48, Average Train Loss: 0.002656\n",
      "Epoch 48, Average Test Loss: 0.053894\n"
     ]
    },
    {
     "name": "stderr",
     "output_type": "stream",
     "text": [
      " 98%|█████████████████████████████████████████▏| 49/50 [00:23<00:00,  2.05it/s]"
     ]
    },
    {
     "name": "stdout",
     "output_type": "stream",
     "text": [
      "Epoch 49, Average Train Loss: 0.002679\n",
      "Epoch 49, Average Test Loss: 0.053807\n"
     ]
    },
    {
     "name": "stderr",
     "output_type": "stream",
     "text": [
      "100%|██████████████████████████████████████████| 50/50 [00:24<00:00,  2.07it/s]\n"
     ]
    },
    {
     "name": "stdout",
     "output_type": "stream",
     "text": [
      "Epoch 50, Average Train Loss: 0.002738\n",
      "Epoch 50, Average Test Loss: 0.053867\n",
      "Evaluating models...\n"
     ]
    },
    {
     "name": "stderr",
     "output_type": "stream",
     "text": [
      "0it [00:00, ?it/s]\n",
      "0it [00:00, ?it/s]\n",
      "0it [00:00, ?it/s]"
     ]
    },
    {
     "name": "stdout",
     "output_type": "stream",
     "text": [
      "Training easy-to-hard model...\n",
      "Train/Test split: 3598 train files, 922 test files\n"
     ]
    },
    {
     "name": "stderr",
     "output_type": "stream",
     "text": [
      "\n"
     ]
    },
    {
     "name": "stdout",
     "output_type": "stream",
     "text": [
      "Train/Test split: 3598 train files, 922 test files\n"
     ]
    },
    {
     "name": "stderr",
     "output_type": "stream",
     "text": [
      "  2%|▊                                          | 1/50 [00:00<00:21,  2.26it/s]"
     ]
    },
    {
     "name": "stdout",
     "output_type": "stream",
     "text": [
      "Epoch 1, Average Train Loss: 0.005630\n",
      "Epoch 1, Average Test Loss: 0.004891\n"
     ]
    },
    {
     "name": "stderr",
     "output_type": "stream",
     "text": [
      "  4%|█▋                                         | 2/50 [00:00<00:21,  2.27it/s]"
     ]
    },
    {
     "name": "stdout",
     "output_type": "stream",
     "text": [
      "Epoch 2, Average Train Loss: 0.004155\n",
      "Epoch 2, Average Test Loss: 0.003234\n"
     ]
    },
    {
     "name": "stderr",
     "output_type": "stream",
     "text": [
      "  6%|██▌                                        | 3/50 [00:01<00:20,  2.28it/s]"
     ]
    },
    {
     "name": "stdout",
     "output_type": "stream",
     "text": [
      "Epoch 3, Average Train Loss: 0.003405\n",
      "Epoch 3, Average Test Loss: 0.003202\n"
     ]
    },
    {
     "name": "stderr",
     "output_type": "stream",
     "text": [
      "  8%|███▍                                       | 4/50 [00:01<00:20,  2.27it/s]"
     ]
    },
    {
     "name": "stdout",
     "output_type": "stream",
     "text": [
      "Epoch 4, Average Train Loss: 0.003439\n",
      "Epoch 4, Average Test Loss: 0.003193\n"
     ]
    },
    {
     "name": "stderr",
     "output_type": "stream",
     "text": [
      " 10%|████▎                                      | 5/50 [00:02<00:19,  2.26it/s]"
     ]
    },
    {
     "name": "stdout",
     "output_type": "stream",
     "text": [
      "Epoch 5, Average Train Loss: 0.003427\n",
      "Epoch 5, Average Test Loss: 0.003184\n"
     ]
    },
    {
     "name": "stderr",
     "output_type": "stream",
     "text": [
      " 12%|█████▏                                     | 6/50 [00:02<00:19,  2.22it/s]"
     ]
    },
    {
     "name": "stdout",
     "output_type": "stream",
     "text": [
      "Epoch 6, Average Train Loss: 0.003415\n",
      "Epoch 6, Average Test Loss: 0.003173\n"
     ]
    },
    {
     "name": "stderr",
     "output_type": "stream",
     "text": [
      " 14%|██████                                     | 7/50 [00:03<00:19,  2.23it/s]"
     ]
    },
    {
     "name": "stdout",
     "output_type": "stream",
     "text": [
      "Epoch 7, Average Train Loss: 0.003403\n",
      "Epoch 7, Average Test Loss: 0.003162\n"
     ]
    },
    {
     "name": "stderr",
     "output_type": "stream",
     "text": [
      " 16%|██████▉                                    | 8/50 [00:03<00:18,  2.24it/s]"
     ]
    },
    {
     "name": "stdout",
     "output_type": "stream",
     "text": [
      "Epoch 8, Average Train Loss: 0.003390\n",
      "Epoch 8, Average Test Loss: 0.003150\n"
     ]
    },
    {
     "name": "stderr",
     "output_type": "stream",
     "text": [
      " 18%|███████▋                                   | 9/50 [00:04<00:18,  2.24it/s]"
     ]
    },
    {
     "name": "stdout",
     "output_type": "stream",
     "text": [
      "Epoch 9, Average Train Loss: 0.003376\n",
      "Epoch 9, Average Test Loss: 0.003137\n"
     ]
    },
    {
     "name": "stderr",
     "output_type": "stream",
     "text": [
      " 20%|████████▍                                 | 10/50 [00:04<00:17,  2.24it/s]"
     ]
    },
    {
     "name": "stdout",
     "output_type": "stream",
     "text": [
      "Epoch 10, Average Train Loss: 0.003362\n",
      "Epoch 10, Average Test Loss: 0.003124\n"
     ]
    },
    {
     "name": "stderr",
     "output_type": "stream",
     "text": [
      " 22%|█████████▏                                | 11/50 [00:04<00:17,  2.24it/s]"
     ]
    },
    {
     "name": "stdout",
     "output_type": "stream",
     "text": [
      "Epoch 11, Average Train Loss: 0.003346\n",
      "Epoch 11, Average Test Loss: 0.003109\n"
     ]
    },
    {
     "name": "stderr",
     "output_type": "stream",
     "text": [
      " 24%|██████████                                | 12/50 [00:05<00:16,  2.24it/s]"
     ]
    },
    {
     "name": "stdout",
     "output_type": "stream",
     "text": [
      "Epoch 12, Average Train Loss: 0.003329\n",
      "Epoch 12, Average Test Loss: 0.003093\n"
     ]
    },
    {
     "name": "stderr",
     "output_type": "stream",
     "text": [
      " 26%|██████████▉                               | 13/50 [00:05<00:16,  2.25it/s]"
     ]
    },
    {
     "name": "stdout",
     "output_type": "stream",
     "text": [
      "Epoch 13, Average Train Loss: 0.003310\n",
      "Epoch 13, Average Test Loss: 0.003075\n"
     ]
    },
    {
     "name": "stderr",
     "output_type": "stream",
     "text": [
      " 28%|███████████▊                              | 14/50 [00:06<00:15,  2.26it/s]"
     ]
    },
    {
     "name": "stdout",
     "output_type": "stream",
     "text": [
      "Epoch 14, Average Train Loss: 0.003289\n",
      "Epoch 14, Average Test Loss: 0.003055\n"
     ]
    },
    {
     "name": "stderr",
     "output_type": "stream",
     "text": [
      " 30%|████████████▌                             | 15/50 [00:06<00:15,  2.25it/s]"
     ]
    },
    {
     "name": "stdout",
     "output_type": "stream",
     "text": [
      "Epoch 15, Average Train Loss: 0.003265\n",
      "Epoch 15, Average Test Loss: 0.003032\n"
     ]
    },
    {
     "name": "stderr",
     "output_type": "stream",
     "text": [
      " 32%|█████████████▍                            | 16/50 [00:07<00:15,  2.25it/s]"
     ]
    },
    {
     "name": "stdout",
     "output_type": "stream",
     "text": [
      "Epoch 16, Average Train Loss: 0.003238\n",
      "Epoch 16, Average Test Loss: 0.003005\n"
     ]
    },
    {
     "name": "stderr",
     "output_type": "stream",
     "text": [
      " 34%|██████████████▎                           | 17/50 [00:07<00:14,  2.24it/s]"
     ]
    },
    {
     "name": "stdout",
     "output_type": "stream",
     "text": [
      "Epoch 17, Average Train Loss: 0.003206\n",
      "Epoch 17, Average Test Loss: 0.002973\n"
     ]
    },
    {
     "name": "stderr",
     "output_type": "stream",
     "text": [
      " 36%|███████████████                           | 18/50 [00:08<00:14,  2.25it/s]"
     ]
    },
    {
     "name": "stdout",
     "output_type": "stream",
     "text": [
      "Epoch 18, Average Train Loss: 0.003169\n",
      "Epoch 18, Average Test Loss: 0.002934\n"
     ]
    },
    {
     "name": "stderr",
     "output_type": "stream",
     "text": [
      " 38%|███████████████▉                          | 19/50 [00:08<00:13,  2.25it/s]"
     ]
    },
    {
     "name": "stdout",
     "output_type": "stream",
     "text": [
      "Epoch 19, Average Train Loss: 0.003124\n",
      "Epoch 19, Average Test Loss: 0.002888\n"
     ]
    },
    {
     "name": "stderr",
     "output_type": "stream",
     "text": [
      " 40%|████████████████▊                         | 20/50 [00:08<00:13,  2.25it/s]"
     ]
    },
    {
     "name": "stdout",
     "output_type": "stream",
     "text": [
      "Epoch 20, Average Train Loss: 0.003070\n",
      "Epoch 20, Average Test Loss: 0.002831\n"
     ]
    },
    {
     "name": "stderr",
     "output_type": "stream",
     "text": [
      " 42%|█████████████████▋                        | 21/50 [00:09<00:12,  2.27it/s]"
     ]
    },
    {
     "name": "stdout",
     "output_type": "stream",
     "text": [
      "Epoch 21, Average Train Loss: 0.003003\n",
      "Epoch 21, Average Test Loss: 0.002761\n"
     ]
    },
    {
     "name": "stderr",
     "output_type": "stream",
     "text": [
      " 44%|██████████████████▍                       | 22/50 [00:09<00:12,  2.23it/s]"
     ]
    },
    {
     "name": "stdout",
     "output_type": "stream",
     "text": [
      "Epoch 22, Average Train Loss: 0.002922\n",
      "Epoch 22, Average Test Loss: 0.002673\n"
     ]
    },
    {
     "name": "stderr",
     "output_type": "stream",
     "text": [
      " 46%|███████████████████▎                      | 23/50 [00:10<00:12,  2.21it/s]"
     ]
    },
    {
     "name": "stdout",
     "output_type": "stream",
     "text": [
      "Epoch 23, Average Train Loss: 0.002821\n",
      "Epoch 23, Average Test Loss: 0.002566\n"
     ]
    },
    {
     "name": "stderr",
     "output_type": "stream",
     "text": [
      " 48%|████████████████████▏                     | 24/50 [00:10<00:11,  2.20it/s]"
     ]
    },
    {
     "name": "stdout",
     "output_type": "stream",
     "text": [
      "Epoch 24, Average Train Loss: 0.002700\n",
      "Epoch 24, Average Test Loss: 0.002438\n"
     ]
    },
    {
     "name": "stderr",
     "output_type": "stream",
     "text": [
      " 50%|█████████████████████                     | 25/50 [00:11<00:11,  2.19it/s]"
     ]
    },
    {
     "name": "stdout",
     "output_type": "stream",
     "text": [
      "Epoch 25, Average Train Loss: 0.002561\n",
      "Epoch 25, Average Test Loss: 0.002295\n"
     ]
    },
    {
     "name": "stderr",
     "output_type": "stream",
     "text": [
      " 52%|█████████████████████▊                    | 26/50 [00:11<00:10,  2.18it/s]"
     ]
    },
    {
     "name": "stdout",
     "output_type": "stream",
     "text": [
      "Epoch 26, Average Train Loss: 0.002410\n",
      "Epoch 26, Average Test Loss: 0.002145\n"
     ]
    },
    {
     "name": "stderr",
     "output_type": "stream",
     "text": [
      " 54%|██████████████████████▋                   | 27/50 [00:12<00:10,  2.18it/s]"
     ]
    },
    {
     "name": "stdout",
     "output_type": "stream",
     "text": [
      "Epoch 27, Average Train Loss: 0.002255\n",
      "Epoch 27, Average Test Loss: 0.001994\n"
     ]
    },
    {
     "name": "stderr",
     "output_type": "stream",
     "text": [
      " 56%|███████████████████████▌                  | 28/50 [00:12<00:10,  2.17it/s]"
     ]
    },
    {
     "name": "stdout",
     "output_type": "stream",
     "text": [
      "Epoch 28, Average Train Loss: 0.002099\n",
      "Epoch 28, Average Test Loss: 0.001847\n"
     ]
    },
    {
     "name": "stderr",
     "output_type": "stream",
     "text": [
      " 58%|████████████████████████▎                 | 29/50 [00:13<00:09,  2.20it/s]"
     ]
    },
    {
     "name": "stdout",
     "output_type": "stream",
     "text": [
      "Epoch 29, Average Train Loss: 0.001947\n",
      "Epoch 29, Average Test Loss: 0.001708\n"
     ]
    },
    {
     "name": "stderr",
     "output_type": "stream",
     "text": [
      " 60%|█████████████████████████▏                | 30/50 [00:13<00:08,  2.22it/s]"
     ]
    },
    {
     "name": "stdout",
     "output_type": "stream",
     "text": [
      "Epoch 30, Average Train Loss: 0.001805\n",
      "Epoch 30, Average Test Loss: 0.001581\n"
     ]
    },
    {
     "name": "stderr",
     "output_type": "stream",
     "text": [
      " 62%|██████████████████████████                | 31/50 [00:13<00:08,  2.23it/s]"
     ]
    },
    {
     "name": "stdout",
     "output_type": "stream",
     "text": [
      "Epoch 31, Average Train Loss: 0.001679\n",
      "Epoch 31, Average Test Loss: 0.001470\n"
     ]
    },
    {
     "name": "stderr",
     "output_type": "stream",
     "text": [
      " 64%|██████████████████████████▉               | 32/50 [00:14<00:08,  2.23it/s]"
     ]
    },
    {
     "name": "stdout",
     "output_type": "stream",
     "text": [
      "Epoch 32, Average Train Loss: 0.001575\n",
      "Epoch 32, Average Test Loss: 0.001378\n"
     ]
    },
    {
     "name": "stderr",
     "output_type": "stream",
     "text": [
      " 66%|███████████████████████████▋              | 33/50 [00:14<00:07,  2.23it/s]"
     ]
    },
    {
     "name": "stdout",
     "output_type": "stream",
     "text": [
      "Epoch 33, Average Train Loss: 0.001492\n",
      "Epoch 33, Average Test Loss: 0.001303\n"
     ]
    },
    {
     "name": "stderr",
     "output_type": "stream",
     "text": [
      " 68%|████████████████████████████▌             | 34/50 [00:15<00:07,  2.24it/s]"
     ]
    },
    {
     "name": "stdout",
     "output_type": "stream",
     "text": [
      "Epoch 34, Average Train Loss: 0.001429\n",
      "Epoch 34, Average Test Loss: 0.001245\n"
     ]
    },
    {
     "name": "stderr",
     "output_type": "stream",
     "text": [
      " 70%|█████████████████████████████▍            | 35/50 [00:15<00:06,  2.25it/s]"
     ]
    },
    {
     "name": "stdout",
     "output_type": "stream",
     "text": [
      "Epoch 35, Average Train Loss: 0.001381\n",
      "Epoch 35, Average Test Loss: 0.001198\n"
     ]
    },
    {
     "name": "stderr",
     "output_type": "stream",
     "text": [
      " 72%|██████████████████████████████▏           | 36/50 [00:16<00:06,  2.25it/s]"
     ]
    },
    {
     "name": "stdout",
     "output_type": "stream",
     "text": [
      "Epoch 36, Average Train Loss: 0.001344\n",
      "Epoch 36, Average Test Loss: 0.001161\n"
     ]
    },
    {
     "name": "stderr",
     "output_type": "stream",
     "text": [
      " 74%|███████████████████████████████           | 37/50 [00:16<00:05,  2.21it/s]"
     ]
    },
    {
     "name": "stdout",
     "output_type": "stream",
     "text": [
      "Epoch 37, Average Train Loss: 0.001315\n",
      "Epoch 37, Average Test Loss: 0.001133\n"
     ]
    },
    {
     "name": "stderr",
     "output_type": "stream",
     "text": [
      " 76%|███████████████████████████████▉          | 38/50 [00:17<00:05,  2.23it/s]"
     ]
    },
    {
     "name": "stdout",
     "output_type": "stream",
     "text": [
      "Epoch 38, Average Train Loss: 0.001291\n",
      "Epoch 38, Average Test Loss: 0.001112\n"
     ]
    },
    {
     "name": "stderr",
     "output_type": "stream",
     "text": [
      " 78%|████████████████████████████████▊         | 39/50 [00:17<00:04,  2.24it/s]"
     ]
    },
    {
     "name": "stdout",
     "output_type": "stream",
     "text": [
      "Epoch 39, Average Train Loss: 0.001271\n",
      "Epoch 39, Average Test Loss: 0.001095\n"
     ]
    },
    {
     "name": "stderr",
     "output_type": "stream",
     "text": [
      " 80%|█████████████████████████████████▌        | 40/50 [00:17<00:04,  2.25it/s]"
     ]
    },
    {
     "name": "stdout",
     "output_type": "stream",
     "text": [
      "Epoch 40, Average Train Loss: 0.001254\n",
      "Epoch 40, Average Test Loss: 0.001082\n"
     ]
    },
    {
     "name": "stderr",
     "output_type": "stream",
     "text": [
      " 82%|██████████████████████████████████▍       | 41/50 [00:18<00:03,  2.26it/s]"
     ]
    },
    {
     "name": "stdout",
     "output_type": "stream",
     "text": [
      "Epoch 41, Average Train Loss: 0.001239\n",
      "Epoch 41, Average Test Loss: 0.001071\n"
     ]
    },
    {
     "name": "stderr",
     "output_type": "stream",
     "text": [
      " 84%|███████████████████████████████████▎      | 42/50 [00:18<00:03,  2.27it/s]"
     ]
    },
    {
     "name": "stdout",
     "output_type": "stream",
     "text": [
      "Epoch 42, Average Train Loss: 0.001225\n",
      "Epoch 42, Average Test Loss: 0.001063\n"
     ]
    },
    {
     "name": "stderr",
     "output_type": "stream",
     "text": [
      " 86%|████████████████████████████████████      | 43/50 [00:19<00:03,  2.26it/s]"
     ]
    },
    {
     "name": "stdout",
     "output_type": "stream",
     "text": [
      "Epoch 43, Average Train Loss: 0.001213\n",
      "Epoch 43, Average Test Loss: 0.001055\n"
     ]
    },
    {
     "name": "stderr",
     "output_type": "stream",
     "text": [
      " 88%|████████████████████████████████████▉     | 44/50 [00:19<00:02,  2.25it/s]"
     ]
    },
    {
     "name": "stdout",
     "output_type": "stream",
     "text": [
      "Epoch 44, Average Train Loss: 0.001201\n",
      "Epoch 44, Average Test Loss: 0.001048\n"
     ]
    },
    {
     "name": "stderr",
     "output_type": "stream",
     "text": [
      " 90%|█████████████████████████████████████▊    | 45/50 [00:20<00:02,  2.25it/s]"
     ]
    },
    {
     "name": "stdout",
     "output_type": "stream",
     "text": [
      "Epoch 45, Average Train Loss: 0.001191\n",
      "Epoch 45, Average Test Loss: 0.001040\n"
     ]
    },
    {
     "name": "stderr",
     "output_type": "stream",
     "text": [
      " 92%|██████████████████████████████████████▋   | 46/50 [00:20<00:01,  2.25it/s]"
     ]
    },
    {
     "name": "stdout",
     "output_type": "stream",
     "text": [
      "Epoch 46, Average Train Loss: 0.001180\n",
      "Epoch 46, Average Test Loss: 0.001033\n"
     ]
    },
    {
     "name": "stderr",
     "output_type": "stream",
     "text": [
      " 94%|███████████████████████████████████████▍  | 47/50 [00:21<00:01,  2.25it/s]"
     ]
    },
    {
     "name": "stdout",
     "output_type": "stream",
     "text": [
      "Epoch 47, Average Train Loss: 0.001170\n",
      "Epoch 47, Average Test Loss: 0.001027\n"
     ]
    },
    {
     "name": "stderr",
     "output_type": "stream",
     "text": [
      " 96%|████████████████████████████████████████▎ | 48/50 [00:21<00:00,  2.26it/s]"
     ]
    },
    {
     "name": "stdout",
     "output_type": "stream",
     "text": [
      "Epoch 48, Average Train Loss: 0.001160\n",
      "Epoch 48, Average Test Loss: 0.001021\n"
     ]
    },
    {
     "name": "stderr",
     "output_type": "stream",
     "text": [
      " 98%|█████████████████████████████████████████▏| 49/50 [00:21<00:00,  2.26it/s]"
     ]
    },
    {
     "name": "stdout",
     "output_type": "stream",
     "text": [
      "Epoch 49, Average Train Loss: 0.001151\n",
      "Epoch 49, Average Test Loss: 0.001015\n"
     ]
    },
    {
     "name": "stderr",
     "output_type": "stream",
     "text": [
      "100%|██████████████████████████████████████████| 50/50 [00:22<00:00,  2.24it/s]"
     ]
    },
    {
     "name": "stdout",
     "output_type": "stream",
     "text": [
      "Epoch 50, Average Train Loss: 0.001141\n",
      "Epoch 50, Average Test Loss: 0.001009\n",
      "Training hard-to-easy model...\n",
      "Train/Test split: 3598 train files, 922 test files\n"
     ]
    },
    {
     "name": "stderr",
     "output_type": "stream",
     "text": [
      "\n"
     ]
    },
    {
     "name": "stdout",
     "output_type": "stream",
     "text": [
      "Train/Test split: 3598 train files, 922 test files\n"
     ]
    },
    {
     "name": "stderr",
     "output_type": "stream",
     "text": [
      "  2%|▊                                          | 1/50 [00:00<00:21,  2.25it/s]"
     ]
    },
    {
     "name": "stdout",
     "output_type": "stream",
     "text": [
      "Epoch 1, Average Train Loss: 0.005434\n",
      "Epoch 1, Average Test Loss: 0.004130\n"
     ]
    },
    {
     "name": "stderr",
     "output_type": "stream",
     "text": [
      "  4%|█▋                                         | 2/50 [00:00<00:21,  2.24it/s]"
     ]
    },
    {
     "name": "stdout",
     "output_type": "stream",
     "text": [
      "Epoch 2, Average Train Loss: 0.003700\n",
      "Epoch 2, Average Test Loss: 0.003268\n"
     ]
    },
    {
     "name": "stderr",
     "output_type": "stream",
     "text": [
      "  6%|██▌                                        | 3/50 [00:01<00:20,  2.26it/s]"
     ]
    },
    {
     "name": "stdout",
     "output_type": "stream",
     "text": [
      "Epoch 3, Average Train Loss: 0.003438\n",
      "Epoch 3, Average Test Loss: 0.003261\n"
     ]
    },
    {
     "name": "stderr",
     "output_type": "stream",
     "text": [
      "  8%|███▍                                       | 4/50 [00:01<00:20,  2.27it/s]"
     ]
    },
    {
     "name": "stdout",
     "output_type": "stream",
     "text": [
      "Epoch 4, Average Train Loss: 0.003429\n",
      "Epoch 4, Average Test Loss: 0.003252\n"
     ]
    },
    {
     "name": "stderr",
     "output_type": "stream",
     "text": [
      " 10%|████▎                                      | 5/50 [00:02<00:20,  2.17it/s]"
     ]
    },
    {
     "name": "stdout",
     "output_type": "stream",
     "text": [
      "Epoch 5, Average Train Loss: 0.003418\n",
      "Epoch 5, Average Test Loss: 0.003243\n"
     ]
    },
    {
     "name": "stderr",
     "output_type": "stream",
     "text": [
      " 12%|█████▏                                     | 6/50 [00:02<00:19,  2.20it/s]"
     ]
    },
    {
     "name": "stdout",
     "output_type": "stream",
     "text": [
      "Epoch 6, Average Train Loss: 0.003408\n",
      "Epoch 6, Average Test Loss: 0.003234\n"
     ]
    },
    {
     "name": "stderr",
     "output_type": "stream",
     "text": [
      " 14%|██████                                     | 7/50 [00:03<00:19,  2.22it/s]"
     ]
    },
    {
     "name": "stdout",
     "output_type": "stream",
     "text": [
      "Epoch 7, Average Train Loss: 0.003397\n",
      "Epoch 7, Average Test Loss: 0.003224\n"
     ]
    },
    {
     "name": "stderr",
     "output_type": "stream",
     "text": [
      " 16%|██████▉                                    | 8/50 [00:03<00:18,  2.23it/s]"
     ]
    },
    {
     "name": "stdout",
     "output_type": "stream",
     "text": [
      "Epoch 8, Average Train Loss: 0.003386\n",
      "Epoch 8, Average Test Loss: 0.003213\n"
     ]
    },
    {
     "name": "stderr",
     "output_type": "stream",
     "text": [
      " 18%|███████▋                                   | 9/50 [00:04<00:18,  2.19it/s]"
     ]
    },
    {
     "name": "stdout",
     "output_type": "stream",
     "text": [
      "Epoch 9, Average Train Loss: 0.003374\n",
      "Epoch 9, Average Test Loss: 0.003202\n"
     ]
    },
    {
     "name": "stderr",
     "output_type": "stream",
     "text": [
      " 20%|████████▍                                 | 10/50 [00:04<00:18,  2.21it/s]"
     ]
    },
    {
     "name": "stdout",
     "output_type": "stream",
     "text": [
      "Epoch 10, Average Train Loss: 0.003360\n",
      "Epoch 10, Average Test Loss: 0.003190\n"
     ]
    },
    {
     "name": "stderr",
     "output_type": "stream",
     "text": [
      " 22%|█████████▏                                | 11/50 [00:04<00:17,  2.23it/s]"
     ]
    },
    {
     "name": "stdout",
     "output_type": "stream",
     "text": [
      "Epoch 11, Average Train Loss: 0.003346\n",
      "Epoch 11, Average Test Loss: 0.003177\n"
     ]
    },
    {
     "name": "stderr",
     "output_type": "stream",
     "text": [
      " 24%|██████████                                | 12/50 [00:05<00:16,  2.24it/s]"
     ]
    },
    {
     "name": "stdout",
     "output_type": "stream",
     "text": [
      "Epoch 12, Average Train Loss: 0.003331\n",
      "Epoch 12, Average Test Loss: 0.003163\n"
     ]
    },
    {
     "name": "stderr",
     "output_type": "stream",
     "text": [
      " 26%|██████████▉                               | 13/50 [00:05<00:16,  2.26it/s]"
     ]
    },
    {
     "name": "stdout",
     "output_type": "stream",
     "text": [
      "Epoch 13, Average Train Loss: 0.003314\n",
      "Epoch 13, Average Test Loss: 0.003147\n"
     ]
    },
    {
     "name": "stderr",
     "output_type": "stream",
     "text": [
      " 28%|███████████▊                              | 14/50 [00:06<00:15,  2.26it/s]"
     ]
    },
    {
     "name": "stdout",
     "output_type": "stream",
     "text": [
      "Epoch 14, Average Train Loss: 0.003295\n",
      "Epoch 14, Average Test Loss: 0.003129\n"
     ]
    },
    {
     "name": "stderr",
     "output_type": "stream",
     "text": [
      " 30%|████████████▌                             | 15/50 [00:06<00:15,  2.26it/s]"
     ]
    },
    {
     "name": "stdout",
     "output_type": "stream",
     "text": [
      "Epoch 15, Average Train Loss: 0.003274\n",
      "Epoch 15, Average Test Loss: 0.003109\n"
     ]
    },
    {
     "name": "stderr",
     "output_type": "stream",
     "text": [
      " 32%|█████████████▍                            | 16/50 [00:07<00:15,  2.27it/s]"
     ]
    },
    {
     "name": "stdout",
     "output_type": "stream",
     "text": [
      "Epoch 16, Average Train Loss: 0.003250\n",
      "Epoch 16, Average Test Loss: 0.003087\n"
     ]
    },
    {
     "name": "stderr",
     "output_type": "stream",
     "text": [
      " 34%|██████████████▎                           | 17/50 [00:07<00:14,  2.26it/s]"
     ]
    },
    {
     "name": "stdout",
     "output_type": "stream",
     "text": [
      "Epoch 17, Average Train Loss: 0.003222\n",
      "Epoch 17, Average Test Loss: 0.003060\n"
     ]
    },
    {
     "name": "stderr",
     "output_type": "stream",
     "text": [
      " 36%|███████████████                           | 18/50 [00:08<00:14,  2.26it/s]"
     ]
    },
    {
     "name": "stdout",
     "output_type": "stream",
     "text": [
      "Epoch 18, Average Train Loss: 0.003191\n",
      "Epoch 18, Average Test Loss: 0.003030\n"
     ]
    },
    {
     "name": "stderr",
     "output_type": "stream",
     "text": [
      " 38%|███████████████▉                          | 19/50 [00:08<00:13,  2.25it/s]"
     ]
    },
    {
     "name": "stdout",
     "output_type": "stream",
     "text": [
      "Epoch 19, Average Train Loss: 0.003154\n",
      "Epoch 19, Average Test Loss: 0.002993\n"
     ]
    },
    {
     "name": "stderr",
     "output_type": "stream",
     "text": [
      " 40%|████████████████▊                         | 20/50 [00:08<00:13,  2.26it/s]"
     ]
    },
    {
     "name": "stdout",
     "output_type": "stream",
     "text": [
      "Epoch 20, Average Train Loss: 0.003110\n",
      "Epoch 20, Average Test Loss: 0.002950\n"
     ]
    },
    {
     "name": "stderr",
     "output_type": "stream",
     "text": [
      " 42%|█████████████████▋                        | 21/50 [00:09<00:12,  2.27it/s]"
     ]
    },
    {
     "name": "stdout",
     "output_type": "stream",
     "text": [
      "Epoch 21, Average Train Loss: 0.003058\n",
      "Epoch 21, Average Test Loss: 0.002897\n"
     ]
    },
    {
     "name": "stderr",
     "output_type": "stream",
     "text": [
      " 44%|██████████████████▍                       | 22/50 [00:09<00:12,  2.27it/s]"
     ]
    },
    {
     "name": "stdout",
     "output_type": "stream",
     "text": [
      "Epoch 22, Average Train Loss: 0.002994\n",
      "Epoch 22, Average Test Loss: 0.002832\n"
     ]
    },
    {
     "name": "stderr",
     "output_type": "stream",
     "text": [
      " 46%|███████████████████▎                      | 23/50 [00:10<00:11,  2.27it/s]"
     ]
    },
    {
     "name": "stdout",
     "output_type": "stream",
     "text": [
      "Epoch 23, Average Train Loss: 0.002915\n",
      "Epoch 23, Average Test Loss: 0.002752\n"
     ]
    },
    {
     "name": "stderr",
     "output_type": "stream",
     "text": [
      " 48%|████████████████████▏                     | 24/50 [00:10<00:11,  2.27it/s]"
     ]
    },
    {
     "name": "stdout",
     "output_type": "stream",
     "text": [
      "Epoch 24, Average Train Loss: 0.002819\n",
      "Epoch 24, Average Test Loss: 0.002654\n"
     ]
    },
    {
     "name": "stderr",
     "output_type": "stream",
     "text": [
      " 50%|█████████████████████                     | 25/50 [00:11<00:11,  2.27it/s]"
     ]
    },
    {
     "name": "stdout",
     "output_type": "stream",
     "text": [
      "Epoch 25, Average Train Loss: 0.002702\n",
      "Epoch 25, Average Test Loss: 0.002536\n"
     ]
    },
    {
     "name": "stderr",
     "output_type": "stream",
     "text": [
      " 52%|█████████████████████▊                    | 26/50 [00:11<00:10,  2.27it/s]"
     ]
    },
    {
     "name": "stdout",
     "output_type": "stream",
     "text": [
      "Epoch 26, Average Train Loss: 0.002566\n",
      "Epoch 26, Average Test Loss: 0.002405\n"
     ]
    },
    {
     "name": "stderr",
     "output_type": "stream",
     "text": [
      " 54%|██████████████████████▋                   | 27/50 [00:12<00:10,  2.26it/s]"
     ]
    },
    {
     "name": "stdout",
     "output_type": "stream",
     "text": [
      "Epoch 27, Average Train Loss: 0.002415\n",
      "Epoch 27, Average Test Loss: 0.002269\n"
     ]
    },
    {
     "name": "stderr",
     "output_type": "stream",
     "text": [
      " 56%|███████████████████████▌                  | 28/50 [00:12<00:09,  2.26it/s]"
     ]
    },
    {
     "name": "stdout",
     "output_type": "stream",
     "text": [
      "Epoch 28, Average Train Loss: 0.002259\n",
      "Epoch 28, Average Test Loss: 0.002138\n"
     ]
    },
    {
     "name": "stderr",
     "output_type": "stream",
     "text": [
      " 58%|████████████████████████▎                 | 29/50 [00:12<00:09,  2.27it/s]"
     ]
    },
    {
     "name": "stdout",
     "output_type": "stream",
     "text": [
      "Epoch 29, Average Train Loss: 0.002105\n",
      "Epoch 29, Average Test Loss: 0.002018\n"
     ]
    },
    {
     "name": "stderr",
     "output_type": "stream",
     "text": [
      " 60%|█████████████████████████▏                | 30/50 [00:13<00:08,  2.28it/s]"
     ]
    },
    {
     "name": "stdout",
     "output_type": "stream",
     "text": [
      "Epoch 30, Average Train Loss: 0.001962\n",
      "Epoch 30, Average Test Loss: 0.001909\n"
     ]
    },
    {
     "name": "stderr",
     "output_type": "stream",
     "text": [
      " 62%|██████████████████████████                | 31/50 [00:13<00:08,  2.24it/s]"
     ]
    },
    {
     "name": "stdout",
     "output_type": "stream",
     "text": [
      "Epoch 31, Average Train Loss: 0.001832\n",
      "Epoch 31, Average Test Loss: 0.001808\n"
     ]
    },
    {
     "name": "stderr",
     "output_type": "stream",
     "text": [
      " 64%|██████████████████████████▉               | 32/50 [00:14<00:08,  2.25it/s]"
     ]
    },
    {
     "name": "stdout",
     "output_type": "stream",
     "text": [
      "Epoch 32, Average Train Loss: 0.001718\n",
      "Epoch 32, Average Test Loss: 0.001714\n"
     ]
    },
    {
     "name": "stderr",
     "output_type": "stream",
     "text": [
      " 66%|███████████████████████████▋              | 33/50 [00:14<00:07,  2.25it/s]"
     ]
    },
    {
     "name": "stdout",
     "output_type": "stream",
     "text": [
      "Epoch 33, Average Train Loss: 0.001621\n",
      "Epoch 33, Average Test Loss: 0.001626\n"
     ]
    },
    {
     "name": "stderr",
     "output_type": "stream",
     "text": [
      " 68%|████████████████████████████▌             | 34/50 [00:15<00:07,  2.25it/s]"
     ]
    },
    {
     "name": "stdout",
     "output_type": "stream",
     "text": [
      "Epoch 34, Average Train Loss: 0.001539\n",
      "Epoch 34, Average Test Loss: 0.001542\n"
     ]
    },
    {
     "name": "stderr",
     "output_type": "stream",
     "text": [
      " 70%|█████████████████████████████▍            | 35/50 [00:15<00:06,  2.25it/s]"
     ]
    },
    {
     "name": "stdout",
     "output_type": "stream",
     "text": [
      "Epoch 35, Average Train Loss: 0.001469\n",
      "Epoch 35, Average Test Loss: 0.001468\n"
     ]
    },
    {
     "name": "stderr",
     "output_type": "stream",
     "text": [
      " 72%|██████████████████████████████▏           | 36/50 [00:15<00:06,  2.25it/s]"
     ]
    },
    {
     "name": "stdout",
     "output_type": "stream",
     "text": [
      "Epoch 36, Average Train Loss: 0.001411\n",
      "Epoch 36, Average Test Loss: 0.001401\n"
     ]
    },
    {
     "name": "stderr",
     "output_type": "stream",
     "text": [
      " 74%|███████████████████████████████           | 37/50 [00:16<00:05,  2.25it/s]"
     ]
    },
    {
     "name": "stdout",
     "output_type": "stream",
     "text": [
      "Epoch 37, Average Train Loss: 0.001363\n",
      "Epoch 37, Average Test Loss: 0.001346\n"
     ]
    },
    {
     "name": "stderr",
     "output_type": "stream",
     "text": [
      " 76%|███████████████████████████████▉          | 38/50 [00:16<00:05,  2.26it/s]"
     ]
    },
    {
     "name": "stdout",
     "output_type": "stream",
     "text": [
      "Epoch 38, Average Train Loss: 0.001324\n",
      "Epoch 38, Average Test Loss: 0.001299\n"
     ]
    },
    {
     "name": "stderr",
     "output_type": "stream",
     "text": [
      " 78%|████████████████████████████████▊         | 39/50 [00:17<00:04,  2.27it/s]"
     ]
    },
    {
     "name": "stdout",
     "output_type": "stream",
     "text": [
      "Epoch 39, Average Train Loss: 0.001292\n",
      "Epoch 39, Average Test Loss: 0.001261\n"
     ]
    },
    {
     "name": "stderr",
     "output_type": "stream",
     "text": [
      " 80%|█████████████████████████████████▌        | 40/50 [00:17<00:04,  2.27it/s]"
     ]
    },
    {
     "name": "stdout",
     "output_type": "stream",
     "text": [
      "Epoch 40, Average Train Loss: 0.001266\n",
      "Epoch 40, Average Test Loss: 0.001232\n"
     ]
    },
    {
     "name": "stderr",
     "output_type": "stream",
     "text": [
      " 82%|██████████████████████████████████▍       | 41/50 [00:18<00:03,  2.26it/s]"
     ]
    },
    {
     "name": "stdout",
     "output_type": "stream",
     "text": [
      "Epoch 41, Average Train Loss: 0.001245\n",
      "Epoch 41, Average Test Loss: 0.001207\n"
     ]
    },
    {
     "name": "stderr",
     "output_type": "stream",
     "text": [
      " 84%|███████████████████████████████████▎      | 42/50 [00:18<00:03,  2.26it/s]"
     ]
    },
    {
     "name": "stdout",
     "output_type": "stream",
     "text": [
      "Epoch 42, Average Train Loss: 0.001228\n",
      "Epoch 42, Average Test Loss: 0.001187\n"
     ]
    },
    {
     "name": "stderr",
     "output_type": "stream",
     "text": [
      " 86%|████████████████████████████████████      | 43/50 [00:19<00:03,  2.25it/s]"
     ]
    },
    {
     "name": "stdout",
     "output_type": "stream",
     "text": [
      "Epoch 43, Average Train Loss: 0.001213\n",
      "Epoch 43, Average Test Loss: 0.001171\n"
     ]
    },
    {
     "name": "stderr",
     "output_type": "stream",
     "text": [
      " 88%|████████████████████████████████████▉     | 44/50 [00:19<00:02,  2.25it/s]"
     ]
    },
    {
     "name": "stdout",
     "output_type": "stream",
     "text": [
      "Epoch 44, Average Train Loss: 0.001200\n",
      "Epoch 44, Average Test Loss: 0.001155\n"
     ]
    },
    {
     "name": "stderr",
     "output_type": "stream",
     "text": [
      " 90%|█████████████████████████████████████▊    | 45/50 [00:19<00:02,  2.24it/s]"
     ]
    },
    {
     "name": "stdout",
     "output_type": "stream",
     "text": [
      "Epoch 45, Average Train Loss: 0.001188\n",
      "Epoch 45, Average Test Loss: 0.001143\n"
     ]
    },
    {
     "name": "stderr",
     "output_type": "stream",
     "text": [
      " 92%|██████████████████████████████████████▋   | 46/50 [00:20<00:01,  2.22it/s]"
     ]
    },
    {
     "name": "stdout",
     "output_type": "stream",
     "text": [
      "Epoch 46, Average Train Loss: 0.001176\n",
      "Epoch 46, Average Test Loss: 0.001132\n"
     ]
    },
    {
     "name": "stderr",
     "output_type": "stream",
     "text": [
      " 94%|███████████████████████████████████████▍  | 47/50 [00:20<00:01,  2.23it/s]"
     ]
    },
    {
     "name": "stdout",
     "output_type": "stream",
     "text": [
      "Epoch 47, Average Train Loss: 0.001166\n",
      "Epoch 47, Average Test Loss: 0.001121\n"
     ]
    },
    {
     "name": "stderr",
     "output_type": "stream",
     "text": [
      " 96%|████████████████████████████████████████▎ | 48/50 [00:21<00:00,  2.25it/s]"
     ]
    },
    {
     "name": "stdout",
     "output_type": "stream",
     "text": [
      "Epoch 48, Average Train Loss: 0.001155\n",
      "Epoch 48, Average Test Loss: 0.001110\n"
     ]
    },
    {
     "name": "stderr",
     "output_type": "stream",
     "text": [
      " 98%|█████████████████████████████████████████▏| 49/50 [00:21<00:00,  2.26it/s]"
     ]
    },
    {
     "name": "stdout",
     "output_type": "stream",
     "text": [
      "Epoch 49, Average Train Loss: 0.001145\n",
      "Epoch 49, Average Test Loss: 0.001100\n"
     ]
    },
    {
     "name": "stderr",
     "output_type": "stream",
     "text": [
      "100%|██████████████████████████████████████████| 50/50 [00:22<00:00,  2.25it/s]"
     ]
    },
    {
     "name": "stdout",
     "output_type": "stream",
     "text": [
      "Epoch 50, Average Train Loss: 0.001135\n",
      "Epoch 50, Average Test Loss: 0.001091\n",
      "Training random model...\n",
      "Train/Test split: 3598 train files, 922 test files\n"
     ]
    },
    {
     "name": "stderr",
     "output_type": "stream",
     "text": [
      "\n"
     ]
    },
    {
     "name": "stdout",
     "output_type": "stream",
     "text": [
      "Train/Test split: 3598 train files, 922 test files\n"
     ]
    },
    {
     "name": "stderr",
     "output_type": "stream",
     "text": [
      "  2%|▊                                          | 1/50 [00:00<00:21,  2.29it/s]"
     ]
    },
    {
     "name": "stdout",
     "output_type": "stream",
     "text": [
      "Epoch 1, Average Train Loss: 0.005637\n",
      "Epoch 1, Average Test Loss: 0.004883\n"
     ]
    },
    {
     "name": "stderr",
     "output_type": "stream",
     "text": [
      "  4%|█▋                                         | 2/50 [00:00<00:20,  2.29it/s]"
     ]
    },
    {
     "name": "stdout",
     "output_type": "stream",
     "text": [
      "Epoch 2, Average Train Loss: 0.004222\n",
      "Epoch 2, Average Test Loss: 0.003250\n"
     ]
    },
    {
     "name": "stderr",
     "output_type": "stream",
     "text": [
      "  6%|██▌                                        | 3/50 [00:01<00:20,  2.28it/s]"
     ]
    },
    {
     "name": "stdout",
     "output_type": "stream",
     "text": [
      "Epoch 3, Average Train Loss: 0.003417\n",
      "Epoch 3, Average Test Loss: 0.003193\n"
     ]
    },
    {
     "name": "stderr",
     "output_type": "stream",
     "text": [
      "  8%|███▍                                       | 4/50 [00:01<00:20,  2.28it/s]"
     ]
    },
    {
     "name": "stdout",
     "output_type": "stream",
     "text": [
      "Epoch 4, Average Train Loss: 0.003401\n",
      "Epoch 4, Average Test Loss: 0.003188\n"
     ]
    },
    {
     "name": "stderr",
     "output_type": "stream",
     "text": [
      " 10%|████▎                                      | 5/50 [00:02<00:19,  2.28it/s]"
     ]
    },
    {
     "name": "stdout",
     "output_type": "stream",
     "text": [
      "Epoch 5, Average Train Loss: 0.003393\n",
      "Epoch 5, Average Test Loss: 0.003182\n"
     ]
    },
    {
     "name": "stderr",
     "output_type": "stream",
     "text": [
      " 12%|█████▏                                     | 6/50 [00:02<00:19,  2.28it/s]"
     ]
    },
    {
     "name": "stdout",
     "output_type": "stream",
     "text": [
      "Epoch 6, Average Train Loss: 0.003384\n",
      "Epoch 6, Average Test Loss: 0.003175\n"
     ]
    },
    {
     "name": "stderr",
     "output_type": "stream",
     "text": [
      " 14%|██████                                     | 7/50 [00:03<00:18,  2.28it/s]"
     ]
    },
    {
     "name": "stdout",
     "output_type": "stream",
     "text": [
      "Epoch 7, Average Train Loss: 0.003376\n",
      "Epoch 7, Average Test Loss: 0.003168\n"
     ]
    },
    {
     "name": "stderr",
     "output_type": "stream",
     "text": [
      " 16%|██████▉                                    | 8/50 [00:03<00:18,  2.29it/s]"
     ]
    },
    {
     "name": "stdout",
     "output_type": "stream",
     "text": [
      "Epoch 8, Average Train Loss: 0.003366\n",
      "Epoch 8, Average Test Loss: 0.003160\n"
     ]
    },
    {
     "name": "stderr",
     "output_type": "stream",
     "text": [
      " 18%|███████▋                                   | 9/50 [00:03<00:18,  2.27it/s]"
     ]
    },
    {
     "name": "stdout",
     "output_type": "stream",
     "text": [
      "Epoch 9, Average Train Loss: 0.003356\n",
      "Epoch 9, Average Test Loss: 0.003151\n"
     ]
    },
    {
     "name": "stderr",
     "output_type": "stream",
     "text": [
      " 20%|████████▍                                 | 10/50 [00:04<00:17,  2.27it/s]"
     ]
    },
    {
     "name": "stdout",
     "output_type": "stream",
     "text": [
      "Epoch 10, Average Train Loss: 0.003346\n",
      "Epoch 10, Average Test Loss: 0.003142\n"
     ]
    },
    {
     "name": "stderr",
     "output_type": "stream",
     "text": [
      " 22%|█████████▏                                | 11/50 [00:04<00:17,  2.27it/s]"
     ]
    },
    {
     "name": "stdout",
     "output_type": "stream",
     "text": [
      "Epoch 11, Average Train Loss: 0.003334\n",
      "Epoch 11, Average Test Loss: 0.003131\n"
     ]
    },
    {
     "name": "stderr",
     "output_type": "stream",
     "text": [
      " 24%|██████████                                | 12/50 [00:05<00:18,  2.02it/s]"
     ]
    },
    {
     "name": "stdout",
     "output_type": "stream",
     "text": [
      "Epoch 12, Average Train Loss: 0.003321\n",
      "Epoch 12, Average Test Loss: 0.003119\n"
     ]
    },
    {
     "name": "stderr",
     "output_type": "stream",
     "text": [
      " 26%|██████████▉                               | 13/50 [00:05<00:17,  2.06it/s]"
     ]
    },
    {
     "name": "stdout",
     "output_type": "stream",
     "text": [
      "Epoch 13, Average Train Loss: 0.003306\n",
      "Epoch 13, Average Test Loss: 0.003106\n"
     ]
    },
    {
     "name": "stderr",
     "output_type": "stream",
     "text": [
      " 28%|███████████▊                              | 14/50 [00:06<00:16,  2.12it/s]"
     ]
    },
    {
     "name": "stdout",
     "output_type": "stream",
     "text": [
      "Epoch 14, Average Train Loss: 0.003290\n",
      "Epoch 14, Average Test Loss: 0.003090\n"
     ]
    },
    {
     "name": "stderr",
     "output_type": "stream",
     "text": [
      " 30%|████████████▌                             | 15/50 [00:06<00:16,  2.17it/s]"
     ]
    },
    {
     "name": "stdout",
     "output_type": "stream",
     "text": [
      "Epoch 15, Average Train Loss: 0.003270\n",
      "Epoch 15, Average Test Loss: 0.003072\n"
     ]
    },
    {
     "name": "stderr",
     "output_type": "stream",
     "text": [
      " 32%|█████████████▍                            | 16/50 [00:07<00:15,  2.20it/s]"
     ]
    },
    {
     "name": "stdout",
     "output_type": "stream",
     "text": [
      "Epoch 16, Average Train Loss: 0.003248\n",
      "Epoch 16, Average Test Loss: 0.003050\n"
     ]
    },
    {
     "name": "stderr",
     "output_type": "stream",
     "text": [
      " 34%|██████████████▎                           | 17/50 [00:07<00:14,  2.22it/s]"
     ]
    },
    {
     "name": "stdout",
     "output_type": "stream",
     "text": [
      "Epoch 17, Average Train Loss: 0.003223\n",
      "Epoch 17, Average Test Loss: 0.003025\n"
     ]
    },
    {
     "name": "stderr",
     "output_type": "stream",
     "text": [
      " 36%|███████████████                           | 18/50 [00:08<00:14,  2.18it/s]"
     ]
    },
    {
     "name": "stdout",
     "output_type": "stream",
     "text": [
      "Epoch 18, Average Train Loss: 0.003193\n",
      "Epoch 18, Average Test Loss: 0.002995\n"
     ]
    },
    {
     "name": "stderr",
     "output_type": "stream",
     "text": [
      " 38%|███████████████▉                          | 19/50 [00:08<00:14,  2.19it/s]"
     ]
    },
    {
     "name": "stdout",
     "output_type": "stream",
     "text": [
      "Epoch 19, Average Train Loss: 0.003157\n",
      "Epoch 19, Average Test Loss: 0.002958\n"
     ]
    },
    {
     "name": "stderr",
     "output_type": "stream",
     "text": [
      " 40%|████████████████▊                         | 20/50 [00:09<00:14,  2.14it/s]"
     ]
    },
    {
     "name": "stdout",
     "output_type": "stream",
     "text": [
      "Epoch 20, Average Train Loss: 0.003113\n",
      "Epoch 20, Average Test Loss: 0.002912\n"
     ]
    },
    {
     "name": "stderr",
     "output_type": "stream",
     "text": [
      " 42%|█████████████████▋                        | 21/50 [00:09<00:13,  2.16it/s]"
     ]
    },
    {
     "name": "stdout",
     "output_type": "stream",
     "text": [
      "Epoch 21, Average Train Loss: 0.003059\n",
      "Epoch 21, Average Test Loss: 0.002854\n"
     ]
    },
    {
     "name": "stderr",
     "output_type": "stream",
     "text": [
      " 44%|██████████████████▍                       | 22/50 [00:09<00:12,  2.20it/s]"
     ]
    },
    {
     "name": "stdout",
     "output_type": "stream",
     "text": [
      "Epoch 22, Average Train Loss: 0.002991\n",
      "Epoch 22, Average Test Loss: 0.002781\n"
     ]
    },
    {
     "name": "stderr",
     "output_type": "stream",
     "text": [
      " 46%|███████████████████▎                      | 23/50 [00:10<00:12,  2.21it/s]"
     ]
    },
    {
     "name": "stdout",
     "output_type": "stream",
     "text": [
      "Epoch 23, Average Train Loss: 0.002907\n",
      "Epoch 23, Average Test Loss: 0.002691\n"
     ]
    },
    {
     "name": "stderr",
     "output_type": "stream",
     "text": [
      " 48%|████████████████████▏                     | 24/50 [00:10<00:11,  2.22it/s]"
     ]
    },
    {
     "name": "stdout",
     "output_type": "stream",
     "text": [
      "Epoch 24, Average Train Loss: 0.002804\n",
      "Epoch 24, Average Test Loss: 0.002582\n"
     ]
    },
    {
     "name": "stderr",
     "output_type": "stream",
     "text": [
      " 50%|█████████████████████                     | 25/50 [00:11<00:11,  2.24it/s]"
     ]
    },
    {
     "name": "stdout",
     "output_type": "stream",
     "text": [
      "Epoch 25, Average Train Loss: 0.002681\n",
      "Epoch 25, Average Test Loss: 0.002456\n"
     ]
    },
    {
     "name": "stderr",
     "output_type": "stream",
     "text": [
      " 52%|█████████████████████▊                    | 26/50 [00:11<00:10,  2.25it/s]"
     ]
    },
    {
     "name": "stdout",
     "output_type": "stream",
     "text": [
      "Epoch 26, Average Train Loss: 0.002543\n",
      "Epoch 26, Average Test Loss: 0.002320\n"
     ]
    },
    {
     "name": "stderr",
     "output_type": "stream",
     "text": [
      " 54%|██████████████████████▋                   | 27/50 [00:12<00:10,  2.26it/s]"
     ]
    },
    {
     "name": "stdout",
     "output_type": "stream",
     "text": [
      "Epoch 27, Average Train Loss: 0.002393\n",
      "Epoch 27, Average Test Loss: 0.002177\n"
     ]
    },
    {
     "name": "stderr",
     "output_type": "stream",
     "text": [
      " 56%|███████████████████████▌                  | 28/50 [00:12<00:09,  2.23it/s]"
     ]
    },
    {
     "name": "stdout",
     "output_type": "stream",
     "text": [
      "Epoch 28, Average Train Loss: 0.002238\n",
      "Epoch 28, Average Test Loss: 0.002033\n"
     ]
    },
    {
     "name": "stderr",
     "output_type": "stream",
     "text": [
      " 58%|████████████████████████▎                 | 29/50 [00:13<00:09,  2.23it/s]"
     ]
    },
    {
     "name": "stdout",
     "output_type": "stream",
     "text": [
      "Epoch 29, Average Train Loss: 0.002082\n",
      "Epoch 29, Average Test Loss: 0.001888\n"
     ]
    },
    {
     "name": "stderr",
     "output_type": "stream",
     "text": [
      " 60%|█████████████████████████▏                | 30/50 [00:13<00:08,  2.25it/s]"
     ]
    },
    {
     "name": "stdout",
     "output_type": "stream",
     "text": [
      "Epoch 30, Average Train Loss: 0.001928\n",
      "Epoch 30, Average Test Loss: 0.001749\n"
     ]
    },
    {
     "name": "stderr",
     "output_type": "stream",
     "text": [
      " 62%|██████████████████████████                | 31/50 [00:13<00:08,  2.26it/s]"
     ]
    },
    {
     "name": "stdout",
     "output_type": "stream",
     "text": [
      "Epoch 31, Average Train Loss: 0.001783\n",
      "Epoch 31, Average Test Loss: 0.001620\n"
     ]
    },
    {
     "name": "stderr",
     "output_type": "stream",
     "text": [
      " 64%|██████████████████████████▉               | 32/50 [00:14<00:08,  2.21it/s]"
     ]
    },
    {
     "name": "stdout",
     "output_type": "stream",
     "text": [
      "Epoch 32, Average Train Loss: 0.001652\n",
      "Epoch 32, Average Test Loss: 0.001506\n"
     ]
    },
    {
     "name": "stderr",
     "output_type": "stream",
     "text": [
      " 66%|███████████████████████████▋              | 33/50 [00:14<00:07,  2.16it/s]"
     ]
    },
    {
     "name": "stdout",
     "output_type": "stream",
     "text": [
      "Epoch 33, Average Train Loss: 0.001539\n",
      "Epoch 33, Average Test Loss: 0.001410\n"
     ]
    },
    {
     "name": "stderr",
     "output_type": "stream",
     "text": [
      " 68%|████████████████████████████▌             | 34/50 [00:15<00:07,  2.19it/s]"
     ]
    },
    {
     "name": "stdout",
     "output_type": "stream",
     "text": [
      "Epoch 34, Average Train Loss: 0.001447\n",
      "Epoch 34, Average Test Loss: 0.001332\n"
     ]
    },
    {
     "name": "stderr",
     "output_type": "stream",
     "text": [
      " 70%|█████████████████████████████▍            | 35/50 [00:15<00:06,  2.21it/s]"
     ]
    },
    {
     "name": "stdout",
     "output_type": "stream",
     "text": [
      "Epoch 35, Average Train Loss: 0.001371\n",
      "Epoch 35, Average Test Loss: 0.001269\n"
     ]
    },
    {
     "name": "stderr",
     "output_type": "stream",
     "text": [
      " 72%|██████████████████████████████▏           | 36/50 [00:16<00:06,  2.23it/s]"
     ]
    },
    {
     "name": "stdout",
     "output_type": "stream",
     "text": [
      "Epoch 36, Average Train Loss: 0.001309\n",
      "Epoch 36, Average Test Loss: 0.001218\n"
     ]
    },
    {
     "name": "stderr",
     "output_type": "stream",
     "text": [
      " 74%|███████████████████████████████           | 37/50 [00:16<00:05,  2.24it/s]"
     ]
    },
    {
     "name": "stdout",
     "output_type": "stream",
     "text": [
      "Epoch 37, Average Train Loss: 0.001258\n",
      "Epoch 37, Average Test Loss: 0.001178\n"
     ]
    },
    {
     "name": "stderr",
     "output_type": "stream",
     "text": [
      " 76%|███████████████████████████████▉          | 38/50 [00:17<00:05,  2.24it/s]"
     ]
    },
    {
     "name": "stdout",
     "output_type": "stream",
     "text": [
      "Epoch 38, Average Train Loss: 0.001215\n",
      "Epoch 38, Average Test Loss: 0.001144\n"
     ]
    },
    {
     "name": "stderr",
     "output_type": "stream",
     "text": [
      " 78%|████████████████████████████████▊         | 39/50 [00:17<00:04,  2.25it/s]"
     ]
    },
    {
     "name": "stdout",
     "output_type": "stream",
     "text": [
      "Epoch 39, Average Train Loss: 0.001178\n",
      "Epoch 39, Average Test Loss: 0.001115\n"
     ]
    },
    {
     "name": "stderr",
     "output_type": "stream",
     "text": [
      " 80%|█████████████████████████████████▌        | 40/50 [00:18<00:04,  2.26it/s]"
     ]
    },
    {
     "name": "stdout",
     "output_type": "stream",
     "text": [
      "Epoch 40, Average Train Loss: 0.001146\n",
      "Epoch 40, Average Test Loss: 0.001090\n"
     ]
    },
    {
     "name": "stderr",
     "output_type": "stream",
     "text": [
      " 82%|██████████████████████████████████▍       | 41/50 [00:18<00:03,  2.26it/s]"
     ]
    },
    {
     "name": "stdout",
     "output_type": "stream",
     "text": [
      "Epoch 41, Average Train Loss: 0.001118\n",
      "Epoch 41, Average Test Loss: 0.001067\n"
     ]
    },
    {
     "name": "stderr",
     "output_type": "stream",
     "text": [
      " 84%|███████████████████████████████████▎      | 42/50 [00:18<00:03,  2.26it/s]"
     ]
    },
    {
     "name": "stdout",
     "output_type": "stream",
     "text": [
      "Epoch 42, Average Train Loss: 0.001094\n",
      "Epoch 42, Average Test Loss: 0.001048\n"
     ]
    },
    {
     "name": "stderr",
     "output_type": "stream",
     "text": [
      " 86%|████████████████████████████████████      | 43/50 [00:19<00:03,  2.26it/s]"
     ]
    },
    {
     "name": "stdout",
     "output_type": "stream",
     "text": [
      "Epoch 43, Average Train Loss: 0.001072\n",
      "Epoch 43, Average Test Loss: 0.001031\n"
     ]
    },
    {
     "name": "stderr",
     "output_type": "stream",
     "text": [
      " 88%|████████████████████████████████████▉     | 44/50 [00:19<00:02,  2.22it/s]"
     ]
    },
    {
     "name": "stdout",
     "output_type": "stream",
     "text": [
      "Epoch 44, Average Train Loss: 0.001053\n",
      "Epoch 44, Average Test Loss: 0.001016\n"
     ]
    },
    {
     "name": "stderr",
     "output_type": "stream",
     "text": [
      " 90%|█████████████████████████████████████▊    | 45/50 [00:20<00:02,  2.24it/s]"
     ]
    },
    {
     "name": "stdout",
     "output_type": "stream",
     "text": [
      "Epoch 45, Average Train Loss: 0.001036\n",
      "Epoch 45, Average Test Loss: 0.001003\n"
     ]
    },
    {
     "name": "stderr",
     "output_type": "stream",
     "text": [
      " 92%|██████████████████████████████████████▋   | 46/50 [00:20<00:01,  2.25it/s]"
     ]
    },
    {
     "name": "stdout",
     "output_type": "stream",
     "text": [
      "Epoch 46, Average Train Loss: 0.001021\n",
      "Epoch 46, Average Test Loss: 0.000992\n"
     ]
    },
    {
     "name": "stderr",
     "output_type": "stream",
     "text": [
      " 94%|███████████████████████████████████████▍  | 47/50 [00:21<00:01,  2.25it/s]"
     ]
    },
    {
     "name": "stdout",
     "output_type": "stream",
     "text": [
      "Epoch 47, Average Train Loss: 0.001008\n",
      "Epoch 47, Average Test Loss: 0.000982\n"
     ]
    },
    {
     "name": "stderr",
     "output_type": "stream",
     "text": [
      " 96%|████████████████████████████████████████▎ | 48/50 [00:21<00:00,  2.26it/s]"
     ]
    },
    {
     "name": "stdout",
     "output_type": "stream",
     "text": [
      "Epoch 48, Average Train Loss: 0.000996\n",
      "Epoch 48, Average Test Loss: 0.000973\n"
     ]
    },
    {
     "name": "stderr",
     "output_type": "stream",
     "text": [
      " 98%|█████████████████████████████████████████▏| 49/50 [00:22<00:00,  2.27it/s]"
     ]
    },
    {
     "name": "stdout",
     "output_type": "stream",
     "text": [
      "Epoch 49, Average Train Loss: 0.000985\n",
      "Epoch 49, Average Test Loss: 0.000965\n"
     ]
    },
    {
     "name": "stderr",
     "output_type": "stream",
     "text": [
      "100%|██████████████████████████████████████████| 50/50 [00:22<00:00,  2.23it/s]\n"
     ]
    },
    {
     "name": "stdout",
     "output_type": "stream",
     "text": [
      "Epoch 50, Average Train Loss: 0.000975\n",
      "Epoch 50, Average Test Loss: 0.000958\n",
      "Evaluating models...\n"
     ]
    },
    {
     "name": "stderr",
     "output_type": "stream",
     "text": [
      "0it [00:00, ?it/s]\n",
      "0it [00:00, ?it/s]\n",
      "0it [00:00, ?it/s]\n"
     ]
    }
   ],
   "source": [
    "run_all_training_experiments()"
   ]
  },
  {
   "cell_type": "code",
   "execution_count": 3,
   "id": "1490a83b-caac-4eee-af12-293f53e206ac",
   "metadata": {},
   "outputs": [
    {
     "name": "stdout",
     "output_type": "stream",
     "text": [
      "Loading MCTS data from ./monte_carlo_data...\n"
     ]
    },
    {
     "name": "stderr",
     "output_type": "stream",
     "text": [
      "100%|███████████████████████████████████| 4520/4520 [00:00<00:00, 20487.41it/s]"
     ]
    },
    {
     "name": "stdout",
     "output_type": "stream",
     "text": [
      "Loaded 4520 MCTS states.\n"
     ]
    },
    {
     "name": "stderr",
     "output_type": "stream",
     "text": [
      "\n"
     ]
    }
   ],
   "source": [
    "epochs = 5\n",
    "optimizer_choice = \"adam\"\n",
    "criterion_choice = \"mse\"  # or \"kl_div\"\n",
    "default_eval_games = 5000\n",
    "mcts_eval_games = 5000\n",
    "seeds = [42, 101, 202, 303, 404]\n",
    "data_percentages = [0.1, 0.25, 0.5, 0.75, 1.0]\n",
    "\n",
    "preloaded_mcts_data = load_mcts_data()"
   ]
  },
  {
   "cell_type": "code",
   "execution_count": 4,
   "id": "2640d774-4ef8-48ac-91dd-08cd85bf897d",
   "metadata": {},
   "outputs": [
    {
     "name": "stdout",
     "output_type": "stream",
     "text": [
      "\n",
      "--- Running Curriculum Experiment with seed: 42 ---\n",
      "\n",
      "--- Running Curriculum Experiment with seed: 101 ---\n",
      "\n",
      "--- Running Curriculum Experiment with seed: 202 ---\n",
      "\n",
      "--- Running Curriculum Experiment with seed: 303 ---\n",
      "\n",
      "--- Running Curriculum Experiment with seed: 404 ---\n"
     ]
    }
   ],
   "source": [
    "# Run curriculum experiments and collect results into one DataFrame\n",
    "curriculum_df = run_all_curriculum_experiments(seeds, preloaded_mcts_data, epochs, optimizer_choice, \n",
    "                                               criterion_choice, default_eval_games, mcts_eval_games)"
   ]
  },
  {
   "cell_type": "code",
   "execution_count": 5,
   "id": "f66d6290-604a-4115-a049-8cc67023696b",
   "metadata": {},
   "outputs": [
    {
     "data": {
      "text/html": [
       "<div>\n",
       "<style scoped>\n",
       "    .dataframe tbody tr th:only-of-type {\n",
       "        vertical-align: middle;\n",
       "    }\n",
       "\n",
       "    .dataframe tbody tr th {\n",
       "        vertical-align: top;\n",
       "    }\n",
       "\n",
       "    .dataframe thead th {\n",
       "        text-align: right;\n",
       "    }\n",
       "</style>\n",
       "<table border=\"1\" class=\"dataframe\">\n",
       "  <thead>\n",
       "    <tr style=\"text-align: right;\">\n",
       "      <th></th>\n",
       "      <th>seed</th>\n",
       "      <th>matchup</th>\n",
       "      <th>agent1_wins</th>\n",
       "      <th>agent2_wins</th>\n",
       "      <th>draws</th>\n",
       "    </tr>\n",
       "  </thead>\n",
       "  <tbody>\n",
       "    <tr>\n",
       "      <th>0</th>\n",
       "      <td>42</td>\n",
       "      <td>easy_to_hard vs hard_to_easy</td>\n",
       "      <td>2857</td>\n",
       "      <td>1412</td>\n",
       "      <td>0</td>\n",
       "    </tr>\n",
       "    <tr>\n",
       "      <th>1</th>\n",
       "      <td>42</td>\n",
       "      <td>easy_to_hard vs random</td>\n",
       "      <td>2942</td>\n",
       "      <td>1337</td>\n",
       "      <td>0</td>\n",
       "    </tr>\n",
       "    <tr>\n",
       "      <th>2</th>\n",
       "      <td>42</td>\n",
       "      <td>hard_to_easy vs random</td>\n",
       "      <td>2222</td>\n",
       "      <td>2084</td>\n",
       "      <td>0</td>\n",
       "    </tr>\n",
       "    <tr>\n",
       "      <th>3</th>\n",
       "      <td>42</td>\n",
       "      <td>easy_to_hard vs MCTS_data_agent</td>\n",
       "      <td>2540</td>\n",
       "      <td>1599</td>\n",
       "      <td>0</td>\n",
       "    </tr>\n",
       "    <tr>\n",
       "      <th>4</th>\n",
       "      <td>42</td>\n",
       "      <td>hard_to_easy vs MCTS_data_agent</td>\n",
       "      <td>1613</td>\n",
       "      <td>2573</td>\n",
       "      <td>0</td>\n",
       "    </tr>\n",
       "    <tr>\n",
       "      <th>5</th>\n",
       "      <td>42</td>\n",
       "      <td>random vs MCTS_data_agent</td>\n",
       "      <td>1602</td>\n",
       "      <td>2593</td>\n",
       "      <td>0</td>\n",
       "    </tr>\n",
       "    <tr>\n",
       "      <th>6</th>\n",
       "      <td>42</td>\n",
       "      <td>easy_to_hard vs Random_agent</td>\n",
       "      <td>3231</td>\n",
       "      <td>1071</td>\n",
       "      <td>0</td>\n",
       "    </tr>\n",
       "    <tr>\n",
       "      <th>7</th>\n",
       "      <td>42</td>\n",
       "      <td>hard_to_easy vs Random_agent</td>\n",
       "      <td>2664</td>\n",
       "      <td>1722</td>\n",
       "      <td>0</td>\n",
       "    </tr>\n",
       "    <tr>\n",
       "      <th>8</th>\n",
       "      <td>42</td>\n",
       "      <td>random vs Random_agent</td>\n",
       "      <td>2555</td>\n",
       "      <td>1797</td>\n",
       "      <td>0</td>\n",
       "    </tr>\n",
       "    <tr>\n",
       "      <th>9</th>\n",
       "      <td>101</td>\n",
       "      <td>easy_to_hard vs hard_to_easy</td>\n",
       "      <td>2842</td>\n",
       "      <td>1398</td>\n",
       "      <td>0</td>\n",
       "    </tr>\n",
       "    <tr>\n",
       "      <th>10</th>\n",
       "      <td>101</td>\n",
       "      <td>easy_to_hard vs random</td>\n",
       "      <td>2787</td>\n",
       "      <td>1453</td>\n",
       "      <td>0</td>\n",
       "    </tr>\n",
       "    <tr>\n",
       "      <th>11</th>\n",
       "      <td>101</td>\n",
       "      <td>hard_to_easy vs random</td>\n",
       "      <td>2070</td>\n",
       "      <td>2258</td>\n",
       "      <td>0</td>\n",
       "    </tr>\n",
       "    <tr>\n",
       "      <th>12</th>\n",
       "      <td>101</td>\n",
       "      <td>easy_to_hard vs MCTS_data_agent</td>\n",
       "      <td>2445</td>\n",
       "      <td>1651</td>\n",
       "      <td>0</td>\n",
       "    </tr>\n",
       "    <tr>\n",
       "      <th>13</th>\n",
       "      <td>101</td>\n",
       "      <td>hard_to_easy vs MCTS_data_agent</td>\n",
       "      <td>1656</td>\n",
       "      <td>2625</td>\n",
       "      <td>0</td>\n",
       "    </tr>\n",
       "    <tr>\n",
       "      <th>14</th>\n",
       "      <td>101</td>\n",
       "      <td>random vs MCTS_data_agent</td>\n",
       "      <td>1709</td>\n",
       "      <td>2531</td>\n",
       "      <td>0</td>\n",
       "    </tr>\n",
       "    <tr>\n",
       "      <th>15</th>\n",
       "      <td>101</td>\n",
       "      <td>easy_to_hard vs Random_agent</td>\n",
       "      <td>3218</td>\n",
       "      <td>1023</td>\n",
       "      <td>0</td>\n",
       "    </tr>\n",
       "    <tr>\n",
       "      <th>16</th>\n",
       "      <td>101</td>\n",
       "      <td>hard_to_easy vs Random_agent</td>\n",
       "      <td>2516</td>\n",
       "      <td>1834</td>\n",
       "      <td>0</td>\n",
       "    </tr>\n",
       "    <tr>\n",
       "      <th>17</th>\n",
       "      <td>101</td>\n",
       "      <td>random vs Random_agent</td>\n",
       "      <td>2627</td>\n",
       "      <td>1772</td>\n",
       "      <td>0</td>\n",
       "    </tr>\n",
       "    <tr>\n",
       "      <th>18</th>\n",
       "      <td>202</td>\n",
       "      <td>easy_to_hard vs hard_to_easy</td>\n",
       "      <td>2888</td>\n",
       "      <td>1271</td>\n",
       "      <td>0</td>\n",
       "    </tr>\n",
       "    <tr>\n",
       "      <th>19</th>\n",
       "      <td>202</td>\n",
       "      <td>easy_to_hard vs random</td>\n",
       "      <td>2947</td>\n",
       "      <td>1233</td>\n",
       "      <td>0</td>\n",
       "    </tr>\n",
       "    <tr>\n",
       "      <th>20</th>\n",
       "      <td>202</td>\n",
       "      <td>hard_to_easy vs random</td>\n",
       "      <td>2232</td>\n",
       "      <td>2147</td>\n",
       "      <td>0</td>\n",
       "    </tr>\n",
       "    <tr>\n",
       "      <th>21</th>\n",
       "      <td>202</td>\n",
       "      <td>easy_to_hard vs MCTS_data_agent</td>\n",
       "      <td>2574</td>\n",
       "      <td>1551</td>\n",
       "      <td>0</td>\n",
       "    </tr>\n",
       "    <tr>\n",
       "      <th>22</th>\n",
       "      <td>202</td>\n",
       "      <td>hard_to_easy vs MCTS_data_agent</td>\n",
       "      <td>1643</td>\n",
       "      <td>2563</td>\n",
       "      <td>0</td>\n",
       "    </tr>\n",
       "    <tr>\n",
       "      <th>23</th>\n",
       "      <td>202</td>\n",
       "      <td>random vs MCTS_data_agent</td>\n",
       "      <td>1620</td>\n",
       "      <td>2559</td>\n",
       "      <td>0</td>\n",
       "    </tr>\n",
       "    <tr>\n",
       "      <th>24</th>\n",
       "      <td>202</td>\n",
       "      <td>easy_to_hard vs Random_agent</td>\n",
       "      <td>3272</td>\n",
       "      <td>963</td>\n",
       "      <td>0</td>\n",
       "    </tr>\n",
       "    <tr>\n",
       "      <th>25</th>\n",
       "      <td>202</td>\n",
       "      <td>hard_to_easy vs Random_agent</td>\n",
       "      <td>2588</td>\n",
       "      <td>1783</td>\n",
       "      <td>0</td>\n",
       "    </tr>\n",
       "    <tr>\n",
       "      <th>26</th>\n",
       "      <td>202</td>\n",
       "      <td>random vs Random_agent</td>\n",
       "      <td>2520</td>\n",
       "      <td>1803</td>\n",
       "      <td>0</td>\n",
       "    </tr>\n",
       "    <tr>\n",
       "      <th>27</th>\n",
       "      <td>303</td>\n",
       "      <td>easy_to_hard vs hard_to_easy</td>\n",
       "      <td>2901</td>\n",
       "      <td>1333</td>\n",
       "      <td>0</td>\n",
       "    </tr>\n",
       "    <tr>\n",
       "      <th>28</th>\n",
       "      <td>303</td>\n",
       "      <td>easy_to_hard vs random</td>\n",
       "      <td>2892</td>\n",
       "      <td>1333</td>\n",
       "      <td>0</td>\n",
       "    </tr>\n",
       "    <tr>\n",
       "      <th>29</th>\n",
       "      <td>303</td>\n",
       "      <td>hard_to_easy vs random</td>\n",
       "      <td>2179</td>\n",
       "      <td>2152</td>\n",
       "      <td>0</td>\n",
       "    </tr>\n",
       "    <tr>\n",
       "      <th>30</th>\n",
       "      <td>303</td>\n",
       "      <td>easy_to_hard vs MCTS_data_agent</td>\n",
       "      <td>2541</td>\n",
       "      <td>1581</td>\n",
       "      <td>0</td>\n",
       "    </tr>\n",
       "    <tr>\n",
       "      <th>31</th>\n",
       "      <td>303</td>\n",
       "      <td>hard_to_easy vs MCTS_data_agent</td>\n",
       "      <td>1628</td>\n",
       "      <td>2587</td>\n",
       "      <td>0</td>\n",
       "    </tr>\n",
       "    <tr>\n",
       "      <th>32</th>\n",
       "      <td>303</td>\n",
       "      <td>random vs MCTS_data_agent</td>\n",
       "      <td>1641</td>\n",
       "      <td>2581</td>\n",
       "      <td>0</td>\n",
       "    </tr>\n",
       "    <tr>\n",
       "      <th>33</th>\n",
       "      <td>303</td>\n",
       "      <td>easy_to_hard vs Random_agent</td>\n",
       "      <td>3273</td>\n",
       "      <td>1039</td>\n",
       "      <td>0</td>\n",
       "    </tr>\n",
       "    <tr>\n",
       "      <th>34</th>\n",
       "      <td>303</td>\n",
       "      <td>hard_to_easy vs Random_agent</td>\n",
       "      <td>2495</td>\n",
       "      <td>1863</td>\n",
       "      <td>0</td>\n",
       "    </tr>\n",
       "    <tr>\n",
       "      <th>35</th>\n",
       "      <td>303</td>\n",
       "      <td>random vs Random_agent</td>\n",
       "      <td>2606</td>\n",
       "      <td>1734</td>\n",
       "      <td>0</td>\n",
       "    </tr>\n",
       "    <tr>\n",
       "      <th>36</th>\n",
       "      <td>404</td>\n",
       "      <td>easy_to_hard vs hard_to_easy</td>\n",
       "      <td>2821</td>\n",
       "      <td>1416</td>\n",
       "      <td>0</td>\n",
       "    </tr>\n",
       "    <tr>\n",
       "      <th>37</th>\n",
       "      <td>404</td>\n",
       "      <td>easy_to_hard vs random</td>\n",
       "      <td>2905</td>\n",
       "      <td>1387</td>\n",
       "      <td>0</td>\n",
       "    </tr>\n",
       "    <tr>\n",
       "      <th>38</th>\n",
       "      <td>404</td>\n",
       "      <td>hard_to_easy vs random</td>\n",
       "      <td>2250</td>\n",
       "      <td>2106</td>\n",
       "      <td>0</td>\n",
       "    </tr>\n",
       "    <tr>\n",
       "      <th>39</th>\n",
       "      <td>404</td>\n",
       "      <td>easy_to_hard vs MCTS_data_agent</td>\n",
       "      <td>2461</td>\n",
       "      <td>1688</td>\n",
       "      <td>0</td>\n",
       "    </tr>\n",
       "    <tr>\n",
       "      <th>40</th>\n",
       "      <td>404</td>\n",
       "      <td>hard_to_easy vs MCTS_data_agent</td>\n",
       "      <td>1562</td>\n",
       "      <td>2632</td>\n",
       "      <td>0</td>\n",
       "    </tr>\n",
       "    <tr>\n",
       "      <th>41</th>\n",
       "      <td>404</td>\n",
       "      <td>random vs MCTS_data_agent</td>\n",
       "      <td>1630</td>\n",
       "      <td>2602</td>\n",
       "      <td>0</td>\n",
       "    </tr>\n",
       "    <tr>\n",
       "      <th>42</th>\n",
       "      <td>404</td>\n",
       "      <td>easy_to_hard vs Random_agent</td>\n",
       "      <td>3176</td>\n",
       "      <td>1087</td>\n",
       "      <td>0</td>\n",
       "    </tr>\n",
       "    <tr>\n",
       "      <th>43</th>\n",
       "      <td>404</td>\n",
       "      <td>hard_to_easy vs Random_agent</td>\n",
       "      <td>2569</td>\n",
       "      <td>1767</td>\n",
       "      <td>0</td>\n",
       "    </tr>\n",
       "    <tr>\n",
       "      <th>44</th>\n",
       "      <td>404</td>\n",
       "      <td>random vs Random_agent</td>\n",
       "      <td>2550</td>\n",
       "      <td>1797</td>\n",
       "      <td>0</td>\n",
       "    </tr>\n",
       "  </tbody>\n",
       "</table>\n",
       "</div>"
      ],
      "text/plain": [
       "    seed                          matchup  agent1_wins  agent2_wins  draws\n",
       "0     42     easy_to_hard vs hard_to_easy         2857         1412      0\n",
       "1     42           easy_to_hard vs random         2942         1337      0\n",
       "2     42           hard_to_easy vs random         2222         2084      0\n",
       "3     42  easy_to_hard vs MCTS_data_agent         2540         1599      0\n",
       "4     42  hard_to_easy vs MCTS_data_agent         1613         2573      0\n",
       "5     42        random vs MCTS_data_agent         1602         2593      0\n",
       "6     42     easy_to_hard vs Random_agent         3231         1071      0\n",
       "7     42     hard_to_easy vs Random_agent         2664         1722      0\n",
       "8     42           random vs Random_agent         2555         1797      0\n",
       "9    101     easy_to_hard vs hard_to_easy         2842         1398      0\n",
       "10   101           easy_to_hard vs random         2787         1453      0\n",
       "11   101           hard_to_easy vs random         2070         2258      0\n",
       "12   101  easy_to_hard vs MCTS_data_agent         2445         1651      0\n",
       "13   101  hard_to_easy vs MCTS_data_agent         1656         2625      0\n",
       "14   101        random vs MCTS_data_agent         1709         2531      0\n",
       "15   101     easy_to_hard vs Random_agent         3218         1023      0\n",
       "16   101     hard_to_easy vs Random_agent         2516         1834      0\n",
       "17   101           random vs Random_agent         2627         1772      0\n",
       "18   202     easy_to_hard vs hard_to_easy         2888         1271      0\n",
       "19   202           easy_to_hard vs random         2947         1233      0\n",
       "20   202           hard_to_easy vs random         2232         2147      0\n",
       "21   202  easy_to_hard vs MCTS_data_agent         2574         1551      0\n",
       "22   202  hard_to_easy vs MCTS_data_agent         1643         2563      0\n",
       "23   202        random vs MCTS_data_agent         1620         2559      0\n",
       "24   202     easy_to_hard vs Random_agent         3272          963      0\n",
       "25   202     hard_to_easy vs Random_agent         2588         1783      0\n",
       "26   202           random vs Random_agent         2520         1803      0\n",
       "27   303     easy_to_hard vs hard_to_easy         2901         1333      0\n",
       "28   303           easy_to_hard vs random         2892         1333      0\n",
       "29   303           hard_to_easy vs random         2179         2152      0\n",
       "30   303  easy_to_hard vs MCTS_data_agent         2541         1581      0\n",
       "31   303  hard_to_easy vs MCTS_data_agent         1628         2587      0\n",
       "32   303        random vs MCTS_data_agent         1641         2581      0\n",
       "33   303     easy_to_hard vs Random_agent         3273         1039      0\n",
       "34   303     hard_to_easy vs Random_agent         2495         1863      0\n",
       "35   303           random vs Random_agent         2606         1734      0\n",
       "36   404     easy_to_hard vs hard_to_easy         2821         1416      0\n",
       "37   404           easy_to_hard vs random         2905         1387      0\n",
       "38   404           hard_to_easy vs random         2250         2106      0\n",
       "39   404  easy_to_hard vs MCTS_data_agent         2461         1688      0\n",
       "40   404  hard_to_easy vs MCTS_data_agent         1562         2632      0\n",
       "41   404        random vs MCTS_data_agent         1630         2602      0\n",
       "42   404     easy_to_hard vs Random_agent         3176         1087      0\n",
       "43   404     hard_to_easy vs Random_agent         2569         1767      0\n",
       "44   404           random vs Random_agent         2550         1797      0"
      ]
     },
     "execution_count": 5,
     "metadata": {},
     "output_type": "execute_result"
    }
   ],
   "source": [
    "curriculum_df"
   ]
  },
  {
   "cell_type": "code",
   "execution_count": 6,
   "id": "520bb94b-142d-4d36-974a-9909628bcfae",
   "metadata": {},
   "outputs": [
    {
     "name": "stdout",
     "output_type": "stream",
     "text": [
      "\n",
      "--- Running Data Portion Experiment with seed: 42 ---\n",
      "Train/Test split: 3598 train files, 922 test files\n",
      "Train/Test split: 3598 train files, 922 test files\n",
      "Train/Test split: 3598 train files, 922 test files\n",
      "Train/Test split: 3598 train files, 922 test files\n",
      "Train/Test split: 3598 train files, 922 test files\n",
      "Train/Test split: 3598 train files, 922 test files\n",
      "Train/Test split: 3598 train files, 922 test files\n",
      "Train/Test split: 3598 train files, 922 test files\n",
      "Train/Test split: 3598 train files, 922 test files\n",
      "Train/Test split: 3598 train files, 922 test files\n",
      "Train/Test split: 3598 train files, 922 test files\n",
      "Train/Test split: 3598 train files, 922 test files\n",
      "Train/Test split: 3598 train files, 922 test files\n",
      "Train/Test split: 3598 train files, 922 test files\n",
      "Train/Test split: 3598 train files, 922 test files\n",
      "Train/Test split: 3598 train files, 922 test files\n",
      "Train/Test split: 3598 train files, 922 test files\n",
      "Train/Test split: 3598 train files, 922 test files\n",
      "\n",
      "--- Running Data Portion Experiment with seed: 101 ---\n",
      "Train/Test split: 3598 train files, 922 test files\n",
      "Train/Test split: 3598 train files, 922 test files\n",
      "Train/Test split: 3598 train files, 922 test files\n",
      "Train/Test split: 3598 train files, 922 test files\n",
      "Train/Test split: 3598 train files, 922 test files\n",
      "Train/Test split: 3598 train files, 922 test files\n",
      "Train/Test split: 3598 train files, 922 test files\n",
      "Train/Test split: 3598 train files, 922 test files\n",
      "Train/Test split: 3598 train files, 922 test files\n",
      "Train/Test split: 3598 train files, 922 test files\n",
      "Train/Test split: 3598 train files, 922 test files\n",
      "Train/Test split: 3598 train files, 922 test files\n",
      "Train/Test split: 3598 train files, 922 test files\n",
      "Train/Test split: 3598 train files, 922 test files\n",
      "Train/Test split: 3598 train files, 922 test files\n",
      "Train/Test split: 3598 train files, 922 test files\n",
      "Train/Test split: 3598 train files, 922 test files\n",
      "Train/Test split: 3598 train files, 922 test files\n",
      "\n",
      "--- Running Data Portion Experiment with seed: 202 ---\n",
      "Train/Test split: 3598 train files, 922 test files\n",
      "Train/Test split: 3598 train files, 922 test files\n",
      "Train/Test split: 3598 train files, 922 test files\n",
      "Train/Test split: 3598 train files, 922 test files\n",
      "Train/Test split: 3598 train files, 922 test files\n",
      "Train/Test split: 3598 train files, 922 test files\n",
      "Train/Test split: 3598 train files, 922 test files\n",
      "Train/Test split: 3598 train files, 922 test files\n",
      "Train/Test split: 3598 train files, 922 test files\n",
      "Train/Test split: 3598 train files, 922 test files\n",
      "Train/Test split: 3598 train files, 922 test files\n",
      "Train/Test split: 3598 train files, 922 test files\n",
      "Train/Test split: 3598 train files, 922 test files\n",
      "Train/Test split: 3598 train files, 922 test files\n",
      "Train/Test split: 3598 train files, 922 test files\n",
      "Train/Test split: 3598 train files, 922 test files\n",
      "Train/Test split: 3598 train files, 922 test files\n",
      "Train/Test split: 3598 train files, 922 test files\n",
      "\n",
      "--- Running Data Portion Experiment with seed: 303 ---\n",
      "Train/Test split: 3598 train files, 922 test files\n",
      "Train/Test split: 3598 train files, 922 test files\n",
      "Train/Test split: 3598 train files, 922 test files\n",
      "Train/Test split: 3598 train files, 922 test files\n",
      "Train/Test split: 3598 train files, 922 test files\n",
      "Train/Test split: 3598 train files, 922 test files\n",
      "Train/Test split: 3598 train files, 922 test files\n",
      "Train/Test split: 3598 train files, 922 test files\n",
      "Train/Test split: 3598 train files, 922 test files\n",
      "Train/Test split: 3598 train files, 922 test files\n",
      "Train/Test split: 3598 train files, 922 test files\n",
      "Train/Test split: 3598 train files, 922 test files\n",
      "Train/Test split: 3598 train files, 922 test files\n",
      "Train/Test split: 3598 train files, 922 test files\n",
      "Train/Test split: 3598 train files, 922 test files\n",
      "Train/Test split: 3598 train files, 922 test files\n",
      "Train/Test split: 3598 train files, 922 test files\n",
      "Train/Test split: 3598 train files, 922 test files\n",
      "\n",
      "--- Running Data Portion Experiment with seed: 404 ---\n",
      "Train/Test split: 3598 train files, 922 test files\n",
      "Train/Test split: 3598 train files, 922 test files\n",
      "Train/Test split: 3598 train files, 922 test files\n",
      "Train/Test split: 3598 train files, 922 test files\n",
      "Train/Test split: 3598 train files, 922 test files\n",
      "Train/Test split: 3598 train files, 922 test files\n",
      "Train/Test split: 3598 train files, 922 test files\n",
      "Train/Test split: 3598 train files, 922 test files\n",
      "Train/Test split: 3598 train files, 922 test files\n",
      "Train/Test split: 3598 train files, 922 test files\n",
      "Train/Test split: 3598 train files, 922 test files\n",
      "Train/Test split: 3598 train files, 922 test files\n",
      "Train/Test split: 3598 train files, 922 test files\n",
      "Train/Test split: 3598 train files, 922 test files\n",
      "Train/Test split: 3598 train files, 922 test files\n",
      "Train/Test split: 3598 train files, 922 test files\n",
      "Train/Test split: 3598 train files, 922 test files\n",
      "Train/Test split: 3598 train files, 922 test files\n"
     ]
    }
   ],
   "source": [
    "# Aggregate results from data portion experiments across seeds\n",
    "combined_data_portion_results = {ct: {p: [] for p in data_percentages} for ct in [\"easy_to_hard\", \"hard_to_easy\", \"random\"]}\n",
    "for seed in seeds:\n",
    "    dp_results = run_data_portion_experiment(seed, preloaded_mcts_data, epochs, optimizer_choice, criterion_choice, mcts_eval_games)\n",
    "    for ct in combined_data_portion_results:\n",
    "        for p in data_percentages:\n",
    "            combined_data_portion_results[ct][p].extend(dp_results[ct][p])"
   ]
  },
  {
   "cell_type": "code",
   "execution_count": 7,
   "id": "363f46f6-931a-4497-b247-e5380e4ae24e",
   "metadata": {},
   "outputs": [
    {
     "name": "stdout",
     "output_type": "stream",
     "text": [
      "\n",
      "--- Running Perturbation Experiment with perturbation seed: 42 ---\n",
      "\n",
      "--- Running Perturbation Experiment with perturbation seed: 101 ---\n",
      "\n",
      "--- Running Perturbation Experiment with perturbation seed: 202 ---\n",
      "\n",
      "--- Running Perturbation Experiment with perturbation seed: 303 ---\n",
      "\n",
      "--- Running Perturbation Experiment with perturbation seed: 404 ---\n",
      "\n",
      "--- Running Perturbation Experiment with perturbation seed: 42 ---\n",
      "\n",
      "--- Running Perturbation Experiment with perturbation seed: 101 ---\n",
      "\n",
      "--- Running Perturbation Experiment with perturbation seed: 202 ---\n",
      "\n",
      "--- Running Perturbation Experiment with perturbation seed: 303 ---\n",
      "\n",
      "--- Running Perturbation Experiment with perturbation seed: 404 ---\n",
      "\n",
      "--- Running Perturbation Experiment with perturbation seed: 42 ---\n",
      "\n",
      "--- Running Perturbation Experiment with perturbation seed: 101 ---\n",
      "\n",
      "--- Running Perturbation Experiment with perturbation seed: 202 ---\n",
      "\n",
      "--- Running Perturbation Experiment with perturbation seed: 303 ---\n",
      "\n",
      "--- Running Perturbation Experiment with perturbation seed: 404 ---\n"
     ]
    }
   ],
   "source": [
    "# Aggregate results from perturbation experiments across seeds for multiple strengths\n",
    "perturbation_strengths = [0.01, 0.1, 0.3]\n",
    "combined_perturbation_results = {ct: {str(s): [] for s in perturbation_strengths} for ct in [\"easy_to_hard\", \"hard_to_easy\", \"random\"]}\n",
    "base_models = load_base_models(optimizer_choice, criterion_choice, epochs)\n",
    "for strength in perturbation_strengths:\n",
    "    for seed in seeds:\n",
    "        p_results = run_perturbation_experiment(seed, base_models, preloaded_mcts_data, mcts_eval_games, criterion_choice, strength)\n",
    "        for ct in combined_perturbation_results:\n",
    "            combined_perturbation_results[ct][str(strength)].extend(p_results[ct])"
   ]
  },
  {
   "cell_type": "code",
   "execution_count": 8,
   "id": "4043a870-7acb-49bd-8fd9-3681227a622a",
   "metadata": {},
   "outputs": [],
   "source": [
    "run_highest_probability_experiment('adam_mse_epoch_50', preloaded_mcts_data)\n",
    "run_highest_probability_experiment('sgd_mse_epoch_50', preloaded_mcts_data)\n",
    "run_highest_probability_experiment('adam_kl_div_epoch_50', preloaded_mcts_data, kl_div=True)"
   ]
  },
  {
   "cell_type": "code",
   "execution_count": 9,
   "id": "acc970d1-dfba-49f2-9a0c-3d50c081e0f3",
   "metadata": {},
   "outputs": [
    {
     "name": "stdout",
     "output_type": "stream",
     "text": [
      "Loaded 50 losses from results/adam_mse_epoch_50/easy_to_hard_training.log\n",
      "Loaded 50 losses from results/adam_mse_epoch_50/hard_to_easy_training.log\n",
      "Loaded 50 losses from results/adam_mse_epoch_50/random_training.log\n"
     ]
    },
    {
     "data": {
      "image/png": "[encoded data removed]",
      "text/plain": [
       "<Figure size 1000x600 with 1 Axes>"
      ]
     },
     "metadata": {},
     "output_type": "display_data"
    },
    {
     "name": "stdout",
     "output_type": "stream",
     "text": [
      "Loaded 50 losses from results/adam_kl_div_epoch_50/easy_to_hard_training.log\n",
      "Loaded 50 losses from results/adam_kl_div_epoch_50/hard_to_easy_training.log\n",
      "Loaded 50 losses from results/adam_kl_div_epoch_50/random_training.log\n"
     ]
    },
    {
     "data": {
      "image/png": "[encoded data removed]",
      "text/plain": [
       "<Figure size 1000x600 with 1 Axes>"
      ]
     },
     "metadata": {},
     "output_type": "display_data"
    },
    {
     "name": "stdout",
     "output_type": "stream",
     "text": [
      "Loaded 50 losses from results/sgd_mse_epoch_50/easy_to_hard_training.log\n",
      "Loaded 50 losses from results/sgd_mse_epoch_50/hard_to_easy_training.log\n",
      "Loaded 50 losses from results/sgd_mse_epoch_50/random_training.log\n"
     ]
    },
    {
     "data": {
      "image/png": "[encoded data removed]",
      "text/plain": [
       "<Figure size 1000x600 with 1 Axes>"
      ]
     },
     "metadata": {},
     "output_type": "display_data"
    },
    {
     "data": {
      "image/png": "[encoded data removed]",
      "text/plain": [
       "<Figure size 1000x600 with 1 Axes>"
      ]
     },
     "metadata": {},
     "output_type": "display_data"
    },
    {
     "data": {
      "image/png": "[encoded data removed]",
      "text/plain": [
       "<Figure size 1000x600 with 1 Axes>"
      ]
     },
     "metadata": {},
     "output_type": "display_data"
    },
    {
     "data": {
      "image/png": "[encoded data removed]",
      "text/plain": [
       "<Figure size 1000x600 with 1 Axes>"
      ]
     },
     "metadata": {},
     "output_type": "display_data"
    },
    {
     "data": {
      "image/png": "[encoded data removed]",
      "text/plain": [
       "<Figure size 1000x600 with 1 Axes>"
      ]
     },
     "metadata": {},
     "output_type": "display_data"
    },
    {
     "data": {
      "image/png": "[encoded data removed]",
      "text/plain": [
       "<Figure size 1000x600 with 1 Axes>"
      ]
     },
     "metadata": {},
     "output_type": "display_data"
    },
    {
     "data": {
      "image/png": "[encoded data removed]",
      "text/plain": [
       "<Figure size 1000x600 with 1 Axes>"
      ]
     },
     "metadata": {},
     "output_type": "display_data"
    },
    {
     "data": {
      "image/png": "[encoded data removed]",
      "text/plain": [
       "<Figure size 1000x600 with 1 Axes>"
      ]
     },
     "metadata": {},
     "output_type": "display_data"
    }
   ],
   "source": [
    "# Plot results\n",
    "plot_all_training_results()\n",
    "plot_data_portion_results(combined_data_portion_results, data_percentages)\n",
    "plot_perturbation_results_by_strength(combined_perturbation_results, perturbation_strengths)"
   ]
  },
  {
   "cell_type": "code",
   "execution_count": 10,
   "id": "d702a5c1-a7b1-44aa-9a66-6b729f14b0c2",
   "metadata": {},
   "outputs": [
    {
     "name": "stdout",
     "output_type": "stream",
     "text": [
      "Seed 42: Random Agent vs MCTS Data Agent Win Rate: 0.2798\n",
      "Seed 101: Random Agent vs MCTS Data Agent Win Rate: 0.2711\n",
      "Seed 202: Random Agent vs MCTS Data Agent Win Rate: 0.2773\n",
      "Seed 303: Random Agent vs MCTS Data Agent Win Rate: 0.2779\n",
      "Seed 404: Random Agent vs MCTS Data Agent Win Rate: 0.2845\n",
      "Random Agent vs MCTS Data Agent Average Win Rate: 0.2781 ± 0.0043\n"
     ]
    }
   ],
   "source": [
    "run_random_vs_mcts_experiment(seeds, preloaded_mcts_data, criterion_choice, default_eval_games)"
   ]
  }
 ],
 "metadata": {
  "kernelspec": {
   "display_name": "Python 3 (ipykernel)",
   "language": "python",
   "name": "python3"
  },
  "language_info": {
   "codemirror_mode": {
    "name": "ipython",
    "version": 3
   },
   "file_extension": ".py",
   "mimetype": "text/x-python",
   "name": "python",
   "nbconvert_exporter": "python",
   "pygments_lexer": "ipython3",
   "version": "3.11.13"
  }
 },
 "nbformat": 4,
 "nbformat_minor": 5
}
